{
 "cells": [
  {
   "cell_type": "code",
   "execution_count": 1,
   "metadata": {},
   "outputs": [],
   "source": [
    "import pandas as pd"
   ]
  },
  {
   "cell_type": "markdown",
   "metadata": {},
   "source": [
    "The same feature tables are constantly being rebuilt in this pipeline, where some can take a substantial amount of time to build and annotate. Should only have to build these tables once (into dataframes) and just import them where needed.  "
   ]
  },
  {
   "cell_type": "markdown",
   "metadata": {},
   "source": [
    "# RBS"
   ]
  },
  {
   "cell_type": "code",
   "execution_count": 2,
   "metadata": {},
   "outputs": [
    {
     "data": {
      "text/html": [
       "<div>\n",
       "<style scoped>\n",
       "    .dataframe tbody tr th:only-of-type {\n",
       "        vertical-align: middle;\n",
       "    }\n",
       "\n",
       "    .dataframe tbody tr th {\n",
       "        vertical-align: top;\n",
       "    }\n",
       "\n",
       "    .dataframe thead th {\n",
       "        text-align: right;\n",
       "    }\n",
       "</style>\n",
       "<table border=\"1\" class=\"dataframe\">\n",
       "  <thead>\n",
       "    <tr style=\"text-align: right;\">\n",
       "      <th></th>\n",
       "      <th>SHINE_DALGARNO_ID</th>\n",
       "      <th>GENE_ID</th>\n",
       "      <th>SHINE_DALGARNO_DIST_GENE</th>\n",
       "      <th>SHINE_DALGARNO_POSLEFT</th>\n",
       "      <th>SHINE_DALGARNO_POSRIGHT</th>\n",
       "      <th>SHINE_DALGARNO_SEQUENCE</th>\n",
       "      <th>SHINE_DALGARNO_NOTE</th>\n",
       "      <th>SD_INTERNAL_COMMENT</th>\n",
       "      <th>KEY_ID_ORG</th>\n",
       "      <th>range</th>\n",
       "    </tr>\n",
       "  </thead>\n",
       "  <tbody>\n",
       "    <tr>\n",
       "      <td>0</td>\n",
       "      <td>ECK120014181</td>\n",
       "      <td>ECK120000266</td>\n",
       "      <td>-11</td>\n",
       "      <td>3151252</td>\n",
       "      <td>3151257</td>\n",
       "      <td>aaattacgcgCAGGATaatatccGAT</td>\n",
       "      <td>NaN</td>\n",
       "      <td>NaN</td>\n",
       "      <td>ECK12</td>\n",
       "      <td>(3151252, 3151257)</td>\n",
       "    </tr>\n",
       "    <tr>\n",
       "      <td>1</td>\n",
       "      <td>ECK120014182</td>\n",
       "      <td>ECK120000265</td>\n",
       "      <td>-9</td>\n",
       "      <td>3151991</td>\n",
       "      <td>3151996</td>\n",
       "      <td>acttgcgtccTGGAGAtacacAGT</td>\n",
       "      <td>NaN</td>\n",
       "      <td>NaN</td>\n",
       "      <td>ECK12</td>\n",
       "      <td>(3151991, 3151996)</td>\n",
       "    </tr>\n",
       "    <tr>\n",
       "      <td>2</td>\n",
       "      <td>ECK120014183</td>\n",
       "      <td>ECK120000496</td>\n",
       "      <td>-11</td>\n",
       "      <td>3957829</td>\n",
       "      <td>3957834</td>\n",
       "      <td>acgtcaacatCGAGGGctgtcccTGT</td>\n",
       "      <td>NaN</td>\n",
       "      <td>NaN</td>\n",
       "      <td>ECK12</td>\n",
       "      <td>(3957829, 3957834)</td>\n",
       "    </tr>\n",
       "    <tr>\n",
       "      <td>3</td>\n",
       "      <td>ECK120014184</td>\n",
       "      <td>ECK120000488</td>\n",
       "      <td>-10</td>\n",
       "      <td>3957957</td>\n",
       "      <td>3957962</td>\n",
       "      <td>cacaacatcaCGAGGAatcaccATG</td>\n",
       "      <td>NaN</td>\n",
       "      <td>NaN</td>\n",
       "      <td>ECK12</td>\n",
       "      <td>(3957957, 3957962)</td>\n",
       "    </tr>\n",
       "    <tr>\n",
       "      <td>4</td>\n",
       "      <td>ECK120014185</td>\n",
       "      <td>ECK120001215</td>\n",
       "      <td>-8</td>\n",
       "      <td>3469859</td>\n",
       "      <td>3469864</td>\n",
       "      <td>tttacgtcacAAGGGAttatAAT</td>\n",
       "      <td>NaN</td>\n",
       "      <td>NaN</td>\n",
       "      <td>ECK12</td>\n",
       "      <td>(3469859, 3469864)</td>\n",
       "    </tr>\n",
       "  </tbody>\n",
       "</table>\n",
       "</div>"
      ],
      "text/plain": [
       "  SHINE_DALGARNO_ID       GENE_ID  SHINE_DALGARNO_DIST_GENE  \\\n",
       "0      ECK120014181  ECK120000266                       -11   \n",
       "1      ECK120014182  ECK120000265                        -9   \n",
       "2      ECK120014183  ECK120000496                       -11   \n",
       "3      ECK120014184  ECK120000488                       -10   \n",
       "4      ECK120014185  ECK120001215                        -8   \n",
       "\n",
       "   SHINE_DALGARNO_POSLEFT  SHINE_DALGARNO_POSRIGHT  \\\n",
       "0                 3151252                  3151257   \n",
       "1                 3151991                  3151996   \n",
       "2                 3957829                  3957834   \n",
       "3                 3957957                  3957962   \n",
       "4                 3469859                  3469864   \n",
       "\n",
       "      SHINE_DALGARNO_SEQUENCE  SHINE_DALGARNO_NOTE  SD_INTERNAL_COMMENT  \\\n",
       "0  aaattacgcgCAGGATaatatccGAT                  NaN                  NaN   \n",
       "1    acttgcgtccTGGAGAtacacAGT                  NaN                  NaN   \n",
       "2  acgtcaacatCGAGGGctgtcccTGT                  NaN                  NaN   \n",
       "3   cacaacatcaCGAGGAatcaccATG                  NaN                  NaN   \n",
       "4     tttacgtcacAAGGGAttatAAT                  NaN                  NaN   \n",
       "\n",
       "  KEY_ID_ORG               range  \n",
       "0      ECK12  (3151252, 3151257)  \n",
       "1      ECK12  (3151991, 3151996)  \n",
       "2      ECK12  (3957829, 3957834)  \n",
       "3      ECK12  (3957957, 3957962)  \n",
       "4      ECK12  (3469859, 3469864)  "
      ]
     },
     "execution_count": 2,
     "metadata": {},
     "output_type": "execute_result"
    }
   ],
   "source": [
    "RBS_df = pd.read_csv(\n",
    "    \"./data/RegulonDB10/shine_dalgarno.txt\", sep=\"\\t\", comment='#', header=None)\n",
    "RBS_df.columns = [\n",
    "    \"SHINE_DALGARNO_ID\",\n",
    "    \"GENE_ID\",\n",
    "    \"SHINE_DALGARNO_DIST_GENE\",\n",
    "    \"SHINE_DALGARNO_POSLEFT\",\n",
    "    \"SHINE_DALGARNO_POSRIGHT\",\n",
    "    \"SHINE_DALGARNO_SEQUENCE\",\n",
    "    \"SHINE_DALGARNO_NOTE\",\n",
    "    \"SD_INTERNAL_COMMENT\",\n",
    "    \"KEY_ID_ORG\",\n",
    "]\n",
    "\n",
    "\n",
    "RBS_df[\"range\"] = RBS_df.apply(\n",
    "    lambda row: (row[\"SHINE_DALGARNO_POSLEFT\"], row[\"SHINE_DALGARNO_POSRIGHT\"]), axis=1)\n",
    "RBS_df.head()"
   ]
  },
  {
   "cell_type": "code",
   "execution_count": 3,
   "metadata": {},
   "outputs": [],
   "source": [
    "RBS_df.to_pickle(\"./data/RBS_df.pkl\")"
   ]
  },
  {
   "cell_type": "markdown",
   "metadata": {},
   "source": [
    "# operons"
   ]
  },
  {
   "cell_type": "code",
   "execution_count": 4,
   "metadata": {},
   "outputs": [],
   "source": [
    "operon_df = pd.read_csv(\"./data/RegulonDB10/operon.txt\", sep=\"\\t\", comment='#', header=None)\n",
    "operon_df.columns = [\n",
    "    \"OPERON_ID\",\n",
    "    \"OPERON_NAME\",\n",
    "    \"FIRSTGENEPOSLEFT\",\n",
    "    \"LASTGENEPOSRIGHT\",\n",
    "    \"REGULATIONPOSLEFT\",\n",
    "    \"REGULATIONPOSRIGHT\",\n",
    "    \"OPERON_STRAND\",\n",
    "    \"OPERON_INTERNAL_COMMENT\",\n",
    "    \"KEY_ID_ORG\"]\n",
    "operon_df[\"range\"] = operon_df.apply(lambda row: (row[\"REGULATIONPOSLEFT\"], row[\"REGULATIONPOSRIGHT\"]), axis=1)"
   ]
  },
  {
   "cell_type": "code",
   "execution_count": 5,
   "metadata": {},
   "outputs": [],
   "source": [
    "operon_df.to_pickle(\"./data/operon_df.pkl\")"
   ]
  },
  {
   "cell_type": "code",
   "execution_count": 6,
   "metadata": {},
   "outputs": [
    {
     "data": {
      "text/plain": [
       "4375748"
      ]
     },
     "metadata": {},
     "output_type": "display_data"
    }
   ],
   "source": [
    "# need to get total \"unknown\" operon category length\n",
    "# follow the same approach as with total \"unknown\" COG length (get_COG_lengths NB)\n",
    "# Could be faster\n",
    "all_op_pos_set = set()\n",
    "for i, r in operon_df.iterrows():\n",
    "    op_pos = set(range(r[\"REGULATIONPOSLEFT\"], r[\"REGULATIONPOSRIGHT\"] + 1))\n",
    "    all_op_pos_set = all_op_pos_set.union(op_pos)\n",
    "display(len(all_op_pos_set))"
   ]
  },
  {
   "cell_type": "code",
   "execution_count": 7,
   "metadata": {},
   "outputs": [
    {
     "data": {
      "text/html": [
       "<div>\n",
       "<style scoped>\n",
       "    .dataframe tbody tr th:only-of-type {\n",
       "        vertical-align: middle;\n",
       "    }\n",
       "\n",
       "    .dataframe tbody tr th {\n",
       "        vertical-align: top;\n",
       "    }\n",
       "\n",
       "    .dataframe thead th {\n",
       "        text-align: right;\n",
       "    }\n",
       "</style>\n",
       "<table border=\"1\" class=\"dataframe\">\n",
       "  <thead>\n",
       "    <tr style=\"text-align: right;\">\n",
       "      <th></th>\n",
       "      <th>operon description</th>\n",
       "      <th>length</th>\n",
       "    </tr>\n",
       "  </thead>\n",
       "  <tbody>\n",
       "    <tr>\n",
       "      <td>0</td>\n",
       "      <td>unknown</td>\n",
       "      <td>265905</td>\n",
       "    </tr>\n",
       "  </tbody>\n",
       "</table>\n",
       "</div>"
      ],
      "text/plain": [
       "  operon description  length\n",
       "0            unknown  265905"
      ]
     },
     "execution_count": 7,
     "metadata": {},
     "output_type": "execute_result"
    }
   ],
   "source": [
    "unknown_op_pos_set = set(range(1 ,4641653 + 1)).difference(all_op_pos_set)\n",
    "unknown_op_nuc_len = len(unknown_op_pos_set)\n",
    "op_len_df = pd.DataFrame(\n",
    "    data={\"operon description\": [\"unknown\"], \"length\": [unknown_op_nuc_len]},\n",
    "    columns=[\"operon description\", \"length\"],\n",
    ")\n",
    "op_len_df"
   ]
  },
  {
   "cell_type": "code",
   "execution_count": 8,
   "metadata": {},
   "outputs": [],
   "source": [
    "op_len_df.to_pickle(\"./data/operon_length_df.pkl\")"
   ]
  },
  {
   "cell_type": "markdown",
   "metadata": {},
   "source": [
    "# attenuator terminator\n",
    "The point of this notebook is to build those tables ASW-1216"
   ]
  },
  {
   "cell_type": "code",
   "execution_count": 9,
   "metadata": {},
   "outputs": [
    {
     "data": {
      "text/html": [
       "<div>\n",
       "<style scoped>\n",
       "    .dataframe tbody tr th:only-of-type {\n",
       "        vertical-align: middle;\n",
       "    }\n",
       "\n",
       "    .dataframe tbody tr th {\n",
       "        vertical-align: top;\n",
       "    }\n",
       "\n",
       "    .dataframe thead th {\n",
       "        text-align: right;\n",
       "    }\n",
       "</style>\n",
       "<table border=\"1\" class=\"dataframe\">\n",
       "  <thead>\n",
       "    <tr style=\"text-align: right;\">\n",
       "      <th></th>\n",
       "      <th>A_TERMINATOR_ID</th>\n",
       "      <th>A_TERMINATOR_TYPE</th>\n",
       "      <th>A_TERMINATOR_POSLEFT</th>\n",
       "      <th>A_TERMINATOR_POSRIGHT</th>\n",
       "      <th>A_TERMINATOR_ENERGY</th>\n",
       "      <th>A_TERMINATOR_SEQUENCE</th>\n",
       "      <th>A_TERMINATOR_ATTENUATOR_ID</th>\n",
       "    </tr>\n",
       "  </thead>\n",
       "  <tbody>\n",
       "    <tr>\n",
       "      <td>0</td>\n",
       "      <td>ECK125143527</td>\n",
       "      <td>terminator</td>\n",
       "      <td>276</td>\n",
       "      <td>311</td>\n",
       "      <td>-20.00</td>\n",
       "      <td>aacacagaaaAAAGCCCGCACCTGACAGTGCGGGCTTTTTTTTTCg...</td>\n",
       "      <td>ECK125143526</td>\n",
       "    </tr>\n",
       "    <tr>\n",
       "      <td>1</td>\n",
       "      <td>ECK125143528</td>\n",
       "      <td>anti-terminator</td>\n",
       "      <td>244</td>\n",
       "      <td>288</td>\n",
       "      <td>-19.41</td>\n",
       "      <td>acaggtaacgGTGCGGGCTGACGCGTACAGGAAACACAGAAAAAAG...</td>\n",
       "      <td>ECK125143526</td>\n",
       "    </tr>\n",
       "    <tr>\n",
       "      <td>2</td>\n",
       "      <td>ECK125143529</td>\n",
       "      <td>anti-anti-terminator</td>\n",
       "      <td>200</td>\n",
       "      <td>255</td>\n",
       "      <td>-14.50</td>\n",
       "      <td>tgaaacgcatTAGCACCACCATTACCACCACCATCACCATTACCAC...</td>\n",
       "      <td>ECK125143526</td>\n",
       "    </tr>\n",
       "    <tr>\n",
       "      <td>3</td>\n",
       "      <td>ECK125143531</td>\n",
       "      <td>terminator</td>\n",
       "      <td>5042</td>\n",
       "      <td>5078</td>\n",
       "      <td>-19.30</td>\n",
       "      <td>atctcaatcaGGCCGGGTTTGCTTTTATGCAGCCCGGCTTTTTTAT...</td>\n",
       "      <td>ECK125143530</td>\n",
       "    </tr>\n",
       "    <tr>\n",
       "      <td>4</td>\n",
       "      <td>ECK125143532</td>\n",
       "      <td>anti-terminator</td>\n",
       "      <td>4979</td>\n",
       "      <td>5051</td>\n",
       "      <td>-11.90</td>\n",
       "      <td>ctgcccgccgATTTTGCTGCGTTGCGTAAATTGATGATGAATCATC...</td>\n",
       "      <td>ECK125143530</td>\n",
       "    </tr>\n",
       "  </tbody>\n",
       "</table>\n",
       "</div>"
      ],
      "text/plain": [
       "  A_TERMINATOR_ID     A_TERMINATOR_TYPE  A_TERMINATOR_POSLEFT  \\\n",
       "0    ECK125143527            terminator                   276   \n",
       "1    ECK125143528       anti-terminator                   244   \n",
       "2    ECK125143529  anti-anti-terminator                   200   \n",
       "3    ECK125143531            terminator                  5042   \n",
       "4    ECK125143532       anti-terminator                  4979   \n",
       "\n",
       "   A_TERMINATOR_POSRIGHT  A_TERMINATOR_ENERGY  \\\n",
       "0                    311               -20.00   \n",
       "1                    288               -19.41   \n",
       "2                    255               -14.50   \n",
       "3                   5078               -19.30   \n",
       "4                   5051               -11.90   \n",
       "\n",
       "                               A_TERMINATOR_SEQUENCE  \\\n",
       "0  aacacagaaaAAAGCCCGCACCTGACAGTGCGGGCTTTTTTTTTCg...   \n",
       "1  acaggtaacgGTGCGGGCTGACGCGTACAGGAAACACAGAAAAAAG...   \n",
       "2  tgaaacgcatTAGCACCACCATTACCACCACCATCACCATTACCAC...   \n",
       "3  atctcaatcaGGCCGGGTTTGCTTTTATGCAGCCCGGCTTTTTTAT...   \n",
       "4  ctgcccgccgATTTTGCTGCGTTGCGTAAATTGATGATGAATCATC...   \n",
       "\n",
       "  A_TERMINATOR_ATTENUATOR_ID  \n",
       "0               ECK125143526  \n",
       "1               ECK125143526  \n",
       "2               ECK125143526  \n",
       "3               ECK125143530  \n",
       "4               ECK125143530  "
      ]
     },
     "execution_count": 9,
     "metadata": {},
     "output_type": "execute_result"
    }
   ],
   "source": [
    "att_term_df = pd.read_csv(\n",
    "    \"./data/RegulonDB10/attenuator_terminator.txt\", sep=\"\\t\", comment='#', header=None)\n",
    "att_term_df.columns = [\n",
    "    \"A_TERMINATOR_ID\",\n",
    "    \"A_TERMINATOR_TYPE\",\n",
    "    \"A_TERMINATOR_POSLEFT\",\n",
    "    \"A_TERMINATOR_POSRIGHT\",\n",
    "    \"A_TERMINATOR_ENERGY\",\n",
    "    \"A_TERMINATOR_SEQUENCE\",\n",
    "    \"A_TERMINATOR_ATTENUATOR_ID\"\n",
    "]\n",
    "# att_term_df[\"range\"] = att_term_df.apply(lambda row: (row.A_TERMINATOR_POSLEFT, row.A_TERMINATOR_POSRIGHT), axis=1)\n",
    "att_term_df.head()"
   ]
  },
  {
   "cell_type": "code",
   "execution_count": 10,
   "metadata": {},
   "outputs": [
    {
     "data": {
      "text/html": [
       "<div>\n",
       "<style scoped>\n",
       "    .dataframe tbody tr th:only-of-type {\n",
       "        vertical-align: middle;\n",
       "    }\n",
       "\n",
       "    .dataframe tbody tr th {\n",
       "        vertical-align: top;\n",
       "    }\n",
       "\n",
       "    .dataframe thead th {\n",
       "        text-align: right;\n",
       "    }\n",
       "</style>\n",
       "<table border=\"1\" class=\"dataframe\">\n",
       "  <thead>\n",
       "    <tr style=\"text-align: right;\">\n",
       "      <th></th>\n",
       "      <th>RegulonDB ID</th>\n",
       "      <th>range</th>\n",
       "    </tr>\n",
       "  </thead>\n",
       "  <tbody>\n",
       "    <tr>\n",
       "      <td>0</td>\n",
       "      <td>ECK125143526</td>\n",
       "      <td>(200, 311)</td>\n",
       "    </tr>\n",
       "    <tr>\n",
       "      <td>1</td>\n",
       "      <td>ECK125143530</td>\n",
       "      <td>(4979, 5078)</td>\n",
       "    </tr>\n",
       "    <tr>\n",
       "      <td>2</td>\n",
       "      <td>ECK125143534</td>\n",
       "      <td>(14134, 14155)</td>\n",
       "    </tr>\n",
       "    <tr>\n",
       "      <td>3</td>\n",
       "      <td>ECK125143536</td>\n",
       "      <td>(21166, 21255)</td>\n",
       "    </tr>\n",
       "    <tr>\n",
       "      <td>4</td>\n",
       "      <td>ECK125143540</td>\n",
       "      <td>(20912, 20982)</td>\n",
       "    </tr>\n",
       "  </tbody>\n",
       "</table>\n",
       "</div>"
      ],
      "text/plain": [
       "   RegulonDB ID           range\n",
       "0  ECK125143526      (200, 311)\n",
       "1  ECK125143530    (4979, 5078)\n",
       "2  ECK125143534  (14134, 14155)\n",
       "3  ECK125143536  (21166, 21255)\n",
       "4  ECK125143540  (20912, 20982)"
      ]
     },
     "execution_count": 10,
     "metadata": {},
     "output_type": "execute_result"
    }
   ],
   "source": [
    "new_att_term_df = pd.DataFrame()\n",
    "for att_term_id, r in att_term_df.groupby([\"A_TERMINATOR_ATTENUATOR_ID\"]):\n",
    "    range_l = list(r.A_TERMINATOR_POSLEFT) + list(r.A_TERMINATOR_POSRIGHT)\n",
    "    combo_att_term_range = (min(range_l), max(range_l))\n",
    "    new_att_term_df = new_att_term_df.append({\"RegulonDB ID\": att_term_id, \"range\": combo_att_term_range}, ignore_index=True)\n",
    "new_att_term_df.head()"
   ]
  },
  {
   "cell_type": "code",
   "execution_count": 11,
   "metadata": {},
   "outputs": [],
   "source": [
    "new_att_term_df.to_pickle(\"./data/att_term.pkl\")"
   ]
  }
 ],
 "metadata": {
  "kernelspec": {
   "display_name": "Python 3",
   "language": "python",
   "name": "python3"
  },
  "language_info": {
   "codemirror_mode": {
    "name": "ipython",
    "version": 3
   },
   "file_extension": ".py",
   "mimetype": "text/x-python",
   "name": "python",
   "nbconvert_exporter": "python",
   "pygments_lexer": "ipython3",
   "version": "3.7.4"
  }
 },
 "nbformat": 4,
 "nbformat_minor": 2
}
