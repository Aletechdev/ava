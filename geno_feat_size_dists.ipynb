{
 "cells": [
  {
   "cell_type": "code",
   "execution_count": 1,
   "metadata": {},
   "outputs": [],
   "source": [
    "%matplotlib inline\n",
    "import numpy as np\n",
    "import matplotlib.pyplot as plt\n",
    "from matplotlib.ticker import MaxNLocator\n",
    "import pandas as pd\n",
    "import seaborn as sns\n",
    "\n",
    "from IPython.display import display\n",
    "import os, sys, itertools, csv\n",
    "module_path = os.path.abspath(os.path.join('..'))\n",
    "if module_path not in sys.path:\n",
    "    sys.path.append(module_path)\n",
    "from util.metadata import get_condition_val_dict, get_condition_field_val_set\n",
    "from util.gene import get_coding_genetic_target_len_d, get_intergenic_len_d\n",
    "from util.genome import get_feature_hit_set, is_overlap, get_promoter_range_from_RegulonDB_df_row\n",
    "from util.params import ENRICH_ALPHA, MULTI_HYP_CORR_METHOD\n",
    "pd.options.display.max_columns = 100"
   ]
  },
  {
   "cell_type": "code",
   "execution_count": 36,
   "metadata": {},
   "outputs": [],
   "source": [
    "def _get_feat_len(r):\n",
    "    l=0\n",
    "    try:\n",
    "        l = r[\"range\"][1] - r[\"range\"][0] + 1\n",
    "    except:\n",
    "        display(r)\n",
    "    return l"
   ]
  },
  {
   "cell_type": "code",
   "execution_count": 23,
   "metadata": {},
   "outputs": [
    {
     "data": {
      "text/html": [
       "<div>\n",
       "<style scoped>\n",
       "    .dataframe tbody tr th:only-of-type {\n",
       "        vertical-align: middle;\n",
       "    }\n",
       "\n",
       "    .dataframe tbody tr th {\n",
       "        vertical-align: top;\n",
       "    }\n",
       "\n",
       "    .dataframe thead th {\n",
       "        text-align: right;\n",
       "    }\n",
       "</style>\n",
       "<table border=\"1\" class=\"dataframe\">\n",
       "  <thead>\n",
       "    <tr style=\"text-align: right;\">\n",
       "      <th></th>\n",
       "      <th>SHINE_DALGARNO_ID</th>\n",
       "      <th>GENE_ID</th>\n",
       "      <th>SHINE_DALGARNO_DIST_GENE</th>\n",
       "      <th>SHINE_DALGARNO_POSLEFT</th>\n",
       "      <th>SHINE_DALGARNO_POSRIGHT</th>\n",
       "      <th>SHINE_DALGARNO_SEQUENCE</th>\n",
       "      <th>SHINE_DALGARNO_NOTE</th>\n",
       "      <th>SD_INTERNAL_COMMENT</th>\n",
       "      <th>KEY_ID_ORG</th>\n",
       "      <th>range</th>\n",
       "      <th>length</th>\n",
       "    </tr>\n",
       "  </thead>\n",
       "  <tbody>\n",
       "    <tr>\n",
       "      <th>0</th>\n",
       "      <td>ECK120014181</td>\n",
       "      <td>ECK120000266</td>\n",
       "      <td>-11</td>\n",
       "      <td>3151252</td>\n",
       "      <td>3151257</td>\n",
       "      <td>aaattacgcgCAGGATaatatccGAT</td>\n",
       "      <td>NaN</td>\n",
       "      <td>NaN</td>\n",
       "      <td>ECK12</td>\n",
       "      <td>(3151252, 3151257)</td>\n",
       "      <td>6</td>\n",
       "    </tr>\n",
       "    <tr>\n",
       "      <th>1</th>\n",
       "      <td>ECK120014182</td>\n",
       "      <td>ECK120000265</td>\n",
       "      <td>-9</td>\n",
       "      <td>3151991</td>\n",
       "      <td>3151996</td>\n",
       "      <td>acttgcgtccTGGAGAtacacAGT</td>\n",
       "      <td>NaN</td>\n",
       "      <td>NaN</td>\n",
       "      <td>ECK12</td>\n",
       "      <td>(3151991, 3151996)</td>\n",
       "      <td>6</td>\n",
       "    </tr>\n",
       "    <tr>\n",
       "      <th>2</th>\n",
       "      <td>ECK120014183</td>\n",
       "      <td>ECK120000496</td>\n",
       "      <td>-11</td>\n",
       "      <td>3957829</td>\n",
       "      <td>3957834</td>\n",
       "      <td>acgtcaacatCGAGGGctgtcccTGT</td>\n",
       "      <td>NaN</td>\n",
       "      <td>NaN</td>\n",
       "      <td>ECK12</td>\n",
       "      <td>(3957829, 3957834)</td>\n",
       "      <td>6</td>\n",
       "    </tr>\n",
       "    <tr>\n",
       "      <th>3</th>\n",
       "      <td>ECK120014184</td>\n",
       "      <td>ECK120000488</td>\n",
       "      <td>-10</td>\n",
       "      <td>3957957</td>\n",
       "      <td>3957962</td>\n",
       "      <td>cacaacatcaCGAGGAatcaccATG</td>\n",
       "      <td>NaN</td>\n",
       "      <td>NaN</td>\n",
       "      <td>ECK12</td>\n",
       "      <td>(3957957, 3957962)</td>\n",
       "      <td>6</td>\n",
       "    </tr>\n",
       "    <tr>\n",
       "      <th>4</th>\n",
       "      <td>ECK120014185</td>\n",
       "      <td>ECK120001215</td>\n",
       "      <td>-8</td>\n",
       "      <td>3469859</td>\n",
       "      <td>3469864</td>\n",
       "      <td>tttacgtcacAAGGGAttatAAT</td>\n",
       "      <td>NaN</td>\n",
       "      <td>NaN</td>\n",
       "      <td>ECK12</td>\n",
       "      <td>(3469859, 3469864)</td>\n",
       "      <td>6</td>\n",
       "    </tr>\n",
       "  </tbody>\n",
       "</table>\n",
       "</div>"
      ],
      "text/plain": [
       "  SHINE_DALGARNO_ID       GENE_ID  SHINE_DALGARNO_DIST_GENE  \\\n",
       "0      ECK120014181  ECK120000266                       -11   \n",
       "1      ECK120014182  ECK120000265                        -9   \n",
       "2      ECK120014183  ECK120000496                       -11   \n",
       "3      ECK120014184  ECK120000488                       -10   \n",
       "4      ECK120014185  ECK120001215                        -8   \n",
       "\n",
       "   SHINE_DALGARNO_POSLEFT  SHINE_DALGARNO_POSRIGHT  \\\n",
       "0                 3151252                  3151257   \n",
       "1                 3151991                  3151996   \n",
       "2                 3957829                  3957834   \n",
       "3                 3957957                  3957962   \n",
       "4                 3469859                  3469864   \n",
       "\n",
       "      SHINE_DALGARNO_SEQUENCE  SHINE_DALGARNO_NOTE  SD_INTERNAL_COMMENT  \\\n",
       "0  aaattacgcgCAGGATaatatccGAT                  NaN                  NaN   \n",
       "1    acttgcgtccTGGAGAtacacAGT                  NaN                  NaN   \n",
       "2  acgtcaacatCGAGGGctgtcccTGT                  NaN                  NaN   \n",
       "3   cacaacatcaCGAGGAatcaccATG                  NaN                  NaN   \n",
       "4     tttacgtcacAAGGGAttatAAT                  NaN                  NaN   \n",
       "\n",
       "  KEY_ID_ORG               range  length  \n",
       "0      ECK12  (3151252, 3151257)       6  \n",
       "1      ECK12  (3151991, 3151996)       6  \n",
       "2      ECK12  (3957829, 3957834)       6  \n",
       "3      ECK12  (3957957, 3957962)       6  \n",
       "4      ECK12  (3469859, 3469864)       6  "
      ]
     },
     "execution_count": 23,
     "metadata": {},
     "output_type": "execute_result"
    }
   ],
   "source": [
    "RBS_df = pd.read_pickle(\"./data/RBS_df.pkl\")\n",
    "RBS_df[\"length\"] = RBS_df.apply(_get_feat_len, axis=1)\n",
    "terminator_df[\"length\"].unique()\n",
    "RBS_df.head()"
   ]
  },
  {
   "cell_type": "code",
   "execution_count": 41,
   "metadata": {},
   "outputs": [
    {
     "data": {
      "text/plain": [
       "array([ 29,  19,  15,  22,  27,  18,  35,  25,  40,  17,  32,  14,  26,\n",
       "        52,  24,  21,  36,  20,  44,  42,  23,  30,  78,  34,  13,  39,\n",
       "        28,  31,  51,  55,  41,  60,  45,  33,   8,   7,  16,  62,  70,\n",
       "       152, 148,  37,  48,  46,  58,  49,  61,  57,  38, 140, 114,  79,\n",
       "       127,   6,  43,  96])"
      ]
     },
     "execution_count": 41,
     "metadata": {},
     "output_type": "execute_result"
    }
   ],
   "source": [
    "terminator_df = pd.read_pickle(\"./data/term_df.pkl\")\n",
    "terminator_df[\"range\"] = terminator_df.apply(lambda row: (row[2], row[3]), axis=1)\n",
    "terminator_df[\"length\"] = terminator_df.apply(_get_feat_len, axis=1)\n",
    "terminator_df[\"length\"].unique()"
   ]
  },
  {
   "cell_type": "code",
   "execution_count": 40,
   "metadata": {},
   "outputs": [
    {
     "data": {
      "text/plain": [
       "array([112, 100,  22,  90,  71,  41,  38,  19,  29,  83,  28, 116, 103,\n",
       "        35,  97,  23,  99,  52,  20,  63,  92,  87,  30,  77,  69,  42,\n",
       "        32,  89,  96,  66,  39,  58,  18,  46,  37, 104,  25,  44,  62,\n",
       "        93,  73,  94, 102,  88,  24,  53,  78,  65, 113,  68,  74,  64,\n",
       "        27,  84,  12, 119,  95,  34,  82,  80,  75,  48,  47,  40,  70,\n",
       "       109,  86,  31, 107,  16, 124, 101, 114,  21,  26,  79,  33, 117,\n",
       "       110, 134,  14, 108,  15,  43, 115, 130,  60, 106,  61, 105,  81,\n",
       "        36,  55,  50,  54, 111,  91,  45,  98,  17,  67, 132, 138,  76,\n",
       "        72,  49, 120,  10, 118,  85, 122, 131,  59, 123, 147, 139,  56])"
      ]
     },
     "execution_count": 40,
     "metadata": {},
     "output_type": "execute_result"
    }
   ],
   "source": [
    "att_term_df = pd.read_pickle(\"./data/att_term_df.pkl\")\n",
    "att_term_df[\"length\"] = att_term_df.apply(_get_feat_len, axis=1)\n",
    "att_term_df[\"length\"].unique()\n",
    "# att_term_df.head()"
   ]
  },
  {
   "cell_type": "code",
   "execution_count": 39,
   "metadata": {},
   "outputs": [
    {
     "data": {
      "text/plain": [
       "0        ECK120009978\n",
       "1               gltIp\n",
       "2             reverse\n",
       "3                 NaN\n",
       "4             Sigma54\n",
       "5                 NaN\n",
       "6                 NaN\n",
       "7                 NaN\n",
       "8                 NaN\n",
       "9                 NaN\n",
       "10              ECK12\n",
       "11                NaN\n",
       "12                NaN\n",
       "range              ()\n",
       "Name: 134, dtype: object"
      ]
     },
     "metadata": {},
     "output_type": "display_data"
    },
    {
     "data": {
      "text/plain": [
       "0        ECK120010023\n",
       "1               garDp\n",
       "2             forward\n",
       "3                 NaN\n",
       "4                 NaN\n",
       "5                 NaN\n",
       "6                 NaN\n",
       "7                 NaN\n",
       "8                 NaN\n",
       "9                 NaN\n",
       "10              ECK12\n",
       "11                NaN\n",
       "12                NaN\n",
       "range              ()\n",
       "Name: 178, dtype: object"
      ]
     },
     "metadata": {},
     "output_type": "display_data"
    },
    {
     "data": {
      "text/plain": [
       "0        ECK120010024\n",
       "1               gudPp\n",
       "2             reverse\n",
       "3                 NaN\n",
       "4                 NaN\n",
       "5                 NaN\n",
       "6                 NaN\n",
       "7                 NaN\n",
       "8                 NaN\n",
       "9                 NaN\n",
       "10              ECK12\n",
       "11                NaN\n",
       "12                NaN\n",
       "range              ()\n",
       "Name: 179, dtype: object"
      ]
     },
     "metadata": {},
     "output_type": "display_data"
    },
    {
     "data": {
      "text/plain": [
       "0        ECK120010071\n",
       "1               pdxAp\n",
       "2             reverse\n",
       "3                 NaN\n",
       "4                 NaN\n",
       "5                 NaN\n",
       "6                 NaN\n",
       "7                 NaN\n",
       "8                 NaN\n",
       "9                 NaN\n",
       "10              ECK12\n",
       "11                NaN\n",
       "12                NaN\n",
       "range              ()\n",
       "Name: 225, dtype: object"
      ]
     },
     "metadata": {},
     "output_type": "display_data"
    },
    {
     "data": {
      "text/plain": [
       "0        ECK120010074\n",
       "1               ccmAp\n",
       "2             reverse\n",
       "3                 NaN\n",
       "4             Sigma70\n",
       "5                 NaN\n",
       "6                 NaN\n",
       "7                 NaN\n",
       "8                 NaN\n",
       "9                 NaN\n",
       "10              ECK12\n",
       "11                NaN\n",
       "12                NaN\n",
       "range              ()\n",
       "Name: 227, dtype: object"
      ]
     },
     "metadata": {},
     "output_type": "display_data"
    },
    {
     "data": {
      "text/plain": [
       "0                                             ECK120010505\n",
       "1                                                   fimBp3\n",
       "2                                                  forward\n",
       "3                                                      NaN\n",
       "4                                                      NaN\n",
       "5                                                      NaN\n",
       "6                                                      NaN\n",
       "7                                                      NaN\n",
       "8                                                      NaN\n",
       "9                                                      NaN\n",
       "10                                                   ECK12\n",
       "11       Baljinder et al. showed that NanR, NagC, and I...\n",
       "12                                                     NaN\n",
       "range                                                   ()\n",
       "Name: 649, dtype: object"
      ]
     },
     "metadata": {},
     "output_type": "display_data"
    },
    {
     "data": {
      "text/plain": [
       "0        ECK120010653\n",
       "1               surAp\n",
       "2             reverse\n",
       "3                 NaN\n",
       "4             Sigma24\n",
       "5                 NaN\n",
       "6                 NaN\n",
       "7                 NaN\n",
       "8                 NaN\n",
       "9                 NaN\n",
       "10              ECK12\n",
       "11                NaN\n",
       "12                NaN\n",
       "range              ()\n",
       "Name: 795, dtype: object"
      ]
     },
     "metadata": {},
     "output_type": "display_data"
    },
    {
     "data": {
      "text/plain": [
       "0                                             ECK120010880\n",
       "1                                                    ldcCp\n",
       "2                                                  forward\n",
       "3                                                      NaN\n",
       "4                                                  Sigma38\n",
       "5                                                      NaN\n",
       "6                                                      NaN\n",
       "7                                                      NaN\n",
       "8                                                      NaN\n",
       "9                                                      NaN\n",
       "10                                                   ECK12\n",
       "11       The <i>ldcC</i> -35 and -10 promoter sequences...\n",
       "12                                                     NaN\n",
       "range                                                   ()\n",
       "Name: 922, dtype: object"
      ]
     },
     "metadata": {},
     "output_type": "display_data"
    },
    {
     "data": {
      "text/plain": [
       "0        <br>ecfFp2b promoter was induced by zinc in a ...\n",
       "1                                                      NaN\n",
       "2                                                      NaN\n",
       "3                                                      NaN\n",
       "4                                                      NaN\n",
       "5                                                      NaN\n",
       "6                                                      NaN\n",
       "7                                                      NaN\n",
       "8                                                      NaN\n",
       "9                                                      NaN\n",
       "10                                                     NaN\n",
       "11                                                     NaN\n",
       "12                                                     NaN\n",
       "range                                                   ()\n",
       "Name: 1007, dtype: object"
      ]
     },
     "metadata": {},
     "output_type": "display_data"
    },
    {
     "data": {
      "text/plain": [
       "0        <br>\n",
       "1         NaN\n",
       "2         NaN\n",
       "3         NaN\n",
       "4         NaN\n",
       "5         NaN\n",
       "6         NaN\n",
       "7         NaN\n",
       "8         NaN\n",
       "9         NaN\n",
       "10        NaN\n",
       "11        NaN\n",
       "12        NaN\n",
       "range      ()\n",
       "Name: 1008, dtype: object"
      ]
     },
     "metadata": {},
     "output_type": "display_data"
    },
    {
     "data": {
      "text/plain": [
       "0        ECK120015410\n",
       "1             gatR_2p\n",
       "2             reverse\n",
       "3                 NaN\n",
       "4                 NaN\n",
       "5                 NaN\n",
       "6                 NaN\n",
       "7                 NaN\n",
       "8                 NaN\n",
       "9                 NaN\n",
       "10              ECK12\n",
       "11                NaN\n",
       "12                NaN\n",
       "range              ()\n",
       "Name: 1042, dtype: object"
      ]
     },
     "metadata": {},
     "output_type": "display_data"
    },
    {
     "data": {
      "text/plain": [
       "0        ECK120016225\n",
       "1               rtcRp\n",
       "2             forward\n",
       "3                 NaN\n",
       "4             Sigma54\n",
       "5                 NaN\n",
       "6                 NaN\n",
       "7                 NaN\n",
       "8                 NaN\n",
       "9                 NaN\n",
       "10              ECK12\n",
       "11                NaN\n",
       "12                NaN\n",
       "range              ()\n",
       "Name: 1098, dtype: object"
      ]
     },
     "metadata": {},
     "output_type": "display_data"
    },
    {
     "data": {
      "text/plain": [
       "0                                             ECK120016985\n",
       "1                                                    rplLp\n",
       "2                                                  forward\n",
       "3                                                      NaN\n",
       "4                                                      NaN\n",
       "5                                                      NaN\n",
       "6                                                      NaN\n",
       "7                                                      NaN\n",
       "8                                                      NaN\n",
       "9                                                      NaN\n",
       "10                                                   ECK12\n",
       "11       rplLp is a weak promoter; it is only 8% as eff...\n",
       "12                                                     NaN\n",
       "range                                                   ()\n",
       "Name: 1174, dtype: object"
      ]
     },
     "metadata": {},
     "output_type": "display_data"
    },
    {
     "data": {
      "text/plain": [
       "0        ECK120026310\n",
       "1               allRp\n",
       "2             forward\n",
       "3                 NaN\n",
       "4                 NaN\n",
       "5                 NaN\n",
       "6                 NaN\n",
       "7                 NaN\n",
       "8                 NaN\n",
       "9                 NaN\n",
       "10              ECK12\n",
       "11                NaN\n",
       "12                NaN\n",
       "range              ()\n",
       "Name: 1205, dtype: object"
      ]
     },
     "metadata": {},
     "output_type": "display_data"
    },
    {
     "data": {
      "text/plain": [
       "0                                             ECK120029597\n",
       "1                                                    yjcSp\n",
       "2                                                  reverse\n",
       "3                                                      NaN\n",
       "4                                                  Sigma28\n",
       "5                                                      NaN\n",
       "6                                                      NaN\n",
       "7                                                      NaN\n",
       "8                                                      NaN\n",
       "9                                                      NaN\n",
       "10                                                   ECK12\n",
       "11       Yu et al. in 2006 showed that transcription of...\n",
       "12                                                     NaN\n",
       "range                                                   ()\n",
       "Name: 1230, dtype: object"
      ]
     },
     "metadata": {},
     "output_type": "display_data"
    },
    {
     "data": {
      "text/plain": [
       "0                                             ECK120029598\n",
       "1                                                   fliDp1\n",
       "2                                                  forward\n",
       "3                                                      NaN\n",
       "4                                                  Sigma28\n",
       "5                                                      NaN\n",
       "6                                                      NaN\n",
       "7                                                      NaN\n",
       "8                                                      NaN\n",
       "9                                                      NaN\n",
       "10                                                   ECK12\n",
       "11       The sequence of this promoter has been defined...\n",
       "12                                                     NaN\n",
       "range                                                   ()\n",
       "Name: 1231, dtype: object"
      ]
     },
     "metadata": {},
     "output_type": "display_data"
    },
    {
     "data": {
      "text/plain": [
       "0                                             ECK120029604\n",
       "1                                                    yhiLp\n",
       "2                                                  reverse\n",
       "3                                                      NaN\n",
       "4                                                  Sigma28\n",
       "5                                                      NaN\n",
       "6                                                      NaN\n",
       "7                                                      NaN\n",
       "8                                                      NaN\n",
       "9                                                      NaN\n",
       "10                                                   ECK12\n",
       "11       Yu et al. (2006) showed  that transcription of...\n",
       "12                                                     NaN\n",
       "range                                                   ()\n",
       "Name: 1232, dtype: object"
      ]
     },
     "metadata": {},
     "output_type": "display_data"
    },
    {
     "data": {
      "text/plain": [
       "0        ECK120030661\n",
       "1               yffBp\n",
       "2             forward\n",
       "3                 NaN\n",
       "4             Sigma70\n",
       "5                 NaN\n",
       "6                 NaN\n",
       "7                 NaN\n",
       "8                 NaN\n",
       "9                 NaN\n",
       "10              ECK12\n",
       "11                NaN\n",
       "12                NaN\n",
       "range              ()\n",
       "Name: 1275, dtype: object"
      ]
     },
     "metadata": {},
     "output_type": "display_data"
    },
    {
     "data": {
      "text/plain": [
       "0        ECK120030662\n",
       "1              hypFp1\n",
       "2             reverse\n",
       "3                 NaN\n",
       "4             Sigma70\n",
       "5                 NaN\n",
       "6                 NaN\n",
       "7                 NaN\n",
       "8                 NaN\n",
       "9                 NaN\n",
       "10              ECK12\n",
       "11                NaN\n",
       "12                NaN\n",
       "range              ()\n",
       "Name: 1276, dtype: object"
      ]
     },
     "metadata": {},
     "output_type": "display_data"
    },
    {
     "data": {
      "text/plain": [
       "0                                             ECK120033637\n",
       "1                                                     dcdp\n",
       "2                                                  reverse\n",
       "3                                                      NaN\n",
       "4                                                      NaN\n",
       "5                                                      NaN\n",
       "6                                                      NaN\n",
       "7                                                      NaN\n",
       "8                                                      NaN\n",
       "9                                                      NaN\n",
       "10                                                   ECK12\n",
       "11       Zaslaver et al. demonstrated in 2006, by means...\n",
       "12                                                     NaN\n",
       "range                                                   ()\n",
       "Name: 1372, dtype: object"
      ]
     },
     "metadata": {},
     "output_type": "display_data"
    },
    {
     "data": {
      "text/plain": [
       "0                                             ECK120033638\n",
       "1                                                    trkAp\n",
       "2                                                  forward\n",
       "3                                                      NaN\n",
       "4                                                      NaN\n",
       "5                                                      NaN\n",
       "6                                                      NaN\n",
       "7                                                      NaN\n",
       "8                                                      NaN\n",
       "9                                                      NaN\n",
       "10                                                   ECK12\n",
       "11       Zaslaver et al. demonstrated in 2006, by means...\n",
       "12                                                     NaN\n",
       "range                                                   ()\n",
       "Name: 1373, dtype: object"
      ]
     },
     "metadata": {},
     "output_type": "display_data"
    },
    {
     "data": {
      "text/plain": [
       "0                                             ECK120033639\n",
       "1                                                    yehSp\n",
       "2                                                  reverse\n",
       "3                                                      NaN\n",
       "4                                                      NaN\n",
       "5                                                      NaN\n",
       "6                                                      NaN\n",
       "7                                                      NaN\n",
       "8                                                      NaN\n",
       "9                                                      NaN\n",
       "10                                                   ECK12\n",
       "11       Zaslaver et al. demonstrated in 2006, by means...\n",
       "12                                                     NaN\n",
       "range                                                   ()\n",
       "Name: 1374, dtype: object"
      ]
     },
     "metadata": {},
     "output_type": "display_data"
    },
    {
     "data": {
      "text/plain": [
       "0                                             ECK120033640\n",
       "1                                                    mnmAp\n",
       "2                                                  reverse\n",
       "3                                                      NaN\n",
       "4                                                      NaN\n",
       "5                                                      NaN\n",
       "6                                                      NaN\n",
       "7                                                      NaN\n",
       "8                                                      NaN\n",
       "9                                                      NaN\n",
       "10                                                   ECK12\n",
       "11       Zaslaver et al. demonstrated in 2006, by means...\n",
       "12                                                     NaN\n",
       "range                                                   ()\n",
       "Name: 1375, dtype: object"
      ]
     },
     "metadata": {},
     "output_type": "display_data"
    },
    {
     "data": {
      "text/plain": [
       "0                                             ECK120033641\n",
       "1                                                    yfcDp\n",
       "2                                                  reverse\n",
       "3                                                      NaN\n",
       "4                                                      NaN\n",
       "5                                                      NaN\n",
       "6                                                      NaN\n",
       "7                                                      NaN\n",
       "8                                                      NaN\n",
       "9                                                      NaN\n",
       "10                                                   ECK12\n",
       "11       Zaslaver et al. demonstrated in 2006, by means...\n",
       "12                                                     NaN\n",
       "range                                                   ()\n",
       "Name: 1376, dtype: object"
      ]
     },
     "metadata": {},
     "output_type": "display_data"
    },
    {
     "data": {
      "text/plain": [
       "0                                             ECK120033643\n",
       "1                                                     hdap\n",
       "2                                                  reverse\n",
       "3                                                      NaN\n",
       "4                                                      NaN\n",
       "5                                                      NaN\n",
       "6                                                      NaN\n",
       "7                                                      NaN\n",
       "8                                                      NaN\n",
       "9                                                      NaN\n",
       "10                                                   ECK12\n",
       "11       Zaslaver et al. demonstrated in 2006, by means...\n",
       "12                                                     NaN\n",
       "range                                                   ()\n",
       "Name: 1378, dtype: object"
      ]
     },
     "metadata": {},
     "output_type": "display_data"
    },
    {
     "data": {
      "text/plain": [
       "0                                             ECK120033644\n",
       "1                                                    folXp\n",
       "2                                                  forward\n",
       "3                                                      NaN\n",
       "4                                                      NaN\n",
       "5                                                      NaN\n",
       "6                                                      NaN\n",
       "7                                                      NaN\n",
       "8                                                      NaN\n",
       "9                                                      NaN\n",
       "10                                                   ECK12\n",
       "11       Zaslaver et al. demonstrated in 2006, by means...\n",
       "12                                                     NaN\n",
       "range                                                   ()\n",
       "Name: 1379, dtype: object"
      ]
     },
     "metadata": {},
     "output_type": "display_data"
    },
    {
     "data": {
      "text/plain": [
       "0                                             ECK120033645\n",
       "1                                                    fumEp\n",
       "2                                                  reverse\n",
       "3                                                      NaN\n",
       "4                                                      NaN\n",
       "5                                                      NaN\n",
       "6                                                      NaN\n",
       "7                                                      NaN\n",
       "8                                                      NaN\n",
       "9                                                      NaN\n",
       "10                                                   ECK12\n",
       "11       Zaslaver et al. demonstrated in 2006, by means...\n",
       "12                                                     NaN\n",
       "range                                                   ()\n",
       "Name: 1380, dtype: object"
      ]
     },
     "metadata": {},
     "output_type": "display_data"
    },
    {
     "data": {
      "text/plain": [
       "0                                             ECK120033647\n",
       "1                                                    tsaBp\n",
       "2                                                  reverse\n",
       "3                                                      NaN\n",
       "4                                                      NaN\n",
       "5                                                      NaN\n",
       "6                                                      NaN\n",
       "7                                                      NaN\n",
       "8                                                      NaN\n",
       "9                                                      NaN\n",
       "10                                                   ECK12\n",
       "11       Zaslaver et al. demonstrated in 2006, by means...\n",
       "12                                                     NaN\n",
       "range                                                   ()\n",
       "Name: 1382, dtype: object"
      ]
     },
     "metadata": {},
     "output_type": "display_data"
    },
    {
     "data": {
      "text/plain": [
       "0                                             ECK120033648\n",
       "1                                                    yfhLp\n",
       "2                                                  forward\n",
       "3                                                      NaN\n",
       "4                                                      NaN\n",
       "5                                                      NaN\n",
       "6                                                      NaN\n",
       "7                                                      NaN\n",
       "8                                                      NaN\n",
       "9                                                      NaN\n",
       "10                                                   ECK12\n",
       "11       Zaslaver et al. demonstrated in 2006, by means...\n",
       "12                                                     NaN\n",
       "range                                                   ()\n",
       "Name: 1383, dtype: object"
      ]
     },
     "metadata": {},
     "output_type": "display_data"
    },
    {
     "data": {
      "text/plain": [
       "0                                             ECK120033649\n",
       "1                                                    deoRp\n",
       "2                                                  reverse\n",
       "3                                                      NaN\n",
       "4                                                      NaN\n",
       "5                                                      NaN\n",
       "6                                                      NaN\n",
       "7                                                      NaN\n",
       "8                                                      NaN\n",
       "9                                                      NaN\n",
       "10                                                   ECK12\n",
       "11       Zaslaver et al. demonstrated in 2006, by means...\n",
       "12                                                     NaN\n",
       "range                                                   ()\n",
       "Name: 1384, dtype: object"
      ]
     },
     "metadata": {},
     "output_type": "display_data"
    },
    {
     "data": {
      "text/plain": [
       "0                                             ECK120033651\n",
       "1                                                    yacGp\n",
       "2                                                  reverse\n",
       "3                                                      NaN\n",
       "4                                                      NaN\n",
       "5                                                      NaN\n",
       "6                                                      NaN\n",
       "7                                                      NaN\n",
       "8                                                      NaN\n",
       "9                                                      NaN\n",
       "10                                                   ECK12\n",
       "11       Zaslaver et al. demonstrated in 2006, by means...\n",
       "12                                                     NaN\n",
       "range                                                   ()\n",
       "Name: 1386, dtype: object"
      ]
     },
     "metadata": {},
     "output_type": "display_data"
    },
    {
     "data": {
      "text/plain": [
       "0                                             ECK120033653\n",
       "1                                                    ydeQp\n",
       "2                                                  reverse\n",
       "3                                                      NaN\n",
       "4                                                      NaN\n",
       "5                                                      NaN\n",
       "6                                                      NaN\n",
       "7                                                      NaN\n",
       "8                                                      NaN\n",
       "9                                                      NaN\n",
       "10                                                   ECK12\n",
       "11       Zaslaver et al. demonstrated in 2006, by means...\n",
       "12                                                     NaN\n",
       "range                                                   ()\n",
       "Name: 1388, dtype: object"
      ]
     },
     "metadata": {},
     "output_type": "display_data"
    },
    {
     "data": {
      "text/plain": [
       "0                                             ECK120033655\n",
       "1                                                    yfcEp\n",
       "2                                                  reverse\n",
       "3                                                      NaN\n",
       "4                                                      NaN\n",
       "5                                                      NaN\n",
       "6                                                      NaN\n",
       "7                                                      NaN\n",
       "8                                                      NaN\n",
       "9                                                      NaN\n",
       "10                                                   ECK12\n",
       "11       Zaslaver et al. demonstrated in 2006, by means...\n",
       "12                                                     NaN\n",
       "range                                                   ()\n",
       "Name: 1390, dtype: object"
      ]
     },
     "metadata": {},
     "output_type": "display_data"
    },
    {
     "data": {
      "text/plain": [
       "0                                             ECK120033656\n",
       "1                                                    aspUp\n",
       "2                                                  forward\n",
       "3                                                      NaN\n",
       "4                                                      NaN\n",
       "5                                                      NaN\n",
       "6                                                      NaN\n",
       "7                                                      NaN\n",
       "8                                                      NaN\n",
       "9                                                      NaN\n",
       "10                                                   ECK12\n",
       "11       Zaslaver et al. demonstrated in 2006, by means...\n",
       "12                                                     NaN\n",
       "range                                                   ()\n",
       "Name: 1391, dtype: object"
      ]
     },
     "metadata": {},
     "output_type": "display_data"
    },
    {
     "data": {
      "text/plain": [
       "0                                             ECK120033657\n",
       "1                                                    pgsAp\n",
       "2                                                  reverse\n",
       "3                                                      NaN\n",
       "4                                                      NaN\n",
       "5                                                      NaN\n",
       "6                                                      NaN\n",
       "7                                                      NaN\n",
       "8                                                      NaN\n",
       "9                                                      NaN\n",
       "10                                                   ECK12\n",
       "11       Zaslaver et al. demonstrated in 2006, by means...\n",
       "12                                                     NaN\n",
       "range                                                   ()\n",
       "Name: 1392, dtype: object"
      ]
     },
     "metadata": {},
     "output_type": "display_data"
    },
    {
     "data": {
      "text/plain": [
       "0        ECK120033658\n",
       "1               pdxYp\n",
       "2             reverse\n",
       "3                 NaN\n",
       "4                 NaN\n",
       "5                 NaN\n",
       "6                 NaN\n",
       "7                 NaN\n",
       "8                 NaN\n",
       "9                 NaN\n",
       "10              ECK12\n",
       "11                NaN\n",
       "12                NaN\n",
       "range              ()\n",
       "Name: 1393, dtype: object"
      ]
     },
     "metadata": {},
     "output_type": "display_data"
    },
    {
     "data": {
      "text/plain": [
       "0                                             ECK120033659\n",
       "1                                                    yhfKp\n",
       "2                                                  forward\n",
       "3                                                      NaN\n",
       "4                                                      NaN\n",
       "5                                                      NaN\n",
       "6                                                      NaN\n",
       "7                                                      NaN\n",
       "8                                                      NaN\n",
       "9                                                      NaN\n",
       "10                                                   ECK12\n",
       "11       Zaslaver et al. demonstrated in 2006, by means...\n",
       "12                                                     NaN\n",
       "range                                                   ()\n",
       "Name: 1394, dtype: object"
      ]
     },
     "metadata": {},
     "output_type": "display_data"
    },
    {
     "data": {
      "text/plain": [
       "0                                             ECK120033660\n",
       "1                                                    insNp\n",
       "2                                                  forward\n",
       "3                                                      NaN\n",
       "4                                                      NaN\n",
       "5                                                      NaN\n",
       "6                                                      NaN\n",
       "7                                                      NaN\n",
       "8                                                      NaN\n",
       "9                                                      NaN\n",
       "10                                                   ECK12\n",
       "11       Zaslaver et al. demonstrated in 2006, by means...\n",
       "12                                                     NaN\n",
       "range                                                   ()\n",
       "Name: 1395, dtype: object"
      ]
     },
     "metadata": {},
     "output_type": "display_data"
    },
    {
     "data": {
      "text/plain": [
       "0                                             ECK120033661\n",
       "1                                                    yegWp\n",
       "2                                                  reverse\n",
       "3                                                      NaN\n",
       "4                                                      NaN\n",
       "5                                                      NaN\n",
       "6                                                      NaN\n",
       "7                                                      NaN\n",
       "8                                                      NaN\n",
       "9                                                      NaN\n",
       "10                                                   ECK12\n",
       "11       Zaslaver et al. demonstrated in 2006, by means...\n",
       "12                                                     NaN\n",
       "range                                                   ()\n",
       "Name: 1396, dtype: object"
      ]
     },
     "metadata": {},
     "output_type": "display_data"
    },
    {
     "data": {
      "text/plain": [
       "0        ECK120033662\n",
       "1               pspEp\n",
       "2             forward\n",
       "3                 NaN\n",
       "4                 NaN\n",
       "5                 NaN\n",
       "6                 NaN\n",
       "7                 NaN\n",
       "8                 NaN\n",
       "9                 NaN\n",
       "10              ECK12\n",
       "11                NaN\n",
       "12                NaN\n",
       "range              ()\n",
       "Name: 1397, dtype: object"
      ]
     },
     "metadata": {},
     "output_type": "display_data"
    },
    {
     "data": {
      "text/plain": [
       "0        ECK120033663\n",
       "1               yajOp\n",
       "2             reverse\n",
       "3                 NaN\n",
       "4                 NaN\n",
       "5                 NaN\n",
       "6                 NaN\n",
       "7                 NaN\n",
       "8                 NaN\n",
       "9                 NaN\n",
       "10              ECK12\n",
       "11                NaN\n",
       "12                NaN\n",
       "range              ()\n",
       "Name: 1398, dtype: object"
      ]
     },
     "metadata": {},
     "output_type": "display_data"
    },
    {
     "data": {
      "text/plain": [
       "0        ECK120033664\n",
       "1               nrdGp\n",
       "2             reverse\n",
       "3                 NaN\n",
       "4                 NaN\n",
       "5                 NaN\n",
       "6                 NaN\n",
       "7                 NaN\n",
       "8                 NaN\n",
       "9                 NaN\n",
       "10              ECK12\n",
       "11                NaN\n",
       "12                NaN\n",
       "range              ()\n",
       "Name: 1399, dtype: object"
      ]
     },
     "metadata": {},
     "output_type": "display_data"
    },
    {
     "data": {
      "text/plain": [
       "0        ECK120033665\n",
       "1               fucRp\n",
       "2             forward\n",
       "3                 NaN\n",
       "4                 NaN\n",
       "5                 NaN\n",
       "6                 NaN\n",
       "7                 NaN\n",
       "8                 NaN\n",
       "9                 NaN\n",
       "10              ECK12\n",
       "11                NaN\n",
       "12                NaN\n",
       "range              ()\n",
       "Name: 1400, dtype: object"
      ]
     },
     "metadata": {},
     "output_type": "display_data"
    },
    {
     "data": {
      "text/plain": [
       "0        ECK120033666\n",
       "1               aceKp\n",
       "2             forward\n",
       "3                 NaN\n",
       "4                 NaN\n",
       "5                 NaN\n",
       "6                 NaN\n",
       "7                 NaN\n",
       "8                 NaN\n",
       "9                 NaN\n",
       "10              ECK12\n",
       "11                NaN\n",
       "12                NaN\n",
       "range              ()\n",
       "Name: 1401, dtype: object"
      ]
     },
     "metadata": {},
     "output_type": "display_data"
    },
    {
     "data": {
      "text/plain": [
       "0                                             ECK120033667\n",
       "1                                                    yadCp\n",
       "2                                                  reverse\n",
       "3                                                      NaN\n",
       "4                                                      NaN\n",
       "5                                                      NaN\n",
       "6                                                      NaN\n",
       "7                                                      NaN\n",
       "8                                                      NaN\n",
       "9                                                      NaN\n",
       "10                                                   ECK12\n",
       "11       Zaslaver et al. demonstrated in 2006, by means...\n",
       "12                                                     NaN\n",
       "range                                                   ()\n",
       "Name: 1402, dtype: object"
      ]
     },
     "metadata": {},
     "output_type": "display_data"
    },
    {
     "data": {
      "text/plain": [
       "0        ECK120033668\n",
       "1               glxKp\n",
       "2             forward\n",
       "3                 NaN\n",
       "4                 NaN\n",
       "5                 NaN\n",
       "6                 NaN\n",
       "7                 NaN\n",
       "8                 NaN\n",
       "9                 NaN\n",
       "10              ECK12\n",
       "11                NaN\n",
       "12                NaN\n",
       "range              ()\n",
       "Name: 1403, dtype: object"
      ]
     },
     "metadata": {},
     "output_type": "display_data"
    },
    {
     "data": {
      "text/plain": [
       "0        ECK120033669\n",
       "1               gcvPp\n",
       "2             reverse\n",
       "3                 NaN\n",
       "4                 NaN\n",
       "5                 NaN\n",
       "6                 NaN\n",
       "7                 NaN\n",
       "8                 NaN\n",
       "9                 NaN\n",
       "10              ECK12\n",
       "11                NaN\n",
       "12                NaN\n",
       "range              ()\n",
       "Name: 1404, dtype: object"
      ]
     },
     "metadata": {},
     "output_type": "display_data"
    },
    {
     "data": {
      "text/plain": [
       "0        ECK120033670\n",
       "1               rrfGp\n",
       "2             reverse\n",
       "3                 NaN\n",
       "4                 NaN\n",
       "5                 NaN\n",
       "6                 NaN\n",
       "7                 NaN\n",
       "8                 NaN\n",
       "9                 NaN\n",
       "10              ECK12\n",
       "11                NaN\n",
       "12                NaN\n",
       "range              ()\n",
       "Name: 1405, dtype: object"
      ]
     },
     "metadata": {},
     "output_type": "display_data"
    },
    {
     "data": {
      "text/plain": [
       "0        ECK120033671\n",
       "1               cysHp\n",
       "2             reverse\n",
       "3                 NaN\n",
       "4                 NaN\n",
       "5                 NaN\n",
       "6                 NaN\n",
       "7                 NaN\n",
       "8                 NaN\n",
       "9                 NaN\n",
       "10              ECK12\n",
       "11                NaN\n",
       "12                NaN\n",
       "range              ()\n",
       "Name: 1406, dtype: object"
      ]
     },
     "metadata": {},
     "output_type": "display_data"
    },
    {
     "data": {
      "text/plain": [
       "0        ECK120033672\n",
       "1               argQp\n",
       "2             reverse\n",
       "3                 NaN\n",
       "4                 NaN\n",
       "5                 NaN\n",
       "6                 NaN\n",
       "7                 NaN\n",
       "8                 NaN\n",
       "9                 NaN\n",
       "10              ECK12\n",
       "11                NaN\n",
       "12                NaN\n",
       "range              ()\n",
       "Name: 1407, dtype: object"
      ]
     },
     "metadata": {},
     "output_type": "display_data"
    },
    {
     "data": {
      "text/plain": [
       "0        ECK120033673\n",
       "1               cadAp\n",
       "2             reverse\n",
       "3                 NaN\n",
       "4                 NaN\n",
       "5                 NaN\n",
       "6                 NaN\n",
       "7                 NaN\n",
       "8                 NaN\n",
       "9                 NaN\n",
       "10              ECK12\n",
       "11                NaN\n",
       "12                NaN\n",
       "range              ()\n",
       "Name: 1408, dtype: object"
      ]
     },
     "metadata": {},
     "output_type": "display_data"
    },
    {
     "data": {
      "text/plain": [
       "0        ECK120033674\n",
       "1               csgCp\n",
       "2             forward\n",
       "3                 NaN\n",
       "4                 NaN\n",
       "5                 NaN\n",
       "6                 NaN\n",
       "7                 NaN\n",
       "8                 NaN\n",
       "9                 NaN\n",
       "10              ECK12\n",
       "11                NaN\n",
       "12                NaN\n",
       "range              ()\n",
       "Name: 1409, dtype: object"
      ]
     },
     "metadata": {},
     "output_type": "display_data"
    },
    {
     "data": {
      "text/plain": [
       "0        ECK120033676\n",
       "1               ybjNp\n",
       "2             forward\n",
       "3                 NaN\n",
       "4                 NaN\n",
       "5                 NaN\n",
       "6                 NaN\n",
       "7                 NaN\n",
       "8                 NaN\n",
       "9                 NaN\n",
       "10              ECK12\n",
       "11                NaN\n",
       "12                NaN\n",
       "range              ()\n",
       "Name: 1411, dtype: object"
      ]
     },
     "metadata": {},
     "output_type": "display_data"
    },
    {
     "data": {
      "text/plain": [
       "0        ECK120033677\n",
       "1               dhaMp\n",
       "2             reverse\n",
       "3                 NaN\n",
       "4                 NaN\n",
       "5                 NaN\n",
       "6                 NaN\n",
       "7                 NaN\n",
       "8                 NaN\n",
       "9                 NaN\n",
       "10              ECK12\n",
       "11                NaN\n",
       "12                NaN\n",
       "range              ()\n",
       "Name: 1412, dtype: object"
      ]
     },
     "metadata": {},
     "output_type": "display_data"
    },
    {
     "data": {
      "text/plain": [
       "0        ECK120033679\n",
       "1               ubiXp\n",
       "2             reverse\n",
       "3                 NaN\n",
       "4                 NaN\n",
       "5                 NaN\n",
       "6                 NaN\n",
       "7                 NaN\n",
       "8                 NaN\n",
       "9                 NaN\n",
       "10              ECK12\n",
       "11                NaN\n",
       "12                NaN\n",
       "range              ()\n",
       "Name: 1414, dtype: object"
      ]
     },
     "metadata": {},
     "output_type": "display_data"
    },
    {
     "data": {
      "text/plain": [
       "0                                             ECK120033680\n",
       "1                                                    yjfKp\n",
       "2                                                  forward\n",
       "3                                                      NaN\n",
       "4                                                      NaN\n",
       "5                                                      NaN\n",
       "6                                                      NaN\n",
       "7                                                      NaN\n",
       "8                                                      NaN\n",
       "9                                                      NaN\n",
       "10                                                   ECK12\n",
       "11       Zaslaver et al. demonstrated in 2006, by means...\n",
       "12                                                     NaN\n",
       "range                                                   ()\n",
       "Name: 1415, dtype: object"
      ]
     },
     "metadata": {},
     "output_type": "display_data"
    },
    {
     "data": {
      "text/plain": [
       "0                                             ECK120033682\n",
       "1                                                    yjiXp\n",
       "2                                                  reverse\n",
       "3                                                      NaN\n",
       "4                                                      NaN\n",
       "5                                                      NaN\n",
       "6                                                      NaN\n",
       "7                                                      NaN\n",
       "8                                                      NaN\n",
       "9                                                      NaN\n",
       "10                                                   ECK12\n",
       "11       Zaslaver et al. demonstrated in 2006, by means...\n",
       "12                                                     NaN\n",
       "range                                                   ()\n",
       "Name: 1417, dtype: object"
      ]
     },
     "metadata": {},
     "output_type": "display_data"
    },
    {
     "data": {
      "text/plain": [
       "0                                             ECK120033683\n",
       "1                                                    lacYp\n",
       "2                                                  reverse\n",
       "3                                                      NaN\n",
       "4                                                      NaN\n",
       "5                                                      NaN\n",
       "6                                                      NaN\n",
       "7                                                      NaN\n",
       "8                                                      NaN\n",
       "9                                                      NaN\n",
       "10                                                   ECK12\n",
       "11       Zaslaver et al. demonstrated in 2006, by means...\n",
       "12                                                     NaN\n",
       "range                                                   ()\n",
       "Name: 1418, dtype: object"
      ]
     },
     "metadata": {},
     "output_type": "display_data"
    },
    {
     "data": {
      "text/plain": [
       "0                                             ECK120033684\n",
       "1                                                    rfbAp\n",
       "2                                                  reverse\n",
       "3                                                      NaN\n",
       "4                                                      NaN\n",
       "5                                                      NaN\n",
       "6                                                      NaN\n",
       "7                                                      NaN\n",
       "8                                                      NaN\n",
       "9                                                      NaN\n",
       "10                                                   ECK12\n",
       "11       Zaslaver et al. demonstrated in 2006, by means...\n",
       "12                                                     NaN\n",
       "range                                                   ()\n",
       "Name: 1419, dtype: object"
      ]
     },
     "metadata": {},
     "output_type": "display_data"
    },
    {
     "data": {
      "text/plain": [
       "0                                             ECK120033685\n",
       "1                                                    rrlHp\n",
       "2                                                  forward\n",
       "3                                                      NaN\n",
       "4                                                      NaN\n",
       "5                                                      NaN\n",
       "6                                                      NaN\n",
       "7                                                      NaN\n",
       "8                                                      NaN\n",
       "9                                                      NaN\n",
       "10                                                   ECK12\n",
       "11       Zaslaver et al. demonstrated in 2006, by means...\n",
       "12                                                     NaN\n",
       "range                                                   ()\n",
       "Name: 1420, dtype: object"
      ]
     },
     "metadata": {},
     "output_type": "display_data"
    },
    {
     "data": {
      "text/plain": [
       "0                                             ECK120033686\n",
       "1                                                    waaZp\n",
       "2                                                  reverse\n",
       "3                                                      NaN\n",
       "4                                                      NaN\n",
       "5                                                      NaN\n",
       "6                                                      NaN\n",
       "7                                                      NaN\n",
       "8                                                      NaN\n",
       "9                                                      NaN\n",
       "10                                                   ECK12\n",
       "11       Zaslaver et al. demonstrated in 2006, by means...\n",
       "12                                                     NaN\n",
       "range                                                   ()\n",
       "Name: 1421, dtype: object"
      ]
     },
     "metadata": {},
     "output_type": "display_data"
    },
    {
     "data": {
      "text/plain": [
       "0                                             ECK120033688\n",
       "1                                                    rrlBp\n",
       "2                                                  forward\n",
       "3                                                      NaN\n",
       "4                                                      NaN\n",
       "5                                                      NaN\n",
       "6                                                      NaN\n",
       "7                                                      NaN\n",
       "8                                                      NaN\n",
       "9                                                      NaN\n",
       "10                                                   ECK12\n",
       "11       Zaslaver et al. demonstrated in 2006, by means...\n",
       "12                                                     NaN\n",
       "range                                                   ()\n",
       "Name: 1423, dtype: object"
      ]
     },
     "metadata": {},
     "output_type": "display_data"
    },
    {
     "data": {
      "text/plain": [
       "0                                             ECK120033689\n",
       "1                                                    caiCp\n",
       "2                                                  reverse\n",
       "3                                                      NaN\n",
       "4                                                      NaN\n",
       "5                                                      NaN\n",
       "6                                                      NaN\n",
       "7                                                      NaN\n",
       "8                                                      NaN\n",
       "9                                                      NaN\n",
       "10                                                   ECK12\n",
       "11       Zaslaver et al. demonstrated in 2006, by means...\n",
       "12                                                     NaN\n",
       "range                                                   ()\n",
       "Name: 1424, dtype: object"
      ]
     },
     "metadata": {},
     "output_type": "display_data"
    },
    {
     "data": {
      "text/plain": [
       "0                                             ECK120033690\n",
       "1                                                    rrlEp\n",
       "2                                                  forward\n",
       "3                                                      NaN\n",
       "4                                                      NaN\n",
       "5                                                      NaN\n",
       "6                                                      NaN\n",
       "7                                                      NaN\n",
       "8                                                      NaN\n",
       "9                                                      NaN\n",
       "10                                                   ECK12\n",
       "11       Zaslaver et al. demonstrated in 2006, by means...\n",
       "12                                                     NaN\n",
       "range                                                   ()\n",
       "Name: 1425, dtype: object"
      ]
     },
     "metadata": {},
     "output_type": "display_data"
    },
    {
     "data": {
      "text/plain": [
       "0                                             ECK120033691\n",
       "1                                                    nuoMp\n",
       "2                                                  reverse\n",
       "3                                                      NaN\n",
       "4                                                      NaN\n",
       "5                                                      NaN\n",
       "6                                                      NaN\n",
       "7                                                      NaN\n",
       "8                                                      NaN\n",
       "9                                                      NaN\n",
       "10                                                   ECK12\n",
       "11       Zaslaver et al. demonstrated in 2006, by means...\n",
       "12                                                     NaN\n",
       "range                                                   ()\n",
       "Name: 1426, dtype: object"
      ]
     },
     "metadata": {},
     "output_type": "display_data"
    },
    {
     "data": {
      "text/plain": [
       "0                                             ECK120033692\n",
       "1                                                    mreCp\n",
       "2                                                  reverse\n",
       "3                                                      NaN\n",
       "4                                                      NaN\n",
       "5                                                      NaN\n",
       "6                                                      NaN\n",
       "7                                                      NaN\n",
       "8                                                      NaN\n",
       "9                                                      NaN\n",
       "10                                                   ECK12\n",
       "11       Zaslaver et al. demonstrated in 2006, by means...\n",
       "12                                                     NaN\n",
       "range                                                   ()\n",
       "Name: 1427, dtype: object"
      ]
     },
     "metadata": {},
     "output_type": "display_data"
    },
    {
     "data": {
      "text/plain": [
       "0                                             ECK120033693\n",
       "1                                                    rrlAp\n",
       "2                                                  forward\n",
       "3                                                      NaN\n",
       "4                                                      NaN\n",
       "5                                                      NaN\n",
       "6                                                      NaN\n",
       "7                                                      NaN\n",
       "8                                                      NaN\n",
       "9                                                      NaN\n",
       "10                                                   ECK12\n",
       "11       Zaslaver et al. demonstrated in 2006, by means...\n",
       "12                                                     NaN\n",
       "range                                                   ()\n",
       "Name: 1428, dtype: object"
      ]
     },
     "metadata": {},
     "output_type": "display_data"
    },
    {
     "data": {
      "text/plain": [
       "0                                             ECK120033694\n",
       "1                                                    ykfGp\n",
       "2                                                  reverse\n",
       "3                                                      NaN\n",
       "4                                                      NaN\n",
       "5                                                      NaN\n",
       "6                                                      NaN\n",
       "7                                                      NaN\n",
       "8                                                      NaN\n",
       "9                                                      NaN\n",
       "10                                                   ECK12\n",
       "11       Zaslaver et al. demonstrated in 2006, by means...\n",
       "12                                                     NaN\n",
       "range                                                   ()\n",
       "Name: 1429, dtype: object"
      ]
     },
     "metadata": {},
     "output_type": "display_data"
    },
    {
     "data": {
      "text/plain": [
       "0                                             ECK120033695\n",
       "1                                                    glcBp\n",
       "2                                                  reverse\n",
       "3                                                      NaN\n",
       "4                                                      NaN\n",
       "5                                                      NaN\n",
       "6                                                      NaN\n",
       "7                                                      NaN\n",
       "8                                                      NaN\n",
       "9                                                      NaN\n",
       "10                                                   ECK12\n",
       "11       Zaslaver et al. demonstrated in 2006, by means...\n",
       "12                                                     NaN\n",
       "range                                                   ()\n",
       "Name: 1430, dtype: object"
      ]
     },
     "metadata": {},
     "output_type": "display_data"
    },
    {
     "data": {
      "text/plain": [
       "0                                             ECK120033696\n",
       "1                                                    deoAp\n",
       "2                                                  forward\n",
       "3                                                      NaN\n",
       "4                                                      NaN\n",
       "5                                                      NaN\n",
       "6                                                      NaN\n",
       "7                                                      NaN\n",
       "8                                                      NaN\n",
       "9                                                      NaN\n",
       "10                                                   ECK12\n",
       "11       Zaslaver et al. demonstrated in 2006, by means...\n",
       "12                                                     NaN\n",
       "range                                                   ()\n",
       "Name: 1431, dtype: object"
      ]
     },
     "metadata": {},
     "output_type": "display_data"
    },
    {
     "data": {
      "text/plain": [
       "0                                             ECK120033697\n",
       "1                                                    menDp\n",
       "2                                                  reverse\n",
       "3                                                      NaN\n",
       "4                                                      NaN\n",
       "5                                                      NaN\n",
       "6                                                      NaN\n",
       "7                                                      NaN\n",
       "8                                                      NaN\n",
       "9                                                      NaN\n",
       "10                                                   ECK12\n",
       "11       Zaslaver et al. demonstrated in 2006, by means...\n",
       "12                                                     NaN\n",
       "range                                                   ()\n",
       "Name: 1432, dtype: object"
      ]
     },
     "metadata": {},
     "output_type": "display_data"
    },
    {
     "data": {
      "text/plain": [
       "0                                             ECK120033700\n",
       "1                                                    yaiAp\n",
       "2                                                  forward\n",
       "3                                                      NaN\n",
       "4                                                      NaN\n",
       "5                                                      NaN\n",
       "6                                                      NaN\n",
       "7                                                      NaN\n",
       "8                                                      NaN\n",
       "9                                                      NaN\n",
       "10                                                   ECK12\n",
       "11       Zaslaver et al. demonstrated in 2006, by means...\n",
       "12                                                     NaN\n",
       "range                                                   ()\n",
       "Name: 1435, dtype: object"
      ]
     },
     "metadata": {},
     "output_type": "display_data"
    },
    {
     "data": {
      "text/plain": [
       "0                                             ECK120033701\n",
       "1                                                    alsBp\n",
       "2                                                  reverse\n",
       "3                                                      NaN\n",
       "4                                                      NaN\n",
       "5                                                      NaN\n",
       "6                                                      NaN\n",
       "7                                                      NaN\n",
       "8                                                      NaN\n",
       "9                                                      NaN\n",
       "10                                                   ECK12\n",
       "11       Zaslaver et al. demonstrated in 2006, by means...\n",
       "12                                                     NaN\n",
       "range                                                   ()\n",
       "Name: 1436, dtype: object"
      ]
     },
     "metadata": {},
     "output_type": "display_data"
    },
    {
     "data": {
      "text/plain": [
       "0                                             ECK120033703\n",
       "1                                                    tyrVp\n",
       "2                                                  reverse\n",
       "3                                                      NaN\n",
       "4                                                      NaN\n",
       "5                                                      NaN\n",
       "6                                                      NaN\n",
       "7                                                      NaN\n",
       "8                                                      NaN\n",
       "9                                                      NaN\n",
       "10                                                   ECK12\n",
       "11       Zaslaver et al. demonstrated in 2006, by means...\n",
       "12                                                     NaN\n",
       "range                                                   ()\n",
       "Name: 1438, dtype: object"
      ]
     },
     "metadata": {},
     "output_type": "display_data"
    },
    {
     "data": {
      "text/plain": [
       "0                                             ECK120033704\n",
       "1                                                    pspBp\n",
       "2                                                  forward\n",
       "3                                                      NaN\n",
       "4                                                      NaN\n",
       "5                                                      NaN\n",
       "6                                                      NaN\n",
       "7                                                      NaN\n",
       "8                                                      NaN\n",
       "9                                                      NaN\n",
       "10                                                   ECK12\n",
       "11       Zaslaver et al. demonstrated in 2006, by means...\n",
       "12                                                     NaN\n",
       "range                                                   ()\n",
       "Name: 1439, dtype: object"
      ]
     },
     "metadata": {},
     "output_type": "display_data"
    },
    {
     "data": {
      "text/plain": [
       "0                                             ECK120033705\n",
       "1                                                    tdcBp\n",
       "2                                                  reverse\n",
       "3                                                      NaN\n",
       "4                                                      NaN\n",
       "5                                                      NaN\n",
       "6                                                      NaN\n",
       "7                                                      NaN\n",
       "8                                                      NaN\n",
       "9                                                      NaN\n",
       "10                                                   ECK12\n",
       "11       Zaslaver et al. demonstrated in 2006, by means...\n",
       "12                                                     NaN\n",
       "range                                                   ()\n",
       "Name: 1440, dtype: object"
      ]
     },
     "metadata": {},
     "output_type": "display_data"
    },
    {
     "data": {
      "text/plain": [
       "0                                             ECK120033706\n",
       "1                                                    phnLp\n",
       "2                                                  reverse\n",
       "3                                                      NaN\n",
       "4                                                      NaN\n",
       "5                                                      NaN\n",
       "6                                                      NaN\n",
       "7                                                      NaN\n",
       "8                                                      NaN\n",
       "9                                                      NaN\n",
       "10                                                   ECK12\n",
       "11       Zaslaver et al. demonstrated in 2006, by means...\n",
       "12                                                     NaN\n",
       "range                                                   ()\n",
       "Name: 1441, dtype: object"
      ]
     },
     "metadata": {},
     "output_type": "display_data"
    },
    {
     "data": {
      "text/plain": [
       "0        ECK120033707\n",
       "1               yjiTp\n",
       "2             forward\n",
       "3                 NaN\n",
       "4             Sigma32\n",
       "5                 NaN\n",
       "6                 NaN\n",
       "7                 NaN\n",
       "8                 NaN\n",
       "9                 NaN\n",
       "10              ECK12\n",
       "11                NaN\n",
       "12                NaN\n",
       "range              ()\n",
       "Name: 1442, dtype: object"
      ]
     },
     "metadata": {},
     "output_type": "display_data"
    },
    {
     "data": {
      "text/plain": [
       "0                                             ECK120033708\n",
       "1                                                    glnWp\n",
       "2                                                  reverse\n",
       "3                                                      NaN\n",
       "4                                                      NaN\n",
       "5                                                      NaN\n",
       "6                                                      NaN\n",
       "7                                                      NaN\n",
       "8                                                      NaN\n",
       "9                                                      NaN\n",
       "10                                                   ECK12\n",
       "11       Zaslaver et al. demonstrated in 2006, by means...\n",
       "12                                                     NaN\n",
       "range                                                   ()\n",
       "Name: 1443, dtype: object"
      ]
     },
     "metadata": {},
     "output_type": "display_data"
    },
    {
     "data": {
      "text/plain": [
       "0        ECK120033710\n",
       "1               yafUp\n",
       "2             reverse\n",
       "3                 NaN\n",
       "4             Sigma32\n",
       "5                 NaN\n",
       "6                 NaN\n",
       "7                 NaN\n",
       "8                 NaN\n",
       "9                 NaN\n",
       "10              ECK12\n",
       "11                NaN\n",
       "12                NaN\n",
       "range              ()\n",
       "Name: 1445, dtype: object"
      ]
     },
     "metadata": {},
     "output_type": "display_data"
    },
    {
     "data": {
      "text/plain": [
       "0        ECK120033711\n",
       "1               yehRp\n",
       "2             forward\n",
       "3                 NaN\n",
       "4             Sigma32\n",
       "5                 NaN\n",
       "6                 NaN\n",
       "7                 NaN\n",
       "8                 NaN\n",
       "9                 NaN\n",
       "10              ECK12\n",
       "11                NaN\n",
       "12                NaN\n",
       "range              ()\n",
       "Name: 1446, dtype: object"
      ]
     },
     "metadata": {},
     "output_type": "display_data"
    },
    {
     "data": {
      "text/plain": [
       "0        ECK120033712\n",
       "1               ydeOp\n",
       "2             reverse\n",
       "3                 NaN\n",
       "4             Sigma32\n",
       "5                 NaN\n",
       "6                 NaN\n",
       "7                 NaN\n",
       "8                 NaN\n",
       "9                 NaN\n",
       "10              ECK12\n",
       "11                NaN\n",
       "12                NaN\n",
       "range              ()\n",
       "Name: 1447, dtype: object"
      ]
     },
     "metadata": {},
     "output_type": "display_data"
    },
    {
     "data": {
      "text/plain": [
       "0        ECK120033714\n",
       "1               yiaAp\n",
       "2             reverse\n",
       "3                 NaN\n",
       "4             Sigma32\n",
       "5                 NaN\n",
       "6                 NaN\n",
       "7                 NaN\n",
       "8                 NaN\n",
       "9                 NaN\n",
       "10              ECK12\n",
       "11                NaN\n",
       "12                NaN\n",
       "range              ()\n",
       "Name: 1449, dtype: object"
      ]
     },
     "metadata": {},
     "output_type": "display_data"
    },
    {
     "data": {
      "text/plain": [
       "0        ECK120033715\n",
       "1               yccEp\n",
       "2             forward\n",
       "3                 NaN\n",
       "4             Sigma32\n",
       "5                 NaN\n",
       "6                 NaN\n",
       "7                 NaN\n",
       "8                 NaN\n",
       "9                 NaN\n",
       "10              ECK12\n",
       "11                NaN\n",
       "12                NaN\n",
       "range              ()\n",
       "Name: 1450, dtype: object"
      ]
     },
     "metadata": {},
     "output_type": "display_data"
    },
    {
     "data": {
      "text/plain": [
       "0        ECK120033716\n",
       "1               yrdAp\n",
       "2             forward\n",
       "3                 NaN\n",
       "4             Sigma32\n",
       "5                 NaN\n",
       "6                 NaN\n",
       "7                 NaN\n",
       "8                 NaN\n",
       "9                 NaN\n",
       "10              ECK12\n",
       "11                NaN\n",
       "12                NaN\n",
       "range              ()\n",
       "Name: 1451, dtype: object"
      ]
     },
     "metadata": {},
     "output_type": "display_data"
    },
    {
     "data": {
      "text/plain": [
       "0        ECK120033718\n",
       "1               yjhIp\n",
       "2             reverse\n",
       "3                 NaN\n",
       "4             Sigma32\n",
       "5                 NaN\n",
       "6                 NaN\n",
       "7                 NaN\n",
       "8                 NaN\n",
       "9                 NaN\n",
       "10              ECK12\n",
       "11                NaN\n",
       "12                NaN\n",
       "range              ()\n",
       "Name: 1453, dtype: object"
      ]
     },
     "metadata": {},
     "output_type": "display_data"
    },
    {
     "data": {
      "text/plain": [
       "0        ECK120033719\n",
       "1               ypjMp\n",
       "2             reverse\n",
       "3                 NaN\n",
       "4             Sigma32\n",
       "5                 NaN\n",
       "6                 NaN\n",
       "7                 NaN\n",
       "8                 NaN\n",
       "9                 NaN\n",
       "10              ECK12\n",
       "11                NaN\n",
       "12                NaN\n",
       "range              ()\n",
       "Name: 1454, dtype: object"
      ]
     },
     "metadata": {},
     "output_type": "display_data"
    },
    {
     "data": {
      "text/plain": [
       "0        ECK120033720\n",
       "1               yrfGp\n",
       "2             forward\n",
       "3                 NaN\n",
       "4             Sigma32\n",
       "5                 NaN\n",
       "6                 NaN\n",
       "7                 NaN\n",
       "8                 NaN\n",
       "9                 NaN\n",
       "10              ECK12\n",
       "11                NaN\n",
       "12                NaN\n",
       "range              ()\n",
       "Name: 1455, dtype: object"
      ]
     },
     "metadata": {},
     "output_type": "display_data"
    },
    {
     "data": {
      "text/plain": [
       "0        ECK120033721\n",
       "1               yibAp\n",
       "2             forward\n",
       "3                 NaN\n",
       "4             Sigma32\n",
       "5                 NaN\n",
       "6                 NaN\n",
       "7                 NaN\n",
       "8                 NaN\n",
       "9                 NaN\n",
       "10              ECK12\n",
       "11                NaN\n",
       "12                NaN\n",
       "range              ()\n",
       "Name: 1456, dtype: object"
      ]
     },
     "metadata": {},
     "output_type": "display_data"
    },
    {
     "data": {
      "text/plain": [
       "0        ECK120033724\n",
       "1               casDp\n",
       "2             reverse\n",
       "3                 NaN\n",
       "4             Sigma32\n",
       "5                 NaN\n",
       "6                 NaN\n",
       "7                 NaN\n",
       "8                 NaN\n",
       "9                 NaN\n",
       "10              ECK12\n",
       "11                NaN\n",
       "12                NaN\n",
       "range              ()\n",
       "Name: 1459, dtype: object"
      ]
     },
     "metadata": {},
     "output_type": "display_data"
    },
    {
     "data": {
      "text/plain": [
       "0        ECK120033725\n",
       "1              osmFp2\n",
       "2             reverse\n",
       "3                 NaN\n",
       "4             Sigma32\n",
       "5                 NaN\n",
       "6                 NaN\n",
       "7                 NaN\n",
       "8                 NaN\n",
       "9                 NaN\n",
       "10              ECK12\n",
       "11                NaN\n",
       "12                NaN\n",
       "range              ()\n",
       "Name: 1460, dtype: object"
      ]
     },
     "metadata": {},
     "output_type": "display_data"
    },
    {
     "data": {
      "text/plain": [
       "0        ECK120033726\n",
       "1               hspQp\n",
       "2             reverse\n",
       "3                 NaN\n",
       "4             Sigma32\n",
       "5                 NaN\n",
       "6                 NaN\n",
       "7                 NaN\n",
       "8                 NaN\n",
       "9                 NaN\n",
       "10              ECK12\n",
       "11                NaN\n",
       "12                NaN\n",
       "range              ()\n",
       "Name: 1461, dtype: object"
      ]
     },
     "metadata": {},
     "output_type": "display_data"
    },
    {
     "data": {
      "text/plain": [
       "0        ECK120033731\n",
       "1               hfqp1\n",
       "2             forward\n",
       "3                 NaN\n",
       "4             Sigma32\n",
       "5                 NaN\n",
       "6                 NaN\n",
       "7                 NaN\n",
       "8                 NaN\n",
       "9                 NaN\n",
       "10              ECK12\n",
       "11                NaN\n",
       "12                NaN\n",
       "range              ()\n",
       "Name: 1466, dtype: object"
      ]
     },
     "metadata": {},
     "output_type": "display_data"
    },
    {
     "data": {
      "text/plain": [
       "0                                             ECK120051392\n",
       "1                                                    tsaEp\n",
       "2                                                  forward\n",
       "3                                                      NaN\n",
       "4                                                      NaN\n",
       "5                                                      NaN\n",
       "6                                                      NaN\n",
       "7                                                      NaN\n",
       "8                                                      NaN\n",
       "9                                                      NaN\n",
       "10                                                   ECK12\n",
       "11       Promoter activity for the <i>yjeE</i> gene was...\n",
       "12                                                     NaN\n",
       "range                                                   ()\n",
       "Name: 1768, dtype: object"
      ]
     },
     "metadata": {},
     "output_type": "display_data"
    },
    {
     "data": {
      "text/plain": [
       "array([81])"
      ]
     },
     "execution_count": 39,
     "metadata": {},
     "output_type": "execute_result"
    }
   ],
   "source": [
    "promoter_df = pd.read_pickle(\"./data/promoter_df.pkl\")\n",
    "promoter_df[\"range\"] = promoter_df.apply(get_promoter_range_from_RegulonDB_df_row, axis=1)\n",
    "promoter_df[\"length\"] = promoter_df.apply(_get_feat_len, axis=1)\n",
    "# should remove all promoters without a length since they will be inappropriate for feature length analysis\n",
    "promoter_df = promoter_df[promoter_df[\"length\"] != 0]\n",
    "promoter_df[\"length\"].unique()\n",
    "# promoter_df.head()"
   ]
  },
  {
   "cell_type": "code",
   "execution_count": 38,
   "metadata": {},
   "outputs": [
    {
     "data": {
      "text/plain": [
       "array([24, 11, 25,  1, 20, 27, 35, 17, 16, 15, 23, 19, 21, 18,  7, 14, 41,\n",
       "       30, 22, 40, 12,  9, 42, 43,  0, 29, 10, 49, 56, 59, 36, 33, 34, 13,\n",
       "       28, 37, 61, 31, 92, 26,  5,  6,  8, 39, 32])"
      ]
     },
     "execution_count": 38,
     "metadata": {},
     "output_type": "execute_result"
    }
   ],
   "source": [
    "tfbs_df = pd.read_pickle(\"./data/TFBS_df.pkl\")\n",
    "\n",
    "\n",
    "def get_TFBS_range(tfbs_df_row):\n",
    "    r = ()\n",
    "    if not pd.isna(tfbs_df_row[3]) and not pd.isna(tfbs_df_row[4]):\n",
    "        r = (int(tfbs_df_row[3]), int(tfbs_df_row[4])) \n",
    "    return r\n",
    "\n",
    "\n",
    "tfbs_df[\"range\"] = tfbs_df.apply(get_TFBS_range, axis=1)\n",
    "tfbs_df[\"length\"] = tfbs_df.apply(_get_feat_len, axis=1)\n",
    "tfbs_df[\"length\"].unique()\n",
    "# display(tfbs_df.shape, tfbs_df.head())"
   ]
  },
  {
   "cell_type": "code",
   "execution_count": 50,
   "metadata": {},
   "outputs": [
    {
     "data": {
      "text/html": [
       "<div>\n",
       "<style scoped>\n",
       "    .dataframe tbody tr th:only-of-type {\n",
       "        vertical-align: middle;\n",
       "    }\n",
       "\n",
       "    .dataframe tbody tr th {\n",
       "        vertical-align: top;\n",
       "    }\n",
       "\n",
       "    .dataframe thead th {\n",
       "        text-align: right;\n",
       "    }\n",
       "</style>\n",
       "<table border=\"1\" class=\"dataframe\">\n",
       "  <thead>\n",
       "    <tr style=\"text-align: right;\">\n",
       "      <th></th>\n",
       "      <th>length</th>\n",
       "      <th>feature type</th>\n",
       "    </tr>\n",
       "  </thead>\n",
       "  <tbody>\n",
       "    <tr>\n",
       "      <th>0</th>\n",
       "      <td>24</td>\n",
       "      <td>TFBS</td>\n",
       "    </tr>\n",
       "    <tr>\n",
       "      <th>1</th>\n",
       "      <td>24</td>\n",
       "      <td>TFBS</td>\n",
       "    </tr>\n",
       "    <tr>\n",
       "      <th>2</th>\n",
       "      <td>11</td>\n",
       "      <td>TFBS</td>\n",
       "    </tr>\n",
       "    <tr>\n",
       "      <th>3</th>\n",
       "      <td>11</td>\n",
       "      <td>TFBS</td>\n",
       "    </tr>\n",
       "    <tr>\n",
       "      <th>4</th>\n",
       "      <td>24</td>\n",
       "      <td>TFBS</td>\n",
       "    </tr>\n",
       "    <tr>\n",
       "      <th>...</th>\n",
       "      <td>...</td>\n",
       "      <td>...</td>\n",
       "    </tr>\n",
       "    <tr>\n",
       "      <th>174</th>\n",
       "      <td>6</td>\n",
       "      <td>RBS</td>\n",
       "    </tr>\n",
       "    <tr>\n",
       "      <th>175</th>\n",
       "      <td>6</td>\n",
       "      <td>RBS</td>\n",
       "    </tr>\n",
       "    <tr>\n",
       "      <th>176</th>\n",
       "      <td>6</td>\n",
       "      <td>RBS</td>\n",
       "    </tr>\n",
       "    <tr>\n",
       "      <th>177</th>\n",
       "      <td>6</td>\n",
       "      <td>RBS</td>\n",
       "    </tr>\n",
       "    <tr>\n",
       "      <th>178</th>\n",
       "      <td>6</td>\n",
       "      <td>RBS</td>\n",
       "    </tr>\n",
       "  </tbody>\n",
       "</table>\n",
       "<p>13322 rows × 2 columns</p>\n",
       "</div>"
      ],
      "text/plain": [
       "     length feature type\n",
       "0        24         TFBS\n",
       "1        24         TFBS\n",
       "2        11         TFBS\n",
       "3        11         TFBS\n",
       "4        24         TFBS\n",
       "..      ...          ...\n",
       "174       6          RBS\n",
       "175       6          RBS\n",
       "176       6          RBS\n",
       "177       6          RBS\n",
       "178       6          RBS\n",
       "\n",
       "[13322 rows x 2 columns]"
      ]
     },
     "execution_count": 50,
     "metadata": {},
     "output_type": "execute_result"
    }
   ],
   "source": [
    "all_feats_len_df = tfbs_df[[\"length\"]].copy()\n",
    "all_feats_len_df[\"feature type\"] = \"TFBS\"\n",
    "\n",
    "df = promoter_df[[\"length\"]].copy()\n",
    "df[\"feature type\"] = \"promoter\"\n",
    "all_feats_len_df = all_feats_len_df.append(df)\n",
    "\n",
    "df = terminator_df[[\"length\"]].copy()\n",
    "df[\"feature type\"] = \"terminator\"\n",
    "all_feats_len_df = all_feats_len_df.append(df)\n",
    "\n",
    "df = att_term_df[[\"length\"]].copy()\n",
    "df[\"feature type\"] = \"attenuator terminator\"\n",
    "all_feats_len_df = all_feats_len_df.append(df)\n",
    "\n",
    "df = RBS_df[[\"length\"]].copy()\n",
    "df[\"feature type\"] = \"RBS\"\n",
    "all_feats_len_df = all_feats_len_df.append(df)\n",
    "\n",
    "all_feats_len_df"
   ]
  },
  {
   "cell_type": "code",
   "execution_count": 69,
   "metadata": {},
   "outputs": [
    {
     "data": {
      "image/png": "[encoded data removed]",
      "text/plain": [
       "<Figure size 500x300 with 1 Axes>"
      ]
     },
     "metadata": {},
     "output_type": "display_data"
    }
   ],
   "source": [
    "import seaborn as sns\n",
    "import matplotlib\n",
    "import matplotlib.pyplot as plt\n",
    "from matplotlib.ticker import MaxNLocator\n",
    "from adjustText import adjust_text\n",
    "%matplotlib inline\n",
    "plt.rcParams[\"figure.dpi\"] = 200\n",
    "sns.set_palette(\"muted\")\n",
    "sns.set_context(\"paper\")\n",
    "# sns.set_style(\"ticks\")\n",
    "sns.set_style(\"whitegrid\")\n",
    "plt.rcParams['font.sans-serif'] = [\"FreeSans\"]\n",
    "\n",
    "\n",
    "import matplotlib.patheffects as path_effects\n",
    "\n",
    "def add_median_labels(ax):\n",
    "    lines = ax.get_lines()\n",
    "    # determine number of lines per box (this varies with/without fliers)\n",
    "    boxes = [c for c in ax.get_children() if type(c).__name__ == 'PathPatch']\n",
    "    lines_per_box = int(len(lines) / len(boxes))\n",
    "    # iterate over median lines\n",
    "    for median in lines[4:len(lines):lines_per_box]:\n",
    "        # display median value at center of median line\n",
    "        x, y = (data.mean() for data in median.get_data())\n",
    "        # choose value depending on horizontal or vertical plot orientation\n",
    "        value = x if (median.get_xdata()[1]-median.get_xdata()[0]) == 0 else y\n",
    "#         text = ax.text(x, y, f'{value:.1f}', ha='center', va='center',  # for decimal medians\n",
    "        text = ax.text(x, y, str(int(value)),\n",
    "                       ha='center', va='center',\n",
    "#                        fontweight='bold',\n",
    "                       color='white'\n",
    "                      )\n",
    "        # create median-colored border around white text for contrast\n",
    "        text.set_path_effects([\n",
    "            path_effects.Stroke(linewidth=2, foreground=median.get_color()),\n",
    "            path_effects.Normal(),\n",
    "        ])\n",
    "\n",
    "boxplot_kwargs = {\n",
    "    'boxprops': {'color': 'w', 'edgecolor': 'k', 'linewidth': 0.75},\n",
    "    'whiskerprops': {'color': 'k', 'linewidth': 0.75},\n",
    "    'medianprops': {'color': 'k', 'linewidth': 0.75},\n",
    "    'medianprops': {'color': 'orange', 'linewidth': 1},\n",
    "    'capprops': {'color': 'k', 'linewidth': 0.75},\n",
    "    'flierprops': {'marker': '.', 'markerfacecolor': \"black\", 'markeredgecolor': \"None\"}\n",
    "}\n",
    "\n",
    "plt.figure(figsize=(2.5, 1.5))\n",
    "ax = sns.boxplot(\n",
    "    data=all_feats_len_df,\n",
    "    x=\"length\",\n",
    "    y=\"feature type\",\n",
    "#     order=[\"operon\", \"gene\", \"promoter\", \"TFBS\", \"regulon\", \"pathway\", \"intergenic\", \"attenuator terminator\", \"terminator\", \"RBS\"],\n",
    "    **boxplot_kwargs\n",
    ")\n",
    "\n",
    "ax.set_xlabel(\"non-coding regulatory feature size\")\n",
    "ax.set_title(\"$\\it{E. coli}$ K-12 MG1655\\nnon-coding regulatory features\")\n",
    "ax.tick_params(axis='both', which='both', length=0)\n",
    "add_median_labels(ax)\n",
    "ax.set_xlim(-1,)\n",
    "plt.savefig(\"fy.svg\")"
   ]
  },
  {
   "cell_type": "code",
   "execution_count": 66,
   "metadata": {},
   "outputs": [
    {
     "data": {
      "image/png": "[encoded data removed]",
      "text/plain": [
       "<Figure size 500x100 with 1 Axes>"
      ]
     },
     "metadata": {},
     "output_type": "display_data"
    }
   ],
   "source": [
    "import seaborn as sns\n",
    "import matplotlib\n",
    "import matplotlib.pyplot as plt\n",
    "from matplotlib.ticker import MaxNLocator\n",
    "from adjustText import adjust_text\n",
    "%matplotlib inline\n",
    "plt.rcParams[\"figure.dpi\"] = 200\n",
    "sns.set_palette(\"muted\")\n",
    "sns.set_context(\"paper\")\n",
    "# sns.set_style(\"ticks\")\n",
    "sns.set_style(\"whitegrid\")\n",
    "plt.rcParams['font.sans-serif'] = [\"FreeSans\"]\n",
    "\n",
    "\n",
    "import matplotlib.patheffects as path_effects\n",
    "\n",
    "def add_median_labels(ax):\n",
    "    lines = ax.get_lines()\n",
    "    # determine number of lines per box (this varies with/without fliers)\n",
    "    boxes = [c for c in ax.get_children() if type(c).__name__ == 'PathPatch']\n",
    "    lines_per_box = int(len(lines) / len(boxes))\n",
    "    # iterate over median lines\n",
    "    for median in lines[4:len(lines):lines_per_box]:\n",
    "        # display median value at center of median line\n",
    "        x, y = (data.mean() for data in median.get_data())\n",
    "        # choose value depending on horizontal or vertical plot orientation\n",
    "        value = x if (median.get_xdata()[1]-median.get_xdata()[0]) == 0 else y\n",
    "#         text = ax.text(x, y, f'{value:.1f}', ha='center', va='center',  # for decimal medians\n",
    "        text = ax.text(x, y, str(int(value)),\n",
    "                       ha='center', va='center',\n",
    "#                        fontweight='bold',\n",
    "                       color='white'\n",
    "                      )\n",
    "        # create median-colored border around white text for contrast\n",
    "        text.set_path_effects([\n",
    "            path_effects.Stroke(linewidth=2, foreground=median.get_color()),\n",
    "            path_effects.Normal(),\n",
    "        ])\n",
    "\n",
    "boxplot_kwargs = {\n",
    "    'boxprops': {'color': 'w', 'edgecolor': 'k', 'linewidth': 0.75},\n",
    "    'whiskerprops': {'color': 'k', 'linewidth': 0.75},\n",
    "    'medianprops': {'color': 'k', 'linewidth': 0.75},\n",
    "    'medianprops': {'color': 'orange', 'linewidth': 1},\n",
    "    'capprops': {'color': 'k', 'linewidth': 0.75},\n",
    "    'flierprops': {'marker': '.', 'markerfacecolor': \"black\", 'markeredgecolor': \"None\"}\n",
    "}\n",
    "\n",
    "plt.figure(figsize=(2.5, 0.5))\n",
    "ax = sns.boxplot(\n",
    "    data=all_feats_len_df,\n",
    "    x=\"length\",\n",
    "#     y=\"feature type\",\n",
    "#     order=[\"operon\", \"gene\", \"promoter\", \"TFBS\", \"regulon\", \"pathway\", \"intergenic\", \"attenuator terminator\", \"terminator\", \"RBS\"],\n",
    "    **boxplot_kwargs\n",
    ")\n",
    "\n",
    "ax.set_xlabel(\"non-coding regulatory feature size\")\n",
    "ax.set_title(\"All $\\it{E. coli}$ K-12 MG1655\\nnon-coding regulatory features\")\n",
    "ax.tick_params(axis='both', which='both', length=0)\n",
    "add_median_labels(ax)\n",
    "ax.set_xlim(-1,)\n",
    "plt.savefig(\"fy.svg\")"
   ]
  }
 ],
 "metadata": {
  "kernelspec": {
   "display_name": "Python 3",
   "language": "python",
   "name": "python3"
  },
  "language_info": {
   "codemirror_mode": {
    "name": "ipython",
    "version": 3
   },
   "file_extension": ".py",
   "mimetype": "text/x-python",
   "name": "python",
   "nbconvert_exporter": "python",
   "pygments_lexer": "ipython3",
   "version": "3.7.7"
  }
 },
 "nbformat": 4,
 "nbformat_minor": 4
}
