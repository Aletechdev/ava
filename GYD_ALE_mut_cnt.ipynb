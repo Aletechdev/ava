{
 "cells": [
  {
   "cell_type": "code",
   "execution_count": 25,
   "metadata": {},
   "outputs": [],
   "source": [
    "import pandas as pd\n",
    "pd.options.display.max_columns = 100"
   ]
  },
  {
   "cell_type": "code",
   "execution_count": 26,
   "metadata": {},
   "outputs": [
    {
     "data": {
      "text/plain": [
       "(148, 44)"
      ]
     },
     "execution_count": 26,
     "metadata": {},
     "output_type": "execute_result"
    }
   ],
   "source": [
    "muts_df = pd.read_pickle(\"./data/GYD_df.pkl\")\n",
    "muts_df.shape"
   ]
  },
  {
   "cell_type": "code",
   "execution_count": 27,
   "metadata": {},
   "outputs": [
    {
     "data": {
      "text/plain": [
       "22"
      ]
     },
     "execution_count": 27,
     "metadata": {},
     "output_type": "execute_result"
    }
   ],
   "source": [
    "# muts_df[\"exp afir\"] = muts_df.apply(lambda r: r.exp + \" \" + str(r.ale) + \" \" + str(r.flask) + \" \" + str(r.isolate) + \" \" + str(r.tech_rep), axis=1)\n",
    "# muts_df.head()\n",
    "\n",
    "len(muts_df[muts_df.ale==3])"
   ]
  },
  {
   "cell_type": "code",
   "execution_count": 28,
   "metadata": {},
   "outputs": [
    {
     "name": "stdout",
     "output_type": "stream",
     "text": [
      "ALE 1 mutation count 5\n",
      "ALE 2 mutation count 6\n",
      "ALE 3 mutation count 22\n",
      "ALE 4 mutation count 5\n",
      "ALE 5 mutation count 5\n",
      "ALE 6 mutation count 2\n",
      "ALE 7 mutation count 4\n",
      "ALE 8 mutation count 2\n",
      "ALE 9 mutation count 3\n",
      "ALE 10 mutation count 4\n",
      "ALE 11 mutation count 4\n",
      "ALE 12 mutation count 5\n",
      "ALE 13 mutation count 11\n",
      "ALE 14 mutation count 6\n",
      "ALE 15 mutation count 4\n",
      "ALE 16 mutation count 4\n",
      "ALE 17 mutation count 3\n",
      "ALE 18 mutation count 4\n",
      "ALE 19 mutation count 2\n",
      "ALE 20 mutation count 4\n",
      "ALE 21 mutation count 7\n",
      "ALE 22 mutation count 5\n",
      "ALE 23 mutation count 2\n",
      "ALE 24 mutation count 4\n",
      "ALE 25 mutation count 13\n",
      "ALE 26 mutation count 2\n",
      "ALE 27 mutation count 2\n",
      "ALE 28 mutation count 2\n",
      "ALE 29 mutation count 3\n",
      "ALE 30 mutation count 3\n"
     ]
    }
   ],
   "source": [
    "for i in range(1, 31):\n",
    "    if i in set(muts_df.ale.to_list()):\n",
    "        print(\"ALE \" + str(i), \"mutation count \" + str(len(muts_df[muts_df.ale==i])))"
   ]
  }
 ],
 "metadata": {
  "kernelspec": {
   "display_name": "Python 3",
   "language": "python",
   "name": "python3"
  },
  "language_info": {
   "codemirror_mode": {
    "name": "ipython",
    "version": 3
   },
   "file_extension": ".py",
   "mimetype": "text/x-python",
   "name": "python",
   "nbconvert_exporter": "python",
   "pygments_lexer": "ipython3",
   "version": "3.7.4"
  }
 },
 "nbformat": 4,
 "nbformat_minor": 2
}
