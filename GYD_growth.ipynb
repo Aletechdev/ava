{
 "cells": [
  {
   "cell_type": "code",
   "execution_count": 1,
   "metadata": {},
   "outputs": [],
   "source": [
    "import pandas as pd\n",
    "pd.options.display.max_columns = 100"
   ]
  },
  {
   "cell_type": "code",
   "execution_count": 2,
   "metadata": {},
   "outputs": [
    {
     "data": {
      "text/plain": [
       "24"
      ]
     },
     "metadata": {},
     "output_type": "display_data"
    },
    {
     "data": {
      "text/plain": [
       "['0.2% Glycerol 1500uL (10%) - 1',\n",
       " '0.2% Glycerol 1500uL (10%) - 2',\n",
       " '0.2% Glycerol 1500uL (10%) - 3',\n",
       " '0.2% Glycerol 1500uL (10%) - 4',\n",
       " '0.2% Glycerol 1500uL (10%) - 5',\n",
       " '0.2% Glycerol 1500uL (10%) - 6',\n",
       " '0.2% Glycerol 150uL (1%) - 1',\n",
       " '0.2% Glycerol 150uL (1%) - 2',\n",
       " '0.2% Glycerol 150uL (1%) - 3',\n",
       " '0.2% Glycerol 150uL (1%) - 4',\n",
       " '0.2% Glycerol 150uL (1%) - 5',\n",
       " '0.2% Glycerol 150uL (1%) - 6',\n",
       " '0.2% Glycerol 15uL (0.1%) - 1',\n",
       " '0.2% Glycerol 15uL (0.1%) - 2',\n",
       " '0.2% Glycerol 15uL (0.1%) - 3',\n",
       " '0.2% Glycerol 15uL (0.1%) - 4',\n",
       " '0.2% Glycerol 15uL (0.1%) - 5',\n",
       " '0.2% Glycerol 15uL (0.1%) - 6',\n",
       " '0.2% Glycerol 1.5uL (0.01%) - 1',\n",
       " '0.2% Glycerol 1.5uL (0.01%) - 2',\n",
       " '0.2% Glycerol 1.5uL (0.01%) - 3',\n",
       " '0.2% Glycerol 1.5uL (0.01%) - 4',\n",
       " '0.2% Glycerol 1.5uL (0.01%) - 5',\n",
       " '0.2% Glycerol 1.5uL (0.01%) - 6']"
      ]
     },
     "metadata": {},
     "output_type": "display_data"
    }
   ],
   "source": [
    "xls = pd.ExcelFile(\"./data/GYD_growth_rate_supp.xlsx\")\n",
    "display(len(xls.sheet_names), xls.sheet_names)"
   ]
  },
  {
   "cell_type": "markdown",
   "metadata": {},
   "source": [
    "According to the above list of file names, don't have ALE 34 and 35, therefore can just ignore them for this study.  \n",
    "Also, there are only 24 ALEs given in this sheet. Missing the growth values for all ALEs of bottleneck 0.001% (ALEs 25-30)"
   ]
  },
  {
   "cell_type": "code",
   "execution_count": 3,
   "metadata": {},
   "outputs": [
    {
     "data": {
      "text/plain": [
       "Cumulative Cells Divisions    6.570885e+12\n",
       "Growth Rate (1/hr)            5.365895e-01\n",
       "Name: 192, dtype: float64"
      ]
     },
     "execution_count": 3,
     "metadata": {},
     "output_type": "execute_result"
    }
   ],
   "source": [
    "pd.read_excel(xls, sheet_name=\"0.2% Glycerol 1500uL (10%) - 5\").iloc[-1]"
   ]
  },
  {
   "cell_type": "code",
   "execution_count": 4,
   "metadata": {},
   "outputs": [],
   "source": [
    "import numpy as np"
   ]
  },
  {
   "cell_type": "code",
   "execution_count": 5,
   "metadata": {},
   "outputs": [
    {
     "data": {
      "text/plain": [
       "{1: 0.674169068960559,\n",
       " 2: 0.644183610082965,\n",
       " 3: 0.680300446642856,\n",
       " 4: 0.643386367872683,\n",
       " 5: 0.670348694975349,\n",
       " 6: 0.648173296099042,\n",
       " 7: 0.635271357548991,\n",
       " 8: 0.632921156879595,\n",
       " 9: 0.625324268768797,\n",
       " 10: 0.627430976082202,\n",
       " 11: 0.630901670852765,\n",
       " 12: 0.685405343776978,\n",
       " 13: 0.618901246041582,\n",
       " 14: 0.619803383370745,\n",
       " 15: 0.621341613341093,\n",
       " 16: 0.640683526942214,\n",
       " 17: 0.621342268189824,\n",
       " 18: 0.618885001318581,\n",
       " 19: 0.507389593117402,\n",
       " 20: 0.481307756342433,\n",
       " 21: 0.603917533696523,\n",
       " 22: 0.612000733375816,\n",
       " 23: 0.596159748944704,\n",
       " 24: 0.615043939321888}"
      ]
     },
     "execution_count": 5,
     "metadata": {},
     "output_type": "execute_result"
    }
   ],
   "source": [
    "growth_ALE_d = dict()\n",
    "ALE_num_cnt = 0\n",
    "for s_n in xls.sheet_names:\n",
    "    ALE_num_cnt += 1\n",
    "    growth_ALE_d[ALE_num_cnt] = np.max(pd.read_excel(xls, sheet_name=s_n)[\"Growth Rate (1/hr)\"])\n",
    "growth_ALE_d"
   ]
  },
  {
   "cell_type": "markdown",
   "metadata": {},
   "source": [
    "ALE 19 and 20 (passage vol 0.01%) are state 2. Everything else is state 3."
   ]
  },
  {
   "cell_type": "code",
   "execution_count": 6,
   "metadata": {},
   "outputs": [],
   "source": [
    "import seaborn as sns\n",
    "import matplotlib\n",
    "import matplotlib.pyplot as plt\n",
    "%matplotlib inline\n",
    "plt.rcParams[\"figure.dpi\"] = 100\n",
    "sns.set_context(\"paper\")\n",
    "sns.set_style(\"ticks\")"
   ]
  },
  {
   "cell_type": "code",
   "execution_count": 7,
   "metadata": {},
   "outputs": [
    {
     "data": {
      "text/plain": [
       "[0.685405343776978,\n",
       " 0.680300446642856,\n",
       " 0.674169068960559,\n",
       " 0.670348694975349,\n",
       " 0.648173296099042,\n",
       " 0.644183610082965,\n",
       " 0.643386367872683,\n",
       " 0.640683526942214,\n",
       " 0.635271357548991,\n",
       " 0.632921156879595,\n",
       " 0.630901670852765,\n",
       " 0.627430976082202,\n",
       " 0.625324268768797,\n",
       " 0.621342268189824,\n",
       " 0.621341613341093,\n",
       " 0.619803383370745,\n",
       " 0.618901246041582,\n",
       " 0.618885001318581,\n",
       " 0.615043939321888,\n",
       " 0.612000733375816,\n",
       " 0.603917533696523,\n",
       " 0.596159748944704,\n",
       " 0.507389593117402,\n",
       " 0.481307756342433]"
      ]
     },
     "execution_count": 7,
     "metadata": {},
     "output_type": "execute_result"
    }
   ],
   "source": [
    "sorted(growth_ALE_d.values(), reverse=True)"
   ]
  },
  {
   "cell_type": "code",
   "execution_count": 8,
   "metadata": {},
   "outputs": [
    {
     "data": {
      "text/plain": [
       "(array([1., 0., 0., 0., 0., 0., 0., 0., 0., 0., 0., 0., 1., 0., 0., 0., 0.,\n",
       "        0., 0., 0., 0., 0., 0., 0., 0., 0., 0., 0., 0., 0., 0., 0., 0., 0.,\n",
       "        0., 0., 0., 0., 0., 0., 0., 0., 0., 0., 0., 0., 0., 0., 0., 0., 0.,\n",
       "        0., 0., 0., 0., 0., 1., 0., 0., 0., 1., 0., 0., 0., 1., 1., 0., 3.,\n",
       "        2., 0., 1., 1., 0., 1., 1., 1., 0., 0., 1., 2., 0., 1., 0., 0., 0.,\n",
       "        0., 0., 0., 0., 0., 0., 0., 1., 0., 1., 0., 0., 1., 0., 1.]),\n",
       " array([0.48130776, 0.48334873, 0.48538971, 0.48743068, 0.48947166,\n",
       "        0.49151264, 0.49355361, 0.49559459, 0.49763556, 0.49967654,\n",
       "        0.50171752, 0.50375849, 0.50579947, 0.50784044, 0.50988142,\n",
       "        0.51192239, 0.51396337, 0.51600435, 0.51804532, 0.5200863 ,\n",
       "        0.52212727, 0.52416825, 0.52620923, 0.5282502 , 0.53029118,\n",
       "        0.53233215, 0.53437313, 0.5364141 , 0.53845508, 0.54049606,\n",
       "        0.54253703, 0.54457801, 0.54661898, 0.54865996, 0.55070094,\n",
       "        0.55274191, 0.55478289, 0.55682386, 0.55886484, 0.56090582,\n",
       "        0.56294679, 0.56498777, 0.56702874, 0.56906972, 0.57111069,\n",
       "        0.57315167, 0.57519265, 0.57723362, 0.5792746 , 0.58131557,\n",
       "        0.58335655, 0.58539753, 0.5874385 , 0.58947948, 0.59152045,\n",
       "        0.59356143, 0.59560241, 0.59764338, 0.59968436, 0.60172533,\n",
       "        0.60376631, 0.60580728, 0.60784826, 0.60988924, 0.61193021,\n",
       "        0.61397119, 0.61601216, 0.61805314, 0.62009412, 0.62213509,\n",
       "        0.62417607, 0.62621704, 0.62825802, 0.630299  , 0.63233997,\n",
       "        0.63438095, 0.63642192, 0.6384629 , 0.64050387, 0.64254485,\n",
       "        0.64458583, 0.6466268 , 0.64866778, 0.65070875, 0.65274973,\n",
       "        0.65479071, 0.65683168, 0.65887266, 0.66091363, 0.66295461,\n",
       "        0.66499559, 0.66703656, 0.66907754, 0.67111851, 0.67315949,\n",
       "        0.67520046, 0.67724144, 0.67928242, 0.68132339, 0.68336437,\n",
       "        0.68540534]),\n",
       " <a list of 100 Patch objects>)"
      ]
     },
     "execution_count": 8,
     "metadata": {},
     "output_type": "execute_result"
    },
    {
     "data": {
      "image/png": "[encoded data removed]",
      "text/plain": [
       "<Figure size 432x288 with 1 Axes>"
      ]
     },
     "metadata": {
      "needs_background": "light"
     },
     "output_type": "display_data"
    }
   ],
   "source": [
    "plt.hist(growth_ALE_d.values(), bins=100)"
   ]
  },
  {
   "cell_type": "code",
   "execution_count": 9,
   "metadata": {},
   "outputs": [
    {
     "data": {
      "text/plain": [
       "(163, 45)"
      ]
     },
     "execution_count": 9,
     "metadata": {},
     "output_type": "execute_result"
    }
   ],
   "source": [
    "GYD_muts_df = pd.read_pickle(\"./data/GYD_df.pkl\")\n",
    "GYD_muts_df.shape"
   ]
  },
  {
   "cell_type": "code",
   "execution_count": 10,
   "metadata": {},
   "outputs": [
    {
     "data": {
      "text/plain": [
       "array([ 1,  2,  3,  4,  5,  6,  7,  8,  9, 10, 11, 12, 13, 14, 15, 16, 17,\n",
       "       18, 19, 20, 21, 22, 23, 24, 25, 26, 27, 28, 29, 30, 34, 35])"
      ]
     },
     "execution_count": 10,
     "metadata": {},
     "output_type": "execute_result"
    }
   ],
   "source": [
    "GYD_muts_df.ale.unique()"
   ]
  },
  {
   "cell_type": "code",
   "execution_count": 11,
   "metadata": {},
   "outputs": [],
   "source": [
    "geno_feat_d = {ale_num: set() for ale_num in GYD_muts_df.ale.unique()}\n",
    "for i, m in GYD_muts_df.iterrows():\n",
    "    for d in m[\"genomic features\"]:\n",
    "        geno_feat_d[m.ale].add(d[\"name\"])\n",
    "# geno_feat_d"
   ]
  },
  {
   "cell_type": "markdown",
   "metadata": {},
   "source": [
    "From the growth data provides in the xlsx spreadsheet, ALE 19 and 20 of (passage size 0.01%) stayed in state 2.  \n",
    "Ryan's paper describes 3 of these ALEs making to state 3 and the other 3 only making it to state 2.\n",
    "According the Ryan's analysis files from DropBox on GYD for the 0.001% ALEs:  \n",
    "ALE 1 (25): ~0.57  (3 jumps), state 3  \n",
    "ALE 2 (26): ~0.45 (2 jumps), state 2  \n",
    "ALE 3 (27): ~0.59 (~3 jumps), state 3  \n",
    "ALE 4 (28): ~0.45 (2 jumps), state 2  \n",
    "ALE 5 (29): ~0.55 (weird jump graph), state 3  \n",
    "ALE 6 (30): ~0.43 (2 jumps), state 2  "
   ]
  },
  {
   "cell_type": "code",
   "execution_count": 12,
   "metadata": {},
   "outputs": [
    {
     "data": {
      "text/plain": [
       "{'crr', 'yaiT'}"
      ]
     },
     "metadata": {},
     "output_type": "display_data"
    },
    {
     "data": {
      "text/plain": [
       "{'crr', 'fbaA', 'matP/ompA'}"
      ]
     },
     "metadata": {},
     "output_type": "display_data"
    },
    {
     "data": {
      "text/plain": [
       "{'cyaA', 'gntK'}"
      ]
     },
     "metadata": {},
     "output_type": "display_data"
    },
    {
     "data": {
      "text/plain": [
       "{'cyaA', 'rrlB'}"
      ]
     },
     "metadata": {},
     "output_type": "display_data"
    },
    {
     "data": {
      "text/plain": [
       "{'gspE',\n",
       " 'insH-4 attenuator terminator',\n",
       " 'insHp7',\n",
       " 'insHp7 TSS',\n",
       " 'kgtP',\n",
       " 'mppA',\n",
       " 'mppAp13',\n",
       " 'mppAp13 TSS',\n",
       " 'mppAp4',\n",
       " 'mppAp4 TSS',\n",
       " 'mppAp5',\n",
       " 'mppAp5 TSS',\n",
       " 'mppAp9',\n",
       " 'mppAp9 TSS',\n",
       " 'pgrR',\n",
       " 'ynaI',\n",
       " 'ynaI attenuator terminator',\n",
       " 'ynaIp',\n",
       " 'ynaIp TSS'}"
      ]
     },
     "metadata": {},
     "output_type": "display_data"
    }
   ],
   "source": [
    "state_2_ALE_l = [19, 20, 26, 28, 30]\n",
    "for x in state_2_ALE_l:\n",
    "    display(\n",
    "        geno_feat_d[x]\n",
    "    )"
   ]
  },
  {
   "cell_type": "code",
   "execution_count": 13,
   "metadata": {},
   "outputs": [
    {
     "name": "stdout",
     "output_type": "stream",
     "text": [
      "{'yafD', 'glpK', 'cyaA', 'metL', 'rpoB'}\n",
      "{'glpK'}\n",
      "{'glpK'}\n",
      "{'glpK'}\n",
      "{'glpK'}\n",
      "{'glpK'}\n",
      "{'glpK'}\n",
      "{'glpK'}\n",
      "{'glpK'}\n",
      "{'glpK'}\n",
      "{'glpK'}\n",
      "{'glpK'}\n",
      "{'glpK'}\n",
      "{'glpK'}\n",
      "{'glpK'}\n",
      "{'glpK'}\n",
      "{'glpK'}\n",
      "{'glpK'}\n",
      "{'glpK'}\n",
      "{'glpK'}\n",
      "{'glpK'}\n",
      "{'glpK'}\n",
      "{'glpK'}\n",
      "{'glpK'}\n",
      "{'glpK'}\n"
     ]
    },
    {
     "data": {
      "text/plain": [
       "{'glpK'}"
      ]
     },
     "execution_count": 13,
     "metadata": {},
     "output_type": "execute_result"
    }
   ],
   "source": [
    "ignore_ALE_l = [34, 35]\n",
    "shared_s = geno_feat_d[1]\n",
    "for k, v in geno_feat_d.items():\n",
    "    if (k not in state_2_ALE_l) and (k not in ignore_ALE_l):\n",
    "        shared_s = shared_s & v\n",
    "        print(shared_s)\n",
    "shared_s"
   ]
  },
  {
   "cell_type": "code",
   "execution_count": null,
   "metadata": {},
   "outputs": [],
   "source": []
  }
 ],
 "metadata": {
  "kernelspec": {
   "display_name": "Python 3",
   "language": "python",
   "name": "python3"
  },
  "language_info": {
   "codemirror_mode": {
    "name": "ipython",
    "version": 3
   },
   "file_extension": ".py",
   "mimetype": "text/x-python",
   "name": "python",
   "nbconvert_exporter": "python",
   "pygments_lexer": "ipython3",
   "version": "3.7.4"
  }
 },
 "nbformat": 4,
 "nbformat_minor": 4
}
