{
 "cells": [
  {
   "cell_type": "code",
   "execution_count": 1,
   "metadata": {},
   "outputs": [],
   "source": [
    "import pandas as pd\n",
    "pd.options.display.max_columns = 100"
   ]
  },
  {
   "cell_type": "code",
   "execution_count": 2,
   "metadata": {},
   "outputs": [
    {
     "data": {
      "text/plain": [
       "(3166, 43)"
      ]
     },
     "execution_count": 2,
     "metadata": {},
     "output_type": "execute_result"
    }
   ],
   "source": [
    "all_muts_df = pd.read_pickle(\"./data/4_df.pkl\")\n",
    "all_muts_df.shape"
   ]
  },
  {
   "cell_type": "code",
   "execution_count": 3,
   "metadata": {},
   "outputs": [
    {
     "data": {
      "text/html": [
       "<div>\n",
       "<style scoped>\n",
       "    .dataframe tbody tr th:only-of-type {\n",
       "        vertical-align: middle;\n",
       "    }\n",
       "\n",
       "    .dataframe tbody tr th {\n",
       "        vertical-align: top;\n",
       "    }\n",
       "\n",
       "    .dataframe thead th {\n",
       "        text-align: right;\n",
       "    }\n",
       "</style>\n",
       "<table border=\"1\" class=\"dataframe\">\n",
       "  <thead>\n",
       "    <tr style=\"text-align: right;\">\n",
       "      <th></th>\n",
       "      <th>associated condition set</th>\n",
       "      <th>experiment</th>\n",
       "      <th>mutated feature</th>\n",
       "    </tr>\n",
       "  </thead>\n",
       "  <tbody>\n",
       "    <tr>\n",
       "      <th>0</th>\n",
       "      <td>{}</td>\n",
       "      <td>42C</td>\n",
       "      <td>clsA</td>\n",
       "    </tr>\n",
       "    <tr>\n",
       "      <th>1</th>\n",
       "      <td>{511145, M9, glucose(4)}</td>\n",
       "      <td>42C</td>\n",
       "      <td>rph-pyrE attenuator terminator</td>\n",
       "    </tr>\n",
       "    <tr>\n",
       "      <th>2</th>\n",
       "      <td>{511145, M9, glucose(4)}</td>\n",
       "      <td>42C</td>\n",
       "      <td>rph</td>\n",
       "    </tr>\n",
       "    <tr>\n",
       "      <th>3</th>\n",
       "      <td>{}</td>\n",
       "      <td>42C</td>\n",
       "      <td>rpoC</td>\n",
       "    </tr>\n",
       "    <tr>\n",
       "      <th>4</th>\n",
       "      <td>{}</td>\n",
       "      <td>42C</td>\n",
       "      <td>hfq</td>\n",
       "    </tr>\n",
       "  </tbody>\n",
       "</table>\n",
       "</div>"
      ],
      "text/plain": [
       "   associated condition set experiment                 mutated feature\n",
       "0                        {}        42C                            clsA\n",
       "1  {511145, M9, glucose(4)}        42C  rph-pyrE attenuator terminator\n",
       "2  {511145, M9, glucose(4)}        42C                             rph\n",
       "3                        {}        42C                            rpoC\n",
       "4                        {}        42C                             hfq"
      ]
     },
     "execution_count": 3,
     "metadata": {},
     "output_type": "execute_result"
    }
   ],
   "source": [
    "exp_mut_feat_df = pd.DataFrame()\n",
    "for _, mut in all_muts_df.iterrows():\n",
    "    for feat in mut[\"genomic features\"]:\n",
    "        exp_mut_feat_df = exp_mut_feat_df.append(\n",
    "            {\n",
    "                'mutated feature': feat['name'],\n",
    "                \"experiment\": mut[\"exp\"],\n",
    "                \"associated condition set\": feat[\"significantly associated conditions\"]\n",
    "            },\n",
    "            ignore_index=True)\n",
    "exp_mut_feat_df.head()"
   ]
  },
  {
   "cell_type": "code",
   "execution_count": 4,
   "metadata": {},
   "outputs": [
    {
     "data": {
      "text/plain": [
       "0.25600208768267224"
      ]
     },
     "metadata": {},
     "output_type": "display_data"
    }
   ],
   "source": [
    "display(\n",
    "    (len(exp_mut_feat_df) - len(exp_mut_feat_df[exp_mut_feat_df[\"associated condition set\"]==set()])) / len(exp_mut_feat_df),\n",
    ")"
   ]
  },
  {
   "cell_type": "code",
   "execution_count": 5,
   "metadata": {},
   "outputs": [
    {
     "data": {
      "text/html": [
       "<div>\n",
       "<style scoped>\n",
       "    .dataframe tbody tr th:only-of-type {\n",
       "        vertical-align: middle;\n",
       "    }\n",
       "\n",
       "    .dataframe tbody tr th {\n",
       "        vertical-align: top;\n",
       "    }\n",
       "\n",
       "    .dataframe thead th {\n",
       "        text-align: right;\n",
       "    }\n",
       "</style>\n",
       "<table border=\"1\" class=\"dataframe\">\n",
       "  <thead>\n",
       "    <tr style=\"text-align: right;\">\n",
       "      <th></th>\n",
       "      <th>experiment</th>\n",
       "      <th>proportion</th>\n",
       "    </tr>\n",
       "  </thead>\n",
       "  <tbody>\n",
       "    <tr>\n",
       "      <th>0</th>\n",
       "      <td>42C</td>\n",
       "      <td>0.353191</td>\n",
       "    </tr>\n",
       "    <tr>\n",
       "      <th>1</th>\n",
       "      <td>C13</td>\n",
       "      <td>0.615385</td>\n",
       "    </tr>\n",
       "    <tr>\n",
       "      <th>2</th>\n",
       "      <td>Central_carbon_knockout_PTS</td>\n",
       "      <td>0.707317</td>\n",
       "    </tr>\n",
       "    <tr>\n",
       "      <th>3</th>\n",
       "      <td>Central_carbon_knockout_glucose_evolution</td>\n",
       "      <td>0.866667</td>\n",
       "    </tr>\n",
       "    <tr>\n",
       "      <th>4</th>\n",
       "      <td>Central_carbon_knockout_gnd</td>\n",
       "      <td>0.724138</td>\n",
       "    </tr>\n",
       "    <tr>\n",
       "      <th>5</th>\n",
       "      <td>Central_carbon_knockout_pgi</td>\n",
       "      <td>0.468619</td>\n",
       "    </tr>\n",
       "    <tr>\n",
       "      <th>6</th>\n",
       "      <td>Central_carbon_knockout_sdh</td>\n",
       "      <td>0.884615</td>\n",
       "    </tr>\n",
       "    <tr>\n",
       "      <th>7</th>\n",
       "      <td>Central_carbon_knockout_tpiA</td>\n",
       "      <td>0.840000</td>\n",
       "    </tr>\n",
       "    <tr>\n",
       "      <th>8</th>\n",
       "      <td>EEP_menF_entC</td>\n",
       "      <td>0.658537</td>\n",
       "    </tr>\n",
       "    <tr>\n",
       "      <th>9</th>\n",
       "      <td>GLU</td>\n",
       "      <td>0.026667</td>\n",
       "    </tr>\n",
       "    <tr>\n",
       "      <th>10</th>\n",
       "      <td>GYD</td>\n",
       "      <td>0.554974</td>\n",
       "    </tr>\n",
       "    <tr>\n",
       "      <th>11</th>\n",
       "      <td>LTEE</td>\n",
       "      <td>0.301176</td>\n",
       "    </tr>\n",
       "    <tr>\n",
       "      <th>12</th>\n",
       "      <td>LTEE_Ara</td>\n",
       "      <td>0.136232</td>\n",
       "    </tr>\n",
       "    <tr>\n",
       "      <th>13</th>\n",
       "      <td>PGI</td>\n",
       "      <td>0.514706</td>\n",
       "    </tr>\n",
       "    <tr>\n",
       "      <th>14</th>\n",
       "      <td>SER</td>\n",
       "      <td>0.821429</td>\n",
       "    </tr>\n",
       "    <tr>\n",
       "      <th>15</th>\n",
       "      <td>SSW_AC</td>\n",
       "      <td>0.851852</td>\n",
       "    </tr>\n",
       "    <tr>\n",
       "      <th>16</th>\n",
       "      <td>SSW_GLU_AC</td>\n",
       "      <td>0.663366</td>\n",
       "    </tr>\n",
       "    <tr>\n",
       "      <th>17</th>\n",
       "      <td>SSW_GLU_GLY</td>\n",
       "      <td>0.645161</td>\n",
       "    </tr>\n",
       "    <tr>\n",
       "      <th>18</th>\n",
       "      <td>SSW_GLU_XYL</td>\n",
       "      <td>0.139706</td>\n",
       "    </tr>\n",
       "    <tr>\n",
       "      <th>19</th>\n",
       "      <td>SSW_GLY</td>\n",
       "      <td>0.250000</td>\n",
       "    </tr>\n",
       "    <tr>\n",
       "      <th>20</th>\n",
       "      <td>SSW_XYL</td>\n",
       "      <td>0.352941</td>\n",
       "    </tr>\n",
       "  </tbody>\n",
       "</table>\n",
       "</div>"
      ],
      "text/plain": [
       "                                   experiment  proportion\n",
       "0                                         42C    0.353191\n",
       "1                                         C13    0.615385\n",
       "2                 Central_carbon_knockout_PTS    0.707317\n",
       "3   Central_carbon_knockout_glucose_evolution    0.866667\n",
       "4                 Central_carbon_knockout_gnd    0.724138\n",
       "5                 Central_carbon_knockout_pgi    0.468619\n",
       "6                 Central_carbon_knockout_sdh    0.884615\n",
       "7                Central_carbon_knockout_tpiA    0.840000\n",
       "8                               EEP_menF_entC    0.658537\n",
       "9                                         GLU    0.026667\n",
       "10                                        GYD    0.554974\n",
       "11                                       LTEE    0.301176\n",
       "12                                   LTEE_Ara    0.136232\n",
       "13                                        PGI    0.514706\n",
       "14                                        SER    0.821429\n",
       "15                                     SSW_AC    0.851852\n",
       "16                                 SSW_GLU_AC    0.663366\n",
       "17                                SSW_GLU_GLY    0.645161\n",
       "18                                SSW_GLU_XYL    0.139706\n",
       "19                                    SSW_GLY    0.250000\n",
       "20                                    SSW_XYL    0.352941"
      ]
     },
     "execution_count": 5,
     "metadata": {},
     "output_type": "execute_result"
    }
   ],
   "source": [
    "all_exp_mut_feat_assoc_prop = pd.DataFrame()\n",
    "for exp, df in exp_mut_feat_df.groupby([\"experiment\"]):\n",
    "    prop = (len(df) - len(df[df[\"associated condition set\"]==set()])) / len(df)\n",
    "    all_exp_mut_feat_assoc_prop = all_exp_mut_feat_assoc_prop.append(\n",
    "        {\"experiment\": exp, \"proportion\": prop},\n",
    "        ignore_index=True\n",
    "    )\n",
    "all_exp_mut_feat_assoc_prop"
   ]
  },
  {
   "cell_type": "code",
   "execution_count": 14,
   "metadata": {},
   "outputs": [
    {
     "data": {
      "text/plain": [
       "(0, 1)"
      ]
     },
     "execution_count": 14,
     "metadata": {},
     "output_type": "execute_result"
    },
    {
     "data": {
      "image/png": "[encoded data removed]",
      "text/plain": [
       "<Figure size 900x375 with 1 Axes>"
      ]
     },
     "metadata": {},
     "output_type": "display_data"
    }
   ],
   "source": [
    "import seaborn as sns\n",
    "import matplotlib.pyplot as plt\n",
    "%matplotlib inline\n",
    "plt.rcParams[\"figure.dpi\"] = 300\n",
    "sns.set_context(\"paper\")\n",
    "sns.set_style(\"whitegrid\")\n",
    "sns.set_palette(\"deep\")\n",
    "\n",
    "\n",
    "boxplot_kwargs = {\n",
    "    'boxprops': {'edgecolor': 'k', 'linewidth': 0.75},\n",
    "    'whiskerprops': {'color': 'k', 'linewidth': 0.75},\n",
    "    'medianprops': {'color': 'k', 'linewidth': 0.75},\n",
    "    'capprops': {'color': 'k', 'linewidth': 0.75},\n",
    "    'flierprops': {'marker': '.', 'markerfacecolor': 'black', 'markeredgecolor': None}\n",
    "}\n",
    "\n",
    "plt.figure(figsize=(3,1.25))\n",
    "ax = sns.boxplot(data=all_exp_mut_feat_assoc_prop,\n",
    "                 x=\"proportion\",\n",
    "                 width=0.5,\n",
    "                 color=\"white\",\n",
    "                 **boxplot_kwargs)\n",
    "ax = sns.swarmplot(data=all_exp_mut_feat_assoc_prop,\n",
    "                 x=\"proportion\")\n",
    "\n",
    "# ax.set_title(\"The distribution of mutations\\nwith statistically associated conditions\\nper experiment\")\n",
    "ax.set_title(\"The proportion of endpoint mutated features per experiment\\nthat are statistically associated with conditions\")\n",
    "# ax.yaxis.label.set_visible(False)\n",
    "# ax.set_xlabel(\"The proportion of mutated features per experiment\\nthat are statistically associated with conditions\")\n",
    "plt.xlim(0, 1)"
   ]
  },
  {
   "cell_type": "code",
   "execution_count": 7,
   "metadata": {},
   "outputs": [
    {
     "data": {
      "text/plain": [
       "981"
      ]
     },
     "metadata": {},
     "output_type": "display_data"
    },
    {
     "data": {
      "text/plain": [
       "0.25600208768267224"
      ]
     },
     "execution_count": 7,
     "metadata": {},
     "output_type": "execute_result"
    }
   ],
   "source": [
    "# The data I have here is for unique endpoint mutations and not all of ALEdb.\n",
    "#These are the mutations that most likely represent actual adaptive changes and are therefore most valubale.\n",
    "# exp_mut_feat_df.head()\n",
    "display(len(exp_mut_feat_df[exp_mut_feat_df[\"associated condition set\"]!=set()]))\n",
    "len(exp_mut_feat_df[exp_mut_feat_df[\"associated condition set\"]!=set()])/len(exp_mut_feat_df)"
   ]
  },
  {
   "cell_type": "code",
   "execution_count": 8,
   "metadata": {},
   "outputs": [
    {
     "data": {
      "text/html": [
       "<div>\n",
       "<style scoped>\n",
       "    .dataframe tbody tr th:only-of-type {\n",
       "        vertical-align: middle;\n",
       "    }\n",
       "\n",
       "    .dataframe tbody tr th {\n",
       "        vertical-align: top;\n",
       "    }\n",
       "\n",
       "    .dataframe thead th {\n",
       "        text-align: right;\n",
       "    }\n",
       "</style>\n",
       "<table border=\"1\" class=\"dataframe\">\n",
       "  <thead>\n",
       "    <tr style=\"text-align: right;\">\n",
       "      <th></th>\n",
       "      <th>associated condition set</th>\n",
       "    </tr>\n",
       "  </thead>\n",
       "  <tbody>\n",
       "    <tr>\n",
       "      <th>0</th>\n",
       "      <td>set()</td>\n",
       "    </tr>\n",
       "    <tr>\n",
       "      <th>1</th>\n",
       "      <td>{'511145', 'M9', 'glucose(4)'}</td>\n",
       "    </tr>\n",
       "    <tr>\n",
       "      <th>2</th>\n",
       "      <td>{'511145', 'M9', 'glucose(4)'}</td>\n",
       "    </tr>\n",
       "    <tr>\n",
       "      <th>3</th>\n",
       "      <td>set()</td>\n",
       "    </tr>\n",
       "    <tr>\n",
       "      <th>4</th>\n",
       "      <td>set()</td>\n",
       "    </tr>\n",
       "  </tbody>\n",
       "</table>\n",
       "</div>"
      ],
      "text/plain": [
       "         associated condition set\n",
       "0                           set()\n",
       "1  {'511145', 'M9', 'glucose(4)'}\n",
       "2  {'511145', 'M9', 'glucose(4)'}\n",
       "3                           set()\n",
       "4                           set()"
      ]
     },
     "execution_count": 8,
     "metadata": {},
     "output_type": "execute_result"
    }
   ],
   "source": [
    "cond_mut_feat_df = exp_mut_feat_df.drop(columns=[\"experiment\", \"mutated feature\"])\n",
    "cond_mut_feat_df[\"associated condition set\"] = cond_mut_feat_df[\"associated condition set\"].apply(str)\n",
    "cond_mut_feat_df.head()"
   ]
  },
  {
   "cell_type": "code",
   "execution_count": 9,
   "metadata": {},
   "outputs": [
    {
     "data": {
      "text/html": [
       "<div>\n",
       "<style scoped>\n",
       "    .dataframe tbody tr th:only-of-type {\n",
       "        vertical-align: middle;\n",
       "    }\n",
       "\n",
       "    .dataframe tbody tr th {\n",
       "        vertical-align: top;\n",
       "    }\n",
       "\n",
       "    .dataframe thead th {\n",
       "        text-align: right;\n",
       "    }\n",
       "</style>\n",
       "<table border=\"1\" class=\"dataframe\">\n",
       "  <thead>\n",
       "    <tr style=\"text-align: right;\">\n",
       "      <th></th>\n",
       "      <th>associated condition set</th>\n",
       "      <th>database mutation proportion</th>\n",
       "    </tr>\n",
       "  </thead>\n",
       "  <tbody>\n",
       "    <tr>\n",
       "      <th>0</th>\n",
       "      <td>set()</td>\n",
       "      <td>0.743998</td>\n",
       "    </tr>\n",
       "    <tr>\n",
       "      <th>23</th>\n",
       "      <td>{'REL606', 'DM', '413997', 'glucose(0.025)'}</td>\n",
       "      <td>0.057933</td>\n",
       "    </tr>\n",
       "    <tr>\n",
       "      <th>34</th>\n",
       "      <td>{'glycerol(2.5)'}</td>\n",
       "      <td>0.018528</td>\n",
       "    </tr>\n",
       "    <tr>\n",
       "      <th>6</th>\n",
       "      <td>{'511145', 'M9'}</td>\n",
       "      <td>0.015919</td>\n",
       "    </tr>\n",
       "    <tr>\n",
       "      <th>37</th>\n",
       "      <td>{'Δpgi', 'MgSO4(3)', 'KH2PO4(2)', 'M9', 'gluco...</td>\n",
       "      <td>0.015136</td>\n",
       "    </tr>\n",
       "  </tbody>\n",
       "</table>\n",
       "</div>"
      ],
      "text/plain": [
       "                             associated condition set  \\\n",
       "0                                               set()   \n",
       "23       {'REL606', 'DM', '413997', 'glucose(0.025)'}   \n",
       "34                                  {'glycerol(2.5)'}   \n",
       "6                                    {'511145', 'M9'}   \n",
       "37  {'Δpgi', 'MgSO4(3)', 'KH2PO4(2)', 'M9', 'gluco...   \n",
       "\n",
       "    database mutation proportion  \n",
       "0                       0.743998  \n",
       "23                      0.057933  \n",
       "34                      0.018528  \n",
       "6                       0.015919  \n",
       "37                      0.015136  "
      ]
     },
     "execution_count": 9,
     "metadata": {},
     "output_type": "execute_result"
    }
   ],
   "source": [
    "stacked_bar_df = pd.DataFrame()\n",
    "for cond_set, df in cond_mut_feat_df.groupby([\"associated condition set\"]):\n",
    "    d = {\n",
    "        \"associated condition set\": cond_set,\n",
    "        \"database mutation proportion\": len(df)/len(cond_mut_feat_df)\n",
    "    }\n",
    "    stacked_bar_df = stacked_bar_df.append(d, ignore_index=True)\n",
    "stacked_bar_df = stacked_bar_df.sort_values(by=\"database mutation proportion\", ascending=False)\n",
    "stacked_bar_df.head()"
   ]
  },
  {
   "cell_type": "code",
   "execution_count": 10,
   "metadata": {},
   "outputs": [
    {
     "data": {
      "text/html": [
       "<div>\n",
       "<style scoped>\n",
       "    .dataframe tbody tr th:only-of-type {\n",
       "        vertical-align: middle;\n",
       "    }\n",
       "\n",
       "    .dataframe tbody tr th {\n",
       "        vertical-align: top;\n",
       "    }\n",
       "\n",
       "    .dataframe thead th {\n",
       "        text-align: right;\n",
       "    }\n",
       "</style>\n",
       "<table border=\"1\" class=\"dataframe\">\n",
       "  <thead>\n",
       "    <tr style=\"text-align: right;\">\n",
       "      <th></th>\n",
       "      <th>database mutation proportion</th>\n",
       "    </tr>\n",
       "    <tr>\n",
       "      <th>associated condition set</th>\n",
       "      <th></th>\n",
       "    </tr>\n",
       "  </thead>\n",
       "  <tbody>\n",
       "    <tr>\n",
       "      <th>set()</th>\n",
       "      <td>0.743998</td>\n",
       "    </tr>\n",
       "    <tr>\n",
       "      <th>{'REL606', 'DM', '413997', 'glucose(0.025)'}</th>\n",
       "      <td>0.057933</td>\n",
       "    </tr>\n",
       "    <tr>\n",
       "      <th>{'glycerol(2.5)'}</th>\n",
       "      <td>0.018528</td>\n",
       "    </tr>\n",
       "    <tr>\n",
       "      <th>{'511145', 'M9'}</th>\n",
       "      <td>0.015919</td>\n",
       "    </tr>\n",
       "    <tr>\n",
       "      <th>{'Δpgi', 'MgSO4(3)', 'KH2PO4(2)', 'M9', 'glucose(4)', '511145'}</th>\n",
       "      <td>0.015136</td>\n",
       "    </tr>\n",
       "  </tbody>\n",
       "</table>\n",
       "</div>"
      ],
      "text/plain": [
       "                                                    database mutation proportion\n",
       "associated condition set                                                        \n",
       "set()                                                                   0.743998\n",
       "{'REL606', 'DM', '413997', 'glucose(0.025)'}                            0.057933\n",
       "{'glycerol(2.5)'}                                                       0.018528\n",
       "{'511145', 'M9'}                                                        0.015919\n",
       "{'Δpgi', 'MgSO4(3)', 'KH2PO4(2)', 'M9', 'glucos...                      0.015136"
      ]
     },
     "execution_count": 10,
     "metadata": {},
     "output_type": "execute_result"
    }
   ],
   "source": [
    "stacked_bar_df = stacked_bar_df.set_index('associated condition set')\n",
    "stacked_bar_df.head()"
   ]
  },
  {
   "cell_type": "code",
   "execution_count": 11,
   "metadata": {},
   "outputs": [
    {
     "data": {
      "image/png": "[encoded data removed]",
      "text/plain": [
       "<Figure size 432x288 with 1 Axes>"
      ]
     },
     "metadata": {
      "needs_background": "light"
     },
     "output_type": "display_data"
    }
   ],
   "source": [
    "ax = stacked_bar_df.T.plot.barh(stacked=True)\n",
    "ax.legend().set_visible(False)"
   ]
  },
  {
   "cell_type": "code",
   "execution_count": 12,
   "metadata": {},
   "outputs": [
    {
     "data": {
      "text/html": [
       "<div>\n",
       "<style scoped>\n",
       "    .dataframe tbody tr th:only-of-type {\n",
       "        vertical-align: middle;\n",
       "    }\n",
       "\n",
       "    .dataframe tbody tr th {\n",
       "        vertical-align: top;\n",
       "    }\n",
       "\n",
       "    .dataframe thead th {\n",
       "        text-align: right;\n",
       "    }\n",
       "</style>\n",
       "<table border=\"1\" class=\"dataframe\">\n",
       "  <thead>\n",
       "    <tr style=\"text-align: right;\">\n",
       "      <th></th>\n",
       "      <th>mass</th>\n",
       "      <th>radius</th>\n",
       "    </tr>\n",
       "  </thead>\n",
       "  <tbody>\n",
       "    <tr>\n",
       "      <th>Mercury</th>\n",
       "      <td>0.33</td>\n",
       "      <td>2439.7</td>\n",
       "    </tr>\n",
       "    <tr>\n",
       "      <th>Venus</th>\n",
       "      <td>4.87</td>\n",
       "      <td>6051.8</td>\n",
       "    </tr>\n",
       "    <tr>\n",
       "      <th>Earth</th>\n",
       "      <td>5.97</td>\n",
       "      <td>6378.1</td>\n",
       "    </tr>\n",
       "  </tbody>\n",
       "</table>\n",
       "</div>"
      ],
      "text/plain": [
       "         mass  radius\n",
       "Mercury  0.33  2439.7\n",
       "Venus    4.87  6051.8\n",
       "Earth    5.97  6378.1"
      ]
     },
     "execution_count": 12,
     "metadata": {},
     "output_type": "execute_result"
    }
   ],
   "source": [
    "df = pd.DataFrame({'mass': [0.330, 4.87 , 5.97],'radius': [2439.7, 6051.8, 6378.1]}, index=['Mercury', 'Venus', 'Earth'])\n",
    "df"
   ]
  },
  {
   "cell_type": "code",
   "execution_count": 13,
   "metadata": {},
   "outputs": [
    {
     "data": {
      "text/plain": [
       "Text(0.5, 1.0, 'Proportion of mutated features\\nstatistically associated with conditions')"
      ]
     },
     "execution_count": 13,
     "metadata": {},
     "output_type": "execute_result"
    },
    {
     "data": {
      "image/png": "[encoded data removed]",
      "text/plain": [
       "<Figure size 432x288 with 1 Axes>"
      ]
     },
     "metadata": {},
     "output_type": "display_data"
    }
   ],
   "source": [
    "l = [''] * len(stacked_bar_df)\n",
    "ax = stacked_bar_df.plot.pie(y=\"database mutation proportion\",\n",
    "                             labels=l,\n",
    "                             legend=False)\n",
    "ax.set_ylabel('')\n",
    "ax.set_title(\"Proportion of mutated features\\nstatistically associated with conditions\")"
   ]
  },
  {
   "cell_type": "code",
   "execution_count": null,
   "metadata": {},
   "outputs": [],
   "source": []
  }
 ],
 "metadata": {
  "kernelspec": {
   "display_name": "Python 3",
   "language": "python",
   "name": "python3"
  },
  "language_info": {
   "codemirror_mode": {
    "name": "ipython",
    "version": 3
   },
   "file_extension": ".py",
   "mimetype": "text/x-python",
   "name": "python",
   "nbconvert_exporter": "python",
   "pygments_lexer": "ipython3",
   "version": "3.7.4"
  }
 },
 "nbformat": 4,
 "nbformat_minor": 2
}
