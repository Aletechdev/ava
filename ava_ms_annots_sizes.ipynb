{
 "cells": [
  {
   "cell_type": "code",
   "execution_count": 1,
   "metadata": {},
   "outputs": [],
   "source": [
    "import pandas as pd"
   ]
  },
  {
   "cell_type": "code",
   "execution_count": 2,
   "metadata": {},
   "outputs": [],
   "source": [
    "uniqu_feat_cnt_d = {}"
   ]
  },
  {
   "cell_type": "code",
   "execution_count": 3,
   "metadata": {},
   "outputs": [
    {
     "data": {
      "text/plain": [
       "{'genes': 4694}"
      ]
     },
     "execution_count": 3,
     "metadata": {},
     "output_type": "execute_result"
    }
   ],
   "source": [
    "gene_df = pd.read_pickle(\"./data/gene_df.pkl\")\n",
    "uniqu_feat_cnt_d[\"genes\"] = len(gene_df.GENE_ID.unique())\n",
    "uniqu_feat_cnt_d"
   ]
  },
  {
   "cell_type": "code",
   "execution_count": 4,
   "metadata": {},
   "outputs": [
    {
     "data": {
      "text/plain": [
       "{'genes': 4694, 'intergenic': 3744}"
      ]
     },
     "execution_count": 4,
     "metadata": {},
     "output_type": "execute_result"
    }
   ],
   "source": [
    "# Only using intergenic regions and not inter-feature regions (genomic features).\n",
    "# When assigning genomic features, if the mutation doesn't land in an explicit feature,\n",
    "# it's given the intergernic region rather than the inter-feature region.\n",
    "intergenic_region_df = pd.read_pickle(\"./data/intergenic_region_df.pkl\")\n",
    "uniqu_feat_cnt_d[\"intergenic\"] = len(intergenic_region_df[\"RegulonDB ID\"].unique())\n",
    "uniqu_feat_cnt_d"
   ]
  },
  {
   "cell_type": "code",
   "execution_count": 5,
   "metadata": {},
   "outputs": [
    {
     "data": {
      "text/plain": [
       "{'genes': 4694, 'intergenic': 3744, 'TU': 3560}"
      ]
     },
     "execution_count": 5,
     "metadata": {},
     "output_type": "execute_result"
    }
   ],
   "source": [
    "TU_df = pd.read_pickle(\"./data/TU_df.pkl\")\n",
    "uniqu_feat_cnt_d[\"TU\"] = len(TU_df[\"TRANSCRIPTION_UNIT_ID\"].unique())\n",
    "uniqu_feat_cnt_d"
   ]
  },
  {
   "cell_type": "code",
   "execution_count": 6,
   "metadata": {},
   "outputs": [
    {
     "data": {
      "text/plain": [
       "{'genes': 4694, 'intergenic': 3744, 'TU': 3560, 'operon': 2619}"
      ]
     },
     "execution_count": 6,
     "metadata": {},
     "output_type": "execute_result"
    }
   ],
   "source": [
    "operon_df = pd.read_pickle(\"./data/operon_df.pkl\")\n",
    "uniqu_feat_cnt_d[\"operon\"] = len(operon_df[\"OPERON_ID\"].unique())\n",
    "uniqu_feat_cnt_d"
   ]
  },
  {
   "cell_type": "code",
   "execution_count": 7,
   "metadata": {},
   "outputs": [
    {
     "data": {
      "text/plain": [
       "{'genes': 4694, 'intergenic': 3744, 'TU': 3560, 'operon': 2619, 'TFBS': 207}"
      ]
     },
     "execution_count": 7,
     "metadata": {},
     "output_type": "execute_result"
    }
   ],
   "source": [
    "tfbs_df = pd.read_pickle(\"./data/TFBS_df.pkl\")\n",
    "uniqu_feat_cnt_d[\"TFBS\"] = len(tfbs_df[0].unique())\n",
    "uniqu_feat_cnt_d"
   ]
  },
  {
   "cell_type": "code",
   "execution_count": 8,
   "metadata": {},
   "outputs": [
    {
     "data": {
      "text/plain": [
       "{'genes': 4694,\n",
       " 'intergenic': 3744,\n",
       " 'TU': 3560,\n",
       " 'operon': 2619,\n",
       " 'TFBS': 207,\n",
       " 'promoter': 8617}"
      ]
     },
     "execution_count": 8,
     "metadata": {},
     "output_type": "execute_result"
    }
   ],
   "source": [
    "promoter_df = pd.read_pickle(\"./data/promoter_df.pkl\")\n",
    "uniqu_feat_cnt_d[\"promoter\"] = len(promoter_df[0].unique())\n",
    "uniqu_feat_cnt_d"
   ]
  },
  {
   "cell_type": "code",
   "execution_count": 9,
   "metadata": {},
   "outputs": [
    {
     "data": {
      "text/plain": [
       "{'genes': 4694,\n",
       " 'intergenic': 3744,\n",
       " 'TU': 3560,\n",
       " 'operon': 2619,\n",
       " 'TFBS': 207,\n",
       " 'promoter': 8617,\n",
       " 'att_term': 752}"
      ]
     },
     "execution_count": 9,
     "metadata": {},
     "output_type": "execute_result"
    }
   ],
   "source": [
    "att_term_df = pd.read_pickle(\"./data/att_term_df.pkl\")\n",
    "uniqu_feat_cnt_d[\"att_term\"] = len(att_term_df['RegulonDB ID'].unique())\n",
    "uniqu_feat_cnt_d"
   ]
  },
  {
   "cell_type": "code",
   "execution_count": 10,
   "metadata": {},
   "outputs": [
    {
     "data": {
      "text/plain": [
       "{'genes': 4694,\n",
       " 'intergenic': 3744,\n",
       " 'TU': 3560,\n",
       " 'operon': 2619,\n",
       " 'TFBS': 207,\n",
       " 'promoter': 8617,\n",
       " 'att_term': 752,\n",
       " 'terminator': 306}"
      ]
     },
     "execution_count": 10,
     "metadata": {},
     "output_type": "execute_result"
    }
   ],
   "source": [
    "terminator_df = pd.read_pickle(\"./data/term_df.pkl\")\n",
    "uniqu_feat_cnt_d[\"terminator\"] = len(terminator_df[0].unique())\n",
    "uniqu_feat_cnt_d"
   ]
  },
  {
   "cell_type": "code",
   "execution_count": 11,
   "metadata": {},
   "outputs": [
    {
     "data": {
      "text/plain": [
       "{'genes': 4694,\n",
       " 'intergenic': 3744,\n",
       " 'TU': 3560,\n",
       " 'operon': 2619,\n",
       " 'TFBS': 207,\n",
       " 'promoter': 8617,\n",
       " 'att_term': 752,\n",
       " 'terminator': 306,\n",
       " 'RBS': 179}"
      ]
     },
     "execution_count": 11,
     "metadata": {},
     "output_type": "execute_result"
    }
   ],
   "source": [
    "RBS_df = pd.read_pickle(\"./data/RBS_df.pkl\")\n",
    "uniqu_feat_cnt_d[\"RBS\"] = len(RBS_df[\"SHINE_DALGARNO_ID\"].unique())\n",
    "uniqu_feat_cnt_d"
   ]
  },
  {
   "cell_type": "code",
   "execution_count": 12,
   "metadata": {},
   "outputs": [
    {
     "data": {
      "text/plain": [
       "{'genes': 4694,\n",
       " 'intergenic': 3744,\n",
       " 'TU': 3560,\n",
       " 'operon': 2619,\n",
       " 'TFBS': 207,\n",
       " 'promoter': 8617,\n",
       " 'att_term': 752,\n",
       " 'terminator': 306,\n",
       " 'RBS': 179,\n",
       " 'pathway': 128}"
      ]
     },
     "execution_count": 12,
     "metadata": {},
     "output_type": "execute_result"
    }
   ],
   "source": [
    "gene_pathway_df = pd.read_pickle(\"./data/gene_pathway_df.pkl\")\n",
    "uniqu_feat_cnt_d[\"pathway\"] = len(gene_pathway_df[\"pathway_name\"].unique())\n",
    "uniqu_feat_cnt_d"
   ]
  },
  {
   "cell_type": "code",
   "execution_count": 13,
   "metadata": {},
   "outputs": [
    {
     "data": {
      "text/plain": [
       "{'genes': 4694,\n",
       " 'intergenic': 3744,\n",
       " 'TU': 3560,\n",
       " 'operon': 2619,\n",
       " 'TFBS': 207,\n",
       " 'promoter': 8617,\n",
       " 'att_term': 752,\n",
       " 'terminator': 306,\n",
       " 'RBS': 179,\n",
       " 'pathway': 128,\n",
       " 'COG': 22}"
      ]
     },
     "execution_count": 13,
     "metadata": {},
     "output_type": "execute_result"
    }
   ],
   "source": [
    "gene_COG_df = pd.read_pickle(\"./data/COG_df.pkl\")\n",
    "uniqu_feat_cnt_d[\"COG\"] = len(gene_COG_df[\"COG description\"].unique())\n",
    "uniqu_feat_cnt_d"
   ]
  },
  {
   "cell_type": "code",
   "execution_count": 14,
   "metadata": {},
   "outputs": [
    {
     "data": {
      "text/plain": [
       "{'genes': 4694,\n",
       " 'intergenic': 3744,\n",
       " 'TU': 3560,\n",
       " 'operon': 2619,\n",
       " 'TFBS': 207,\n",
       " 'promoter': 8617,\n",
       " 'att_term': 752,\n",
       " 'terminator': 306,\n",
       " 'RBS': 179,\n",
       " 'pathway': 128,\n",
       " 'COG': 22,\n",
       " 'regulon': 2776}"
      ]
     },
     "execution_count": 14,
     "metadata": {},
     "output_type": "execute_result"
    }
   ],
   "source": [
    "# Though there may exist a regulon data file with RegulonDB, this is the method I took within AVA to assign regulons\n",
    "# therefore using this method to count regulons ensures accuracy between the assignment methods and count.\n",
    "TU_objects_df = pd.read_pickle(\"./data/TU_objects_df.pkl\")\n",
    "regulator_df = TU_objects_df[TU_objects_df[\"TU_OBJECT_CLASS\"]==\"ST\"]\n",
    "uniqu_feat_cnt_d[\"regulon\"] = len(regulator_df[\"TU_OBJECT_ID\"].unique())\n",
    "uniqu_feat_cnt_d"
   ]
  },
  {
   "cell_type": "code",
   "execution_count": 15,
   "metadata": {},
   "outputs": [
    {
     "data": {
      "text/plain": [
       "27604"
      ]
     },
     "execution_count": 15,
     "metadata": {},
     "output_type": "execute_result"
    }
   ],
   "source": [
    "tot_unique_item_cnt = 0\n",
    "for v in uniqu_feat_cnt_d.values():\n",
    "    tot_unique_item_cnt += v\n",
    "tot_unique_item_cnt"
   ]
  },
  {
   "cell_type": "code",
   "execution_count": 17,
   "metadata": {},
   "outputs": [],
   "source": [
    "import pickle\n",
    "\n",
    "tot_unique_item_cnt\n",
    "\n",
    "with open('./data/annot_cnt_d.pkl', 'wb') as handle:\n",
    "    pickle.dump(uniqu_feat_cnt_d, handle, protocol=pickle.HIGHEST_PROTOCOL)"
   ]
  }
 ],
 "metadata": {
  "kernelspec": {
   "display_name": "Python 3",
   "language": "python",
   "name": "python3"
  },
  "language_info": {
   "codemirror_mode": {
    "name": "ipython",
    "version": 3
   },
   "file_extension": ".py",
   "mimetype": "text/x-python",
   "name": "python",
   "nbconvert_exporter": "python",
   "pygments_lexer": "ipython3",
   "version": "3.7.4"
  }
 },
 "nbformat": 4,
 "nbformat_minor": 2
}
