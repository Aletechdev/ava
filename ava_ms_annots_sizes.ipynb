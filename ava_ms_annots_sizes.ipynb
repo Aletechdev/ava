{
 "cells": [
  {
   "cell_type": "code",
   "execution_count": 69,
   "metadata": {},
   "outputs": [],
   "source": [
    "import pandas as pd"
   ]
  },
  {
   "cell_type": "code",
   "execution_count": 70,
   "metadata": {},
   "outputs": [],
   "source": [
    "uniqu_feat_cnt_d = {}"
   ]
  },
  {
   "cell_type": "code",
   "execution_count": 71,
   "metadata": {},
   "outputs": [
    {
     "data": {
      "text/plain": [
       "{'genes': 4694}"
      ]
     },
     "execution_count": 71,
     "metadata": {},
     "output_type": "execute_result"
    }
   ],
   "source": [
    "gene_df = pd.read_pickle(\"./data/gene_df.pkl\")\n",
    "uniqu_feat_cnt_d[\"genes\"] = len(gene_df.GENE_ID.unique())\n",
    "uniqu_feat_cnt_d"
   ]
  },
  {
   "cell_type": "code",
   "execution_count": 72,
   "metadata": {},
   "outputs": [
    {
     "data": {
      "text/plain": [
       "{'genes': 4694, 'intergenic regions': 3744}"
      ]
     },
     "execution_count": 72,
     "metadata": {},
     "output_type": "execute_result"
    }
   ],
   "source": [
    "# Only using intergenic regions and not inter-feature regions (genomic features).\n",
    "# When assigning genomic features, if the mutation doesn't land in an explicit feature,\n",
    "# it's given the intergernic region rather than the inter-feature region.\n",
    "intergenic_region_df = pd.read_pickle(\"./data/intergenic_region_df.pkl\")\n",
    "uniqu_feat_cnt_d[\"intergenic regions\"] = len(intergenic_region_df[\"RegulonDB ID\"].unique())\n",
    "uniqu_feat_cnt_d"
   ]
  },
  {
   "cell_type": "code",
   "execution_count": 73,
   "metadata": {},
   "outputs": [
    {
     "data": {
      "text/plain": [
       "{'genes': 4694, 'intergenic regions': 3744, 'transcription units': 3560}"
      ]
     },
     "execution_count": 73,
     "metadata": {},
     "output_type": "execute_result"
    }
   ],
   "source": [
    "TU_df = pd.read_pickle(\"./data/TU_df.pkl\")\n",
    "uniqu_feat_cnt_d[\"transcription units\"] = len(TU_df[\"TRANSCRIPTION_UNIT_ID\"].unique())\n",
    "uniqu_feat_cnt_d"
   ]
  },
  {
   "cell_type": "code",
   "execution_count": 74,
   "metadata": {},
   "outputs": [
    {
     "data": {
      "text/plain": [
       "{'genes': 4694,\n",
       " 'intergenic regions': 3744,\n",
       " 'transcription units': 3560,\n",
       " 'operons': 2619}"
      ]
     },
     "execution_count": 74,
     "metadata": {},
     "output_type": "execute_result"
    }
   ],
   "source": [
    "operon_df = pd.read_pickle(\"./data/operon_df.pkl\")\n",
    "uniqu_feat_cnt_d[\"operons\"] = len(operon_df[\"OPERON_ID\"].unique())\n",
    "uniqu_feat_cnt_d"
   ]
  },
  {
   "cell_type": "code",
   "execution_count": 75,
   "metadata": {},
   "outputs": [
    {
     "data": {
      "text/plain": [
       "{'genes': 4694,\n",
       " 'intergenic regions': 3744,\n",
       " 'transcription units': 3560,\n",
       " 'operons': 2619,\n",
       " 'TF binding sites': 207}"
      ]
     },
     "execution_count": 75,
     "metadata": {},
     "output_type": "execute_result"
    }
   ],
   "source": [
    "tfbs_df = pd.read_pickle(\"./data/TFBS_df.pkl\")\n",
    "uniqu_feat_cnt_d[\"TF binding sites\"] = len(tfbs_df[0].unique())\n",
    "uniqu_feat_cnt_d"
   ]
  },
  {
   "cell_type": "code",
   "execution_count": 76,
   "metadata": {},
   "outputs": [
    {
     "data": {
      "text/plain": [
       "{'genes': 4694,\n",
       " 'intergenic regions': 3744,\n",
       " 'transcription units': 3560,\n",
       " 'operons': 2619,\n",
       " 'TF binding sites': 207,\n",
       " 'promoters': 8617}"
      ]
     },
     "execution_count": 76,
     "metadata": {},
     "output_type": "execute_result"
    }
   ],
   "source": [
    "promoter_df = pd.read_pickle(\"./data/promoter_df.pkl\")\n",
    "uniqu_feat_cnt_d[\"promoters\"] = len(promoter_df[0].unique())\n",
    "uniqu_feat_cnt_d"
   ]
  },
  {
   "cell_type": "code",
   "execution_count": 77,
   "metadata": {},
   "outputs": [
    {
     "data": {
      "text/plain": [
       "{'genes': 4694,\n",
       " 'intergenic regions': 3744,\n",
       " 'transcription units': 3560,\n",
       " 'operons': 2619,\n",
       " 'TF binding sites': 207,\n",
       " 'promoters': 8617,\n",
       " 'attenuator terminators': 752}"
      ]
     },
     "execution_count": 77,
     "metadata": {},
     "output_type": "execute_result"
    }
   ],
   "source": [
    "att_term_df = pd.read_pickle(\"./data/att_term_df.pkl\")\n",
    "uniqu_feat_cnt_d[\"attenuator terminators\"] = len(att_term_df['RegulonDB ID'].unique())\n",
    "uniqu_feat_cnt_d"
   ]
  },
  {
   "cell_type": "code",
   "execution_count": 78,
   "metadata": {},
   "outputs": [
    {
     "data": {
      "text/plain": [
       "{'genes': 4694,\n",
       " 'intergenic regions': 3744,\n",
       " 'transcription units': 3560,\n",
       " 'operons': 2619,\n",
       " 'TF binding sites': 207,\n",
       " 'promoters': 8617,\n",
       " 'attenuator terminators': 752,\n",
       " 'terminators': 306}"
      ]
     },
     "execution_count": 78,
     "metadata": {},
     "output_type": "execute_result"
    }
   ],
   "source": [
    "terminator_df = pd.read_pickle(\"./data/term_df.pkl\")\n",
    "uniqu_feat_cnt_d[\"terminators\"] = len(terminator_df[0].unique())\n",
    "uniqu_feat_cnt_d"
   ]
  },
  {
   "cell_type": "code",
   "execution_count": 79,
   "metadata": {},
   "outputs": [
    {
     "data": {
      "text/plain": [
       "{'genes': 4694,\n",
       " 'intergenic regions': 3744,\n",
       " 'transcription units': 3560,\n",
       " 'operons': 2619,\n",
       " 'TF binding sites': 207,\n",
       " 'promoters': 8617,\n",
       " 'attenuator terminators': 752,\n",
       " 'terminators': 306,\n",
       " 'ribosomal binding sites': 179}"
      ]
     },
     "execution_count": 79,
     "metadata": {},
     "output_type": "execute_result"
    }
   ],
   "source": [
    "RBS_df = pd.read_pickle(\"./data/RBS_df.pkl\")\n",
    "uniqu_feat_cnt_d[\"ribosomal binding sites\"] = len(RBS_df[\"SHINE_DALGARNO_ID\"].unique())\n",
    "uniqu_feat_cnt_d"
   ]
  },
  {
   "cell_type": "code",
   "execution_count": 80,
   "metadata": {},
   "outputs": [
    {
     "data": {
      "text/plain": [
       "{'genes': 4694,\n",
       " 'intergenic regions': 3744,\n",
       " 'transcription units': 3560,\n",
       " 'operons': 2619,\n",
       " 'TF binding sites': 207,\n",
       " 'promoters': 8617,\n",
       " 'attenuator terminators': 752,\n",
       " 'terminators': 306,\n",
       " 'ribosomal binding sites': 179,\n",
       " 'pathways': 128}"
      ]
     },
     "execution_count": 80,
     "metadata": {},
     "output_type": "execute_result"
    }
   ],
   "source": [
    "gene_pathway_df = pd.read_pickle(\"./data/gene_pathway_df.pkl\")\n",
    "uniqu_feat_cnt_d[\"pathways\"] = len(gene_pathway_df[\"pathway_name\"].unique())\n",
    "uniqu_feat_cnt_d"
   ]
  },
  {
   "cell_type": "code",
   "execution_count": 81,
   "metadata": {},
   "outputs": [
    {
     "data": {
      "text/plain": [
       "{'genes': 4694,\n",
       " 'intergenic regions': 3744,\n",
       " 'transcription units': 3560,\n",
       " 'operons': 2619,\n",
       " 'TF binding sites': 207,\n",
       " 'promoters': 8617,\n",
       " 'attenuator terminators': 752,\n",
       " 'terminators': 306,\n",
       " 'ribosomal binding sites': 179,\n",
       " 'pathways': 128,\n",
       " 'COGs': 22}"
      ]
     },
     "execution_count": 81,
     "metadata": {},
     "output_type": "execute_result"
    }
   ],
   "source": [
    "gene_COG_df = pd.read_pickle(\"./data/COG_df.pkl\")\n",
    "uniqu_feat_cnt_d[\"COGs\"] = len(gene_COG_df[\"COG description\"].unique())\n",
    "uniqu_feat_cnt_d"
   ]
  },
  {
   "cell_type": "code",
   "execution_count": 82,
   "metadata": {},
   "outputs": [
    {
     "data": {
      "text/html": [
       "<div>\n",
       "<style scoped>\n",
       "    .dataframe tbody tr th:only-of-type {\n",
       "        vertical-align: middle;\n",
       "    }\n",
       "\n",
       "    .dataframe tbody tr th {\n",
       "        vertical-align: top;\n",
       "    }\n",
       "\n",
       "    .dataframe thead th {\n",
       "        text-align: right;\n",
       "    }\n",
       "</style>\n",
       "<table border=\"1\" class=\"dataframe\">\n",
       "  <thead>\n",
       "    <tr style=\"text-align: right;\">\n",
       "      <th></th>\n",
       "      <th>REGULON_ID</th>\n",
       "      <th>REGULON_NAME</th>\n",
       "      <th>KEY_ID_ORG</th>\n",
       "    </tr>\n",
       "  </thead>\n",
       "  <tbody>\n",
       "    <tr>\n",
       "      <th>0</th>\n",
       "      <td>EC12R0000073</td>\n",
       "      <td>GalR,GalS</td>\n",
       "      <td>ECK12</td>\n",
       "    </tr>\n",
       "    <tr>\n",
       "      <th>1</th>\n",
       "      <td>EC12R0000075</td>\n",
       "      <td>MraZ,PdhR</td>\n",
       "      <td>ECK12</td>\n",
       "    </tr>\n",
       "    <tr>\n",
       "      <th>2</th>\n",
       "      <td>EC12R0000077</td>\n",
       "      <td>CRP</td>\n",
       "      <td>ECK12</td>\n",
       "    </tr>\n",
       "    <tr>\n",
       "      <th>3</th>\n",
       "      <td>EC12R0000079</td>\n",
       "      <td>CRP,Cra</td>\n",
       "      <td>ECK12</td>\n",
       "    </tr>\n",
       "    <tr>\n",
       "      <th>4</th>\n",
       "      <td>EC12R0000081</td>\n",
       "      <td>ArgR,NtrC</td>\n",
       "      <td>ECK12</td>\n",
       "    </tr>\n",
       "    <tr>\n",
       "      <th>...</th>\n",
       "      <td>...</td>\n",
       "      <td>...</td>\n",
       "      <td>...</td>\n",
       "    </tr>\n",
       "    <tr>\n",
       "      <th>488</th>\n",
       "      <td>EC12R0001121</td>\n",
       "      <td>CRP,RcsB-BglJ</td>\n",
       "      <td>ECK12</td>\n",
       "    </tr>\n",
       "    <tr>\n",
       "      <th>489</th>\n",
       "      <td>EC12R0001124</td>\n",
       "      <td>NimR</td>\n",
       "      <td>ECK12</td>\n",
       "    </tr>\n",
       "    <tr>\n",
       "      <th>490</th>\n",
       "      <td>EC12R0001126</td>\n",
       "      <td>YjjQ</td>\n",
       "      <td>ECK12</td>\n",
       "    </tr>\n",
       "    <tr>\n",
       "      <th>491</th>\n",
       "      <td>EC12R0001129</td>\n",
       "      <td>CecR</td>\n",
       "      <td>ECK12</td>\n",
       "    </tr>\n",
       "    <tr>\n",
       "      <th>492</th>\n",
       "      <td>EC12R0001131</td>\n",
       "      <td>CRP,GlrR,NtrC,RcsB</td>\n",
       "      <td>ECK12</td>\n",
       "    </tr>\n",
       "  </tbody>\n",
       "</table>\n",
       "<p>493 rows × 3 columns</p>\n",
       "</div>"
      ],
      "text/plain": [
       "       REGULON_ID        REGULON_NAME KEY_ID_ORG\n",
       "0    EC12R0000073           GalR,GalS      ECK12\n",
       "1    EC12R0000075           MraZ,PdhR      ECK12\n",
       "2    EC12R0000077                 CRP      ECK12\n",
       "3    EC12R0000079             CRP,Cra      ECK12\n",
       "4    EC12R0000081           ArgR,NtrC      ECK12\n",
       "..            ...                 ...        ...\n",
       "488  EC12R0001121       CRP,RcsB-BglJ      ECK12\n",
       "489  EC12R0001124                NimR      ECK12\n",
       "490  EC12R0001126                YjjQ      ECK12\n",
       "491  EC12R0001129                CecR      ECK12\n",
       "492  EC12R0001131  CRP,GlrR,NtrC,RcsB      ECK12\n",
       "\n",
       "[493 rows x 3 columns]"
      ]
     },
     "execution_count": 82,
     "metadata": {},
     "output_type": "execute_result"
    }
   ],
   "source": [
    "# The regulon file used here represents the authority and maximum amount of regulons,\n",
    "# though not all of these are getting mapped to places on the genome.\n",
    "regulon_df = pd.read_csv(\n",
    "    \"./data/RegulonDB10/regulon_tmp.txt\",\n",
    "    sep=\"\\t\",\n",
    "    comment='#',\n",
    "    header=None,\n",
    "    quoting=3\n",
    ")\n",
    "regulon_df.columns = [\"REGULON_ID\", \"REGULON_NAME\", \"KEY_ID_ORG\"]\n",
    "regulon_df"
   ]
  },
  {
   "cell_type": "code",
   "execution_count": 83,
   "metadata": {},
   "outputs": [
    {
     "data": {
      "text/plain": [
       "{'genes': 4694,\n",
       " 'intergenic regions': 3744,\n",
       " 'transcription units': 3560,\n",
       " 'operons': 2619,\n",
       " 'TF binding sites': 207,\n",
       " 'promoters': 8617,\n",
       " 'attenuator terminators': 752,\n",
       " 'terminators': 306,\n",
       " 'ribosomal binding sites': 179,\n",
       " 'pathways': 128,\n",
       " 'COGs': 22,\n",
       " 'regulons': 493}"
      ]
     },
     "execution_count": 83,
     "metadata": {},
     "output_type": "execute_result"
    }
   ],
   "source": [
    "uniqu_feat_cnt_d[\"regulons\"] = len(regulon_df[\"REGULON_ID\"].unique())\n",
    "uniqu_feat_cnt_d"
   ]
  },
  {
   "cell_type": "code",
   "execution_count": 84,
   "metadata": {},
   "outputs": [
    {
     "data": {
      "text/plain": [
       "25321"
      ]
     },
     "execution_count": 84,
     "metadata": {},
     "output_type": "execute_result"
    }
   ],
   "source": [
    "tot_unique_item_cnt = 0\n",
    "for v in uniqu_feat_cnt_d.values():\n",
    "    tot_unique_item_cnt += v\n",
    "tot_unique_item_cnt"
   ]
  },
  {
   "cell_type": "code",
   "execution_count": 85,
   "metadata": {},
   "outputs": [],
   "source": [
    "import pickle\n",
    "\n",
    "tot_unique_item_cnt\n",
    "\n",
    "with open('./data/annot_cnt_d.pkl', 'wb') as handle:\n",
    "    pickle.dump(uniqu_feat_cnt_d, handle, protocol=pickle.HIGHEST_PROTOCOL)"
   ]
  }
 ],
 "metadata": {
  "kernelspec": {
   "display_name": "Python 3",
   "language": "python",
   "name": "python3"
  },
  "language_info": {
   "codemirror_mode": {
    "name": "ipython",
    "version": 3
   },
   "file_extension": ".py",
   "mimetype": "text/x-python",
   "name": "python",
   "nbconvert_exporter": "python",
   "pygments_lexer": "ipython3",
   "version": "3.7.7"
  }
 },
 "nbformat": 4,
 "nbformat_minor": 2
}
