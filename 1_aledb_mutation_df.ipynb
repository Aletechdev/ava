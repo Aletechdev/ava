{
 "cells": [
  {
   "cell_type": "code",
   "execution_count": 2,
   "metadata": {
    "execution": {
     "iopub.execute_input": "2021-05-03T02:14:23.282207Z",
     "iopub.status.busy": "2021-05-03T02:14:23.281824Z",
     "iopub.status.idle": "2021-05-03T02:14:23.594879Z",
     "shell.execute_reply": "2021-05-03T02:14:23.595173Z"
    }
   },
   "outputs": [],
   "source": [
    "%matplotlib inline\n",
    "import matplotlib.pyplot as plt\n",
    "import pandas as pd\n",
    "from IPython.display import display\n",
    "import os, sys, itertools, csv\n",
    "module_path = os.path.abspath(os.path.join('..'))\n",
    "if module_path not in sys.path:\n",
    "    sys.path.append(module_path)\n",
    "from util.alemutdf import get_all_sample_mut_df, get_multi_exp_max_freq_mut_df\n",
    "from util.mut import is_coding_mut\n",
    "from util.metadata import get_condition_val_dict, get_condition_field_val_set\n",
    "from util.genome import get_K12_pos_from_BOP27"
   ]
  },
  {
   "cell_type": "code",
   "execution_count": 3,
   "metadata": {
    "execution": {
     "iopub.execute_input": "2021-05-03T02:14:23.597932Z",
     "iopub.status.busy": "2021-05-03T02:14:23.597560Z",
     "iopub.status.idle": "2021-05-03T02:14:28.764704Z",
     "shell.execute_reply": "2021-05-03T02:14:28.764334Z"
    },
    "scrolled": true
   },
   "outputs": [
    {
     "name": "stderr",
     "output_type": "stream",
     "text": [
      "100%|██████████| 6/6 [00:00<00:00, 211.03it/s]\n",
      "100%|██████████| 10/10 [00:00<00:00, 301.70it/s]\n",
      "100%|██████████| 4/4 [00:00<00:00, 267.62it/s]\n",
      "100%|██████████| 4/4 [00:00<00:00, 268.34it/s]\n",
      "100%|██████████| 5/5 [00:00<00:00, 238.37it/s]\n",
      "  0%|          | 0/20 [00:00<?, ?it/s]"
     ]
    },
    {
     "name": "stdout",
     "output_type": "stream",
     "text": [
      "./data/muts/eep//MG1655_untreated_mut.csv\n",
      "./data/muts/eep//42C.csv\n",
      "./data/muts/eep//Iron-ALE_mut.csv\n",
      "./data/muts/eep//MG1655-M9-NC_000913_3gb-stationary-37-monomethyl_succinate2_mut.csv\n",
      "./data/muts/eep//gallium-nitrate_mut.csv\n",
      "./data/muts/eep//TOL adipic acid_mut.csv\n"
     ]
    },
    {
     "name": "stderr",
     "output_type": "stream",
     "text": [
      "100%|██████████| 20/20 [00:00<00:00, 254.20it/s]\n",
      "100%|██████████| 6/6 [00:00<00:00, 247.83it/s]\n",
      "100%|██████████| 7/7 [00:00<00:00, 243.10it/s]\n",
      "100%|██████████| 20/20 [00:00<00:00, 260.90it/s]\n",
      "  0%|          | 0/21 [00:00<?, ?it/s]"
     ]
    },
    {
     "name": "stdout",
     "output_type": "stream",
     "text": [
      "./data/muts/eep//MG1655-blaTEM1_untreated_mut.csv\n",
      "./data/muts/eep//tpiKO_mut.csv\n",
      "./data/muts/eep//TOL n-butanol_mut.csv\n",
      "./data/muts/eep//cydB-appC_mut.csv\n"
     ]
    },
    {
     "name": "stderr",
     "output_type": "stream",
     "text": [
      "100%|██████████| 21/21 [00:00<00:00, 240.67it/s]\n",
      "100%|██████████| 8/8 [00:00<00:00, 244.17it/s]\n",
      " 37%|███▋      | 25/67 [00:00<00:00, 244.62it/s]"
     ]
    },
    {
     "name": "stdout",
     "output_type": "stream",
     "text": [
      "./data/muts/eep//pvdJ_KO_P_aeruginosa_spent_medium_mut.csv\n",
      "./data/muts/eep//tpiPAE_mut.csv\n"
     ]
    },
    {
     "name": "stderr",
     "output_type": "stream",
     "text": [
      "100%|██████████| 67/67 [00:00<00:00, 240.18it/s]\n",
      "100%|██████████| 10/10 [00:00<00:00, 306.72it/s]\n",
      "100%|██████████| 20/20 [00:00<00:00, 267.17it/s]\n",
      "  0%|          | 0/24 [00:00<?, ?it/s]"
     ]
    },
    {
     "name": "stdout",
     "output_type": "stream",
     "text": [
      "./data/muts/eep//PGI.csv\n",
      "./data/muts/eep//TOL octanoic acid_mut.csv\n",
      "./data/muts/eep//TOL glutaric acid_mut.csv\n"
     ]
    },
    {
     "name": "stderr",
     "output_type": "stream",
     "text": [
      "100%|██████████| 24/24 [00:00<00:00, 260.13it/s]\n",
      "100%|██████████| 4/4 [00:00<00:00, 257.48it/s]\n",
      "100%|██████████| 8/8 [00:00<00:00, 265.58it/s]\n",
      "100%|██████████| 13/13 [00:00<00:00, 244.89it/s]\n",
      "  0%|          | 0/20 [00:00<?, ?it/s]"
     ]
    },
    {
     "name": "stdout",
     "output_type": "stream",
     "text": [
      "./data/muts/eep//MG1655-M9-NC_000913_3gb-stationary-37-D-2-deoxyribose2_mut.csv\n",
      "./data/muts/eep//MG1655-M9-NC_000913_3gb-stationary-37-D-lyxose2_mut.csv\n",
      "./data/muts/eep//ndh_mut.csv\n",
      "./data/muts/eep//TOL putrescine_mut.csv\n"
     ]
    },
    {
     "name": "stderr",
     "output_type": "stream",
     "text": [
      "100%|██████████| 20/20 [00:00<00:00, 257.44it/s]\n",
      "100%|██████████| 4/4 [00:00<00:00, 241.24it/s]\n",
      "100%|██████████| 1/1 [00:00<00:00, 246.67it/s]\n",
      "100%|██████████| 20/20 [00:00<00:00, 258.57it/s]\n",
      "  0%|          | 0/29 [00:00<?, ?it/s]"
     ]
    },
    {
     "name": "stdout",
     "output_type": "stream",
     "text": [
      "./data/muts/eep//WT_P_aeruginosa_spent_medium_mut.csv\n",
      "./data/muts/eep//EG_pCA24N-fucO_mut.csv\n",
      "./data/muts/eep//TOL hexamethylenediamine_mut.csv\n",
      "./data/muts/eep//SSW GLU XYL.csv\n"
     ]
    },
    {
     "name": "stderr",
     "output_type": "stream",
     "text": [
      "100%|██████████| 29/29 [00:00<00:00, 304.23it/s]\n",
      "100%|██████████| 6/6 [00:00<00:00, 299.37it/s]\n",
      "100%|██████████| 35/35 [00:00<00:00, 305.39it/s]\n",
      "100%|██████████| 6/6 [00:00<00:00, 246.83it/s]\n",
      "  0%|          | 0/10 [00:00<?, ?it/s]"
     ]
    },
    {
     "name": "stdout",
     "output_type": "stream",
     "text": [
      "./data/muts/eep//SER.csv\n",
      "./data/muts/eep//SSW GLU AC.csv\n",
      "./data/muts/eep//MG1655_doxycycline_mut.csv\n",
      "./data/muts/eep//evo_mut.csv\n"
     ]
    },
    {
     "name": "stderr",
     "output_type": "stream",
     "text": [
      "100%|██████████| 10/10 [00:00<00:00, 235.30it/s]\n",
      "100%|██████████| 2/2 [00:00<00:00, 225.07it/s]\n",
      "100%|██████████| 37/37 [00:00<00:00, 242.61it/s]\n",
      "  0%|          | 0/8 [00:00<?, ?it/s]"
     ]
    },
    {
     "name": "stdout",
     "output_type": "stream",
     "text": [
      "./data/muts/eep//JCL260__isobutanol_production_host-M9-MG1655gbk_mut.csv\n",
      "./data/muts/eep//ndh-cydB-appC_mut.csv\n",
      "./data/muts/eep//MG1655-M9-NC_000913_3gb-stationary-37-D-arabinose2_mut.csv\n"
     ]
    },
    {
     "name": "stderr",
     "output_type": "stream",
     "text": [
      "100%|██████████| 8/8 [00:00<00:00, 250.87it/s]\n",
      "100%|██████████| 4/4 [00:00<00:00, 298.55it/s]\n",
      "100%|██████████| 20/20 [00:00<00:00, 255.17it/s]\n",
      "100%|██████████| 20/20 [00:00<00:00, 258.63it/s]\n"
     ]
    },
    {
     "name": "stdout",
     "output_type": "stream",
     "text": [
      "./data/muts/eep//SSW AC.csv\n",
      "./data/muts/eep//TOL propanediol_mut.csv\n",
      "./data/muts/eep//TOL 2,3-butanediol_mut.csv\n",
      "./data/muts/eep//sdh_mut.csv\n"
     ]
    },
    {
     "name": "stderr",
     "output_type": "stream",
     "text": [
      "100%|██████████| 10/10 [00:00<00:00, 246.45it/s]\n",
      "100%|██████████| 11/11 [00:00<00:00, 237.24it/s]\n",
      " 52%|█████▏    | 25/48 [00:00<00:00, 242.02it/s]"
     ]
    },
    {
     "name": "stdout",
     "output_type": "stream",
     "text": [
      "./data/muts/eep//tpiVCH_mut.csv\n",
      "./data/muts/eep//GLU.csv\n"
     ]
    },
    {
     "name": "stderr",
     "output_type": "stream",
     "text": [
      "100%|██████████| 48/48 [00:00<00:00, 235.08it/s]\n",
      "100%|██████████| 24/24 [00:00<00:00, 243.82it/s]\n",
      "100%|██████████| 7/7 [00:00<00:00, 239.78it/s]\n",
      "  0%|          | 0/56 [00:00<?, ?it/s]"
     ]
    },
    {
     "name": "stdout",
     "output_type": "stream",
     "text": [
      "./data/muts/eep//pgiBME_mut.csv\n",
      "./data/muts/eep//MG1655_trimethoprim_mut.csv\n",
      "./data/muts/eep//tpiHSA_mut.csv\n"
     ]
    },
    {
     "name": "stderr",
     "output_type": "stream",
     "text": [
      "100%|██████████| 56/56 [00:00<00:00, 236.29it/s]\n",
      "100%|██████████| 13/13 [00:00<00:00, 305.92it/s]\n",
      " 69%|██████▉   | 25/36 [00:00<00:00, 242.36it/s]"
     ]
    },
    {
     "name": "stdout",
     "output_type": "stream",
     "text": [
      "./data/muts/eep//SSW GLU GLY.csv\n",
      "./data/muts/eep//MG1655-pBGT_ceftazidime_mut.csv\n"
     ]
    },
    {
     "name": "stderr",
     "output_type": "stream",
     "text": [
      "100%|██████████| 36/36 [00:00<00:00, 238.28it/s]\n",
      "100%|██████████| 20/20 [00:00<00:00, 259.87it/s]\n",
      "100%|██████████| 5/5 [00:00<00:00, 236.34it/s]\n",
      "  0%|          | 0/31 [00:00<?, ?it/s]"
     ]
    },
    {
     "name": "stdout",
     "output_type": "stream",
     "text": [
      "./data/muts/eep//TOL hexanoic acid_mut.csv\n",
      "./data/muts/eep//wt_mut.csv\n",
      "./data/muts/eep//application_of_ALE_to_re-optimize_growth_performance_of_genome-reduced_strain_MS56-M9-MG1655gbk_mut.csv\n"
     ]
    },
    {
     "name": "stderr",
     "output_type": "stream",
     "text": [
      "100%|██████████| 31/31 [00:00<00:00, 225.25it/s]\n",
      "100%|██████████| 4/4 [00:00<00:00, 241.70it/s]\n",
      "100%|██████████| 5/5 [00:00<00:00, 241.60it/s]\n",
      "100%|██████████| 1/1 [00:00<00:00, 247.42it/s]\n",
      "100%|██████████| 13/13 [00:00<00:00, 243.41it/s]\n",
      "100%|██████████| 6/6 [00:00<00:00, 242.25it/s]\n",
      "  0%|          | 0/13 [00:00<?, ?it/s]"
     ]
    },
    {
     "name": "stdout",
     "output_type": "stream",
     "text": [
      "./data/muts/eep//pyocyanin_supplemented_medium_mut.csv\n",
      "./data/muts/eep//MG1655_ceftazidime_mut.csv\n",
      "./data/muts/eep//OxidizeME PQ3_mut.csv\n",
      "./data/muts/eep//pgiHSA_mut.csv\n",
      "./data/muts/eep//pgiVCH_mut.csv\n",
      "./data/muts/eep//tpi_mut.csv\n"
     ]
    },
    {
     "name": "stderr",
     "output_type": "stream",
     "text": [
      "100%|██████████| 13/13 [00:00<00:00, 236.78it/s]\n",
      "100%|██████████| 6/6 [00:00<00:00, 242.68it/s]\n",
      "100%|██████████| 20/20 [00:00<00:00, 261.47it/s]\n",
      "100%|██████████| 20/20 [00:00<00:00, 262.26it/s]"
     ]
    },
    {
     "name": "stdout",
     "output_type": "stream",
     "text": [
      "./data/muts/eep//MG1655_chloramphenicol_mut.csv\n",
      "./data/muts/eep//TOL coumaric acid_mut.csv\n",
      "./data/muts/eep//TOL isobutyric acid_mut.csv\n"
     ]
    },
    {
     "name": "stderr",
     "output_type": "stream",
     "text": [
      "\n",
      "100%|██████████| 4/4 [00:00<00:00, 300.17it/s]\n",
      "100%|██████████| 25/25 [00:00<00:00, 242.07it/s]\n",
      "100%|██████████| 4/4 [00:00<00:00, 240.08it/s]\n",
      "100%|██████████| 4/4 [00:00<00:00, 305.52it/s]\n",
      "  0%|          | 0/13 [00:00<?, ?it/s]"
     ]
    },
    {
     "name": "stdout",
     "output_type": "stream",
     "text": [
      "./data/muts/eep//SSW GLY.csv\n",
      "./data/muts/eep//ILT_MG1655_mut.csv\n",
      "./data/muts/eep//untreated_gallium-nitrate.csv\n",
      "./data/muts/eep//SSW XYL.csv\n",
      "./data/muts/eep//pts_mut.csv\n"
     ]
    },
    {
     "name": "stderr",
     "output_type": "stream",
     "text": [
      "100%|██████████| 13/13 [00:00<00:00, 234.37it/s]\n",
      "100%|██████████| 7/7 [00:00<00:00, 256.82it/s]\n",
      "100%|██████████| 1/1 [00:00<00:00, 268.11it/s]\n",
      "100%|██████████| 26/26 [00:00<00:00, 239.82it/s]\n",
      "  0%|          | 0/67 [00:00<?, ?it/s]"
     ]
    },
    {
     "name": "stdout",
     "output_type": "stream",
     "text": [
      "./data/muts/eep//MG1655-M9-NC_000913_3gb-stationary-37-m-tartrate2_mut.csv\n",
      "./data/muts/eep//untreated_pCA24N-fucO_mut.csv\n",
      "./data/muts/eep//pgiPAE_mut.csv\n",
      "./data/muts/eep//GYD.csv\n"
     ]
    },
    {
     "name": "stderr",
     "output_type": "stream",
     "text": [
      "100%|██████████| 67/67 [00:00<00:00, 215.26it/s]\n",
      "100%|██████████| 17/17 [00:00<00:00, 232.95it/s]\n",
      "100%|██████████| 1/1 [00:00<00:00, 265.04it/s]\n",
      "100%|██████████| 13/13 [00:00<00:00, 241.53it/s]\n",
      "  0%|          | 0/66 [00:00<?, ?it/s]"
     ]
    },
    {
     "name": "stdout",
     "output_type": "stream",
     "text": [
      "./data/muts/eep//ndh-cyoB_mut.csv\n",
      "./data/muts/eep//MG1655_anchestor_mut.csv\n",
      "./data/muts/eep//pgiKO_mut.csv\n",
      "./data/muts/eep//pgi_mut.csv\n"
     ]
    },
    {
     "name": "stderr",
     "output_type": "stream",
     "text": [
      "100%|██████████| 66/66 [00:00<00:00, 237.45it/s]\n",
      "100%|██████████| 6/6 [00:00<00:00, 241.15it/s]\n",
      "100%|██████████| 12/12 [00:00<00:00, 306.85it/s]\n",
      "100%|██████████| 5/5 [00:00<00:00, 245.34it/s]\n",
      "100%|██████████| 10/10 [00:00<00:00, 243.77it/s]"
     ]
    },
    {
     "name": "stdout",
     "output_type": "stream",
     "text": [
      "./data/muts/eep//MG1655-pBGT_untreated_mut.csv\n",
      "./data/muts/eep//C13.csv\n",
      "./data/muts/eep//MG1655-blaTEM1_ceftazidime_mut.csv\n",
      "./data/muts/eep//gnd_mut.csv\n"
     ]
    },
    {
     "name": "stderr",
     "output_type": "stream",
     "text": [
      "\n"
     ]
    },
    {
     "data": {
      "text/plain": [
       "{'42C',\n",
       " 'C13',\n",
       " 'EG_pCA24N-fucO',\n",
       " 'GLU',\n",
       " 'GYD',\n",
       " 'ILT_MG1655',\n",
       " 'Iron-ALE',\n",
       " 'JCL260__isobutanol_production_host-M9-MG1655gbk',\n",
       " 'MG1655-M9-NC_000913_3gb-stationary-37-D-2-deoxyribose2',\n",
       " 'MG1655-M9-NC_000913_3gb-stationary-37-D-arabinose2',\n",
       " 'MG1655-M9-NC_000913_3gb-stationary-37-D-lyxose2',\n",
       " 'MG1655-M9-NC_000913_3gb-stationary-37-m-tartrate2',\n",
       " 'MG1655-M9-NC_000913_3gb-stationary-37-monomethyl_succinate2',\n",
       " 'MG1655-blaTEM1_ceftazidime',\n",
       " 'MG1655-blaTEM1_untreated',\n",
       " 'MG1655-pBGT_ceftazidime',\n",
       " 'MG1655-pBGT_untreated',\n",
       " 'MG1655_anchestor',\n",
       " 'MG1655_ceftazidime',\n",
       " 'MG1655_chloramphenicol',\n",
       " 'MG1655_doxycycline',\n",
       " 'MG1655_trimethoprim',\n",
       " 'MG1655_untreated',\n",
       " 'OxidizeME_PQ3',\n",
       " 'PGI',\n",
       " 'SER',\n",
       " 'SSW_AC',\n",
       " 'SSW_GLU_AC',\n",
       " 'SSW_GLU_GLY',\n",
       " 'SSW_GLU_XYL',\n",
       " 'SSW_GLY',\n",
       " 'SSW_XYL',\n",
       " 'TOL_2,3-butanediol',\n",
       " 'TOL_adipic_acid',\n",
       " 'TOL_coumaric_acid',\n",
       " 'TOL_glutaric_acid',\n",
       " 'TOL_hexamethylenediamine',\n",
       " 'TOL_hexanoic_acid',\n",
       " 'TOL_isobutyric_acid',\n",
       " 'TOL_n-butanol',\n",
       " 'TOL_octanoic_acid',\n",
       " 'TOL_propanediol',\n",
       " 'TOL_putrescine',\n",
       " 'WT_P_aeruginosa_spent_medium',\n",
       " 'application_of_ALE_to_re-optimize_growth_performance_of_genome-reduced_strain_MS56-M9-MG1655gbk',\n",
       " 'cydB-appC',\n",
       " 'evo',\n",
       " 'gallium-nitrate',\n",
       " 'gnd',\n",
       " 'ndh',\n",
       " 'ndh-cydB-appC',\n",
       " 'ndh-cyoB',\n",
       " 'pgi',\n",
       " 'pgiBME',\n",
       " 'pgiHSA',\n",
       " 'pgiKO',\n",
       " 'pgiPAE',\n",
       " 'pgiVCH',\n",
       " 'pts',\n",
       " 'pvdJ_KO_P_aeruginosa_spent_medium',\n",
       " 'pyocyanin_supplemented_medium',\n",
       " 'sdh',\n",
       " 'tpi',\n",
       " 'tpiHSA',\n",
       " 'tpiKO',\n",
       " 'tpiPAE',\n",
       " 'tpiVCH',\n",
       " 'untreated_pCA24N-fucO',\n",
       " 'wt'}"
      ]
     },
     "metadata": {},
     "output_type": "display_data"
    }
   ],
   "source": [
    "muts_df = get_all_sample_mut_df(\"./data/muts/eep/\")\n",
    "# unpublished_muts_df = get_all_sample_mut_df(\"./data/muts/unpublished/\")  # I've currently placed GYD into the public mutation set.\n",
    "# muts_df = muts_df.append(unpublished_muts_df)\n",
    "display(set(muts_df[\"exp\"]))"
   ]
  },
  {
   "cell_type": "markdown",
   "metadata": {},
   "source": [
    "Getting number of samples from raw dataset, since by the end of the NB, the samples are flattened into ALEs by the \"ALE-unique mutations\" logic"
   ]
  },
  {
   "cell_type": "code",
   "execution_count": 4,
   "metadata": {
    "execution": {
     "iopub.execute_input": "2021-05-03T02:14:28.768615Z",
     "iopub.status.busy": "2021-05-03T02:14:28.768261Z",
     "iopub.status.idle": "2021-05-03T02:14:29.402727Z",
     "shell.execute_reply": "2021-05-03T02:14:29.402408Z"
    }
   },
   "outputs": [],
   "source": [
    "def get_exp_sample_name(exp_name, ale, flask, isolate, tech_rep):\n",
    "    sample_name = exp_name + \" \" + str(int(ale)) + \" \" + str(int(flask)) + \" \" + str(int(isolate)) + \" \" + str(int(tech_rep))\n",
    "    return sample_name\n",
    "\n",
    "muts_df[\"sample\"] = muts_df.apply(lambda r: get_exp_sample_name(r.exp, r.ale, r.flask, r.isolate, r.tech_rep), axis=1)"
   ]
  },
  {
   "cell_type": "code",
   "execution_count": 5,
   "metadata": {
    "execution": {
     "iopub.execute_input": "2021-05-03T02:14:29.405877Z",
     "iopub.status.busy": "2021-05-03T02:14:29.405531Z",
     "iopub.status.idle": "2021-05-03T02:14:29.408928Z",
     "shell.execute_reply": "2021-05-03T02:14:29.408627Z"
    }
   },
   "outputs": [
    {
     "data": {
      "text/plain": [
       "1105"
      ]
     },
     "execution_count": 5,
     "metadata": {},
     "output_type": "execute_result"
    }
   ],
   "source": [
    "len(muts_df[\"sample\"].unique())"
   ]
  },
  {
   "cell_type": "code",
   "execution_count": 31,
   "metadata": {
    "execution": {
     "iopub.execute_input": "2021-05-03T02:14:29.411287Z",
     "iopub.status.busy": "2021-05-03T02:14:29.410911Z",
     "iopub.status.idle": "2021-05-03T02:14:29.412870Z",
     "shell.execute_reply": "2021-05-03T02:14:29.413145Z"
    }
   },
   "outputs": [
    {
     "data": {
      "text/plain": [
       "5762"
      ]
     },
     "execution_count": 31,
     "metadata": {},
     "output_type": "execute_result"
    }
   ],
   "source": [
    "len(muts_df)"
   ]
  },
  {
   "cell_type": "markdown",
   "metadata": {},
   "source": [
    "## remove problem and starting strain mutations"
   ]
  },
  {
   "cell_type": "code",
   "execution_count": 7,
   "metadata": {
    "execution": {
     "iopub.execute_input": "2021-05-03T02:14:29.429476Z",
     "iopub.status.busy": "2021-05-03T02:14:29.429084Z",
     "iopub.status.idle": "2021-05-03T02:14:29.430972Z",
     "shell.execute_reply": "2021-05-03T02:14:29.430614Z"
    }
   },
   "outputs": [],
   "source": [
    "# Different experiments have different strings for position (some with commas, some without), therefore going ahead and changing them all to integers\n",
    "muts_df.Position = muts_df.Position.apply(lambda x: int(str(x).replace(\",\",\"\")))\n",
    "muts_df.Position = muts_df.Position.astype(int)"
   ]
  },
  {
   "cell_type": "code",
   "execution_count": 8,
   "metadata": {
    "execution": {
     "iopub.execute_input": "2021-05-03T02:14:29.438219Z",
     "iopub.status.busy": "2021-05-03T02:14:29.437830Z",
     "iopub.status.idle": "2021-05-03T02:14:29.493762Z",
     "shell.execute_reply": "2021-05-03T02:14:29.494047Z"
    }
   },
   "outputs": [
    {
     "data": {
      "text/plain": [
       "18268"
      ]
     },
     "metadata": {},
     "output_type": "display_data"
    },
    {
     "data": {
      "text/html": [
       "<div>\n",
       "<style scoped>\n",
       "    .dataframe tbody tr th:only-of-type {\n",
       "        vertical-align: middle;\n",
       "    }\n",
       "\n",
       "    .dataframe tbody tr th {\n",
       "        vertical-align: top;\n",
       "    }\n",
       "\n",
       "    .dataframe thead th {\n",
       "        text-align: right;\n",
       "    }\n",
       "</style>\n",
       "<table border=\"1\" class=\"dataframe\">\n",
       "  <thead>\n",
       "    <tr style=\"text-align: right;\">\n",
       "      <th></th>\n",
       "      <th>exp</th>\n",
       "      <th>ale</th>\n",
       "      <th>flask</th>\n",
       "      <th>isolate</th>\n",
       "      <th>tech_rep</th>\n",
       "      <th>presence</th>\n",
       "      <th>Position</th>\n",
       "      <th>Mutation Type</th>\n",
       "      <th>Sequence Change</th>\n",
       "      <th>Details</th>\n",
       "      <th>Gene</th>\n",
       "      <th>Reference Seq</th>\n",
       "      <th>Mut ID</th>\n",
       "      <th>sample</th>\n",
       "    </tr>\n",
       "  </thead>\n",
       "  <tbody>\n",
       "    <tr>\n",
       "      <th>6</th>\n",
       "      <td>MG1655_untreated</td>\n",
       "      <td>1</td>\n",
       "      <td>16</td>\n",
       "      <td>0</td>\n",
       "      <td>1</td>\n",
       "      <td>1.00</td>\n",
       "      <td>1397381</td>\n",
       "      <td>DEL</td>\n",
       "      <td>Δ13,756 bp</td>\n",
       "      <td></td>\n",
       "      <td>[ynaJ],uspE,fnr,ogt,abgT,abgB,abgA,abgR,mcaS,s...</td>\n",
       "      <td>NC_000913</td>\n",
       "      <td>1608368.0</td>\n",
       "      <td>MG1655_untreated 1 16 0 1</td>\n",
       "    </tr>\n",
       "    <tr>\n",
       "      <th>14</th>\n",
       "      <td>MG1655_untreated</td>\n",
       "      <td>1</td>\n",
       "      <td>16</td>\n",
       "      <td>0</td>\n",
       "      <td>1</td>\n",
       "      <td>0.61</td>\n",
       "      <td>4542237</td>\n",
       "      <td>MOB</td>\n",
       "      <td>IS1 (+) +9 bp</td>\n",
       "      <td>coding (201‑209/597 nt)</td>\n",
       "      <td>fimE</td>\n",
       "      <td>NC_000913</td>\n",
       "      <td>1608475.0</td>\n",
       "      <td>MG1655_untreated 1 16 0 1</td>\n",
       "    </tr>\n",
       "    <tr>\n",
       "      <th>6</th>\n",
       "      <td>MG1655_untreated</td>\n",
       "      <td>2</td>\n",
       "      <td>16</td>\n",
       "      <td>0</td>\n",
       "      <td>1</td>\n",
       "      <td>1.00</td>\n",
       "      <td>1397381</td>\n",
       "      <td>DEL</td>\n",
       "      <td>Δ13,756 bp</td>\n",
       "      <td></td>\n",
       "      <td>[ynaJ],uspE,fnr,ogt,abgT,abgB,abgA,abgR,mcaS,s...</td>\n",
       "      <td>NC_000913</td>\n",
       "      <td>1608368.0</td>\n",
       "      <td>MG1655_untreated 2 16 0 1</td>\n",
       "    </tr>\n",
       "    <tr>\n",
       "      <th>11</th>\n",
       "      <td>MG1655_untreated</td>\n",
       "      <td>2</td>\n",
       "      <td>16</td>\n",
       "      <td>0</td>\n",
       "      <td>1</td>\n",
       "      <td>0.22</td>\n",
       "      <td>4542456</td>\n",
       "      <td>MOB</td>\n",
       "      <td>IS1 (+) +9 bp</td>\n",
       "      <td>coding (420‑428/597 nt)</td>\n",
       "      <td>fimE</td>\n",
       "      <td>NC_000913</td>\n",
       "      <td>1608472.0</td>\n",
       "      <td>MG1655_untreated 2 16 0 1</td>\n",
       "    </tr>\n",
       "    <tr>\n",
       "      <th>12</th>\n",
       "      <td>MG1655_untreated</td>\n",
       "      <td>2</td>\n",
       "      <td>16</td>\n",
       "      <td>0</td>\n",
       "      <td>1</td>\n",
       "      <td>0.21</td>\n",
       "      <td>4542831</td>\n",
       "      <td>MOB</td>\n",
       "      <td>IS5 (+) +4 bp</td>\n",
       "      <td>intergenic (+198/‑281)</td>\n",
       "      <td>fimE, fimA</td>\n",
       "      <td>NC_000913</td>\n",
       "      <td>1608473.0</td>\n",
       "      <td>MG1655_untreated 2 16 0 1</td>\n",
       "    </tr>\n",
       "  </tbody>\n",
       "</table>\n",
       "</div>"
      ],
      "text/plain": [
       "                 exp  ale  flask  isolate  tech_rep  presence  Position  \\\n",
       "6   MG1655_untreated    1     16        0         1      1.00   1397381   \n",
       "14  MG1655_untreated    1     16        0         1      0.61   4542237   \n",
       "6   MG1655_untreated    2     16        0         1      1.00   1397381   \n",
       "11  MG1655_untreated    2     16        0         1      0.22   4542456   \n",
       "12  MG1655_untreated    2     16        0         1      0.21   4542831   \n",
       "\n",
       "   Mutation Type Sequence Change                  Details  \\\n",
       "6            DEL      Δ13,756 bp                            \n",
       "14           MOB   IS1 (+) +9 bp  coding (201‑209/597 nt)   \n",
       "6            DEL      Δ13,756 bp                            \n",
       "11           MOB   IS1 (+) +9 bp  coding (420‑428/597 nt)   \n",
       "12           MOB   IS5 (+) +4 bp   intergenic (+198/‑281)   \n",
       "\n",
       "                                                 Gene Reference Seq  \\\n",
       "6   [ynaJ],uspE,fnr,ogt,abgT,abgB,abgA,abgR,mcaS,s...     NC_000913   \n",
       "14                                               fimE     NC_000913   \n",
       "6   [ynaJ],uspE,fnr,ogt,abgT,abgB,abgA,abgR,mcaS,s...     NC_000913   \n",
       "11                                               fimE     NC_000913   \n",
       "12                                         fimE, fimA     NC_000913   \n",
       "\n",
       "       Mut ID                     sample  \n",
       "6   1608368.0  MG1655_untreated 1 16 0 1  \n",
       "14  1608475.0  MG1655_untreated 1 16 0 1  \n",
       "6   1608368.0  MG1655_untreated 2 16 0 1  \n",
       "11  1608472.0  MG1655_untreated 2 16 0 1  \n",
       "12  1608473.0  MG1655_untreated 2 16 0 1  "
      ]
     },
     "metadata": {},
     "output_type": "display_data"
    }
   ],
   "source": [
    "muts_df = muts_df[~(\n",
    "# For whatever reason, the gene annotations can change between version of breseq or runs\n",
    "#     ((muts_df.Gene == \"gatC\")\n",
    "#      | (muts_df.Gene == \"gatC, gatC\"))\n",
    "    ((muts_df.Position == 2173361)\n",
    "       | (muts_df.Position == 2173363)\n",
    "       | (muts_df.Position == 2173364))\n",
    "    & ((muts_df[\"Sequence Change\"] == \"Δ2 bp\")\n",
    "       | (muts_df[\"Sequence Change\"] == \"Δ1 bp\"))\n",
    ")]\n",
    "\n",
    "muts_df = muts_df[~(\n",
    "#     (muts_df.Gene == \"[crl]\")  # For whatever reason, the gene annotations can change between version of breseq or runs\n",
    "    (muts_df.Position == 257908)\n",
    "    & (muts_df[\"Sequence Change\"] == \"Δ776 bp\"))]\n",
    "\n",
    "muts_df = muts_df[~(\n",
    "#     (muts_df.Gene == \"insB1, insA\")  # For whatever reason, the gene annotations can change between version of breseq or runs\n",
    "    (muts_df.Position == 1978503)\n",
    "    & (muts_df[\"Sequence Change\"] == \"Δ776 bp\"))]\n",
    "\n",
    "muts_df = muts_df[~(\n",
    "#     (muts_df.Gene == \"ychE, oppA\")  # For whatever reason, the gene annotations can change between version of breseq or runs\n",
    "    (muts_df.Position == 1299499)\n",
    "    & (muts_df[\"Sequence Change\"] == \"Δ1,199 bp\"))]\n",
    "\n",
    "muts_df = muts_df[~(\n",
    "# For whatever reason, the gene annotations can change between version of breseq or runs\n",
    "#     ((muts_df.Gene == \"glpR\")\n",
    "#      | (muts_df.Gene == \"glpR, glpR\")\n",
    "#      | (muts_df.Gene == \"glpR/glpR\"))\n",
    "    (muts_df.Position == 3560455)\n",
    "    & (muts_df[\"Sequence Change\"] == \"+G\"))]\n",
    "\n",
    "muts_df = muts_df[~(\n",
    "#     (muts_df.Gene == \"gltP, yjcO\")  # For whatever reason, the gene annotations can change between version of breseq or runs\n",
    "    (muts_df.Position == 4296381)\n",
    "    & (muts_df[\"Sequence Change\"] == \"+GC\"))]\n",
    "\n",
    "muts_df = muts_df[~(\n",
    "#     (muts_df.Gene == \"gltP, yjcO\")  # For whatever reason, the gene annotations can change between version of breseq or runs\n",
    "    (muts_df.Position == 4296380)\n",
    "    & (muts_df[\"Sequence Change\"] == \"+CG\"))]\n",
    "\n",
    "muts_df = muts_df[~(\n",
    "#     (muts_df.Gene == \"insB1,insA\")  # For whatever reason, the gene annotations can change between version of breseq or runs\n",
    "    (muts_df.Position == 1978503)\n",
    "    & (muts_df[\"Sequence Change\"] == \"Δ776 bp\"))]\n",
    "\n",
    "muts_df = muts_df[~(\n",
    "#     ((muts_df.Gene == \"insA/uspC\") | (muts_df.Gene == \"insA, uspC\"))  # For whatever reason, the gene annotations can change between version of breseq or runs\n",
    "    (muts_df.Position == 1979486)\n",
    "    & (muts_df[\"Sequence Change\"] == \"IS5 (+) +4 bp\"))]\n",
    "\n",
    "\n",
    "muts_df = muts_df[~(\n",
    "#     (muts_df.Gene == \"corA\")  # For whatever reason, the gene annotations can change between version of breseq or runs\n",
    "    (muts_df.exp != \"GLU\")  # This is the ALE that originated the corA mutation that is found in all CCK samples, therefore should track\n",
    "    & (muts_df.Position == 4001645)\n",
    "    & (muts_df[\"Sequence Change\"] == \"Δ5 bp\"))]\n",
    "\n",
    "\n",
    "muts_df = muts_df[~(\n",
    "#     (muts_df.Gene == \"wcaA\")  # For whatever reason, the gene annotations can change between version of breseq or runs\n",
    "    (muts_df.exp != \"GLU\")  # This is the ALE that originated the corA mutation that is found in all CCK samples, therefore should track\n",
    "    & (muts_df.Position == 2132787)\n",
    "    & (muts_df[\"Details\"] == \"I204S (ATC→AGC)\"))]\n",
    "\n",
    "\n",
    "p = {4293212, 4293403, 4293430, 4296060, 4296154, 4296189,\n",
    " 4296190, 4296191, 4296267, 4296268, 4296286, 4296380, 4296382}\n",
    "ch = {'+C', '+G', 'A→C', 'A→G', 'A→T', 'C→A', 'C→T', 'T→C'}\n",
    "muts_df = muts_df[~(\n",
    "#     (muts_df.Gene == \"gltP, yjcO\")\n",
    "    (muts_df[\"Position\"].isin(p))\n",
    "    & (muts_df[\"Sequence Change\"].isin(ch))\n",
    "       )]\n",
    "\n",
    "display(len(muts_df), muts_df.head())"
   ]
  },
  {
   "cell_type": "code",
   "execution_count": 9,
   "metadata": {
    "execution": {
     "iopub.execute_input": "2021-05-03T02:14:29.505993Z",
     "iopub.status.busy": "2021-05-03T02:14:29.505553Z",
     "iopub.status.idle": "2021-05-03T02:14:29.507334Z",
     "shell.execute_reply": "2021-05-03T02:14:29.506979Z"
    }
   },
   "outputs": [],
   "source": [
    "reduced_ecoli_ale = 'application_of_ALE_to_re-optimize_growth_performance_of_genome-reduced_strain_MS56-M9-MG1655gbk'\n",
    "MG1655_pBGT_untreated = \"MG1655-pBGT_untreated\"\n",
    "MG1655_untreated = \"MG1655_untreated\"\n",
    "MG1655_blaTEM1_untreated = \"MG1655-blaTEM1_untreated\"\n",
    "muts_to_remove = [\n",
    "    {\"experiment\":MG1655_blaTEM1_untreated,\"position\":1397381,\"sequence change\":\"Δ13,756 bp\"},\n",
    "    {\"experiment\":MG1655_untreated,\"position\":1397381,\"sequence change\":\"Δ13,756 bp\"},\n",
    "    {\"experiment\":MG1655_pBGT_untreated,\"position\":1397381,\"sequence change\":\"Δ13,756 bp\"},\n",
    "    {\"experiment\":reduced_ecoli_ale,\"position\":389898,\"sequence change\":\"Δ9,908 bp\"},\n",
    "    {\"experiment\":reduced_ecoli_ale,\"position\":1388889,\"sequence change\":\"Δ9,734 bp\"},\n",
    "    {\"experiment\":reduced_ecoli_ale,\"position\":2466545,\"sequence change\":\"Δ9,634 bp\"},\n",
    "    {\"experiment\":reduced_ecoli_ale,\"position\":729365,\"sequence change\":\"Δ9,598 bp\"},\n",
    "    {\"experiment\":reduced_ecoli_ale,\"position\":3815859,\"sequence change\":\"Δ82 bp\"},\n",
    "    {\"experiment\":reduced_ecoli_ale,\"position\":1400325,\"sequence change\":\"Δ81,931 bp\"},\n",
    "    {\"experiment\":reduced_ecoli_ale,\"position\":380112,\"sequence change\":\"Δ8,537 bp\"},\n",
    "    {\"experiment\":reduced_ecoli_ale,\"position\":2509631,\"sequence change\":\"Δ8,319 bp\"},\n",
    "    {\"experiment\":reduced_ecoli_ale,\"position\":3761993,\"sequence change\":\"Δ8,250 bp\"},\n",
    "    {\"experiment\":reduced_ecoli_ale,\"position\":257908,\"sequence change\":\"Δ776 bp\"},\n",
    "    {\"experiment\":reduced_ecoli_ale,\"position\":1978503,\"sequence change\":\"Δ776 bp\"},\n",
    "    {\"experiment\":reduced_ecoli_ale,\"position\":1040502,\"sequence change\":\"Δ73,763 bp\"},\n",
    "    {\"experiment\":reduced_ecoli_ale,\"position\":3090347,\"sequence change\":\"Δ708 bp\"},\n",
    "    {\"experiment\":reduced_ecoli_ale,\"position\":675552,\"sequence change\":\"Δ7,819 bp\"},\n",
    "    {\"experiment\":reduced_ecoli_ale,\"position\":4400289,\"sequence change\":\"Δ7 bp\"},\n",
    "    {\"experiment\":reduced_ecoli_ale,\"position\":819776,\"sequence change\":\"Δ62,977 bp\"},\n",
    "    {\"experiment\":reduced_ecoli_ale,\"position\":263514,\"sequence change\":\"Δ61,897 bp\"},\n",
    "    {\"experiment\":reduced_ecoli_ale,\"position\":3184782,\"sequence change\":\"Δ6,916 bp\"},\n",
    "    {\"experiment\":reduced_ecoli_ale,\"position\":997868,\"sequence change\":\"Δ6,818 bp\"},\n",
    "    {\"experiment\":reduced_ecoli_ale,\"position\":2558699,\"sequence change\":\"Δ6,790 bp\"},\n",
    "    {\"experiment\":reduced_ecoli_ale,\"position\":3618992,\"sequence change\":\"Δ6,688 bp\"},\n",
    "    {\"experiment\":reduced_ecoli_ale,\"position\":4496676,\"sequence change\":\"Δ53,036 bp\"},\n",
    "    {\"experiment\":reduced_ecoli_ale,\"position\":167484,\"sequence change\":\"Δ5,964 bp\"},\n",
    "    {\"experiment\":reduced_ecoli_ale,\"position\":603467,\"sequence change\":\"Δ5,885 bp\"},\n",
    "    {\"experiment\":reduced_ecoli_ale,\"position\":3362162,\"sequence change\":\"Δ5,481 bp\"},\n",
    "    {\"experiment\":reduced_ecoli_ale,\"position\":765208,\"sequence change\":\"Δ5,405 bp\"},\n",
    "    {\"experiment\":reduced_ecoli_ale,\"position\":15389,\"sequence change\":\"Δ5,175 bp\"},\n",
    "    {\"experiment\":reduced_ecoli_ale,\"position\":1509562,\"sequence change\":\"Δ46,201 bp\"},\n",
    "    {\"experiment\":reduced_ecoli_ale,\"position\":332366,\"sequence change\":\"Δ44,951 bp\"},\n",
    "    {\"experiment\":reduced_ecoli_ale,\"position\":4555491,\"sequence change\":\"Δ41,523 bp\"},\n",
    "    {\"experiment\":reduced_ecoli_ale,\"position\":508873,\"sequence change\":\"Δ40,744 bp\"},\n",
    "    {\"experiment\":reduced_ecoli_ale,\"position\":1223090,\"sequence change\":\"Δ4 bp\"},\n",
    "    {\"experiment\":reduced_ecoli_ale,\"position\":2101397,\"sequence change\":\"Δ36,321 bp\"},\n",
    "    {\"experiment\":reduced_ecoli_ale,\"position\":2756160,\"sequence change\":\"Δ35,091 bp\"},\n",
    "    {\"experiment\":reduced_ecoli_ale,\"position\":2204350,\"sequence change\":\"Δ32,368 bp\"},\n",
    "    {\"experiment\":reduced_ecoli_ale,\"position\":2994992,\"sequence change\":\"Δ3,877 bp\"},\n",
    "    {\"experiment\":reduced_ecoli_ale,\"position\":2286401,\"sequence change\":\"Δ3,780 bp\"},\n",
    "    {\"experiment\":reduced_ecoli_ale,\"position\":1997112,\"sequence change\":\"Δ26,567 bp\"},\n",
    "    {\"experiment\":reduced_ecoli_ale,\"position\":1197137,\"sequence change\":\"Δ25,940 bp\"},\n",
    "    {\"experiment\":reduced_ecoli_ale,\"position\":4299628,\"sequence change\":\"Δ25,538 bp\"},\n",
    "    {\"experiment\":reduced_ecoli_ale,\"position\":1627518,\"sequence change\":\"Δ25,244 bp\"},\n",
    "    {\"experiment\":reduced_ecoli_ale,\"position\":565055,\"sequence change\":\"Δ21,054 bp\"},\n",
    "    {\"experiment\":reduced_ecoli_ale,\"position\":2846301,\"sequence change\":\"Δ20,968 bp\"},\n",
    "    {\"experiment\":reduced_ecoli_ale,\"position\":3651293,\"sequence change\":\"Δ2,422 bp\"},\n",
    "    {\"experiment\":reduced_ecoli_ale,\"position\":2173363,\"sequence change\":\"Δ2 bp\"},\n",
    "    {\"experiment\":reduced_ecoli_ale,\"position\":3888432,\"sequence change\":\"Δ18,167 bp\"},\n",
    "    {\"experiment\":reduced_ecoli_ale,\"position\":1962566,\"sequence change\":\"Δ16,764 bp\"},\n",
    "    {\"experiment\":reduced_ecoli_ale,\"position\":2320144,\"sequence change\":\"Δ16,489 bp\"},\n",
    "    {\"experiment\":reduced_ecoli_ale,\"position\":3453928,\"sequence change\":\"Δ15,926 bp\"},\n",
    "    {\"experiment\":reduced_ecoli_ale,\"position\":2601201,\"sequence change\":\"Δ13,595 bp\"},\n",
    "    {\"experiment\":reduced_ecoli_ale,\"position\":2165151,\"sequence change\":\"Δ12,060 bp\"},\n",
    "    {\"experiment\":reduced_ecoli_ale,\"position\":1129397,\"sequence change\":\"Δ11,591 bp\"},\n",
    "    {\"experiment\":reduced_ecoli_ale,\"position\":3593299,\"sequence change\":\"Δ10 bp\"},\n",
    "    {\"experiment\":reduced_ecoli_ale,\"position\":3720634,\"sequence change\":\"Δ1,442 bp\"},\n",
    "    {\"experiment\":reduced_ecoli_ale,\"position\":1872030,\"sequence change\":\"Δ1,437 bp\"},\n",
    "    {\"experiment\":reduced_ecoli_ale,\"position\":1299499,\"sequence change\":\"Δ1,199 bp\"},\n",
    "    {\"experiment\":reduced_ecoli_ale,\"position\":687860,\"sequence change\":\"Δ1,185 bp\"},\n",
    "    {\"experiment\":reduced_ecoli_ale,\"position\":3581139,\"sequence change\":\"3915 bp→6 bp\"},\n",
    "    {\"experiment\":reduced_ecoli_ale,\"position\":1197137,\"sequence change\":\"25956 bp→12 bp\"},\n",
    "    {\"experiment\":reduced_ecoli_ale,\"position\":3110680,\"sequence change\":\"25702 bp→GA\"},\n",
    "]"
   ]
  },
  {
   "cell_type": "code",
   "execution_count": 10,
   "metadata": {
    "execution": {
     "iopub.execute_input": "2021-05-03T02:14:29.511597Z",
     "iopub.status.busy": "2021-05-03T02:14:29.511070Z",
     "iopub.status.idle": "2021-05-03T02:14:29.736950Z",
     "shell.execute_reply": "2021-05-03T02:14:29.736644Z"
    }
   },
   "outputs": [
    {
     "data": {
      "text/plain": [
       "16902"
      ]
     },
     "metadata": {},
     "output_type": "display_data"
    },
    {
     "data": {
      "text/html": [
       "<div>\n",
       "<style scoped>\n",
       "    .dataframe tbody tr th:only-of-type {\n",
       "        vertical-align: middle;\n",
       "    }\n",
       "\n",
       "    .dataframe tbody tr th {\n",
       "        vertical-align: top;\n",
       "    }\n",
       "\n",
       "    .dataframe thead th {\n",
       "        text-align: right;\n",
       "    }\n",
       "</style>\n",
       "<table border=\"1\" class=\"dataframe\">\n",
       "  <thead>\n",
       "    <tr style=\"text-align: right;\">\n",
       "      <th></th>\n",
       "      <th>exp</th>\n",
       "      <th>ale</th>\n",
       "      <th>flask</th>\n",
       "      <th>isolate</th>\n",
       "      <th>tech_rep</th>\n",
       "      <th>presence</th>\n",
       "      <th>Position</th>\n",
       "      <th>Mutation Type</th>\n",
       "      <th>Sequence Change</th>\n",
       "      <th>Details</th>\n",
       "      <th>Gene</th>\n",
       "      <th>Reference Seq</th>\n",
       "      <th>Mut ID</th>\n",
       "      <th>sample</th>\n",
       "    </tr>\n",
       "  </thead>\n",
       "  <tbody>\n",
       "    <tr>\n",
       "      <th>14</th>\n",
       "      <td>MG1655_untreated</td>\n",
       "      <td>1</td>\n",
       "      <td>16</td>\n",
       "      <td>0</td>\n",
       "      <td>1</td>\n",
       "      <td>0.61</td>\n",
       "      <td>4542237</td>\n",
       "      <td>MOB</td>\n",
       "      <td>IS1 (+) +9 bp</td>\n",
       "      <td>coding (201‑209/597 nt)</td>\n",
       "      <td>fimE</td>\n",
       "      <td>NC_000913</td>\n",
       "      <td>1608475.0</td>\n",
       "      <td>MG1655_untreated 1 16 0 1</td>\n",
       "    </tr>\n",
       "    <tr>\n",
       "      <th>11</th>\n",
       "      <td>MG1655_untreated</td>\n",
       "      <td>2</td>\n",
       "      <td>16</td>\n",
       "      <td>0</td>\n",
       "      <td>1</td>\n",
       "      <td>0.22</td>\n",
       "      <td>4542456</td>\n",
       "      <td>MOB</td>\n",
       "      <td>IS1 (+) +9 bp</td>\n",
       "      <td>coding (420‑428/597 nt)</td>\n",
       "      <td>fimE</td>\n",
       "      <td>NC_000913</td>\n",
       "      <td>1608472.0</td>\n",
       "      <td>MG1655_untreated 2 16 0 1</td>\n",
       "    </tr>\n",
       "    <tr>\n",
       "      <th>12</th>\n",
       "      <td>MG1655_untreated</td>\n",
       "      <td>2</td>\n",
       "      <td>16</td>\n",
       "      <td>0</td>\n",
       "      <td>1</td>\n",
       "      <td>0.21</td>\n",
       "      <td>4542831</td>\n",
       "      <td>MOB</td>\n",
       "      <td>IS5 (+) +4 bp</td>\n",
       "      <td>intergenic (+198/‑281)</td>\n",
       "      <td>fimE, fimA</td>\n",
       "      <td>NC_000913</td>\n",
       "      <td>1608473.0</td>\n",
       "      <td>MG1655_untreated 2 16 0 1</td>\n",
       "    </tr>\n",
       "    <tr>\n",
       "      <th>8</th>\n",
       "      <td>MG1655_untreated</td>\n",
       "      <td>3</td>\n",
       "      <td>16</td>\n",
       "      <td>0</td>\n",
       "      <td>1</td>\n",
       "      <td>0.49</td>\n",
       "      <td>4542191</td>\n",
       "      <td>SNP</td>\n",
       "      <td>A→C</td>\n",
       "      <td>D52A (GAC→GCC)</td>\n",
       "      <td>fimE</td>\n",
       "      <td>NC_000913</td>\n",
       "      <td>1608466.0</td>\n",
       "      <td>MG1655_untreated 3 16 0 1</td>\n",
       "    </tr>\n",
       "    <tr>\n",
       "      <th>9</th>\n",
       "      <td>MG1655_untreated</td>\n",
       "      <td>3</td>\n",
       "      <td>16</td>\n",
       "      <td>0</td>\n",
       "      <td>1</td>\n",
       "      <td>0.33</td>\n",
       "      <td>4542298</td>\n",
       "      <td>MOB</td>\n",
       "      <td>IS1 (+) +8 bp</td>\n",
       "      <td>coding (262‑269/597 nt)</td>\n",
       "      <td>fimE</td>\n",
       "      <td>NC_000913</td>\n",
       "      <td>1608467.0</td>\n",
       "      <td>MG1655_untreated 3 16 0 1</td>\n",
       "    </tr>\n",
       "  </tbody>\n",
       "</table>\n",
       "</div>"
      ],
      "text/plain": [
       "                 exp  ale  flask  isolate  tech_rep  presence  Position  \\\n",
       "14  MG1655_untreated    1     16        0         1      0.61   4542237   \n",
       "11  MG1655_untreated    2     16        0         1      0.22   4542456   \n",
       "12  MG1655_untreated    2     16        0         1      0.21   4542831   \n",
       "8   MG1655_untreated    3     16        0         1      0.49   4542191   \n",
       "9   MG1655_untreated    3     16        0         1      0.33   4542298   \n",
       "\n",
       "   Mutation Type Sequence Change                  Details        Gene  \\\n",
       "14           MOB   IS1 (+) +9 bp  coding (201‑209/597 nt)        fimE   \n",
       "11           MOB   IS1 (+) +9 bp  coding (420‑428/597 nt)        fimE   \n",
       "12           MOB   IS5 (+) +4 bp   intergenic (+198/‑281)  fimE, fimA   \n",
       "8            SNP             A→C           D52A (GAC→GCC)        fimE   \n",
       "9            MOB   IS1 (+) +8 bp  coding (262‑269/597 nt)        fimE   \n",
       "\n",
       "   Reference Seq     Mut ID                     sample  \n",
       "14     NC_000913  1608475.0  MG1655_untreated 1 16 0 1  \n",
       "11     NC_000913  1608472.0  MG1655_untreated 2 16 0 1  \n",
       "12     NC_000913  1608473.0  MG1655_untreated 2 16 0 1  \n",
       "8      NC_000913  1608466.0  MG1655_untreated 3 16 0 1  \n",
       "9      NC_000913  1608467.0  MG1655_untreated 3 16 0 1  "
      ]
     },
     "metadata": {},
     "output_type": "display_data"
    }
   ],
   "source": [
    "for mut in muts_to_remove:\n",
    "    muts_df = muts_df[~(\n",
    "        (muts_df[\"exp\"] == mut[\"experiment\"])\n",
    "        & (muts_df[\"Position\"] == mut[\"position\"])\n",
    "        & (muts_df[\"Sequence Change\"] == mut[\"sequence change\"])\n",
    "    )]\n",
    "display(len(muts_df), muts_df.head())"
   ]
  },
  {
   "cell_type": "markdown",
   "metadata": {},
   "source": [
    "## Remove experiment specific starting strain mutations"
   ]
  },
  {
   "cell_type": "code",
   "execution_count": 11,
   "metadata": {
    "execution": {
     "iopub.execute_input": "2021-05-03T02:14:29.740480Z",
     "iopub.status.busy": "2021-05-03T02:14:29.740112Z",
     "iopub.status.idle": "2021-05-03T02:14:29.743227Z",
     "shell.execute_reply": "2021-05-03T02:14:29.742856Z"
    }
   },
   "outputs": [
    {
     "data": {
      "text/plain": [
       "array(['MG1655_untreated', '42C', 'Iron-ALE',\n",
       "       'MG1655-M9-NC_000913_3gb-stationary-37-monomethyl_succinate2',\n",
       "       'gallium-nitrate', 'TOL_adipic_acid', 'MG1655-blaTEM1_untreated',\n",
       "       'tpiKO', 'TOL_n-butanol', 'cydB-appC',\n",
       "       'pvdJ_KO_P_aeruginosa_spent_medium', 'tpiPAE', 'PGI',\n",
       "       'TOL_octanoic_acid', 'TOL_glutaric_acid',\n",
       "       'MG1655-M9-NC_000913_3gb-stationary-37-D-2-deoxyribose2',\n",
       "       'MG1655-M9-NC_000913_3gb-stationary-37-D-lyxose2', 'ndh',\n",
       "       'TOL_putrescine', 'WT_P_aeruginosa_spent_medium', 'EG_pCA24N-fucO',\n",
       "       'TOL_hexamethylenediamine', 'SSW_GLU_XYL', 'SER', 'SSW_GLU_AC',\n",
       "       'MG1655_doxycycline', 'evo',\n",
       "       'JCL260__isobutanol_production_host-M9-MG1655gbk', 'ndh-cydB-appC',\n",
       "       'MG1655-M9-NC_000913_3gb-stationary-37-D-arabinose2', 'SSW_AC',\n",
       "       'TOL_propanediol', 'TOL_2,3-butanediol', 'sdh', 'tpiVCH', 'GLU',\n",
       "       'pgiBME', 'MG1655_trimethoprim', 'tpiHSA', 'SSW_GLU_GLY',\n",
       "       'MG1655-pBGT_ceftazidime', 'TOL_hexanoic_acid', 'wt',\n",
       "       'application_of_ALE_to_re-optimize_growth_performance_of_genome-reduced_strain_MS56-M9-MG1655gbk',\n",
       "       'pyocyanin_supplemented_medium', 'MG1655_ceftazidime',\n",
       "       'OxidizeME_PQ3', 'pgiHSA', 'pgiVCH', 'tpi',\n",
       "       'MG1655_chloramphenicol', 'TOL_coumaric_acid',\n",
       "       'TOL_isobutyric_acid', 'SSW_GLY', 'ILT_MG1655', 'SSW_XYL', 'pts',\n",
       "       'MG1655-M9-NC_000913_3gb-stationary-37-m-tartrate2',\n",
       "       'untreated_pCA24N-fucO', 'pgiPAE', 'GYD', 'ndh-cyoB',\n",
       "       'MG1655_anchestor', 'pgiKO', 'pgi', 'MG1655-pBGT_untreated', 'C13',\n",
       "       'MG1655-blaTEM1_ceftazidime', 'gnd'], dtype=object)"
      ]
     },
     "execution_count": 11,
     "metadata": {},
     "output_type": "execute_result"
    }
   ],
   "source": [
    "muts_df.exp.unique()"
   ]
  },
  {
   "cell_type": "code",
   "execution_count": 12,
   "metadata": {
    "execution": {
     "iopub.execute_input": "2021-05-03T02:14:29.752375Z",
     "iopub.status.busy": "2021-05-03T02:14:29.751989Z",
     "iopub.status.idle": "2021-05-03T02:14:29.791231Z",
     "shell.execute_reply": "2021-05-03T02:14:29.790926Z"
    }
   },
   "outputs": [
    {
     "name": "stdout",
     "output_type": "stream",
     "text": [
      "16698\n"
     ]
    }
   ],
   "source": [
    "# Filter the following mutations out if they come from specific experiments.\n",
    "muts_df = muts_df[(~((muts_df.exp==\"SER\") & (muts_df[\"Gene\"]==\"cyoB\") & (muts_df[\"Details\"]==\"W190* (TGG→TAG)\")))]\n",
    "muts_df = muts_df[(~((muts_df.exp==\"SER\") & (muts_df[\"Gene\"]==\"eno\") & (muts_df[\"Details\"]==\"L193Q (CTG→CAG)\")))]\n",
    "muts_df = muts_df[(~((muts_df.exp==\"SER\") & (muts_df[\"Gene\"]==\"chbF\") & (muts_df[\"Details\"]==\"V133E (GTA→GAA)\")))]\n",
    "muts_df = muts_df[(~((muts_df.exp==\"SER\") & (muts_df[\"Gene\"]==\"fumC\") & (muts_df[\"Details\"]==\"G354G (GGT→GGC)\")))]\n",
    "muts_df = muts_df[(~((muts_df.exp==\"SER\") & (muts_df[\"Gene\"]==\"yegE\") & (muts_df[\"Details\"]==\"S683Y (TCC→TAC)\")))]\n",
    "muts_df = muts_df[(~((muts_df.exp==\"SER\") & (muts_df[\"Gene\"]==\"rcsC\") & (muts_df[\"Details\"]==\"L594F (TTG→TTC)\")))]\n",
    "\n",
    "\n",
    "muts_df = muts_df[(~((muts_df.exp==\"GYD\") & (muts_df[\"Gene\"]==\"fumC\") & (muts_df[\"Details\"]==\"G354G (GGT→GGC)\")))]\n",
    "muts_df = muts_df[(~((muts_df.exp==\"GYD\") & (muts_df[\"Gene\"]==\"yegE\") & (muts_df[\"Details\"]==\"S683Y (TCC→TAC)\")))]\n",
    "muts_df = muts_df[(~((muts_df.exp==\"GYD\") & (muts_df[\"Gene\"]==\"rcsC\") & (muts_df[\"Details\"]==\"L594F (TTG→TTC)\")))]\n",
    "\n",
    "\n",
    "cck_exp_list = [\n",
    "    \"tpi\",\n",
    "    \"pts\",\n",
    "    \"pgi\",\n",
    "    \"sdh\",\n",
    "    \"gnd\",\n",
    "    \"evo\"\n",
    "]\n",
    "\n",
    "muts_df = muts_df[~(\n",
    "    (muts_df.exp.isin(cck_exp_list))\n",
    "    & (\n",
    "        (muts_df[\"Gene\"]==\"wcaA\")\n",
    "        | (muts_df[\"Gene\"]==\"corA\")\n",
    "    )\n",
    ")]  # The details of the mutations to filter out should probably include the sequence change.\n",
    "print(len(muts_df))"
   ]
  },
  {
   "cell_type": "markdown",
   "metadata": {},
   "source": [
    "### Removing MG1655_anchestor mutations"
   ]
  },
  {
   "cell_type": "code",
   "execution_count": 13,
   "metadata": {
    "execution": {
     "iopub.execute_input": "2021-05-03T02:14:29.793500Z",
     "iopub.status.busy": "2021-05-03T02:14:29.793076Z",
     "iopub.status.idle": "2021-05-03T02:14:29.795820Z",
     "shell.execute_reply": "2021-05-03T02:14:29.795464Z"
    }
   },
   "outputs": [],
   "source": [
    "# to use with filtering out mutations \n",
    "muts_df = muts_df.reset_index(drop=True)"
   ]
  },
  {
   "cell_type": "code",
   "execution_count": 14,
   "metadata": {
    "execution": {
     "iopub.execute_input": "2021-05-03T02:14:29.806042Z",
     "iopub.status.busy": "2021-05-03T02:14:29.805684Z",
     "iopub.status.idle": "2021-05-03T02:14:29.807942Z",
     "shell.execute_reply": "2021-05-03T02:14:29.807640Z"
    }
   },
   "outputs": [
    {
     "data": {
      "text/html": [
       "<div>\n",
       "<style scoped>\n",
       "    .dataframe tbody tr th:only-of-type {\n",
       "        vertical-align: middle;\n",
       "    }\n",
       "\n",
       "    .dataframe tbody tr th {\n",
       "        vertical-align: top;\n",
       "    }\n",
       "\n",
       "    .dataframe thead th {\n",
       "        text-align: right;\n",
       "    }\n",
       "</style>\n",
       "<table border=\"1\" class=\"dataframe\">\n",
       "  <thead>\n",
       "    <tr style=\"text-align: right;\">\n",
       "      <th></th>\n",
       "      <th>exp</th>\n",
       "      <th>ale</th>\n",
       "      <th>flask</th>\n",
       "      <th>isolate</th>\n",
       "      <th>tech_rep</th>\n",
       "      <th>presence</th>\n",
       "      <th>Position</th>\n",
       "      <th>Mutation Type</th>\n",
       "      <th>Sequence Change</th>\n",
       "      <th>Details</th>\n",
       "      <th>Gene</th>\n",
       "      <th>Reference Seq</th>\n",
       "      <th>Mut ID</th>\n",
       "      <th>sample</th>\n",
       "    </tr>\n",
       "  </thead>\n",
       "  <tbody>\n",
       "    <tr>\n",
       "      <th>15748</th>\n",
       "      <td>MG1655_anchestor</td>\n",
       "      <td>0</td>\n",
       "      <td>0</td>\n",
       "      <td>1</td>\n",
       "      <td>1</td>\n",
       "      <td>1.0</td>\n",
       "      <td>4390754</td>\n",
       "      <td>SNP</td>\n",
       "      <td>G→T</td>\n",
       "      <td>A252A (GCC→GCA)</td>\n",
       "      <td>rsgA</td>\n",
       "      <td>NC_000913</td>\n",
       "      <td>1608306.0</td>\n",
       "      <td>MG1655_anchestor 0 0 1 1</td>\n",
       "    </tr>\n",
       "    <tr>\n",
       "      <th>15749</th>\n",
       "      <td>MG1655_anchestor</td>\n",
       "      <td>0</td>\n",
       "      <td>0</td>\n",
       "      <td>1</td>\n",
       "      <td>1</td>\n",
       "      <td>1.0</td>\n",
       "      <td>803662</td>\n",
       "      <td>SNP</td>\n",
       "      <td>C→A</td>\n",
       "      <td>L54I (CTT→ATT)</td>\n",
       "      <td>ybhJ</td>\n",
       "      <td>NC_000913</td>\n",
       "      <td>1608301.0</td>\n",
       "      <td>MG1655_anchestor 0 0 1 1</td>\n",
       "    </tr>\n",
       "    <tr>\n",
       "      <th>15750</th>\n",
       "      <td>MG1655_anchestor</td>\n",
       "      <td>0</td>\n",
       "      <td>0</td>\n",
       "      <td>1</td>\n",
       "      <td>1</td>\n",
       "      <td>1.0</td>\n",
       "      <td>1905761</td>\n",
       "      <td>SNP</td>\n",
       "      <td>G→A</td>\n",
       "      <td>G25D (GGT→GAT)</td>\n",
       "      <td>mntP</td>\n",
       "      <td>NC_000913</td>\n",
       "      <td>1608303.0</td>\n",
       "      <td>MG1655_anchestor 0 0 1 1</td>\n",
       "    </tr>\n",
       "  </tbody>\n",
       "</table>\n",
       "</div>"
      ],
      "text/plain": [
       "                    exp  ale  flask  isolate  tech_rep  presence  Position  \\\n",
       "15748  MG1655_anchestor    0      0        1         1       1.0   4390754   \n",
       "15749  MG1655_anchestor    0      0        1         1       1.0    803662   \n",
       "15750  MG1655_anchestor    0      0        1         1       1.0   1905761   \n",
       "\n",
       "      Mutation Type Sequence Change          Details  Gene Reference Seq  \\\n",
       "15748           SNP             G→T  A252A (GCC→GCA)  rsgA     NC_000913   \n",
       "15749           SNP             C→A   L54I (CTT→ATT)  ybhJ     NC_000913   \n",
       "15750           SNP             G→A   G25D (GGT→GAT)  mntP     NC_000913   \n",
       "\n",
       "          Mut ID                    sample  \n",
       "15748  1608306.0  MG1655_anchestor 0 0 1 1  \n",
       "15749  1608301.0  MG1655_anchestor 0 0 1 1  \n",
       "15750  1608303.0  MG1655_anchestor 0 0 1 1  "
      ]
     },
     "execution_count": 14,
     "metadata": {},
     "output_type": "execute_result"
    }
   ],
   "source": [
    "# Not many. Going to manual remove (see cell below)\n",
    "# This is for the Ecoli_resistance_caz\n",
    "# Sebastian often uses the name \"MG1655_anchestor\" \n",
    "MG1655_anchestor = muts_df[muts_df.exp==\"MG1655_anchestor\"].copy()\n",
    "MG1655_anchestor"
   ]
  },
  {
   "cell_type": "code",
   "execution_count": 15,
   "metadata": {
    "execution": {
     "iopub.execute_input": "2021-05-03T02:14:29.811849Z",
     "iopub.status.busy": "2021-05-03T02:14:29.810255Z",
     "iopub.status.idle": "2021-05-03T02:14:29.813650Z",
     "shell.execute_reply": "2021-05-03T02:14:29.813928Z"
    }
   },
   "outputs": [
    {
     "name": "stdout",
     "output_type": "stream",
     "text": [
      "16698\n",
      "16695\n"
     ]
    }
   ],
   "source": [
    "print(len(muts_df))\n",
    "muts_df = muts_df[~(muts_df.index.isin(list(MG1655_anchestor.index)))]\n",
    "print(len(muts_df))"
   ]
  },
  {
   "cell_type": "code",
   "execution_count": 16,
   "metadata": {
    "execution": {
     "iopub.execute_input": "2021-05-03T02:14:29.820190Z",
     "iopub.status.busy": "2021-05-03T02:14:29.819825Z",
     "iopub.status.idle": "2021-05-03T02:14:29.852725Z",
     "shell.execute_reply": "2021-05-03T02:14:29.852356Z"
    }
   },
   "outputs": [
    {
     "name": "stdout",
     "output_type": "stream",
     "text": [
      "16638\n"
     ]
    }
   ],
   "source": [
    "muts_df = muts_df[(~((muts_df.exp==\"MG1655_chloramphenicol\") & (muts_df[\"Position\"]==4390754) & (muts_df[\"Details\"]==\"A252A (GCC→GCA)\")))]\n",
    "muts_df = muts_df[(~((muts_df.exp==\"MG1655_chloramphenicol\") & (muts_df[\"Position\"]==803662) & (muts_df[\"Details\"]==\"L54I (CTT→ATT)\")))]\n",
    "muts_df = muts_df[(~((muts_df.exp==\"MG1655_chloramphenicol\") & (muts_df[\"Position\"]==1905761) & (muts_df[\"Details\"]==\"G25D (GGT→GAT)\")))]\n",
    "\n",
    "muts_df = muts_df[(~((muts_df.exp==\"MG1655_doxycycline\") & (muts_df[\"Position\"]==4390754) & (muts_df[\"Details\"]==\"A252A (GCC→GCA)\")))]\n",
    "muts_df = muts_df[(~((muts_df.exp==\"MG1655_doxycycline\") & (muts_df[\"Position\"]==803662) & (muts_df[\"Details\"]==\"L54I (CTT→ATT)\")))]\n",
    "muts_df = muts_df[(~((muts_df.exp==\"MG1655_doxycycline\") & (muts_df[\"Position\"]==1905761) & (muts_df[\"Details\"]==\"G25D (GGT→GAT)\")))]\n",
    "\n",
    "muts_df = muts_df[(~((muts_df.exp==\"MG1655_trimethoprim\") & (muts_df[\"Position\"]==4390754) & (muts_df[\"Details\"]==\"A252A (GCC→GCA)\")))]\n",
    "muts_df = muts_df[(~((muts_df.exp==\"MG1655_trimethoprim\") & (muts_df[\"Position\"]==803662) & (muts_df[\"Details\"]==\"L54I (CTT→ATT)\")))]\n",
    "muts_df = muts_df[(~((muts_df.exp==\"MG1655_trimethoprim\") & (muts_df[\"Position\"]==1905761) & (muts_df[\"Details\"]==\"G25D (GGT→GAT)\")))]\n",
    "print(len(muts_df))"
   ]
  },
  {
   "cell_type": "markdown",
   "metadata": {},
   "source": [
    "Though the other Ecoli_resistance_caz experiments have \"anchestor\" data on the aledb.ucsd.edu server, their mutations aren't uploaded, therefore not going to filter anything from them at this point."
   ]
  },
  {
   "cell_type": "markdown",
   "metadata": {},
   "source": [
    "### Starting strain mutations according to samples within experiments with starting strain AFIRs"
   ]
  },
  {
   "cell_type": "code",
   "execution_count": 17,
   "metadata": {
    "execution": {
     "iopub.execute_input": "2021-05-03T02:14:29.855962Z",
     "iopub.status.busy": "2021-05-03T02:14:29.855603Z",
     "iopub.status.idle": "2021-05-03T02:14:29.857457Z",
     "shell.execute_reply": "2021-05-03T02:14:29.857072Z"
    }
   },
   "outputs": [],
   "source": [
    "# to use with filtering out mutations \n",
    "muts_df = muts_df.reset_index(drop=True)"
   ]
  },
  {
   "cell_type": "code",
   "execution_count": 18,
   "metadata": {
    "execution": {
     "iopub.execute_input": "2021-05-03T02:14:29.874862Z",
     "iopub.status.busy": "2021-05-03T02:14:29.869892Z",
     "iopub.status.idle": "2021-05-03T02:14:30.309940Z",
     "shell.execute_reply": "2021-05-03T02:14:30.309579Z"
    }
   },
   "outputs": [
    {
     "name": "stdout",
     "output_type": "stream",
     "text": [
      "14304\n"
     ]
    }
   ],
   "source": [
    "# Remove starting strain mutations from all experiments according to each experiment's starting strain\n",
    "\n",
    "def _get_sample_name(ale, flask, isolate, tech_rep):  # Doesn't include the experiment name\n",
    "    sample_name = str(int(ale)) + \" \" + str(int(flask)) + \" \" + str(int(isolate)) + \" \" + str(int(tech_rep))\n",
    "    return sample_name\n",
    "\n",
    "muts_df[\"sample\"] = muts_df.apply(lambda r: _get_sample_name(r.ale, r.flask, r.isolate, r.tech_rep), axis=1)\n",
    "muts_df\n",
    "\n",
    "muts_df = muts_df.copy()\n",
    "starting_strains = muts_df[muts_df[\"sample\"]==\"0 0 1 1\"]  # Need an exact match\n",
    "muts_df = muts_df[muts_df[\"sample\"]!=\"0 0 1 1\"]  # remove starting strain samples\n",
    "for e, exp_starting_strain_muts in starting_strains.groupby(\"exp\"):\n",
    "    rows_to_filter = (\n",
    "        muts_df[\"exp\"].isin(exp_starting_strain_muts[\"exp\"])\n",
    "        & muts_df[\"Position\"].isin(exp_starting_strain_muts[\"Position\"])\n",
    "        & muts_df[\"Sequence Change\"].isin(exp_starting_strain_muts[\"Sequence Change\"])\n",
    "        & muts_df[\"Details\"].isin(exp_starting_strain_muts[\"Details\"])\n",
    "    )\n",
    "    muts_df.drop(muts_df[rows_to_filter].index, inplace=True)  # have to ensure that muts_df indeces are unique\n",
    "print(len(muts_df))"
   ]
  },
  {
   "cell_type": "markdown",
   "metadata": {},
   "source": [
    "###  Check that no weird mutations references are included in dataset, since they won't match to RegulonDB's data"
   ]
  },
  {
   "cell_type": "code",
   "execution_count": 19,
   "metadata": {
    "execution": {
     "iopub.execute_input": "2021-05-03T02:14:30.313518Z",
     "iopub.status.busy": "2021-05-03T02:14:30.313101Z",
     "iopub.status.idle": "2021-05-03T02:14:30.320093Z",
     "shell.execute_reply": "2021-05-03T02:14:30.319793Z"
    }
   },
   "outputs": [
    {
     "name": "stdout",
     "output_type": "stream",
     "text": [
      "CP009273 ['TOL_isobutyric_acid']\n",
      "NC_000913 ['MG1655_untreated' 'Iron-ALE'\n",
      " 'MG1655-M9-NC_000913_3gb-stationary-37-monomethyl_succinate2'\n",
      " 'gallium-nitrate' 'TOL_adipic_acid' 'MG1655-blaTEM1_untreated' 'tpiKO'\n",
      " 'TOL_n-butanol' 'cydB-appC' 'pvdJ_KO_P_aeruginosa_spent_medium'\n",
      " 'TOL_octanoic_acid' 'TOL_glutaric_acid'\n",
      " 'MG1655-M9-NC_000913_3gb-stationary-37-D-2-deoxyribose2'\n",
      " 'MG1655-M9-NC_000913_3gb-stationary-37-D-lyxose2' 'ndh' 'TOL_putrescine'\n",
      " 'WT_P_aeruginosa_spent_medium' 'EG_pCA24N-fucO'\n",
      " 'TOL_hexamethylenediamine' 'MG1655_doxycycline' 'evo'\n",
      " 'JCL260__isobutanol_production_host-M9-MG1655gbk' 'ndh-cydB-appC'\n",
      " 'MG1655-M9-NC_000913_3gb-stationary-37-D-arabinose2' 'TOL_propanediol'\n",
      " 'TOL_2,3-butanediol' 'sdh' 'GLU' 'MG1655_trimethoprim'\n",
      " 'MG1655-pBGT_ceftazidime' 'TOL_hexanoic_acid' 'wt'\n",
      " 'application_of_ALE_to_re-optimize_growth_performance_of_genome-reduced_strain_MS56-M9-MG1655gbk'\n",
      " 'pyocyanin_supplemented_medium' 'MG1655_ceftazidime' 'OxidizeME_PQ3'\n",
      " 'tpi' 'MG1655_chloramphenicol' 'TOL_coumaric_acid' 'TOL_isobutyric_acid'\n",
      " 'ILT_MG1655' 'pts' 'MG1655-M9-NC_000913_3gb-stationary-37-m-tartrate2'\n",
      " 'GYD' 'ndh-cyoB' 'pgi' 'MG1655-pBGT_untreated'\n",
      " 'MG1655-blaTEM1_ceftazidime' 'gnd']\n",
      "NC_000913_3_KO_pgi ['pgiKO']\n",
      "NC_000913_3_bme_pgi ['pgiBME']\n",
      "NC_000913_3_hsa_pgi ['pgiHSA']\n",
      "NC_000913_3_hsa_tpiA ['tpiHSA']\n",
      "NC_000913_3_pae_pgi ['pgiPAE']\n",
      "NC_000913_3_pae_tpiA ['tpiPAE']\n",
      "NC_000913_3_vch_pgi ['pgiVCH']\n",
      "NC_000913_3_vch_tpiA ['tpiVCH']\n"
     ]
    }
   ],
   "source": [
    "for ref_seq, df in muts_df.groupby(\"Reference Seq\"):\n",
    "    print(ref_seq, df.exp.unique())"
   ]
  },
  {
   "cell_type": "markdown",
   "metadata": {},
   "source": [
    "According the the prevous results, TOL_isobutyric_acid has one weird mutation. Going to remove it."
   ]
  },
  {
   "cell_type": "code",
   "execution_count": 20,
   "metadata": {
    "execution": {
     "iopub.execute_input": "2021-05-03T02:14:30.325017Z",
     "iopub.status.busy": "2021-05-03T02:14:30.322848Z",
     "iopub.status.idle": "2021-05-03T02:14:30.327462Z",
     "shell.execute_reply": "2021-05-03T02:14:30.327097Z"
    }
   },
   "outputs": [
    {
     "data": {
      "text/plain": [
       "array(['NC_000913', nan, 'NC_000913_3_pae_tpiA', 'NC_000913_3_vch_tpiA',\n",
       "       'NC_000913_3_bme_pgi', 'NC_000913_3_hsa_tpiA',\n",
       "       'NC_000913_3_hsa_pgi', 'NC_000913_3_vch_pgi',\n",
       "       'NC_000913_3_pae_pgi', 'NC_000913_3_KO_pgi'], dtype=object)"
      ]
     },
     "execution_count": 20,
     "metadata": {},
     "output_type": "execute_result"
    }
   ],
   "source": [
    "muts_df = muts_df[muts_df[\"Reference Seq\"] != \"CP009273\"]\n",
    "muts_df[\"Reference Seq\"].unique()"
   ]
  },
  {
   "cell_type": "code",
   "execution_count": 21,
   "metadata": {
    "execution": {
     "iopub.execute_input": "2021-05-03T02:14:30.331785Z",
     "iopub.status.busy": "2021-05-03T02:14:30.331173Z",
     "iopub.status.idle": "2021-05-03T02:14:30.543897Z",
     "shell.execute_reply": "2021-05-03T02:14:30.543392Z"
    }
   },
   "outputs": [
    {
     "name": "stdout",
     "output_type": "stream",
     "text": [
      "403\n"
     ]
    }
   ],
   "source": [
    "# removing samples not incuded in GYD MS for AVA MS\n",
    "\n",
    "muts_df = muts_df[\n",
    "    ~(\n",
    "        (muts_df.exp == \"GYD\")\n",
    "        & ((muts_df.ale == 35) | (muts_df.ale == 34))\n",
    "    )\n",
    "]\n",
    "print(len(muts_df.apply(lambda r: r.exp + \" \" + str(r.ale), axis=1).unique()))"
   ]
  },
  {
   "cell_type": "code",
   "execution_count": 22,
   "metadata": {
    "execution": {
     "iopub.execute_input": "2021-05-03T02:14:30.551677Z",
     "iopub.status.busy": "2021-05-03T02:14:30.550230Z",
     "iopub.status.idle": "2021-05-03T02:14:30.871947Z",
     "shell.execute_reply": "2021-05-03T02:14:30.871578Z"
    }
   },
   "outputs": [
    {
     "name": "stdout",
     "output_type": "stream",
     "text": [
      "403\n",
      "390\n"
     ]
    }
   ],
   "source": [
    "# Amount of ALEs before removal\n",
    "print(len(muts_df.apply(lambda r: r.exp + \" \" + str(r.ale), axis=1).unique()))\n",
    "\n",
    "# removing hypermutators since they will affect associations\n",
    "\n",
    "muts_df = muts_df[\n",
    "    ~(\n",
    "        (muts_df.exp == \"GLU\")\n",
    "        & ((muts_df.ale == 5) | (muts_df.ale == 7))\n",
    "    )\n",
    "]\n",
    "\n",
    "muts_df = muts_df[\n",
    "    ~(\n",
    "        (muts_df.exp == \"TOL_2,3-butanediol\")\n",
    "        & (muts_df.ale == 3)\n",
    "    )\n",
    "]\n",
    "\n",
    "muts_df = muts_df[\n",
    "    ~(\n",
    "        (muts_df.exp == \"TOL_adipic_acid\")\n",
    "        & (muts_df.ale == 5)\n",
    "    )\n",
    "]\n",
    "\n",
    "muts_df = muts_df[\n",
    "    ~(\n",
    "        (muts_df.exp == \"TOL_hexamethylenediamine\")\n",
    "        & (muts_df.ale == 6)\n",
    "    )\n",
    "]\n",
    "\n",
    "muts_df = muts_df[\n",
    "    ~(\n",
    "        (muts_df.exp == \"TOL_octanoic_acid\")\n",
    "        & (muts_df.ale == 5)\n",
    "    )\n",
    "]\n",
    "\n",
    "muts_df = muts_df[\n",
    "    ~(\n",
    "        (muts_df.exp == \"TOL_propanediol\")\n",
    "        & ((muts_df.ale == 1) | (muts_df.ale == 2) | (muts_df.ale == 3) | (muts_df.ale == 4) | (muts_df.ale == 5) | (muts_df.ale == 7) | (muts_df.ale == 8))\n",
    "    )\n",
    "]\n",
    "\n",
    "print(len(muts_df.apply(lambda r: r.exp + \" \" + str(r.ale), axis=1).unique()))"
   ]
  },
  {
   "cell_type": "code",
   "execution_count": 23,
   "metadata": {
    "execution": {
     "iopub.execute_input": "2021-05-03T02:14:30.875898Z",
     "iopub.status.busy": "2021-05-03T02:14:30.875543Z",
     "iopub.status.idle": "2021-05-03T02:14:30.877647Z",
     "shell.execute_reply": "2021-05-03T02:14:30.877188Z"
    }
   },
   "outputs": [
    {
     "name": "stdout",
     "output_type": "stream",
     "text": [
      "9189\n",
      "8532\n"
     ]
    }
   ],
   "source": [
    "print(len(muts_df))\n",
    "muts_df = muts_df[muts_df.presence >= 0.5]\n",
    "print(len(muts_df))"
   ]
  },
  {
   "cell_type": "code",
   "execution_count": 24,
   "metadata": {
    "execution": {
     "iopub.execute_input": "2021-05-03T02:14:30.889889Z",
     "iopub.status.busy": "2021-05-03T02:14:30.889498Z",
     "iopub.status.idle": "2021-05-03T02:14:30.891768Z",
     "shell.execute_reply": "2021-05-03T02:14:30.891411Z"
    }
   },
   "outputs": [
    {
     "data": {
      "text/html": [
       "<div>\n",
       "<style scoped>\n",
       "    .dataframe tbody tr th:only-of-type {\n",
       "        vertical-align: middle;\n",
       "    }\n",
       "\n",
       "    .dataframe tbody tr th {\n",
       "        vertical-align: top;\n",
       "    }\n",
       "\n",
       "    .dataframe thead th {\n",
       "        text-align: right;\n",
       "    }\n",
       "</style>\n",
       "<table border=\"1\" class=\"dataframe\">\n",
       "  <thead>\n",
       "    <tr style=\"text-align: right;\">\n",
       "      <th></th>\n",
       "      <th>exp</th>\n",
       "      <th>ale</th>\n",
       "      <th>flask</th>\n",
       "      <th>isolate</th>\n",
       "      <th>tech_rep</th>\n",
       "      <th>presence</th>\n",
       "      <th>Position</th>\n",
       "      <th>Mutation Type</th>\n",
       "      <th>Sequence Change</th>\n",
       "      <th>Details</th>\n",
       "      <th>Gene</th>\n",
       "      <th>Reference Seq</th>\n",
       "      <th>Mut ID</th>\n",
       "      <th>sample</th>\n",
       "    </tr>\n",
       "  </thead>\n",
       "  <tbody>\n",
       "    <tr>\n",
       "      <th>0</th>\n",
       "      <td>MG1655_untreated</td>\n",
       "      <td>1</td>\n",
       "      <td>16</td>\n",
       "      <td>0</td>\n",
       "      <td>1</td>\n",
       "      <td>0.61</td>\n",
       "      <td>4542237</td>\n",
       "      <td>MOB</td>\n",
       "      <td>IS1 (+) +9 bp</td>\n",
       "      <td>coding (201‑209/597 nt)</td>\n",
       "      <td>fimE</td>\n",
       "      <td>NC_000913</td>\n",
       "      <td>1608475.0</td>\n",
       "      <td>1 16 0 1</td>\n",
       "    </tr>\n",
       "    <tr>\n",
       "      <th>5</th>\n",
       "      <td>MG1655_untreated</td>\n",
       "      <td>4</td>\n",
       "      <td>16</td>\n",
       "      <td>0</td>\n",
       "      <td>1</td>\n",
       "      <td>0.66</td>\n",
       "      <td>4542020</td>\n",
       "      <td>MOB</td>\n",
       "      <td>IS5 (–) +4 bp</td>\n",
       "      <td>intergenic (+461/‑14)</td>\n",
       "      <td>fimB, fimE</td>\n",
       "      <td>NC_000913</td>\n",
       "      <td>1608468.0</td>\n",
       "      <td>4 16 0 1</td>\n",
       "    </tr>\n",
       "    <tr>\n",
       "      <th>6</th>\n",
       "      <td>MG1655_untreated</td>\n",
       "      <td>5</td>\n",
       "      <td>16</td>\n",
       "      <td>0</td>\n",
       "      <td>1</td>\n",
       "      <td>0.61</td>\n",
       "      <td>4542223</td>\n",
       "      <td>MOB</td>\n",
       "      <td>IS1 (–) +9 bp</td>\n",
       "      <td>coding (187‑195/597 nt)</td>\n",
       "      <td>fimE</td>\n",
       "      <td>NC_000913</td>\n",
       "      <td>1608477.0</td>\n",
       "      <td>5 16 0 1</td>\n",
       "    </tr>\n",
       "    <tr>\n",
       "      <th>9</th>\n",
       "      <td>42C</td>\n",
       "      <td>1</td>\n",
       "      <td>124</td>\n",
       "      <td>1</td>\n",
       "      <td>1</td>\n",
       "      <td>1.00</td>\n",
       "      <td>702352</td>\n",
       "      <td>DEL</td>\n",
       "      <td>Δ21 bp</td>\n",
       "      <td>coding (380‑400/1149 nt)</td>\n",
       "      <td>nagA</td>\n",
       "      <td>NaN</td>\n",
       "      <td>NaN</td>\n",
       "      <td>1 124 1 1</td>\n",
       "    </tr>\n",
       "    <tr>\n",
       "      <th>10</th>\n",
       "      <td>42C</td>\n",
       "      <td>1</td>\n",
       "      <td>124</td>\n",
       "      <td>1</td>\n",
       "      <td>1</td>\n",
       "      <td>1.00</td>\n",
       "      <td>1308318</td>\n",
       "      <td>SNP</td>\n",
       "      <td>G→C</td>\n",
       "      <td>R110G (CGT→GGT)</td>\n",
       "      <td>clsA</td>\n",
       "      <td>NaN</td>\n",
       "      <td>NaN</td>\n",
       "      <td>1 124 1 1</td>\n",
       "    </tr>\n",
       "  </tbody>\n",
       "</table>\n",
       "</div>"
      ],
      "text/plain": [
       "                 exp  ale  flask  isolate  tech_rep  presence  Position  \\\n",
       "0   MG1655_untreated    1     16        0         1      0.61   4542237   \n",
       "5   MG1655_untreated    4     16        0         1      0.66   4542020   \n",
       "6   MG1655_untreated    5     16        0         1      0.61   4542223   \n",
       "9                42C    1    124        1         1      1.00    702352   \n",
       "10               42C    1    124        1         1      1.00   1308318   \n",
       "\n",
       "   Mutation Type Sequence Change                   Details        Gene  \\\n",
       "0            MOB   IS1 (+) +9 bp   coding (201‑209/597 nt)        fimE   \n",
       "5            MOB   IS5 (–) +4 bp     intergenic (+461/‑14)  fimB, fimE   \n",
       "6            MOB   IS1 (–) +9 bp   coding (187‑195/597 nt)        fimE   \n",
       "9            DEL          Δ21 bp  coding (380‑400/1149 nt)        nagA   \n",
       "10           SNP             G→C           R110G (CGT→GGT)        clsA   \n",
       "\n",
       "   Reference Seq     Mut ID     sample  \n",
       "0      NC_000913  1608475.0   1 16 0 1  \n",
       "5      NC_000913  1608468.0   4 16 0 1  \n",
       "6      NC_000913  1608477.0   5 16 0 1  \n",
       "9            NaN        NaN  1 124 1 1  \n",
       "10           NaN        NaN  1 124 1 1  "
      ]
     },
     "execution_count": 24,
     "metadata": {},
     "output_type": "execute_result"
    }
   ],
   "source": [
    "# This work is also currently duplicated NB4 \n",
    "muts_df[\"Gene\"] = muts_df[\"Gene\"].apply(lambda a: \"rph\" if a == \"[rph], [rph]\" else a)\n",
    "muts_df[\"Gene\"] = muts_df[\"Gene\"].apply(lambda a: \"rph\" if a == \"[rph],[rph]\" else a)\n",
    "muts_df.head()"
   ]
  },
  {
   "cell_type": "code",
   "execution_count": 25,
   "metadata": {
    "execution": {
     "iopub.execute_input": "2021-05-03T02:14:30.968095Z",
     "iopub.status.busy": "2021-05-03T02:14:30.931379Z",
     "iopub.status.idle": "2021-05-03T02:14:30.974690Z",
     "shell.execute_reply": "2021-05-03T02:14:30.974326Z"
    }
   },
   "outputs": [
    {
     "data": {
      "text/html": [
       "<div>\n",
       "<style scoped>\n",
       "    .dataframe tbody tr th:only-of-type {\n",
       "        vertical-align: middle;\n",
       "    }\n",
       "\n",
       "    .dataframe tbody tr th {\n",
       "        vertical-align: top;\n",
       "    }\n",
       "\n",
       "    .dataframe thead th {\n",
       "        text-align: right;\n",
       "    }\n",
       "</style>\n",
       "<table border=\"1\" class=\"dataframe\">\n",
       "  <thead>\n",
       "    <tr style=\"text-align: right;\">\n",
       "      <th></th>\n",
       "      <th>exp</th>\n",
       "      <th>ale</th>\n",
       "      <th>flask</th>\n",
       "      <th>isolate</th>\n",
       "      <th>tech_rep</th>\n",
       "      <th>presence</th>\n",
       "      <th>Position</th>\n",
       "      <th>Mutation Type</th>\n",
       "      <th>Sequence Change</th>\n",
       "      <th>Details</th>\n",
       "      <th>Gene</th>\n",
       "      <th>Reference Seq</th>\n",
       "      <th>Mut ID</th>\n",
       "      <th>sample</th>\n",
       "      <th>coding</th>\n",
       "    </tr>\n",
       "  </thead>\n",
       "  <tbody>\n",
       "    <tr>\n",
       "      <th>0</th>\n",
       "      <td>MG1655_untreated</td>\n",
       "      <td>1</td>\n",
       "      <td>16</td>\n",
       "      <td>0</td>\n",
       "      <td>1</td>\n",
       "      <td>0.61</td>\n",
       "      <td>4542237</td>\n",
       "      <td>MOB</td>\n",
       "      <td>IS1 (+) +9 bp</td>\n",
       "      <td>coding (201‑209/597 nt)</td>\n",
       "      <td>fimE</td>\n",
       "      <td>NC_000913</td>\n",
       "      <td>1608475.0</td>\n",
       "      <td>1 16 0 1</td>\n",
       "      <td>True</td>\n",
       "    </tr>\n",
       "    <tr>\n",
       "      <th>5</th>\n",
       "      <td>MG1655_untreated</td>\n",
       "      <td>4</td>\n",
       "      <td>16</td>\n",
       "      <td>0</td>\n",
       "      <td>1</td>\n",
       "      <td>0.66</td>\n",
       "      <td>4542020</td>\n",
       "      <td>MOB</td>\n",
       "      <td>IS5 (–) +4 bp</td>\n",
       "      <td>intergenic (+461/‑14)</td>\n",
       "      <td>fimB/fimE</td>\n",
       "      <td>NC_000913</td>\n",
       "      <td>1608468.0</td>\n",
       "      <td>4 16 0 1</td>\n",
       "      <td>False</td>\n",
       "    </tr>\n",
       "    <tr>\n",
       "      <th>6</th>\n",
       "      <td>MG1655_untreated</td>\n",
       "      <td>5</td>\n",
       "      <td>16</td>\n",
       "      <td>0</td>\n",
       "      <td>1</td>\n",
       "      <td>0.61</td>\n",
       "      <td>4542223</td>\n",
       "      <td>MOB</td>\n",
       "      <td>IS1 (–) +9 bp</td>\n",
       "      <td>coding (187‑195/597 nt)</td>\n",
       "      <td>fimE</td>\n",
       "      <td>NC_000913</td>\n",
       "      <td>1608477.0</td>\n",
       "      <td>5 16 0 1</td>\n",
       "      <td>True</td>\n",
       "    </tr>\n",
       "    <tr>\n",
       "      <th>9</th>\n",
       "      <td>42C</td>\n",
       "      <td>1</td>\n",
       "      <td>124</td>\n",
       "      <td>1</td>\n",
       "      <td>1</td>\n",
       "      <td>1.00</td>\n",
       "      <td>702352</td>\n",
       "      <td>DEL</td>\n",
       "      <td>Δ21 bp</td>\n",
       "      <td>coding (380‑400/1149 nt)</td>\n",
       "      <td>nagA</td>\n",
       "      <td>NaN</td>\n",
       "      <td>NaN</td>\n",
       "      <td>1 124 1 1</td>\n",
       "      <td>True</td>\n",
       "    </tr>\n",
       "    <tr>\n",
       "      <th>10</th>\n",
       "      <td>42C</td>\n",
       "      <td>1</td>\n",
       "      <td>124</td>\n",
       "      <td>1</td>\n",
       "      <td>1</td>\n",
       "      <td>1.00</td>\n",
       "      <td>1308318</td>\n",
       "      <td>SNP</td>\n",
       "      <td>G→C</td>\n",
       "      <td>R110G (CGT→GGT)</td>\n",
       "      <td>clsA</td>\n",
       "      <td>NaN</td>\n",
       "      <td>NaN</td>\n",
       "      <td>1 124 1 1</td>\n",
       "      <td>True</td>\n",
       "    </tr>\n",
       "  </tbody>\n",
       "</table>\n",
       "</div>"
      ],
      "text/plain": [
       "                 exp  ale  flask  isolate  tech_rep  presence  Position  \\\n",
       "0   MG1655_untreated    1     16        0         1      0.61   4542237   \n",
       "5   MG1655_untreated    4     16        0         1      0.66   4542020   \n",
       "6   MG1655_untreated    5     16        0         1      0.61   4542223   \n",
       "9                42C    1    124        1         1      1.00    702352   \n",
       "10               42C    1    124        1         1      1.00   1308318   \n",
       "\n",
       "   Mutation Type Sequence Change                   Details       Gene  \\\n",
       "0            MOB   IS1 (+) +9 bp   coding (201‑209/597 nt)       fimE   \n",
       "5            MOB   IS5 (–) +4 bp     intergenic (+461/‑14)  fimB/fimE   \n",
       "6            MOB   IS1 (–) +9 bp   coding (187‑195/597 nt)       fimE   \n",
       "9            DEL          Δ21 bp  coding (380‑400/1149 nt)       nagA   \n",
       "10           SNP             G→C           R110G (CGT→GGT)       clsA   \n",
       "\n",
       "   Reference Seq     Mut ID     sample  coding  \n",
       "0      NC_000913  1608475.0   1 16 0 1    True  \n",
       "5      NC_000913  1608468.0   4 16 0 1   False  \n",
       "6      NC_000913  1608477.0   5 16 0 1    True  \n",
       "9            NaN        NaN  1 124 1 1    True  \n",
       "10           NaN        NaN  1 124 1 1    True  "
      ]
     },
     "execution_count": 25,
     "metadata": {},
     "output_type": "execute_result"
    }
   ],
   "source": [
    "muts_df[\"coding\"] = muts_df.Details.apply(is_coding_mut)\n",
    "muts_df[\"Gene\"] = muts_df.apply(lambda row: row[\"Gene\"].replace(\", \",\"/\") if not row[\"coding\"] else row[\"Gene\"], axis=1)\n",
    "\n",
    "muts_df.head()"
   ]
  },
  {
   "cell_type": "code",
   "execution_count": 26,
   "metadata": {
    "execution": {
     "iopub.execute_input": "2021-05-03T02:14:31.044500Z",
     "iopub.status.busy": "2021-05-03T02:14:31.008905Z",
     "iopub.status.idle": "2021-05-03T02:14:31.113732Z",
     "shell.execute_reply": "2021-05-03T02:14:31.113172Z"
    }
   },
   "outputs": [],
   "source": [
    "# ensure all mutations are using NC_000913 positions.\n",
    "genome_pos_transform_exp_l = [\n",
    "    \"ERS\",\n",
    "    'EEPcyoBndh',\n",
    "    'EEPcydBappC',\n",
    "    'EEPndhcyoB',\n",
    "    'EEPndh',\n",
    "    'EEPcydBappCndh',\n",
    "    'EEPndhcydBappC'\n",
    "    \n",
    "]\n",
    "muts_df.Position = muts_df.apply(lambda row: get_K12_pos_from_BOP27(row.Position) if row.exp in genome_pos_transform_exp_l else row.Position, axis=1)"
   ]
  },
  {
   "cell_type": "markdown",
   "metadata": {},
   "source": [
    "### Just get ALE-unique mutations \n",
    "!!! Filter out many inappropriate mutations as possible to cut down the runtime on the finding ALE-unique mutations !!!"
   ]
  },
  {
   "cell_type": "code",
   "execution_count": 27,
   "metadata": {
    "execution": {
     "iopub.execute_input": "2021-05-03T02:14:31.118061Z",
     "iopub.status.busy": "2021-05-03T02:14:31.117571Z",
     "iopub.status.idle": "2021-05-03T02:14:48.258717Z",
     "shell.execute_reply": "2021-05-03T02:14:48.258352Z"
    }
   },
   "outputs": [
    {
     "name": "stdout",
     "output_type": "stream",
     "text": [
      "8532\n",
      "5762\n"
     ]
    },
    {
     "data": {
      "text/html": [
       "<div>\n",
       "<style scoped>\n",
       "    .dataframe tbody tr th:only-of-type {\n",
       "        vertical-align: middle;\n",
       "    }\n",
       "\n",
       "    .dataframe tbody tr th {\n",
       "        vertical-align: top;\n",
       "    }\n",
       "\n",
       "    .dataframe thead th {\n",
       "        text-align: right;\n",
       "    }\n",
       "</style>\n",
       "<table border=\"1\" class=\"dataframe\">\n",
       "  <thead>\n",
       "    <tr style=\"text-align: right;\">\n",
       "      <th></th>\n",
       "      <th>exp</th>\n",
       "      <th>ale</th>\n",
       "      <th>flask</th>\n",
       "      <th>isolate</th>\n",
       "      <th>tech_rep</th>\n",
       "      <th>presence</th>\n",
       "      <th>Position</th>\n",
       "      <th>Mutation Type</th>\n",
       "      <th>Sequence Change</th>\n",
       "      <th>Details</th>\n",
       "      <th>Gene</th>\n",
       "      <th>Reference Seq</th>\n",
       "      <th>Mut ID</th>\n",
       "      <th>sample</th>\n",
       "      <th>coding</th>\n",
       "    </tr>\n",
       "  </thead>\n",
       "  <tbody>\n",
       "    <tr>\n",
       "      <th>9</th>\n",
       "      <td>42C</td>\n",
       "      <td>1</td>\n",
       "      <td>124</td>\n",
       "      <td>1</td>\n",
       "      <td>1</td>\n",
       "      <td>1.0</td>\n",
       "      <td>702352</td>\n",
       "      <td>DEL</td>\n",
       "      <td>Δ21 bp</td>\n",
       "      <td>coding (380‑400/1149 nt)</td>\n",
       "      <td>nagA</td>\n",
       "      <td>NaN</td>\n",
       "      <td>NaN</td>\n",
       "      <td>1 124 1 1</td>\n",
       "      <td>True</td>\n",
       "    </tr>\n",
       "    <tr>\n",
       "      <th>10</th>\n",
       "      <td>42C</td>\n",
       "      <td>1</td>\n",
       "      <td>124</td>\n",
       "      <td>1</td>\n",
       "      <td>1</td>\n",
       "      <td>1.0</td>\n",
       "      <td>1308318</td>\n",
       "      <td>SNP</td>\n",
       "      <td>G→C</td>\n",
       "      <td>R110G (CGT→GGT)</td>\n",
       "      <td>clsA</td>\n",
       "      <td>NaN</td>\n",
       "      <td>NaN</td>\n",
       "      <td>1 124 1 1</td>\n",
       "      <td>True</td>\n",
       "    </tr>\n",
       "    <tr>\n",
       "      <th>11</th>\n",
       "      <td>42C</td>\n",
       "      <td>1</td>\n",
       "      <td>124</td>\n",
       "      <td>1</td>\n",
       "      <td>1</td>\n",
       "      <td>1.0</td>\n",
       "      <td>3815859</td>\n",
       "      <td>DEL</td>\n",
       "      <td>Δ82 bp</td>\n",
       "      <td></td>\n",
       "      <td>rph</td>\n",
       "      <td>NaN</td>\n",
       "      <td>NaN</td>\n",
       "      <td>1 124 1 1</td>\n",
       "      <td>True</td>\n",
       "    </tr>\n",
       "    <tr>\n",
       "      <th>12</th>\n",
       "      <td>42C</td>\n",
       "      <td>1</td>\n",
       "      <td>124</td>\n",
       "      <td>1</td>\n",
       "      <td>1</td>\n",
       "      <td>1.0</td>\n",
       "      <td>4187550</td>\n",
       "      <td>SNP</td>\n",
       "      <td>C→T</td>\n",
       "      <td>A734V (GCG→GTG)</td>\n",
       "      <td>rpoC</td>\n",
       "      <td>NaN</td>\n",
       "      <td>NaN</td>\n",
       "      <td>1 124 1 1</td>\n",
       "      <td>True</td>\n",
       "    </tr>\n",
       "    <tr>\n",
       "      <th>13</th>\n",
       "      <td>42C</td>\n",
       "      <td>1</td>\n",
       "      <td>124</td>\n",
       "      <td>1</td>\n",
       "      <td>1</td>\n",
       "      <td>1.0</td>\n",
       "      <td>4400313</td>\n",
       "      <td>SNP</td>\n",
       "      <td>A→C</td>\n",
       "      <td>D9A (GAT→GCT)</td>\n",
       "      <td>hfq</td>\n",
       "      <td>NaN</td>\n",
       "      <td>NaN</td>\n",
       "      <td>1 124 1 1</td>\n",
       "      <td>True</td>\n",
       "    </tr>\n",
       "  </tbody>\n",
       "</table>\n",
       "</div>"
      ],
      "text/plain": [
       "    exp  ale  flask  isolate  tech_rep  presence  Position Mutation Type  \\\n",
       "9   42C    1    124        1         1       1.0    702352           DEL   \n",
       "10  42C    1    124        1         1       1.0   1308318           SNP   \n",
       "11  42C    1    124        1         1       1.0   3815859           DEL   \n",
       "12  42C    1    124        1         1       1.0   4187550           SNP   \n",
       "13  42C    1    124        1         1       1.0   4400313           SNP   \n",
       "\n",
       "   Sequence Change                   Details  Gene Reference Seq  Mut ID  \\\n",
       "9           Δ21 bp  coding (380‑400/1149 nt)  nagA           NaN     NaN   \n",
       "10             G→C           R110G (CGT→GGT)  clsA           NaN     NaN   \n",
       "11          Δ82 bp                             rph           NaN     NaN   \n",
       "12             C→T           A734V (GCG→GTG)  rpoC           NaN     NaN   \n",
       "13             A→C             D9A (GAT→GCT)   hfq           NaN     NaN   \n",
       "\n",
       "       sample  coding  \n",
       "9   1 124 1 1    True  \n",
       "10  1 124 1 1    True  \n",
       "11  1 124 1 1    True  \n",
       "12  1 124 1 1    True  \n",
       "13  1 124 1 1    True  "
      ]
     },
     "execution_count": 27,
     "metadata": {},
     "output_type": "execute_result"
    }
   ],
   "source": [
    "print(len(muts_df))\n",
    "muts_df = get_multi_exp_max_freq_mut_df(muts_df, endpoint_flask_only=False)\n",
    "print(len(muts_df))\n",
    "muts_df.head()"
   ]
  },
  {
   "cell_type": "code",
   "execution_count": 28,
   "metadata": {
    "execution": {
     "iopub.execute_input": "2021-05-03T02:14:48.262326Z",
     "iopub.status.busy": "2021-05-03T02:14:48.261019Z",
     "iopub.status.idle": "2021-05-03T02:14:48.264173Z",
     "shell.execute_reply": "2021-05-03T02:14:48.263874Z"
    }
   },
   "outputs": [],
   "source": [
    "# removing unnecessary column\n",
    "muts_df = muts_df.drop(columns=[\"Mut ID\"])"
   ]
  },
  {
   "cell_type": "code",
   "execution_count": 29,
   "metadata": {
    "execution": {
     "iopub.execute_input": "2021-05-03T02:14:48.266608Z",
     "iopub.status.busy": "2021-05-03T02:14:48.266265Z",
     "iopub.status.idle": "2021-05-03T02:14:48.271484Z",
     "shell.execute_reply": "2021-05-03T02:14:48.271092Z"
    }
   },
   "outputs": [],
   "source": [
    "muts_df.to_pickle(\"./data/1_df.pkl\")"
   ]
  },
  {
   "cell_type": "code",
   "execution_count": 30,
   "metadata": {
    "execution": {
     "iopub.execute_input": "2021-05-03T02:14:48.274081Z",
     "iopub.status.busy": "2021-05-03T02:14:48.273667Z",
     "iopub.status.idle": "2021-05-03T02:14:48.276113Z",
     "shell.execute_reply": "2021-05-03T02:14:48.275756Z"
    }
   },
   "outputs": [
    {
     "data": {
      "text/plain": [
       "5762"
      ]
     },
     "execution_count": 30,
     "metadata": {},
     "output_type": "execute_result"
    }
   ],
   "source": [
    "len(muts_df)"
   ]
  }
 ],
 "metadata": {
  "kernelspec": {
   "display_name": "Python 3",
   "language": "python",
   "name": "python3"
  },
  "language_info": {
   "codemirror_mode": {
    "name": "ipython",
    "version": 3
   },
   "file_extension": ".py",
   "mimetype": "text/x-python",
   "name": "python",
   "nbconvert_exporter": "python",
   "pygments_lexer": "ipython3",
   "version": "3.7.7"
  }
 },
 "nbformat": 4,
 "nbformat_minor": 4
}
