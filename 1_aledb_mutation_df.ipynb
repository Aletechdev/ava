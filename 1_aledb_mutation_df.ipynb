{
 "cells": [
  {
   "cell_type": "code",
   "execution_count": 1,
   "metadata": {},
   "outputs": [],
   "source": [
    "%matplotlib inline\n",
    "import matplotlib.pyplot as plt\n",
    "import pandas as pd\n",
    "from IPython.display import display\n",
    "import os, sys, itertools, csv\n",
    "module_path = os.path.abspath(os.path.join('..'))\n",
    "if module_path not in sys.path:\n",
    "    sys.path.append(module_path)\n",
    "from util.alemutdf import get_all_sample_mut_df, get_multi_exp_max_freq_mut_df\n",
    "from util.mut import is_coding_mut\n",
    "from util.metadata import get_condition_val_dict, get_condition_field_val_set\n",
    "from util.genome import get_K12_pos_from_BOP27"
   ]
  },
  {
   "cell_type": "code",
   "execution_count": 2,
   "metadata": {},
   "outputs": [
    {
     "name": "stderr",
     "output_type": "stream",
     "text": [
      "100%|██████████| 15/15 [00:00<00:00, 267.34it/s]\n",
      "100%|██████████| 10/10 [00:00<00:00, 265.52it/s]\n",
      "100%|██████████| 4/4 [00:00<00:00, 210.20it/s]\n",
      "100%|██████████| 4/4 [00:00<00:00, 219.03it/s]\n",
      "  0%|          | 0/20 [00:00<?, ?it/s]"
     ]
    },
    {
     "name": "stdout",
     "output_type": "stream",
     "text": [
      "./data/muts/published//TEE Ara.csv\n",
      "./data/muts/published//42C.csv\n",
      "./data/muts/published//Iron-ALE_mut.csv\n",
      "./data/muts/published//MG1655-M9-NC_000913_3gb-stationary-37-monomethyl_succinate2_mut.csv\n",
      "./data/muts/published//TOL adipic acid_mut.csv\n"
     ]
    },
    {
     "name": "stderr",
     "output_type": "stream",
     "text": [
      "100%|██████████| 20/20 [00:00<00:00, 223.36it/s]\n",
      "100%|██████████| 20/20 [00:00<00:00, 225.55it/s]\n",
      "100%|██████████| 1/1 [00:00<00:00, 261.38it/s]\n",
      "100%|██████████| 10/10 [00:00<00:00, 266.88it/s]\n",
      "  0%|          | 0/40 [00:00<?, ?it/s]"
     ]
    },
    {
     "name": "stdout",
     "output_type": "stream",
     "text": [
      "./data/muts/published//TOL n-butanol_mut.csv\n",
      "./data/muts/published//Epistasis2011.csv\n",
      "./data/muts/published//PGI.csv\n",
      "./data/muts/published//Auxotrophic strains hisD gltA.csv\n"
     ]
    },
    {
     "name": "stderr",
     "output_type": "stream",
     "text": [
      "100%|██████████| 40/40 [00:00<00:00, 259.74it/s]\n",
      "100%|██████████| 20/20 [00:00<00:00, 226.01it/s]\n",
      "  0%|          | 0/24 [00:00<?, ?it/s]"
     ]
    },
    {
     "name": "stdout",
     "output_type": "stream",
     "text": [
      "./data/muts/published//TOL octanoic acid_mut.csv\n",
      "./data/muts/published//TOL glutaric acid_mut.csv\n"
     ]
    },
    {
     "name": "stderr",
     "output_type": "stream",
     "text": [
      "100%|██████████| 24/24 [00:00<00:00, 224.51it/s]\n",
      "100%|██████████| 4/4 [00:00<00:00, 222.14it/s]\n",
      "100%|██████████| 8/8 [00:00<00:00, 224.63it/s]\n",
      "100%|██████████| 20/20 [00:00<00:00, 225.89it/s]\n",
      "  0%|          | 0/20 [00:00<?, ?it/s]"
     ]
    },
    {
     "name": "stdout",
     "output_type": "stream",
     "text": [
      "./data/muts/published//MG1655-M9-NC_000913_3gb-stationary-37-D-2-deoxyribose2_mut.csv\n",
      "./data/muts/published//MG1655-M9-NC_000913_3gb-stationary-37-D-lyxose2_mut.csv\n",
      "./data/muts/published//TOL putrescine_mut.csv\n",
      "./data/muts/published//TOL hexamethylenediamine_mut.csv\n"
     ]
    },
    {
     "name": "stderr",
     "output_type": "stream",
     "text": [
      "100%|██████████| 20/20 [00:00<00:00, 222.20it/s]\n",
      "100%|██████████| 29/29 [00:00<00:00, 264.44it/s]\n",
      "100%|██████████| 6/6 [00:00<00:00, 264.40it/s]\n",
      "  0%|          | 0/35 [00:00<?, ?it/s]"
     ]
    },
    {
     "name": "stdout",
     "output_type": "stream",
     "text": [
      "./data/muts/published//SSW GLU XYL.csv\n",
      "./data/muts/published//SER.csv\n",
      "./data/muts/published//SSW GLU AC.csv\n"
     ]
    },
    {
     "name": "stderr",
     "output_type": "stream",
     "text": [
      "100%|██████████| 35/35 [00:00<00:00, 263.54it/s]\n",
      "100%|██████████| 10/10 [00:00<00:00, 210.62it/s]\n",
      " 23%|██▎       | 27/116 [00:00<00:00, 263.69it/s]"
     ]
    },
    {
     "name": "stdout",
     "output_type": "stream",
     "text": [
      "./data/muts/published//evo_mut.csv\n",
      "./data/muts/published//42C Tenaillon.csv\n"
     ]
    },
    {
     "name": "stderr",
     "output_type": "stream",
     "text": [
      "100%|██████████| 116/116 [00:00<00:00, 261.78it/s]\n",
      " 25%|██▌       | 27/107 [00:00<00:00, 262.19it/s]"
     ]
    },
    {
     "name": "stdout",
     "output_type": "stream",
     "text": [
      "./data/muts/published//LTEE Ara.csv\n"
     ]
    },
    {
     "name": "stderr",
     "output_type": "stream",
     "text": [
      "100%|██████████| 107/107 [00:00<00:00, 261.02it/s]\n",
      "100%|██████████| 8/8 [00:00<00:00, 222.73it/s]\n",
      "100%|██████████| 4/4 [00:00<00:00, 258.76it/s]\n",
      "100%|██████████| 20/20 [00:00<00:00, 220.74it/s]\n",
      "  0%|          | 0/20 [00:00<?, ?it/s]"
     ]
    },
    {
     "name": "stdout",
     "output_type": "stream",
     "text": [
      "./data/muts/published//MG1655-M9-NC_000913_3gb-stationary-37-D-arabinose2_mut.csv\n",
      "./data/muts/published//SSW AC.csv\n",
      "./data/muts/published//TOL propanediol_mut.csv\n",
      "./data/muts/published//TOL 2,3-butanediol_mut.csv\n"
     ]
    },
    {
     "name": "stderr",
     "output_type": "stream",
     "text": [
      "100%|██████████| 20/20 [00:00<00:00, 217.11it/s]\n",
      "100%|██████████| 10/10 [00:00<00:00, 210.43it/s]\n",
      "100%|██████████| 29/29 [00:00<00:00, 231.92it/s]\n"
     ]
    },
    {
     "name": "stdout",
     "output_type": "stream",
     "text": [
      "./data/muts/published//sdh_mut.csv\n",
      "./data/muts/published//C321.∆A.earlyfix.csv\n"
     ]
    },
    {
     "name": "stderr",
     "output_type": "stream",
     "text": [
      "100%|██████████| 27/27 [00:00<00:00, 266.16it/s]\n",
      "  0%|          | 0/48 [00:00<?, ?it/s]"
     ]
    },
    {
     "name": "stdout",
     "output_type": "stream",
     "text": [
      "./data/muts/published//Auxotrophic strains hisD pyrC.csv\n",
      "./data/muts/published//GLU.csv\n"
     ]
    },
    {
     "name": "stderr",
     "output_type": "stream",
     "text": [
      "100%|██████████| 48/48 [00:00<00:00, 202.90it/s]\n",
      "100%|██████████| 27/27 [00:00<00:00, 237.30it/s]\n",
      "100%|██████████| 13/13 [00:00<00:00, 265.84it/s]"
     ]
    },
    {
     "name": "stdout",
     "output_type": "stream",
     "text": [
      "./data/muts/published//C321.∆A.csv\n",
      "./data/muts/published//SSW GLU GLY.csv\n",
      "./data/muts/published//TOL hexanoic acid_mut.csv\n"
     ]
    },
    {
     "name": "stderr",
     "output_type": "stream",
     "text": [
      "\n",
      "100%|██████████| 20/20 [00:00<00:00, 225.47it/s]\n",
      "100%|██████████| 29/29 [00:00<00:00, 258.08it/s]\n",
      "100%|██████████| 13/13 [00:00<00:00, 209.15it/s]\n"
     ]
    },
    {
     "name": "stdout",
     "output_type": "stream",
     "text": [
      "./data/muts/published//ECNR2.1.csv\n",
      "./data/muts/published//tpi_mut.csv\n",
      "./data/muts/published//Auxotrophic strains hisD gltB.csv\n"
     ]
    },
    {
     "name": "stderr",
     "output_type": "stream",
     "text": [
      "100%|██████████| 29/29 [00:00<00:00, 263.74it/s]\n",
      "100%|██████████| 20/20 [00:00<00:00, 224.51it/s]\n",
      "100%|██████████| 20/20 [00:00<00:00, 224.81it/s]\n"
     ]
    },
    {
     "name": "stdout",
     "output_type": "stream",
     "text": [
      "./data/muts/published//TOL coumaric acid_mut.csv\n",
      "./data/muts/published//TOL isobutyric acid_mut.csv\n",
      "./data/muts/published//SSW GLY.csv\n"
     ]
    },
    {
     "name": "stderr",
     "output_type": "stream",
     "text": [
      "100%|██████████| 4/4 [00:00<00:00, 263.06it/s]\n",
      "100%|██████████| 15/15 [00:00<00:00, 266.80it/s]\n",
      "100%|██████████| 4/4 [00:00<00:00, 259.65it/s]\n",
      "  0%|          | 0/28 [00:00<?, ?it/s]"
     ]
    },
    {
     "name": "stdout",
     "output_type": "stream",
     "text": [
      "./data/muts/published//TEE.csv\n",
      "./data/muts/published//SSW XYL.csv\n",
      "./data/muts/published//C321.csv\n"
     ]
    },
    {
     "name": "stderr",
     "output_type": "stream",
     "text": [
      "100%|██████████| 28/28 [00:00<00:00, 235.69it/s]\n",
      "100%|██████████| 13/13 [00:00<00:00, 207.99it/s]\n",
      "100%|██████████| 7/7 [00:00<00:00, 224.44it/s]\n",
      "  0%|          | 0/67 [00:00<?, ?it/s]"
     ]
    },
    {
     "name": "stdout",
     "output_type": "stream",
     "text": [
      "./data/muts/published//pts_mut.csv\n",
      "./data/muts/published//MG1655-M9-NC_000913_3gb-stationary-37-m-tartrate2_mut.csv\n",
      "./data/muts/published//GYD.csv\n"
     ]
    },
    {
     "name": "stderr",
     "output_type": "stream",
     "text": [
      "100%|██████████| 67/67 [00:00<00:00, 205.18it/s]\n",
      " 28%|██▊       | 27/96 [00:00<00:00, 264.72it/s]"
     ]
    },
    {
     "name": "stdout",
     "output_type": "stream",
     "text": [
      "./data/muts/published//LTEE.csv\n"
     ]
    },
    {
     "name": "stderr",
     "output_type": "stream",
     "text": [
      "100%|██████████| 96/96 [00:00<00:00, 261.87it/s]\n",
      " 32%|███▏      | 21/66 [00:00<00:00, 208.12it/s]"
     ]
    },
    {
     "name": "stdout",
     "output_type": "stream",
     "text": [
      "./data/muts/published//pgi_mut.csv\n"
     ]
    },
    {
     "name": "stderr",
     "output_type": "stream",
     "text": [
      "100%|██████████| 66/66 [00:00<00:00, 203.73it/s]\n",
      "100%|██████████| 12/12 [00:00<00:00, 266.08it/s]\n",
      "100%|██████████| 10/10 [00:00<00:00, 207.98it/s]"
     ]
    },
    {
     "name": "stdout",
     "output_type": "stream",
     "text": [
      "./data/muts/published//C13.csv\n",
      "./data/muts/published//gnd_mut.csv\n"
     ]
    },
    {
     "name": "stderr",
     "output_type": "stream",
     "text": [
      "\n"
     ]
    },
    {
     "data": {
      "text/plain": [
       "{'42C',\n",
       " '42C_Tenaillon',\n",
       " 'Auxotrophic_strains_hisD_gltA',\n",
       " 'Auxotrophic_strains_hisD_gltB',\n",
       " 'Auxotrophic_strains_hisD_pyrC',\n",
       " 'C13',\n",
       " 'C321',\n",
       " 'C321.∆A',\n",
       " 'C321.∆A.earlyfix',\n",
       " 'ECNR2.1',\n",
       " 'Epistasis2011',\n",
       " 'GLU',\n",
       " 'GYD',\n",
       " 'Iron-ALE',\n",
       " 'LTEE',\n",
       " 'LTEE_Ara',\n",
       " 'MG1655-M9-NC_000913_3gb-stationary-37-D-2-deoxyribose2',\n",
       " 'MG1655-M9-NC_000913_3gb-stationary-37-D-arabinose2',\n",
       " 'MG1655-M9-NC_000913_3gb-stationary-37-D-lyxose2',\n",
       " 'MG1655-M9-NC_000913_3gb-stationary-37-m-tartrate2',\n",
       " 'MG1655-M9-NC_000913_3gb-stationary-37-monomethyl_succinate2',\n",
       " 'PGI',\n",
       " 'SER',\n",
       " 'SSW_AC',\n",
       " 'SSW_GLU_AC',\n",
       " 'SSW_GLU_GLY',\n",
       " 'SSW_GLU_XYL',\n",
       " 'SSW_GLY',\n",
       " 'SSW_XYL',\n",
       " 'TEE',\n",
       " 'TEE_Ara',\n",
       " 'TOL_2,3-butanediol',\n",
       " 'TOL_adipic_acid',\n",
       " 'TOL_coumaric_acid',\n",
       " 'TOL_glutaric_acid',\n",
       " 'TOL_hexamethylenediamine',\n",
       " 'TOL_hexanoic_acid',\n",
       " 'TOL_isobutyric_acid',\n",
       " 'TOL_n-butanol',\n",
       " 'TOL_octanoic_acid',\n",
       " 'TOL_propanediol',\n",
       " 'TOL_putrescine',\n",
       " 'evo',\n",
       " 'gnd',\n",
       " 'pgi',\n",
       " 'pts',\n",
       " 'sdh',\n",
       " 'tpi'}"
      ]
     },
     "metadata": {},
     "output_type": "display_data"
    }
   ],
   "source": [
    "muts_df = get_all_sample_mut_df(\"./data/muts/published/\")\n",
    "# unpublished_muts_df = get_all_sample_mut_df(\"./data/muts/unpublished/\")  # I've currently placed GYD into the public mutation set.\n",
    "# muts_df = muts_df.append(unpublished_muts_df)\n",
    "display(set(muts_df[\"exp\"]))"
   ]
  },
  {
   "cell_type": "code",
   "execution_count": 3,
   "metadata": {},
   "outputs": [
    {
     "data": {
      "text/plain": [
       "{'42C',\n",
       " 'C13',\n",
       " 'GLU',\n",
       " 'GYD',\n",
       " 'Iron-ALE',\n",
       " 'MG1655-M9-NC_000913_3gb-stationary-37-D-2-deoxyribose2',\n",
       " 'MG1655-M9-NC_000913_3gb-stationary-37-D-arabinose2',\n",
       " 'MG1655-M9-NC_000913_3gb-stationary-37-D-lyxose2',\n",
       " 'MG1655-M9-NC_000913_3gb-stationary-37-m-tartrate2',\n",
       " 'MG1655-M9-NC_000913_3gb-stationary-37-monomethyl_succinate2',\n",
       " 'PGI',\n",
       " 'SER',\n",
       " 'SSW_AC',\n",
       " 'SSW_GLU_AC',\n",
       " 'SSW_GLU_GLY',\n",
       " 'SSW_GLU_XYL',\n",
       " 'SSW_GLY',\n",
       " 'SSW_XYL',\n",
       " 'TOL_2,3-butanediol',\n",
       " 'TOL_adipic_acid',\n",
       " 'TOL_coumaric_acid',\n",
       " 'TOL_glutaric_acid',\n",
       " 'TOL_hexamethylenediamine',\n",
       " 'TOL_hexanoic_acid',\n",
       " 'TOL_isobutyric_acid',\n",
       " 'TOL_n-butanol',\n",
       " 'TOL_octanoic_acid',\n",
       " 'TOL_propanediol',\n",
       " 'TOL_putrescine',\n",
       " 'evo',\n",
       " 'gnd',\n",
       " 'pgi',\n",
       " 'pts',\n",
       " 'sdh',\n",
       " 'tpi'}"
      ]
     },
     "execution_count": 3,
     "metadata": {},
     "output_type": "execute_result"
    }
   ],
   "source": [
    "l = [\n",
    "    \"42c_tenaillon\",\n",
    "    \"ltee\",\n",
    "    \"ltee_ara\",\n",
    "    \"tee\",\n",
    "    \"tee_ara\",\n",
    "    \"tm_glugly\",\n",
    "    \"epistasis2011\",\n",
    "    'C321',\n",
    "    'C321.∆A',\n",
    "    'C321.∆A.earlyfix',\n",
    "    'ECNR2.1',\n",
    "    'Auxotrophic_strains_hisD_gltA',\n",
    "    'Auxotrophic_strains_hisD_gltB',\n",
    "    'Auxotrophic_strains_hisD_pyrC',\n",
    "]\n",
    "exp_to_remove_l = [x.lower() for x in l]\n",
    "muts_df = muts_df[~muts_df.exp.str.lower().isin(exp_to_remove_l)]\n",
    "set(muts_df.exp)"
   ]
  },
  {
   "cell_type": "markdown",
   "metadata": {},
   "source": [
    "## remove problem and starting strain mutations"
   ]
  },
  {
   "cell_type": "code",
   "execution_count": 4,
   "metadata": {},
   "outputs": [],
   "source": [
    "# Different experiments have different strings for position (some with commas, some without), therefore going ahead and changing them all to integers\n",
    "muts_df.Position = muts_df.Position.apply(lambda x: int(str(x).replace(\",\",\"\")))\n",
    "muts_df.Position = muts_df.Position.astype(int)"
   ]
  },
  {
   "cell_type": "code",
   "execution_count": 5,
   "metadata": {},
   "outputs": [
    {
     "data": {
      "text/plain": [
       "9898"
      ]
     },
     "metadata": {},
     "output_type": "display_data"
    },
    {
     "data": {
      "text/html": [
       "<div>\n",
       "<style scoped>\n",
       "    .dataframe tbody tr th:only-of-type {\n",
       "        vertical-align: middle;\n",
       "    }\n",
       "\n",
       "    .dataframe tbody tr th {\n",
       "        vertical-align: top;\n",
       "    }\n",
       "\n",
       "    .dataframe thead th {\n",
       "        text-align: right;\n",
       "    }\n",
       "</style>\n",
       "<table border=\"1\" class=\"dataframe\">\n",
       "  <thead>\n",
       "    <tr style=\"text-align: right;\">\n",
       "      <th></th>\n",
       "      <th>exp</th>\n",
       "      <th>ale</th>\n",
       "      <th>flask</th>\n",
       "      <th>isolate</th>\n",
       "      <th>tech_rep</th>\n",
       "      <th>presence</th>\n",
       "      <th>Position</th>\n",
       "      <th>Mutation Type</th>\n",
       "      <th>Sequence Change</th>\n",
       "      <th>Details</th>\n",
       "      <th>Gene</th>\n",
       "      <th>Reference Seq</th>\n",
       "      <th>Mut ID</th>\n",
       "    </tr>\n",
       "  </thead>\n",
       "  <tbody>\n",
       "    <tr>\n",
       "      <th>0</th>\n",
       "      <td>42C</td>\n",
       "      <td>1</td>\n",
       "      <td>124</td>\n",
       "      <td>1</td>\n",
       "      <td>1</td>\n",
       "      <td>1.0</td>\n",
       "      <td>702352</td>\n",
       "      <td>DEL</td>\n",
       "      <td>Δ21 bp</td>\n",
       "      <td>coding (380‑400/1149 nt)</td>\n",
       "      <td>nagA</td>\n",
       "      <td>NaN</td>\n",
       "      <td>NaN</td>\n",
       "    </tr>\n",
       "    <tr>\n",
       "      <th>2</th>\n",
       "      <td>42C</td>\n",
       "      <td>1</td>\n",
       "      <td>124</td>\n",
       "      <td>1</td>\n",
       "      <td>1</td>\n",
       "      <td>1.0</td>\n",
       "      <td>1308318</td>\n",
       "      <td>SNP</td>\n",
       "      <td>G→C</td>\n",
       "      <td>R110G (CGT→GGT)</td>\n",
       "      <td>clsA</td>\n",
       "      <td>NaN</td>\n",
       "      <td>NaN</td>\n",
       "    </tr>\n",
       "    <tr>\n",
       "      <th>6</th>\n",
       "      <td>42C</td>\n",
       "      <td>1</td>\n",
       "      <td>124</td>\n",
       "      <td>1</td>\n",
       "      <td>1</td>\n",
       "      <td>1.0</td>\n",
       "      <td>3815859</td>\n",
       "      <td>DEL</td>\n",
       "      <td>Δ82 bp</td>\n",
       "      <td></td>\n",
       "      <td>[rph], [rph]</td>\n",
       "      <td>NaN</td>\n",
       "      <td>NaN</td>\n",
       "    </tr>\n",
       "    <tr>\n",
       "      <th>7</th>\n",
       "      <td>42C</td>\n",
       "      <td>1</td>\n",
       "      <td>124</td>\n",
       "      <td>1</td>\n",
       "      <td>1</td>\n",
       "      <td>1.0</td>\n",
       "      <td>4187550</td>\n",
       "      <td>SNP</td>\n",
       "      <td>C→T</td>\n",
       "      <td>A734V (GCG→GTG)</td>\n",
       "      <td>rpoC</td>\n",
       "      <td>NaN</td>\n",
       "      <td>NaN</td>\n",
       "    </tr>\n",
       "    <tr>\n",
       "      <th>8</th>\n",
       "      <td>42C</td>\n",
       "      <td>1</td>\n",
       "      <td>124</td>\n",
       "      <td>1</td>\n",
       "      <td>1</td>\n",
       "      <td>1.0</td>\n",
       "      <td>4400313</td>\n",
       "      <td>SNP</td>\n",
       "      <td>A→C</td>\n",
       "      <td>D9A (GAT→GCT)</td>\n",
       "      <td>hfq</td>\n",
       "      <td>NaN</td>\n",
       "      <td>NaN</td>\n",
       "    </tr>\n",
       "  </tbody>\n",
       "</table>\n",
       "</div>"
      ],
      "text/plain": [
       "   exp  ale  flask  isolate  tech_rep  presence  Position Mutation Type  \\\n",
       "0  42C    1    124        1         1       1.0    702352           DEL   \n",
       "2  42C    1    124        1         1       1.0   1308318           SNP   \n",
       "6  42C    1    124        1         1       1.0   3815859           DEL   \n",
       "7  42C    1    124        1         1       1.0   4187550           SNP   \n",
       "8  42C    1    124        1         1       1.0   4400313           SNP   \n",
       "\n",
       "  Sequence Change                   Details          Gene Reference Seq  \\\n",
       "0          Δ21 bp  coding (380‑400/1149 nt)          nagA           NaN   \n",
       "2             G→C           R110G (CGT→GGT)          clsA           NaN   \n",
       "6          Δ82 bp                            [rph], [rph]           NaN   \n",
       "7             C→T           A734V (GCG→GTG)          rpoC           NaN   \n",
       "8             A→C             D9A (GAT→GCT)           hfq           NaN   \n",
       "\n",
       "   Mut ID  \n",
       "0     NaN  \n",
       "2     NaN  \n",
       "6     NaN  \n",
       "7     NaN  \n",
       "8     NaN  "
      ]
     },
     "metadata": {},
     "output_type": "display_data"
    }
   ],
   "source": [
    "muts_df = muts_df[~(\n",
    "# For whatever reason, the gene annotations can change between version of breseq or runs\n",
    "#     ((muts_df.Gene == \"gatC\")\n",
    "#      | (muts_df.Gene == \"gatC, gatC\"))\n",
    "    ((muts_df.Position == 2173361)\n",
    "       | (muts_df.Position == 2173363)\n",
    "       | (muts_df.Position == 2173364))\n",
    "    & ((muts_df[\"Sequence Change\"] == \"Δ2 bp\")\n",
    "       | (muts_df[\"Sequence Change\"] == \"Δ1 bp\"))\n",
    ")]\n",
    "\n",
    "muts_df = muts_df[~(\n",
    "#     (muts_df.Gene == \"[crl]\")  # For whatever reason, the gene annotations can change between version of breseq or runs\n",
    "    (muts_df.Position == 257908)\n",
    "    & (muts_df[\"Sequence Change\"] == \"Δ776 bp\"))]\n",
    "\n",
    "muts_df = muts_df[~(\n",
    "#     (muts_df.Gene == \"insB1, insA\")  # For whatever reason, the gene annotations can change between version of breseq or runs\n",
    "    (muts_df.Position == 1978503)\n",
    "    & (muts_df[\"Sequence Change\"] == \"Δ776 bp\"))]\n",
    "\n",
    "muts_df = muts_df[~(\n",
    "#     (muts_df.Gene == \"ychE, oppA\")  # For whatever reason, the gene annotations can change between version of breseq or runs\n",
    "    (muts_df.Position == 1299499)\n",
    "    & (muts_df[\"Sequence Change\"] == \"Δ1,199 bp\"))]\n",
    "\n",
    "muts_df = muts_df[~(\n",
    "# For whatever reason, the gene annotations can change between version of breseq or runs\n",
    "#     ((muts_df.Gene == \"glpR\")\n",
    "#      | (muts_df.Gene == \"glpR, glpR\")\n",
    "#      | (muts_df.Gene == \"glpR/glpR\"))\n",
    "    (muts_df.Position == 3560455)\n",
    "    & (muts_df[\"Sequence Change\"] == \"+G\"))]\n",
    "\n",
    "muts_df = muts_df[~(\n",
    "#     (muts_df.Gene == \"gltP, yjcO\")  # For whatever reason, the gene annotations can change between version of breseq or runs\n",
    "    (muts_df.Position == 4296381)\n",
    "    & (muts_df[\"Sequence Change\"] == \"+GC\"))]\n",
    "\n",
    "muts_df = muts_df[~(\n",
    "#     (muts_df.Gene == \"gltP, yjcO\")  # For whatever reason, the gene annotations can change between version of breseq or runs\n",
    "    (muts_df.Position == 4296380)\n",
    "    & (muts_df[\"Sequence Change\"] == \"+CG\"))]\n",
    "\n",
    "muts_df = muts_df[~(\n",
    "#     (muts_df.Gene == \"insB1,insA\")  # For whatever reason, the gene annotations can change between version of breseq or runs\n",
    "    (muts_df.Position == 1978503)\n",
    "    & (muts_df[\"Sequence Change\"] == \"Δ776 bp\"))]\n",
    "\n",
    "muts_df = muts_df[~(\n",
    "#     ((muts_df.Gene == \"insA/uspC\") | (muts_df.Gene == \"insA, uspC\"))  # For whatever reason, the gene annotations can change between version of breseq or runs\n",
    "    (muts_df.Position == 1979486)\n",
    "    & (muts_df[\"Sequence Change\"] == \"IS5 (+) +4 bp\"))]\n",
    "\n",
    "\n",
    "muts_df = muts_df[~(\n",
    "#     (muts_df.Gene == \"corA\")  # For whatever reason, the gene annotations can change between version of breseq or runs\n",
    "    (muts_df.exp != \"GLU\")  # This is the ALE that originated the corA mutation that is found in all CCK samples, therefore should track\n",
    "    & (muts_df.Position == 4001645)\n",
    "    & (muts_df[\"Sequence Change\"] == \"Δ5 bp\"))]\n",
    "\n",
    "\n",
    "muts_df = muts_df[~(\n",
    "#     (muts_df.Gene == \"wcaA\")  # For whatever reason, the gene annotations can change between version of breseq or runs\n",
    "    (muts_df.exp != \"GLU\")  # This is the ALE that originated the corA mutation that is found in all CCK samples, therefore should track\n",
    "    & (muts_df.Position == 2132787)\n",
    "    & (muts_df[\"Details\"] == \"I204S (ATC→AGC)\"))]\n",
    "\n",
    "\n",
    "p = {4293212,\n",
    " 4293403,\n",
    " 4293430,\n",
    " 4296060,\n",
    " 4296154,\n",
    " 4296189,\n",
    " 4296190,\n",
    " 4296191,\n",
    " 4296267,\n",
    " 4296268,\n",
    " 4296286,\n",
    " 4296380,\n",
    " 4296382}\n",
    "ch = {'+C', '+G', 'A→C', 'A→G', 'A→T', 'C→A', 'C→T', 'T→C'}\n",
    "muts_df = muts_df[~(\n",
    "#     (muts_df.Gene == \"gltP, yjcO\")\n",
    "    (muts_df[\"Position\"].isin(p))\n",
    "    & (muts_df[\"Sequence Change\"].isin(ch))\n",
    "       )]\n",
    "\n",
    "display(len(muts_df), muts_df.head())"
   ]
  },
  {
   "cell_type": "markdown",
   "metadata": {},
   "source": [
    "## Remove experiment specific starting strain mutations"
   ]
  },
  {
   "cell_type": "code",
   "execution_count": 7,
   "metadata": {},
   "outputs": [],
   "source": [
    "# Filter the following mutations out if they come from specific experiments.\n",
    "muts_df = muts_df[(~((muts_df.exp==\"SER\") & (muts_df[\"Gene\"]==\"cyoB\") & (muts_df[\"Details\"]==\"W190* (TGG→TAG)\")))]\n",
    "muts_df = muts_df[(~((muts_df.exp==\"SER\") & (muts_df[\"Gene\"]==\"eno\") & (muts_df[\"Details\"]==\"L193Q (CTG→CAG)\")))]\n",
    "muts_df = muts_df[(~((muts_df.exp==\"SER\") & (muts_df[\"Gene\"]==\"chbF\") & (muts_df[\"Details\"]==\"V133E (GTA→GAA)\")))]\n",
    "muts_df = muts_df[(~((muts_df.exp==\"SER\") & (muts_df[\"Gene\"]==\"fumC\") & (muts_df[\"Details\"]==\"G354G (GGT→GGC)\")))]\n",
    "muts_df = muts_df[(~((muts_df.exp==\"SER\") & (muts_df[\"Gene\"]==\"yegE\") & (muts_df[\"Details\"]==\"S683Y (TCC→TAC)\")))]\n",
    "muts_df = muts_df[(~((muts_df.exp==\"SER\") & (muts_df[\"Gene\"]==\"rcsC\") & (muts_df[\"Details\"]==\"L594F (TTG→TTC)\")))]\n",
    "\n",
    "\n",
    "muts_df = muts_df[(~((muts_df.exp==\"GYD\") & (muts_df[\"Gene\"]==\"fumC\") & (muts_df[\"Details\"]==\"G354G (GGT→GGC)\")))]\n",
    "muts_df = muts_df[(~((muts_df.exp==\"GYD\") & (muts_df[\"Gene\"]==\"yegE\") & (muts_df[\"Details\"]==\"S683Y (TCC→TAC)\")))]\n",
    "muts_df = muts_df[(~((muts_df.exp==\"GYD\") & (muts_df[\"Gene\"]==\"rcsC\") & (muts_df[\"Details\"]==\"L594F (TTG→TTC)\")))]\n",
    "\n",
    "\n",
    "cck_exp_list = [\n",
    "    \"Central_carbon_knockout_tpiA\",\n",
    "    \"Central_carbon_knockout_PTS\",\n",
    "    \"Central_carbon_knockout_pgi\",\n",
    "    \"Central_carbon_knockout_sdh\",\n",
    "    \"Central_carbon_knockout_gnd\",\n",
    "    \"Central_carbon_knockout_glucose_evolution\"\n",
    "]\n",
    "\n",
    "muts_df = muts_df[~(\n",
    "    (muts_df.exp.isin(cck_exp_list))\n",
    "    & (\n",
    "        (muts_df[\"Gene\"]==\"wcaA\")\n",
    "        | (muts_df[\"Gene\"]==\"corA\")\n",
    "    )\n",
    ")]  # The details of the mutations to filter out should probably include the sequence change."
   ]
  },
  {
   "cell_type": "code",
   "execution_count": 8,
   "metadata": {},
   "outputs": [
    {
     "data": {
      "text/html": [
       "<div>\n",
       "<style scoped>\n",
       "    .dataframe tbody tr th:only-of-type {\n",
       "        vertical-align: middle;\n",
       "    }\n",
       "\n",
       "    .dataframe tbody tr th {\n",
       "        vertical-align: top;\n",
       "    }\n",
       "\n",
       "    .dataframe thead th {\n",
       "        text-align: right;\n",
       "    }\n",
       "</style>\n",
       "<table border=\"1\" class=\"dataframe\">\n",
       "  <thead>\n",
       "    <tr style=\"text-align: right;\">\n",
       "      <th></th>\n",
       "      <th>exp</th>\n",
       "      <th>ale</th>\n",
       "      <th>flask</th>\n",
       "      <th>isolate</th>\n",
       "      <th>tech_rep</th>\n",
       "      <th>presence</th>\n",
       "      <th>Position</th>\n",
       "      <th>Mutation Type</th>\n",
       "      <th>Sequence Change</th>\n",
       "      <th>Details</th>\n",
       "      <th>Gene</th>\n",
       "      <th>Reference Seq</th>\n",
       "      <th>Mut ID</th>\n",
       "    </tr>\n",
       "  </thead>\n",
       "  <tbody>\n",
       "    <tr>\n",
       "      <th>0</th>\n",
       "      <td>42C</td>\n",
       "      <td>1</td>\n",
       "      <td>124</td>\n",
       "      <td>1</td>\n",
       "      <td>1</td>\n",
       "      <td>1.0</td>\n",
       "      <td>702352</td>\n",
       "      <td>DEL</td>\n",
       "      <td>Δ21 bp</td>\n",
       "      <td>coding (380‑400/1149 nt)</td>\n",
       "      <td>nagA</td>\n",
       "      <td>NaN</td>\n",
       "      <td>NaN</td>\n",
       "    </tr>\n",
       "    <tr>\n",
       "      <th>2</th>\n",
       "      <td>42C</td>\n",
       "      <td>1</td>\n",
       "      <td>124</td>\n",
       "      <td>1</td>\n",
       "      <td>1</td>\n",
       "      <td>1.0</td>\n",
       "      <td>1308318</td>\n",
       "      <td>SNP</td>\n",
       "      <td>G→C</td>\n",
       "      <td>R110G (CGT→GGT)</td>\n",
       "      <td>clsA</td>\n",
       "      <td>NaN</td>\n",
       "      <td>NaN</td>\n",
       "    </tr>\n",
       "    <tr>\n",
       "      <th>6</th>\n",
       "      <td>42C</td>\n",
       "      <td>1</td>\n",
       "      <td>124</td>\n",
       "      <td>1</td>\n",
       "      <td>1</td>\n",
       "      <td>1.0</td>\n",
       "      <td>3815859</td>\n",
       "      <td>DEL</td>\n",
       "      <td>Δ82 bp</td>\n",
       "      <td></td>\n",
       "      <td>[rph], [rph]</td>\n",
       "      <td>NaN</td>\n",
       "      <td>NaN</td>\n",
       "    </tr>\n",
       "    <tr>\n",
       "      <th>7</th>\n",
       "      <td>42C</td>\n",
       "      <td>1</td>\n",
       "      <td>124</td>\n",
       "      <td>1</td>\n",
       "      <td>1</td>\n",
       "      <td>1.0</td>\n",
       "      <td>4187550</td>\n",
       "      <td>SNP</td>\n",
       "      <td>C→T</td>\n",
       "      <td>A734V (GCG→GTG)</td>\n",
       "      <td>rpoC</td>\n",
       "      <td>NaN</td>\n",
       "      <td>NaN</td>\n",
       "    </tr>\n",
       "    <tr>\n",
       "      <th>8</th>\n",
       "      <td>42C</td>\n",
       "      <td>1</td>\n",
       "      <td>124</td>\n",
       "      <td>1</td>\n",
       "      <td>1</td>\n",
       "      <td>1.0</td>\n",
       "      <td>4400313</td>\n",
       "      <td>SNP</td>\n",
       "      <td>A→C</td>\n",
       "      <td>D9A (GAT→GCT)</td>\n",
       "      <td>hfq</td>\n",
       "      <td>NaN</td>\n",
       "      <td>NaN</td>\n",
       "    </tr>\n",
       "  </tbody>\n",
       "</table>\n",
       "</div>"
      ],
      "text/plain": [
       "   exp  ale  flask  isolate  tech_rep  presence  Position Mutation Type  \\\n",
       "0  42C    1    124        1         1       1.0    702352           DEL   \n",
       "2  42C    1    124        1         1       1.0   1308318           SNP   \n",
       "6  42C    1    124        1         1       1.0   3815859           DEL   \n",
       "7  42C    1    124        1         1       1.0   4187550           SNP   \n",
       "8  42C    1    124        1         1       1.0   4400313           SNP   \n",
       "\n",
       "  Sequence Change                   Details          Gene Reference Seq  \\\n",
       "0          Δ21 bp  coding (380‑400/1149 nt)          nagA           NaN   \n",
       "2             G→C           R110G (CGT→GGT)          clsA           NaN   \n",
       "6          Δ82 bp                            [rph], [rph]           NaN   \n",
       "7             C→T           A734V (GCG→GTG)          rpoC           NaN   \n",
       "8             A→C             D9A (GAT→GCT)           hfq           NaN   \n",
       "\n",
       "   Mut ID  \n",
       "0     NaN  \n",
       "2     NaN  \n",
       "6     NaN  \n",
       "7     NaN  \n",
       "8     NaN  "
      ]
     },
     "execution_count": 8,
     "metadata": {},
     "output_type": "execute_result"
    }
   ],
   "source": [
    "# Since the majority of our comparisons have to do with endpoints, just look at endpoints.\n",
    "# If not limiting to endpoint, the mutations used in associated mutations to conditions will need filtering.\n",
    "# This occurs in a later NB of the pipeline.\n",
    "muts_df = get_multi_exp_max_freq_mut_df(muts_df, endpoint_flask_only=False)\n",
    "muts_df.head()"
   ]
  },
  {
   "cell_type": "code",
   "execution_count": 9,
   "metadata": {},
   "outputs": [],
   "source": [
    "# ensure all mutations are using NC_000913 positions.\n",
    "genome_pos_transform_exp_l = [\"ERS\",\n",
    "                              'Central_carbon_knockout_PTS',\n",
    "                              'Central_carbon_knockout_glucose_evolution',\n",
    "                              'Central_carbon_knockout_gnd',\n",
    "                              'Central_carbon_knockout_pgi',\n",
    "                              'Central_carbon_knockout_sdh',\n",
    "                              'Central_carbon_knockout_tpiA',]\n",
    "muts_df.Position = muts_df.apply(lambda row: get_K12_pos_from_BOP27(row.Position) if row.exp in genome_pos_transform_exp_l else row.Position, axis=1)"
   ]
  },
  {
   "cell_type": "code",
   "execution_count": 10,
   "metadata": {},
   "outputs": [
    {
     "data": {
      "text/html": [
       "<div>\n",
       "<style scoped>\n",
       "    .dataframe tbody tr th:only-of-type {\n",
       "        vertical-align: middle;\n",
       "    }\n",
       "\n",
       "    .dataframe tbody tr th {\n",
       "        vertical-align: top;\n",
       "    }\n",
       "\n",
       "    .dataframe thead th {\n",
       "        text-align: right;\n",
       "    }\n",
       "</style>\n",
       "<table border=\"1\" class=\"dataframe\">\n",
       "  <thead>\n",
       "    <tr style=\"text-align: right;\">\n",
       "      <th></th>\n",
       "      <th>exp</th>\n",
       "      <th>ale</th>\n",
       "      <th>flask</th>\n",
       "      <th>isolate</th>\n",
       "      <th>tech_rep</th>\n",
       "      <th>presence</th>\n",
       "      <th>Position</th>\n",
       "      <th>Mutation Type</th>\n",
       "      <th>Sequence Change</th>\n",
       "      <th>Details</th>\n",
       "      <th>Gene</th>\n",
       "      <th>Reference Seq</th>\n",
       "      <th>Mut ID</th>\n",
       "      <th>coding</th>\n",
       "    </tr>\n",
       "  </thead>\n",
       "  <tbody>\n",
       "    <tr>\n",
       "      <th>0</th>\n",
       "      <td>42C</td>\n",
       "      <td>1</td>\n",
       "      <td>124</td>\n",
       "      <td>1</td>\n",
       "      <td>1</td>\n",
       "      <td>1.0</td>\n",
       "      <td>702352</td>\n",
       "      <td>DEL</td>\n",
       "      <td>Δ21 bp</td>\n",
       "      <td>coding (380‑400/1149 nt)</td>\n",
       "      <td>nagA</td>\n",
       "      <td>NaN</td>\n",
       "      <td>NaN</td>\n",
       "      <td>True</td>\n",
       "    </tr>\n",
       "    <tr>\n",
       "      <th>2</th>\n",
       "      <td>42C</td>\n",
       "      <td>1</td>\n",
       "      <td>124</td>\n",
       "      <td>1</td>\n",
       "      <td>1</td>\n",
       "      <td>1.0</td>\n",
       "      <td>1308318</td>\n",
       "      <td>SNP</td>\n",
       "      <td>G→C</td>\n",
       "      <td>R110G (CGT→GGT)</td>\n",
       "      <td>clsA</td>\n",
       "      <td>NaN</td>\n",
       "      <td>NaN</td>\n",
       "      <td>True</td>\n",
       "    </tr>\n",
       "    <tr>\n",
       "      <th>6</th>\n",
       "      <td>42C</td>\n",
       "      <td>1</td>\n",
       "      <td>124</td>\n",
       "      <td>1</td>\n",
       "      <td>1</td>\n",
       "      <td>1.0</td>\n",
       "      <td>3815859</td>\n",
       "      <td>DEL</td>\n",
       "      <td>Δ82 bp</td>\n",
       "      <td></td>\n",
       "      <td>[rph], [rph]</td>\n",
       "      <td>NaN</td>\n",
       "      <td>NaN</td>\n",
       "      <td>True</td>\n",
       "    </tr>\n",
       "    <tr>\n",
       "      <th>7</th>\n",
       "      <td>42C</td>\n",
       "      <td>1</td>\n",
       "      <td>124</td>\n",
       "      <td>1</td>\n",
       "      <td>1</td>\n",
       "      <td>1.0</td>\n",
       "      <td>4187550</td>\n",
       "      <td>SNP</td>\n",
       "      <td>C→T</td>\n",
       "      <td>A734V (GCG→GTG)</td>\n",
       "      <td>rpoC</td>\n",
       "      <td>NaN</td>\n",
       "      <td>NaN</td>\n",
       "      <td>True</td>\n",
       "    </tr>\n",
       "    <tr>\n",
       "      <th>8</th>\n",
       "      <td>42C</td>\n",
       "      <td>1</td>\n",
       "      <td>124</td>\n",
       "      <td>1</td>\n",
       "      <td>1</td>\n",
       "      <td>1.0</td>\n",
       "      <td>4400313</td>\n",
       "      <td>SNP</td>\n",
       "      <td>A→C</td>\n",
       "      <td>D9A (GAT→GCT)</td>\n",
       "      <td>hfq</td>\n",
       "      <td>NaN</td>\n",
       "      <td>NaN</td>\n",
       "      <td>True</td>\n",
       "    </tr>\n",
       "  </tbody>\n",
       "</table>\n",
       "</div>"
      ],
      "text/plain": [
       "   exp  ale  flask  isolate  tech_rep  presence  Position Mutation Type  \\\n",
       "0  42C    1    124        1         1       1.0    702352           DEL   \n",
       "2  42C    1    124        1         1       1.0   1308318           SNP   \n",
       "6  42C    1    124        1         1       1.0   3815859           DEL   \n",
       "7  42C    1    124        1         1       1.0   4187550           SNP   \n",
       "8  42C    1    124        1         1       1.0   4400313           SNP   \n",
       "\n",
       "  Sequence Change                   Details          Gene Reference Seq  \\\n",
       "0          Δ21 bp  coding (380‑400/1149 nt)          nagA           NaN   \n",
       "2             G→C           R110G (CGT→GGT)          clsA           NaN   \n",
       "6          Δ82 bp                            [rph], [rph]           NaN   \n",
       "7             C→T           A734V (GCG→GTG)          rpoC           NaN   \n",
       "8             A→C             D9A (GAT→GCT)           hfq           NaN   \n",
       "\n",
       "   Mut ID  coding  \n",
       "0     NaN    True  \n",
       "2     NaN    True  \n",
       "6     NaN    True  \n",
       "7     NaN    True  \n",
       "8     NaN    True  "
      ]
     },
     "execution_count": 10,
     "metadata": {},
     "output_type": "execute_result"
    }
   ],
   "source": [
    "muts_df[\"coding\"] = muts_df.Details.apply(is_coding_mut)\n",
    "muts_df[\"Gene\"] = muts_df.apply(lambda row: row[\"Gene\"].replace(\", \",\"/\") if not row[\"coding\"] else row[\"Gene\"], axis=1)\n",
    "\n",
    "muts_df.head()"
   ]
  },
  {
   "cell_type": "code",
   "execution_count": 11,
   "metadata": {},
   "outputs": [
    {
     "name": "stdout",
     "output_type": "stream",
     "text": [
      "6085\n",
      "5773\n"
     ]
    }
   ],
   "source": [
    "print(len(muts_df))\n",
    "muts_df = muts_df[muts_df.presence >= 0.5]\n",
    "print(len(muts_df))"
   ]
  },
  {
   "cell_type": "code",
   "execution_count": 12,
   "metadata": {},
   "outputs": [
    {
     "data": {
      "text/html": [
       "<div>\n",
       "<style scoped>\n",
       "    .dataframe tbody tr th:only-of-type {\n",
       "        vertical-align: middle;\n",
       "    }\n",
       "\n",
       "    .dataframe tbody tr th {\n",
       "        vertical-align: top;\n",
       "    }\n",
       "\n",
       "    .dataframe thead th {\n",
       "        text-align: right;\n",
       "    }\n",
       "</style>\n",
       "<table border=\"1\" class=\"dataframe\">\n",
       "  <thead>\n",
       "    <tr style=\"text-align: right;\">\n",
       "      <th></th>\n",
       "      <th>exp</th>\n",
       "      <th>ale</th>\n",
       "      <th>flask</th>\n",
       "      <th>isolate</th>\n",
       "      <th>tech_rep</th>\n",
       "      <th>presence</th>\n",
       "      <th>Position</th>\n",
       "      <th>Mutation Type</th>\n",
       "      <th>Sequence Change</th>\n",
       "      <th>Details</th>\n",
       "      <th>Gene</th>\n",
       "      <th>Reference Seq</th>\n",
       "      <th>Mut ID</th>\n",
       "      <th>coding</th>\n",
       "    </tr>\n",
       "  </thead>\n",
       "  <tbody>\n",
       "    <tr>\n",
       "      <th>0</th>\n",
       "      <td>42C</td>\n",
       "      <td>1</td>\n",
       "      <td>124</td>\n",
       "      <td>1</td>\n",
       "      <td>1</td>\n",
       "      <td>1.0</td>\n",
       "      <td>702352</td>\n",
       "      <td>DEL</td>\n",
       "      <td>Δ21 bp</td>\n",
       "      <td>coding (380‑400/1149 nt)</td>\n",
       "      <td>nagA</td>\n",
       "      <td>NaN</td>\n",
       "      <td>NaN</td>\n",
       "      <td>True</td>\n",
       "    </tr>\n",
       "    <tr>\n",
       "      <th>2</th>\n",
       "      <td>42C</td>\n",
       "      <td>1</td>\n",
       "      <td>124</td>\n",
       "      <td>1</td>\n",
       "      <td>1</td>\n",
       "      <td>1.0</td>\n",
       "      <td>1308318</td>\n",
       "      <td>SNP</td>\n",
       "      <td>G→C</td>\n",
       "      <td>R110G (CGT→GGT)</td>\n",
       "      <td>clsA</td>\n",
       "      <td>NaN</td>\n",
       "      <td>NaN</td>\n",
       "      <td>True</td>\n",
       "    </tr>\n",
       "    <tr>\n",
       "      <th>6</th>\n",
       "      <td>42C</td>\n",
       "      <td>1</td>\n",
       "      <td>124</td>\n",
       "      <td>1</td>\n",
       "      <td>1</td>\n",
       "      <td>1.0</td>\n",
       "      <td>3815859</td>\n",
       "      <td>DEL</td>\n",
       "      <td>Δ82 bp</td>\n",
       "      <td></td>\n",
       "      <td>rph</td>\n",
       "      <td>NaN</td>\n",
       "      <td>NaN</td>\n",
       "      <td>True</td>\n",
       "    </tr>\n",
       "    <tr>\n",
       "      <th>7</th>\n",
       "      <td>42C</td>\n",
       "      <td>1</td>\n",
       "      <td>124</td>\n",
       "      <td>1</td>\n",
       "      <td>1</td>\n",
       "      <td>1.0</td>\n",
       "      <td>4187550</td>\n",
       "      <td>SNP</td>\n",
       "      <td>C→T</td>\n",
       "      <td>A734V (GCG→GTG)</td>\n",
       "      <td>rpoC</td>\n",
       "      <td>NaN</td>\n",
       "      <td>NaN</td>\n",
       "      <td>True</td>\n",
       "    </tr>\n",
       "    <tr>\n",
       "      <th>8</th>\n",
       "      <td>42C</td>\n",
       "      <td>1</td>\n",
       "      <td>124</td>\n",
       "      <td>1</td>\n",
       "      <td>1</td>\n",
       "      <td>1.0</td>\n",
       "      <td>4400313</td>\n",
       "      <td>SNP</td>\n",
       "      <td>A→C</td>\n",
       "      <td>D9A (GAT→GCT)</td>\n",
       "      <td>hfq</td>\n",
       "      <td>NaN</td>\n",
       "      <td>NaN</td>\n",
       "      <td>True</td>\n",
       "    </tr>\n",
       "  </tbody>\n",
       "</table>\n",
       "</div>"
      ],
      "text/plain": [
       "   exp  ale  flask  isolate  tech_rep  presence  Position Mutation Type  \\\n",
       "0  42C    1    124        1         1       1.0    702352           DEL   \n",
       "2  42C    1    124        1         1       1.0   1308318           SNP   \n",
       "6  42C    1    124        1         1       1.0   3815859           DEL   \n",
       "7  42C    1    124        1         1       1.0   4187550           SNP   \n",
       "8  42C    1    124        1         1       1.0   4400313           SNP   \n",
       "\n",
       "  Sequence Change                   Details  Gene Reference Seq  Mut ID  \\\n",
       "0          Δ21 bp  coding (380‑400/1149 nt)  nagA           NaN     NaN   \n",
       "2             G→C           R110G (CGT→GGT)  clsA           NaN     NaN   \n",
       "6          Δ82 bp                             rph           NaN     NaN   \n",
       "7             C→T           A734V (GCG→GTG)  rpoC           NaN     NaN   \n",
       "8             A→C             D9A (GAT→GCT)   hfq           NaN     NaN   \n",
       "\n",
       "   coding  \n",
       "0    True  \n",
       "2    True  \n",
       "6    True  \n",
       "7    True  \n",
       "8    True  "
      ]
     },
     "execution_count": 12,
     "metadata": {},
     "output_type": "execute_result"
    }
   ],
   "source": [
    "# This work is also currently duplicated NB4 \n",
    "muts_df[\"Gene\"] = muts_df[\"Gene\"].apply(lambda a: \"rph\" if a == \"[rph], [rph]\" else a)\n",
    "muts_df[\"Gene\"] = muts_df[\"Gene\"].apply(lambda a: \"rph\" if a == \"[rph],[rph]\" else a)\n",
    "muts_df.head()"
   ]
  },
  {
   "cell_type": "code",
   "execution_count": 13,
   "metadata": {},
   "outputs": [],
   "source": [
    "# removing unnecessary column\n",
    "muts_df = muts_df.drop(columns=[\"Mut ID\"])"
   ]
  },
  {
   "cell_type": "code",
   "execution_count": 14,
   "metadata": {},
   "outputs": [
    {
     "name": "stdout",
     "output_type": "stream",
     "text": [
      "223\n",
      "210\n"
     ]
    }
   ],
   "source": [
    "# Amount of ALEs before removal\n",
    "print(len(muts_df.apply(lambda r: r.exp + \" \" + str(r.ale), axis=1).unique()))\n",
    "\n",
    "# removing hypermutators since they will affect associations\n",
    "\n",
    "muts_df = muts_df[\n",
    "    ~(\n",
    "        (muts_df.exp == \"GLU\")\n",
    "        & ((muts_df.ale == 5) | (muts_df.ale == 7))\n",
    "    )\n",
    "]\n",
    "\n",
    "muts_df = muts_df[\n",
    "    ~(\n",
    "        (muts_df.exp == \"TOL_2,3-butanediol\")\n",
    "        & (muts_df.ale == 3)\n",
    "    )\n",
    "]\n",
    "\n",
    "muts_df = muts_df[\n",
    "    ~(\n",
    "        (muts_df.exp == \"TOL_adipic_acid\")\n",
    "        & (muts_df.ale == 5)\n",
    "    )\n",
    "]\n",
    "\n",
    "muts_df = muts_df[\n",
    "    ~(\n",
    "        (muts_df.exp == \"TOL_hexamethylenediamine\")\n",
    "        & (muts_df.ale == 6)\n",
    "    )\n",
    "]\n",
    "\n",
    "muts_df = muts_df[\n",
    "    ~(\n",
    "        (muts_df.exp == \"TOL_octanoic_acid\")\n",
    "        & (muts_df.ale == 5)\n",
    "    )\n",
    "]\n",
    "\n",
    "muts_df = muts_df[\n",
    "    ~(\n",
    "        (muts_df.exp == \"TOL_propanediol\")\n",
    "        & ((muts_df.ale == 1) | (muts_df.ale == 2) | (muts_df.ale == 3) | (muts_df.ale == 4) | (muts_df.ale == 5) | (muts_df.ale == 7) | (muts_df.ale == 8))\n",
    "    )\n",
    "]\n",
    "\n",
    "print(len(muts_df.apply(lambda r: r.exp + \" \" + str(r.ale), axis=1).unique()))"
   ]
  },
  {
   "cell_type": "code",
   "execution_count": 15,
   "metadata": {},
   "outputs": [
    {
     "name": "stdout",
     "output_type": "stream",
     "text": [
      "208\n"
     ]
    }
   ],
   "source": [
    "# removing samples not incuded in GYD MS for AVA MS\n",
    "\n",
    "muts_df = muts_df[\n",
    "    ~(\n",
    "        (muts_df.exp == \"GYD\")\n",
    "        & ((muts_df.ale == 35) | (muts_df.ale == 34))\n",
    "    )\n",
    "]\n",
    "print(len(muts_df.apply(lambda r: r.exp + \" \" + str(r.ale), axis=1).unique()))"
   ]
  },
  {
   "cell_type": "code",
   "execution_count": 16,
   "metadata": {},
   "outputs": [],
   "source": [
    "muts_df.to_pickle(\"./data/1_df.pkl\")"
   ]
  },
  {
   "cell_type": "code",
   "execution_count": 17,
   "metadata": {},
   "outputs": [
    {
     "data": {
      "text/plain": [
       "35"
      ]
     },
     "metadata": {},
     "output_type": "display_data"
    }
   ],
   "source": [
    "display(len(muts_df.exp.unique()))"
   ]
  },
  {
   "cell_type": "code",
   "execution_count": 18,
   "metadata": {},
   "outputs": [
    {
     "name": "stdout",
     "output_type": "stream",
     "text": [
      "42C\n",
      "C13\n",
      "GLU\n",
      "GYD\n",
      "Iron-ALE\n",
      "MG1655-M9-NC_000913_3gb-stationary-37-D-2-deoxyribose2\n",
      "MG1655-M9-NC_000913_3gb-stationary-37-D-arabinose2\n",
      "MG1655-M9-NC_000913_3gb-stationary-37-D-lyxose2\n",
      "MG1655-M9-NC_000913_3gb-stationary-37-m-tartrate2\n",
      "MG1655-M9-NC_000913_3gb-stationary-37-monomethyl_succinate2\n",
      "PGI\n",
      "SER\n",
      "SSW_AC\n",
      "SSW_GLU_AC\n",
      "SSW_GLU_GLY\n",
      "SSW_GLU_XYL\n",
      "SSW_GLY\n",
      "SSW_XYL\n",
      "TOL_2,3-butanediol\n",
      "TOL_adipic_acid\n",
      "TOL_coumaric_acid\n",
      "TOL_glutaric_acid\n",
      "TOL_hexamethylenediamine\n",
      "TOL_hexanoic_acid\n",
      "TOL_isobutyric_acid\n",
      "TOL_n-butanol\n",
      "TOL_octanoic_acid\n",
      "TOL_propanediol\n",
      "TOL_putrescine\n",
      "evo\n",
      "gnd\n",
      "pgi\n",
      "pts\n",
      "sdh\n",
      "tpi\n"
     ]
    }
   ],
   "source": [
    "for e in muts_df.exp.unique():\n",
    "    print(e)"
   ]
  },
  {
   "cell_type": "code",
   "execution_count": 19,
   "metadata": {},
   "outputs": [
    {
     "data": {
      "text/plain": [
       "208"
      ]
     },
     "metadata": {},
     "output_type": "display_data"
    },
    {
     "data": {
      "text/plain": [
       "array(['42C 1', '42C 2', '42C 3', '42C 4', '42C 5', '42C 6', '42C 7',\n",
       "       '42C 8', '42C 9', '42C 10', 'C13 1', 'C13 2', 'C13 3', 'C13 4',\n",
       "       'C13 5', 'C13 6', 'GLU 3', 'GLU 4', 'GLU 6', 'GLU 8', 'GLU 9',\n",
       "       'GLU 10', 'GYD 1', 'GYD 2', 'GYD 3', 'GYD 4', 'GYD 5', 'GYD 6',\n",
       "       'GYD 7', 'GYD 8', 'GYD 9', 'GYD 10', 'GYD 11', 'GYD 12', 'GYD 13',\n",
       "       'GYD 14', 'GYD 15', 'GYD 16', 'GYD 17', 'GYD 18', 'GYD 19',\n",
       "       'GYD 20', 'GYD 21', 'GYD 22', 'GYD 23', 'GYD 24', 'GYD 25',\n",
       "       'GYD 26', 'GYD 27', 'GYD 28', 'GYD 29', 'GYD 30', 'Iron-ALE 17',\n",
       "       'Iron-ALE 18', 'Iron-ALE 19', 'Iron-ALE 20',\n",
       "       'MG1655-M9-NC_000913_3gb-stationary-37-D-2-deoxyribose2 1',\n",
       "       'MG1655-M9-NC_000913_3gb-stationary-37-D-arabinose2 1',\n",
       "       'MG1655-M9-NC_000913_3gb-stationary-37-D-arabinose2 2',\n",
       "       'MG1655-M9-NC_000913_3gb-stationary-37-D-lyxose2 1',\n",
       "       'MG1655-M9-NC_000913_3gb-stationary-37-D-lyxose2 2',\n",
       "       'MG1655-M9-NC_000913_3gb-stationary-37-m-tartrate2 1',\n",
       "       'MG1655-M9-NC_000913_3gb-stationary-37-m-tartrate2 2',\n",
       "       'MG1655-M9-NC_000913_3gb-stationary-37-monomethyl_succinate2 1',\n",
       "       'MG1655-M9-NC_000913_3gb-stationary-37-monomethyl_succinate2 2',\n",
       "       'PGI 1', 'PGI 2', 'PGI 3', 'PGI 4', 'PGI 5', 'PGI 6', 'PGI 7',\n",
       "       'PGI 8', 'PGI 9', 'PGI 10', 'SER 3', 'SER 4', 'SER 5', 'SSW_AC 1',\n",
       "       'SSW_AC 2', 'SSW_AC 3', 'SSW_AC 4', 'SSW_GLU_AC 7', 'SSW_GLU_AC 8',\n",
       "       'SSW_GLU_AC 9', 'SSW_GLU_GLY 4', 'SSW_GLU_GLY 5', 'SSW_GLU_GLY 6',\n",
       "       'SSW_GLU_XYL 1', 'SSW_GLU_XYL 2', 'SSW_GLU_XYL 3', 'SSW_GLY 1',\n",
       "       'SSW_GLY 2', 'SSW_XYL 1', 'SSW_XYL 2', 'SSW_XYL 3', 'SSW_XYL 4',\n",
       "       'TOL_2,3-butanediol 1', 'TOL_2,3-butanediol 2',\n",
       "       'TOL_2,3-butanediol 4', 'TOL_2,3-butanediol 5',\n",
       "       'TOL_2,3-butanediol 6', 'TOL_2,3-butanediol 7',\n",
       "       'TOL_2,3-butanediol 8', 'TOL_adipic_acid 1', 'TOL_adipic_acid 2',\n",
       "       'TOL_adipic_acid 3', 'TOL_adipic_acid 4', 'TOL_adipic_acid 6',\n",
       "       'TOL_adipic_acid 7', 'TOL_adipic_acid 8', 'TOL_coumaric_acid 1',\n",
       "       'TOL_coumaric_acid 2', 'TOL_coumaric_acid 3',\n",
       "       'TOL_coumaric_acid 4', 'TOL_coumaric_acid 5',\n",
       "       'TOL_coumaric_acid 6', 'TOL_coumaric_acid 7',\n",
       "       'TOL_coumaric_acid 8', 'TOL_glutaric_acid 1',\n",
       "       'TOL_glutaric_acid 2', 'TOL_glutaric_acid 3',\n",
       "       'TOL_glutaric_acid 4', 'TOL_glutaric_acid 5',\n",
       "       'TOL_glutaric_acid 6', 'TOL_glutaric_acid 7',\n",
       "       'TOL_glutaric_acid 8', 'TOL_hexamethylenediamine 1',\n",
       "       'TOL_hexamethylenediamine 2', 'TOL_hexamethylenediamine 3',\n",
       "       'TOL_hexamethylenediamine 4', 'TOL_hexamethylenediamine 5',\n",
       "       'TOL_hexamethylenediamine 7', 'TOL_hexamethylenediamine 8',\n",
       "       'TOL_hexanoic_acid 1', 'TOL_hexanoic_acid 2',\n",
       "       'TOL_hexanoic_acid 3', 'TOL_hexanoic_acid 4',\n",
       "       'TOL_hexanoic_acid 5', 'TOL_hexanoic_acid 6',\n",
       "       'TOL_hexanoic_acid 7', 'TOL_isobutyric_acid 1',\n",
       "       'TOL_isobutyric_acid 2', 'TOL_isobutyric_acid 3',\n",
       "       'TOL_isobutyric_acid 4', 'TOL_isobutyric_acid 5',\n",
       "       'TOL_isobutyric_acid 6', 'TOL_isobutyric_acid 7',\n",
       "       'TOL_isobutyric_acid 8', 'TOL_n-butanol 1', 'TOL_n-butanol 2',\n",
       "       'TOL_n-butanol 3', 'TOL_n-butanol 4', 'TOL_n-butanol 5',\n",
       "       'TOL_n-butanol 6', 'TOL_n-butanol 7', 'TOL_n-butanol 8',\n",
       "       'TOL_octanoic_acid 1', 'TOL_octanoic_acid 2',\n",
       "       'TOL_octanoic_acid 3', 'TOL_octanoic_acid 4',\n",
       "       'TOL_octanoic_acid 6', 'TOL_octanoic_acid 7', 'TOL_propanediol 6',\n",
       "       'TOL_putrescine 1', 'TOL_putrescine 2', 'TOL_putrescine 3',\n",
       "       'TOL_putrescine 4', 'TOL_putrescine 5', 'TOL_putrescine 6',\n",
       "       'TOL_putrescine 7', 'evo 23', 'evo 24', 'gnd 0', 'gnd 17',\n",
       "       'gnd 18', 'gnd 19', 'pgi 0', 'pgi 1', 'pgi 2', 'pgi 3', 'pgi 4',\n",
       "       'pgi 5', 'pgi 6', 'pgi 7', 'pgi 8', 'pgi 9', 'pgi 10', 'pgi 11',\n",
       "       'pgi 12', 'pgi 13', 'pgi 14', 'pgi 15', 'pgi 16', 'pts 0', 'pts 9',\n",
       "       'pts 10', 'pts 11', 'pts 12', 'sdh 0', 'sdh 20', 'sdh 22',\n",
       "       'sdh 23', 'tpi 0', 'tpi 13', 'tpi 14', 'tpi 15', 'tpi 16'],\n",
       "      dtype=object)"
      ]
     },
     "metadata": {},
     "output_type": "display_data"
    }
   ],
   "source": [
    "muts_df[\"exp ALE\"] = muts_df.apply(lambda r: r.exp + ' ' + str(r.ale), axis=1)\n",
    "display(len(muts_df[\"exp ALE\"].unique()), muts_df[\"exp ALE\"].unique())"
   ]
  },
  {
   "cell_type": "code",
   "execution_count": 20,
   "metadata": {},
   "outputs": [
    {
     "data": {
      "text/plain": [
       "2318"
      ]
     },
     "execution_count": 20,
     "metadata": {},
     "output_type": "execute_result"
    }
   ],
   "source": [
    "len(muts_df)"
   ]
  }
 ],
 "metadata": {
  "kernelspec": {
   "display_name": "Python 3",
   "language": "python",
   "name": "python3"
  },
  "language_info": {
   "codemirror_mode": {
    "name": "ipython",
    "version": 3
   },
   "file_extension": ".py",
   "mimetype": "text/x-python",
   "name": "python",
   "nbconvert_exporter": "python",
   "pygments_lexer": "ipython3",
   "version": "3.7.7"
  }
 },
 "nbformat": 4,
 "nbformat_minor": 4
}
