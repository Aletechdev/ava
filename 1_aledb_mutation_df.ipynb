{
 "cells": [
  {
   "cell_type": "code",
   "execution_count": 1,
   "metadata": {},
   "outputs": [],
   "source": [
    "%matplotlib inline\n",
    "import matplotlib.pyplot as plt\n",
    "import pandas as pd\n",
    "from IPython.display import display\n",
    "import os, sys, itertools, csv\n",
    "module_path = os.path.abspath(os.path.join('..'))\n",
    "if module_path not in sys.path:\n",
    "    sys.path.append(module_path)\n",
    "from util.alemutdf import get_all_sample_mut_df, get_multi_exp_max_freq_mut_df\n",
    "from util.mut import is_coding_mut\n",
    "from util.metadata import get_condition_val_dict, get_condition_field_val_set\n",
    "from util.genome import get_K12_pos_from_BOP27"
   ]
  },
  {
   "cell_type": "code",
   "execution_count": 2,
   "metadata": {},
   "outputs": [
    {
     "name": "stderr",
     "output_type": "stream",
     "text": [
      "100%|██████████| 15/15 [00:00<00:00, 267.81it/s]\n",
      "100%|██████████| 10/10 [00:00<00:00, 266.97it/s]\n",
      "100%|██████████| 10/10 [00:00<00:00, 263.93it/s]\n",
      "100%|██████████| 4/4 [00:00<00:00, 218.58it/s]\n",
      "  0%|          | 0/4 [00:00<?, ?it/s]"
     ]
    },
    {
     "name": "stdout",
     "output_type": "stream",
     "text": [
      "./data/muts/published//TEE Ara.csv\n",
      "./data/muts/published//Central carbon knockout glucose evolution.csv\n",
      "./data/muts/published//42C.csv\n",
      "./data/muts/published//Iron-ALE_mut.csv\n",
      "./data/muts/published//MG1655-M9-NC_000913_3gb-stationary-37-monomethyl_succinate2_mut.csv\n"
     ]
    },
    {
     "name": "stderr",
     "output_type": "stream",
     "text": [
      "100%|██████████| 4/4 [00:00<00:00, 216.27it/s]\n",
      "100%|██████████| 20/20 [00:00<00:00, 220.52it/s]\n",
      "100%|██████████| 20/20 [00:00<00:00, 223.22it/s]\n"
     ]
    },
    {
     "name": "stdout",
     "output_type": "stream",
     "text": [
      "./data/muts/published//TOL adipic acid_mut.csv\n",
      "./data/muts/published//TOL n-butanol_mut.csv\n",
      "./data/muts/published//Epistasis2011.csv\n"
     ]
    },
    {
     "name": "stderr",
     "output_type": "stream",
     "text": [
      "100%|██████████| 1/1 [00:00<00:00, 201.67it/s]\n",
      "100%|██████████| 10/10 [00:00<00:00, 265.80it/s]\n",
      " 68%|██████▊   | 27/40 [00:00<00:00, 269.09it/s]"
     ]
    },
    {
     "name": "stdout",
     "output_type": "stream",
     "text": [
      "./data/muts/published//PGI.csv\n",
      "./data/muts/published//Auxotrophic strains hisD gltA.csv\n"
     ]
    },
    {
     "name": "stderr",
     "output_type": "stream",
     "text": [
      "100%|██████████| 40/40 [00:00<00:00, 264.49it/s]\n",
      "100%|██████████| 20/20 [00:00<00:00, 222.20it/s]\n",
      "  0%|          | 0/24 [00:00<?, ?it/s]"
     ]
    },
    {
     "name": "stdout",
     "output_type": "stream",
     "text": [
      "./data/muts/published//TOL octanoic acid_mut.csv\n",
      "./data/muts/published//TOL glutaric acid_mut.csv\n"
     ]
    },
    {
     "name": "stderr",
     "output_type": "stream",
     "text": [
      "100%|██████████| 24/24 [00:00<00:00, 221.93it/s]\n",
      "100%|██████████| 4/4 [00:00<00:00, 220.93it/s]\n",
      "100%|██████████| 8/8 [00:00<00:00, 224.43it/s]\n",
      "100%|██████████| 20/20 [00:00<00:00, 225.21it/s]\n",
      "  0%|          | 0/10 [00:00<?, ?it/s]"
     ]
    },
    {
     "name": "stdout",
     "output_type": "stream",
     "text": [
      "./data/muts/published//MG1655-M9-NC_000913_3gb-stationary-37-D-2-deoxyribose2_mut.csv\n",
      "./data/muts/published//MG1655-M9-NC_000913_3gb-stationary-37-D-lyxose2_mut.csv\n",
      "./data/muts/published//TOL putrescine_mut.csv\n",
      "./data/muts/published//Central carbon knockout gnd.csv\n"
     ]
    },
    {
     "name": "stderr",
     "output_type": "stream",
     "text": [
      "100%|██████████| 10/10 [00:00<00:00, 260.09it/s]\n",
      "100%|██████████| 20/20 [00:00<00:00, 222.12it/s]\n",
      "  0%|          | 0/29 [00:00<?, ?it/s]"
     ]
    },
    {
     "name": "stdout",
     "output_type": "stream",
     "text": [
      "./data/muts/published//TOL hexamethylenediamine_mut.csv\n",
      "./data/muts/published//SSW GLU XYL.csv\n"
     ]
    },
    {
     "name": "stderr",
     "output_type": "stream",
     "text": [
      "100%|██████████| 29/29 [00:00<00:00, 262.39it/s]\n",
      "100%|██████████| 6/6 [00:00<00:00, 264.64it/s]\n",
      "100%|██████████| 35/35 [00:00<00:00, 263.03it/s]\n",
      "  0%|          | 0/116 [00:00<?, ?it/s]"
     ]
    },
    {
     "name": "stdout",
     "output_type": "stream",
     "text": [
      "./data/muts/published//SER.csv\n",
      "./data/muts/published//SSW GLU AC.csv\n",
      "./data/muts/published//42C Tenaillon.csv\n"
     ]
    },
    {
     "name": "stderr",
     "output_type": "stream",
     "text": [
      "100%|██████████| 116/116 [00:00<00:00, 259.21it/s]\n",
      " 25%|██▌       | 27/107 [00:00<00:00, 264.93it/s]"
     ]
    },
    {
     "name": "stdout",
     "output_type": "stream",
     "text": [
      "./data/muts/published//LTEE Ara.csv\n"
     ]
    },
    {
     "name": "stderr",
     "output_type": "stream",
     "text": [
      "100%|██████████| 107/107 [00:00<00:00, 255.37it/s]\n",
      "100%|██████████| 8/8 [00:00<00:00, 222.55it/s]\n",
      "100%|██████████| 4/4 [00:00<00:00, 243.08it/s]\n",
      "100%|██████████| 20/20 [00:00<00:00, 213.59it/s]\n",
      "  0%|          | 0/20 [00:00<?, ?it/s]"
     ]
    },
    {
     "name": "stdout",
     "output_type": "stream",
     "text": [
      "./data/muts/published//MG1655-M9-NC_000913_3gb-stationary-37-D-arabinose2_mut.csv\n",
      "./data/muts/published//SSW AC.csv\n",
      "./data/muts/published//TOL propanediol_mut.csv\n",
      "./data/muts/published//TOL 2,3-butanediol_mut.csv\n"
     ]
    },
    {
     "name": "stderr",
     "output_type": "stream",
     "text": [
      "100%|██████████| 20/20 [00:00<00:00, 217.12it/s]\n",
      "100%|██████████| 29/29 [00:00<00:00, 196.86it/s]\n",
      "  0%|          | 0/27 [00:00<?, ?it/s]"
     ]
    },
    {
     "name": "stdout",
     "output_type": "stream",
     "text": [
      "./data/muts/published//C321.∆A.earlyfix.csv\n",
      "./data/muts/published//Auxotrophic strains hisD pyrC.csv\n"
     ]
    },
    {
     "name": "stderr",
     "output_type": "stream",
     "text": [
      "100%|██████████| 27/27 [00:00<00:00, 265.64it/s]\n",
      " 44%|████▍     | 21/48 [00:00<00:00, 203.05it/s]"
     ]
    },
    {
     "name": "stdout",
     "output_type": "stream",
     "text": [
      "./data/muts/published//GLU.csv\n"
     ]
    },
    {
     "name": "stderr",
     "output_type": "stream",
     "text": [
      "100%|██████████| 48/48 [00:00<00:00, 195.00it/s]\n",
      "100%|██████████| 27/27 [00:00<00:00, 203.89it/s]\n",
      "  0%|          | 0/13 [00:00<?, ?it/s]"
     ]
    },
    {
     "name": "stdout",
     "output_type": "stream",
     "text": [
      "./data/muts/published//C321.∆A.csv\n",
      "./data/muts/published//SSW GLU GLY.csv\n"
     ]
    },
    {
     "name": "stderr",
     "output_type": "stream",
     "text": [
      "100%|██████████| 13/13 [00:00<00:00, 258.88it/s]\n",
      "100%|██████████| 20/20 [00:00<00:00, 225.68it/s]\n",
      "  0%|          | 0/66 [00:00<?, ?it/s]"
     ]
    },
    {
     "name": "stdout",
     "output_type": "stream",
     "text": [
      "./data/muts/published//TOL hexanoic acid_mut.csv\n",
      "./data/muts/published//Central carbon knockout pgi.csv\n"
     ]
    },
    {
     "name": "stderr",
     "output_type": "stream",
     "text": [
      "100%|██████████| 66/66 [00:00<00:00, 262.38it/s]\n",
      "100%|██████████| 29/29 [00:00<00:00, 258.30it/s]\n",
      "  0%|          | 0/29 [00:00<?, ?it/s]"
     ]
    },
    {
     "name": "stdout",
     "output_type": "stream",
     "text": [
      "./data/muts/published//ECNR2.1.csv\n",
      "./data/muts/published//Auxotrophic strains hisD gltB.csv\n"
     ]
    },
    {
     "name": "stderr",
     "output_type": "stream",
     "text": [
      "100%|██████████| 29/29 [00:00<00:00, 263.94it/s]\n",
      "100%|██████████| 13/13 [00:00<00:00, 269.01it/s]\n",
      "100%|██████████| 20/20 [00:00<00:00, 225.16it/s]\n",
      "  0%|          | 0/20 [00:00<?, ?it/s]"
     ]
    },
    {
     "name": "stdout",
     "output_type": "stream",
     "text": [
      "./data/muts/published//Central carbon knockout PTS.csv\n",
      "./data/muts/published//TOL coumaric acid_mut.csv\n",
      "./data/muts/published//TOL isobutyric acid_mut.csv\n"
     ]
    },
    {
     "name": "stderr",
     "output_type": "stream",
     "text": [
      "100%|██████████| 20/20 [00:00<00:00, 220.72it/s]\n",
      "100%|██████████| 4/4 [00:00<00:00, 256.85it/s]\n",
      "100%|██████████| 15/15 [00:00<00:00, 268.22it/s]\n",
      "100%|██████████| 4/4 [00:00<00:00, 257.83it/s]\n",
      "  0%|          | 0/28 [00:00<?, ?it/s]"
     ]
    },
    {
     "name": "stdout",
     "output_type": "stream",
     "text": [
      "./data/muts/published//SSW GLY.csv\n",
      "./data/muts/published//TEE.csv\n",
      "./data/muts/published//SSW XYL.csv\n",
      "./data/muts/published//C321.csv\n"
     ]
    },
    {
     "name": "stderr",
     "output_type": "stream",
     "text": [
      "100%|██████████| 28/28 [00:00<00:00, 200.27it/s]\n",
      "100%|██████████| 13/13 [00:00<00:00, 267.27it/s]\n",
      "100%|██████████| 7/7 [00:00<00:00, 221.14it/s]\n",
      "  0%|          | 0/67 [00:00<?, ?it/s]"
     ]
    },
    {
     "name": "stdout",
     "output_type": "stream",
     "text": [
      "./data/muts/published//Central carbon knockout tpiA.csv\n",
      "./data/muts/published//MG1655-M9-NC_000913_3gb-stationary-37-m-tartrate2_mut.csv\n",
      "./data/muts/published//GYD.csv\n"
     ]
    },
    {
     "name": "stderr",
     "output_type": "stream",
     "text": [
      "100%|██████████| 67/67 [00:00<00:00, 203.06it/s]\n",
      " 28%|██▊       | 27/96 [00:00<00:00, 267.30it/s]"
     ]
    },
    {
     "name": "stdout",
     "output_type": "stream",
     "text": [
      "./data/muts/published//LTEE.csv\n"
     ]
    },
    {
     "name": "stderr",
     "output_type": "stream",
     "text": [
      "100%|██████████| 96/96 [00:00<00:00, 260.43it/s]\n",
      "100%|██████████| 10/10 [00:00<00:00, 253.36it/s]\n",
      "100%|██████████| 12/12 [00:00<00:00, 268.26it/s]\n",
      "/home/pphaneuf/ava_ms/ava/util/alemutdf.py:113: FutureWarning: Sorting because non-concatenation axis is not aligned. A future version\n",
      "of pandas will change to not sort by default.\n",
      "\n",
      "To accept the future behavior, pass 'sort=False'.\n",
      "\n",
      "To retain the current behavior and silence the warning, pass 'sort=True'.\n",
      "\n",
      "  mutat_df = pd.concat(mutat_df_list)\n"
     ]
    },
    {
     "name": "stdout",
     "output_type": "stream",
     "text": [
      "./data/muts/published//Central carbon knockout sdh.csv\n",
      "./data/muts/published//C13.csv\n"
     ]
    },
    {
     "data": {
      "text/plain": [
       "{'42C',\n",
       " '42C_Tenaillon',\n",
       " 'Auxotrophic_strains_hisD_gltA',\n",
       " 'Auxotrophic_strains_hisD_gltB',\n",
       " 'Auxotrophic_strains_hisD_pyrC',\n",
       " 'C13',\n",
       " 'C321',\n",
       " 'C321.∆A',\n",
       " 'C321.∆A.earlyfix',\n",
       " 'Central_carbon_knockout_PTS',\n",
       " 'Central_carbon_knockout_glucose_evolution',\n",
       " 'Central_carbon_knockout_gnd',\n",
       " 'Central_carbon_knockout_pgi',\n",
       " 'Central_carbon_knockout_sdh',\n",
       " 'Central_carbon_knockout_tpiA',\n",
       " 'ECNR2.1',\n",
       " 'Epistasis2011',\n",
       " 'GLU',\n",
       " 'GYD',\n",
       " 'Iron-ALE',\n",
       " 'LTEE',\n",
       " 'LTEE_Ara',\n",
       " 'MG1655-M9-NC_000913_3gb-stationary-37-D-2-deoxyribose2',\n",
       " 'MG1655-M9-NC_000913_3gb-stationary-37-D-arabinose2',\n",
       " 'MG1655-M9-NC_000913_3gb-stationary-37-D-lyxose2',\n",
       " 'MG1655-M9-NC_000913_3gb-stationary-37-m-tartrate2',\n",
       " 'MG1655-M9-NC_000913_3gb-stationary-37-monomethyl_succinate2',\n",
       " 'PGI',\n",
       " 'SER',\n",
       " 'SSW_AC',\n",
       " 'SSW_GLU_AC',\n",
       " 'SSW_GLU_GLY',\n",
       " 'SSW_GLU_XYL',\n",
       " 'SSW_GLY',\n",
       " 'SSW_XYL',\n",
       " 'TEE',\n",
       " 'TEE_Ara',\n",
       " 'TOL_2,3-butanediol',\n",
       " 'TOL_adipic_acid',\n",
       " 'TOL_coumaric_acid',\n",
       " 'TOL_glutaric_acid',\n",
       " 'TOL_hexamethylenediamine',\n",
       " 'TOL_hexanoic_acid',\n",
       " 'TOL_isobutyric_acid',\n",
       " 'TOL_n-butanol',\n",
       " 'TOL_octanoic_acid',\n",
       " 'TOL_propanediol',\n",
       " 'TOL_putrescine'}"
      ]
     },
     "metadata": {},
     "output_type": "display_data"
    }
   ],
   "source": [
    "muts_df = get_all_sample_mut_df(\"./data/muts/published/\")\n",
    "display(set(muts_df[\"exp\"]))"
   ]
  },
  {
   "cell_type": "code",
   "execution_count": 3,
   "metadata": {},
   "outputs": [
    {
     "data": {
      "text/plain": [
       "{'42C',\n",
       " 'C13',\n",
       " 'Central_carbon_knockout_PTS',\n",
       " 'Central_carbon_knockout_glucose_evolution',\n",
       " 'Central_carbon_knockout_gnd',\n",
       " 'Central_carbon_knockout_pgi',\n",
       " 'Central_carbon_knockout_sdh',\n",
       " 'Central_carbon_knockout_tpiA',\n",
       " 'GLU',\n",
       " 'GYD',\n",
       " 'Iron-ALE',\n",
       " 'MG1655-M9-NC_000913_3gb-stationary-37-D-2-deoxyribose2',\n",
       " 'MG1655-M9-NC_000913_3gb-stationary-37-D-arabinose2',\n",
       " 'MG1655-M9-NC_000913_3gb-stationary-37-D-lyxose2',\n",
       " 'MG1655-M9-NC_000913_3gb-stationary-37-m-tartrate2',\n",
       " 'MG1655-M9-NC_000913_3gb-stationary-37-monomethyl_succinate2',\n",
       " 'PGI',\n",
       " 'SER',\n",
       " 'SSW_AC',\n",
       " 'SSW_GLU_AC',\n",
       " 'SSW_GLU_GLY',\n",
       " 'SSW_GLU_XYL',\n",
       " 'SSW_GLY',\n",
       " 'SSW_XYL',\n",
       " 'TOL_2,3-butanediol',\n",
       " 'TOL_adipic_acid',\n",
       " 'TOL_coumaric_acid',\n",
       " 'TOL_glutaric_acid',\n",
       " 'TOL_hexamethylenediamine',\n",
       " 'TOL_hexanoic_acid',\n",
       " 'TOL_isobutyric_acid',\n",
       " 'TOL_n-butanol',\n",
       " 'TOL_octanoic_acid',\n",
       " 'TOL_propanediol',\n",
       " 'TOL_putrescine'}"
      ]
     },
     "execution_count": 3,
     "metadata": {},
     "output_type": "execute_result"
    }
   ],
   "source": [
    "l = [\n",
    "    \"42c_tenaillon\",\n",
    "    \"ltee\",\n",
    "    \"ltee_ara\",\n",
    "    \"tee\",\n",
    "    \"tee_ara\",\n",
    "    \"tm_glugly\",\n",
    "    \"epistasis2011\",\n",
    "    'C321',\n",
    "    'C321.∆A',\n",
    "    'C321.∆A.earlyfix',\n",
    "    'ECNR2.1',\n",
    "    'Auxotrophic_strains_hisD_gltA',\n",
    "    'Auxotrophic_strains_hisD_gltB',\n",
    "    'Auxotrophic_strains_hisD_pyrC',\n",
    "]\n",
    "exp_to_remove_l = [x.lower() for x in l]\n",
    "muts_df = muts_df[~muts_df.exp.str.lower().isin(exp_to_remove_l)]\n",
    "set(muts_df.exp)"
   ]
  },
  {
   "cell_type": "markdown",
   "metadata": {},
   "source": [
    "## remove problem and starting strain mutations"
   ]
  },
  {
   "cell_type": "code",
   "execution_count": 4,
   "metadata": {},
   "outputs": [
    {
     "data": {
      "text/html": [
       "<div>\n",
       "<style scoped>\n",
       "    .dataframe tbody tr th:only-of-type {\n",
       "        vertical-align: middle;\n",
       "    }\n",
       "\n",
       "    .dataframe tbody tr th {\n",
       "        vertical-align: top;\n",
       "    }\n",
       "\n",
       "    .dataframe thead th {\n",
       "        text-align: right;\n",
       "    }\n",
       "</style>\n",
       "<table border=\"1\" class=\"dataframe\">\n",
       "  <thead>\n",
       "    <tr style=\"text-align: right;\">\n",
       "      <th></th>\n",
       "      <th>Details</th>\n",
       "      <th>Gene</th>\n",
       "      <th>Mut ID</th>\n",
       "      <th>Mutation Type</th>\n",
       "      <th>Position</th>\n",
       "      <th>Reference Seq</th>\n",
       "      <th>Sequence Change</th>\n",
       "      <th>ale</th>\n",
       "      <th>exp</th>\n",
       "      <th>flask</th>\n",
       "      <th>isolate</th>\n",
       "      <th>presence</th>\n",
       "      <th>tech_rep</th>\n",
       "    </tr>\n",
       "  </thead>\n",
       "  <tbody>\n",
       "    <tr>\n",
       "      <td>1</td>\n",
       "      <td>K286R (AAG→AGG)</td>\n",
       "      <td>insH1</td>\n",
       "      <td>NaN</td>\n",
       "      <td>SNP</td>\n",
       "      <td>2,066,465</td>\n",
       "      <td>NaN</td>\n",
       "      <td>T→C</td>\n",
       "      <td>23</td>\n",
       "      <td>Central_carbon_knockout_glucose_evolution</td>\n",
       "      <td>0</td>\n",
       "      <td>0</td>\n",
       "      <td>0.37</td>\n",
       "      <td>1</td>\n",
       "    </tr>\n",
       "    <tr>\n",
       "      <td>2</td>\n",
       "      <td>I204S (ATC→AGC)</td>\n",
       "      <td>wcaA</td>\n",
       "      <td>NaN</td>\n",
       "      <td>SNP</td>\n",
       "      <td>2,132,787</td>\n",
       "      <td>NaN</td>\n",
       "      <td>A→C</td>\n",
       "      <td>23</td>\n",
       "      <td>Central_carbon_knockout_glucose_evolution</td>\n",
       "      <td>0</td>\n",
       "      <td>0</td>\n",
       "      <td>1.00</td>\n",
       "      <td>1</td>\n",
       "    </tr>\n",
       "    <tr>\n",
       "      <td>3</td>\n",
       "      <td></td>\n",
       "      <td>[rph], [rph]</td>\n",
       "      <td>NaN</td>\n",
       "      <td>DEL</td>\n",
       "      <td>3,815,858</td>\n",
       "      <td>NaN</td>\n",
       "      <td>Δ82 bp</td>\n",
       "      <td>23</td>\n",
       "      <td>Central_carbon_knockout_glucose_evolution</td>\n",
       "      <td>0</td>\n",
       "      <td>0</td>\n",
       "      <td>1.00</td>\n",
       "      <td>1</td>\n",
       "    </tr>\n",
       "    <tr>\n",
       "      <td>4</td>\n",
       "      <td>coding (220‑224/951 nt)</td>\n",
       "      <td>corA</td>\n",
       "      <td>NaN</td>\n",
       "      <td>DEL</td>\n",
       "      <td>4,001,644</td>\n",
       "      <td>NaN</td>\n",
       "      <td>Δ5 bp</td>\n",
       "      <td>23</td>\n",
       "      <td>Central_carbon_knockout_glucose_evolution</td>\n",
       "      <td>0</td>\n",
       "      <td>0</td>\n",
       "      <td>1.00</td>\n",
       "      <td>1</td>\n",
       "    </tr>\n",
       "    <tr>\n",
       "      <td>5</td>\n",
       "      <td>P1100Q (CCG→CAG)</td>\n",
       "      <td>rpoB</td>\n",
       "      <td>NaN</td>\n",
       "      <td>SNP</td>\n",
       "      <td>4,184,542</td>\n",
       "      <td>NaN</td>\n",
       "      <td>C→A</td>\n",
       "      <td>23</td>\n",
       "      <td>Central_carbon_knockout_glucose_evolution</td>\n",
       "      <td>0</td>\n",
       "      <td>0</td>\n",
       "      <td>1.00</td>\n",
       "      <td>1</td>\n",
       "    </tr>\n",
       "  </tbody>\n",
       "</table>\n",
       "</div>"
      ],
      "text/plain": [
       "                   Details          Gene  Mut ID Mutation Type   Position  \\\n",
       "1          K286R (AAG→AGG)         insH1     NaN           SNP  2,066,465   \n",
       "2          I204S (ATC→AGC)          wcaA     NaN           SNP  2,132,787   \n",
       "3                           [rph], [rph]     NaN           DEL  3,815,858   \n",
       "4  coding (220‑224/951 nt)          corA     NaN           DEL  4,001,644   \n",
       "5         P1100Q (CCG→CAG)          rpoB     NaN           SNP  4,184,542   \n",
       "\n",
       "  Reference Seq Sequence Change  ale  \\\n",
       "1           NaN             T→C   23   \n",
       "2           NaN             A→C   23   \n",
       "3           NaN          Δ82 bp   23   \n",
       "4           NaN           Δ5 bp   23   \n",
       "5           NaN             C→A   23   \n",
       "\n",
       "                                         exp  flask  isolate  presence  \\\n",
       "1  Central_carbon_knockout_glucose_evolution      0        0      0.37   \n",
       "2  Central_carbon_knockout_glucose_evolution      0        0      1.00   \n",
       "3  Central_carbon_knockout_glucose_evolution      0        0      1.00   \n",
       "4  Central_carbon_knockout_glucose_evolution      0        0      1.00   \n",
       "5  Central_carbon_knockout_glucose_evolution      0        0      1.00   \n",
       "\n",
       "   tech_rep  \n",
       "1         1  \n",
       "2         1  \n",
       "3         1  \n",
       "4         1  \n",
       "5         1  "
      ]
     },
     "execution_count": 4,
     "metadata": {},
     "output_type": "execute_result"
    }
   ],
   "source": [
    "muts_df = muts_df[~(\n",
    "    ((muts_df.Gene == \"gatC\")\n",
    "     | (muts_df.Gene == \"gatC, gatC\"))\n",
    "    & ((muts_df.Position == \"2,173,361\")\n",
    "       | (muts_df.Position == \"2,173,363\")\n",
    "       | (muts_df.Position == \"2,173,364\"))\n",
    "    & ((muts_df[\"Sequence Change\"] == \"Δ2 bp\")\n",
    "       | (muts_df[\"Sequence Change\"] == \"Δ1 bp\"))\n",
    ")]\n",
    "\n",
    "muts_df = muts_df[~(\n",
    "    (muts_df.Gene == \"[crl]\")\n",
    "    & (muts_df.Position == \"257,908\")\n",
    "    & (muts_df[\"Sequence Change\"] == \"Δ776 bp\"))]\n",
    "\n",
    "muts_df = muts_df[~(\n",
    "    (muts_df.Gene == \"insB1, insA\")\n",
    "    & (muts_df.Position == \"1,978,503\")\n",
    "    & (muts_df[\"Sequence Change\"] == \"Δ776 bp\"))]\n",
    "\n",
    "muts_df = muts_df[~(\n",
    "    (muts_df.Gene == \"ychE, oppA\")\n",
    "    & (muts_df.Position == \"1,299,499\")\n",
    "    & (muts_df[\"Sequence Change\"] == \"Δ1,199 bp\"))]\n",
    "\n",
    "muts_df = muts_df[~(\n",
    "    ((muts_df.Gene == \"glpR\")\n",
    "     | (muts_df.Gene == \"glpR, glpR\"))\n",
    "    & (muts_df.Position == \"3,560,455\")\n",
    "    & (muts_df[\"Sequence Change\"] == \"+G\"))]\n",
    "\n",
    "muts_df = muts_df[~(\n",
    "    (muts_df.Gene == \"gltP, yjcO\")\n",
    "    & (muts_df.Position == \"4,296,381\")\n",
    "    & (muts_df[\"Sequence Change\"] == \"+GC\"))]\n",
    "\n",
    "muts_df = muts_df[~(\n",
    "    (muts_df.Gene == \"gltP, yjcO\")\n",
    "    & (muts_df.Position == \"4,296,380\")\n",
    "    & (muts_df[\"Sequence Change\"] == \"+CG\"))]\n",
    "\n",
    "muts_df = muts_df[~(\n",
    "    (muts_df.Gene == \"insB1,insA\")\n",
    "    & (muts_df.Position == \"1,978,503\")\n",
    "    & (muts_df[\"Sequence Change\"] == \"Δ776 bp\"))]\n",
    "\n",
    "muts_df = muts_df[~(\n",
    "    ((muts_df.Gene == \"insA/uspC\") | (muts_df.Gene == \"insA, uspC\"))\n",
    "    & (muts_df.Position == \"1,979,486\")\n",
    "    & (muts_df[\"Sequence Change\"] == \"IS5 (+) +4 bp\"))]\n",
    "\n",
    "p = {'4,293,212',\n",
    " '4,293,403',\n",
    " '4,293,430',\n",
    " '4,296,060',\n",
    " '4,296,154',\n",
    " '4,296,189',\n",
    " '4,296,190',\n",
    " '4,296,191',\n",
    " '4,296,267',\n",
    " '4,296,268',\n",
    " '4,296,286',\n",
    " '4,296,380',\n",
    " '4,296,382'}\n",
    "ch = {'+C', '+G', 'A→C', 'A→G', 'A→T', 'C→A', 'C→T', 'T→C'}\n",
    "muts_df = muts_df[~(\n",
    "    (muts_df.Gene == \"gltP, yjcO\")\n",
    "    & (muts_df[\"Position\"].isin(p))\n",
    "    & (muts_df[\"Sequence Change\"].isin(ch))\n",
    "       )]\n",
    "\n",
    "muts_df.head()"
   ]
  },
  {
   "cell_type": "markdown",
   "metadata": {},
   "source": [
    "## Remove experiment specific starting strain mutations"
   ]
  },
  {
   "cell_type": "code",
   "execution_count": 5,
   "metadata": {},
   "outputs": [],
   "source": [
    "# Filter the following mutations out if they come from specific experiments.\n",
    "muts_df = muts_df[(~((muts_df.exp==\"SER\") & (muts_df[\"Gene\"]==\"cyoB\") & (muts_df[\"Details\"]==\"W190* (TGG→TAG)\")))]\n",
    "muts_df = muts_df[(~((muts_df.exp==\"SER\") & (muts_df[\"Gene\"]==\"eno\") & (muts_df[\"Details\"]==\"L193Q (CTG→CAG)\")))]\n",
    "muts_df = muts_df[(~((muts_df.exp==\"SER\") & (muts_df[\"Gene\"]==\"chbF\") & (muts_df[\"Details\"]==\"V133E (GTA→GAA)\")))]\n",
    "muts_df = muts_df[(~((muts_df.exp==\"SER\") & (muts_df[\"Gene\"]==\"fumC\") & (muts_df[\"Details\"]==\"G354G (GGT→GGC)\")))]\n",
    "muts_df = muts_df[(~((muts_df.exp==\"SER\") & (muts_df[\"Gene\"]==\"yegE\") & (muts_df[\"Details\"]==\"S683Y (TCC→TAC)\")))]\n",
    "muts_df = muts_df[(~((muts_df.exp==\"SER\") & (muts_df[\"Gene\"]==\"rcsC\") & (muts_df[\"Details\"]==\"L594F (TTG→TTC)\")))]\n",
    "\n",
    "\n",
    "muts_df = muts_df[(~((muts_df.exp==\"GYD\") & (muts_df[\"Gene\"]==\"fumC\") & (muts_df[\"Details\"]==\"G354G (GGT→GGC)\")))]\n",
    "muts_df = muts_df[(~((muts_df.exp==\"GYD\") & (muts_df[\"Gene\"]==\"yegE\") & (muts_df[\"Details\"]==\"S683Y (TCC→TAC)\")))]\n",
    "muts_df = muts_df[(~((muts_df.exp==\"GYD\") & (muts_df[\"Gene\"]==\"rcsC\") & (muts_df[\"Details\"]==\"L594F (TTG→TTC)\")))]\n",
    "\n",
    "\n",
    "cck_exp_list = [\n",
    "    \"Central_carbon_knockout_tpiA\",\n",
    "    \"Central_carbon_knockout_PTS\",\n",
    "    \"Central_carbon_knockout_pgi\",\n",
    "    \"Central_carbon_knockout_sdh\",\n",
    "    \"Central_carbon_knockout_gnd\",\n",
    "    \"Central_carbon_knockout_glucose_evolution\"\n",
    "]\n",
    "\n",
    "muts_df = muts_df[~(\n",
    "    (muts_df.exp.isin(cck_exp_list))\n",
    "    & (\n",
    "        (muts_df[\"Gene\"]==\"wcaA\")\n",
    "        | (muts_df[\"Gene\"]==\"corA\")\n",
    "    )\n",
    ")]  # The details of the mutations to filter out should probably include the sequence change."
   ]
  },
  {
   "cell_type": "code",
   "execution_count": 6,
   "metadata": {},
   "outputs": [
    {
     "data": {
      "text/html": [
       "<div>\n",
       "<style scoped>\n",
       "    .dataframe tbody tr th:only-of-type {\n",
       "        vertical-align: middle;\n",
       "    }\n",
       "\n",
       "    .dataframe tbody tr th {\n",
       "        vertical-align: top;\n",
       "    }\n",
       "\n",
       "    .dataframe thead th {\n",
       "        text-align: right;\n",
       "    }\n",
       "</style>\n",
       "<table border=\"1\" class=\"dataframe\">\n",
       "  <thead>\n",
       "    <tr style=\"text-align: right;\">\n",
       "      <th></th>\n",
       "      <th>Details</th>\n",
       "      <th>Gene</th>\n",
       "      <th>Mut ID</th>\n",
       "      <th>Mutation Type</th>\n",
       "      <th>Position</th>\n",
       "      <th>Reference Seq</th>\n",
       "      <th>Sequence Change</th>\n",
       "      <th>ale</th>\n",
       "      <th>exp</th>\n",
       "      <th>flask</th>\n",
       "      <th>isolate</th>\n",
       "      <th>presence</th>\n",
       "      <th>tech_rep</th>\n",
       "    </tr>\n",
       "  </thead>\n",
       "  <tbody>\n",
       "    <tr>\n",
       "      <td>2</td>\n",
       "      <td>R110G (CGT→GGT)</td>\n",
       "      <td>clsA</td>\n",
       "      <td>NaN</td>\n",
       "      <td>SNP</td>\n",
       "      <td>1,308,318</td>\n",
       "      <td>NaN</td>\n",
       "      <td>G→C</td>\n",
       "      <td>1</td>\n",
       "      <td>42C</td>\n",
       "      <td>124</td>\n",
       "      <td>1</td>\n",
       "      <td>1.0</td>\n",
       "      <td>1</td>\n",
       "    </tr>\n",
       "    <tr>\n",
       "      <td>6</td>\n",
       "      <td></td>\n",
       "      <td>[rph], [rph]</td>\n",
       "      <td>NaN</td>\n",
       "      <td>DEL</td>\n",
       "      <td>3,815,859</td>\n",
       "      <td>NaN</td>\n",
       "      <td>Δ82 bp</td>\n",
       "      <td>1</td>\n",
       "      <td>42C</td>\n",
       "      <td>124</td>\n",
       "      <td>1</td>\n",
       "      <td>1.0</td>\n",
       "      <td>1</td>\n",
       "    </tr>\n",
       "    <tr>\n",
       "      <td>7</td>\n",
       "      <td>A734V (GCG→GTG)</td>\n",
       "      <td>rpoC</td>\n",
       "      <td>NaN</td>\n",
       "      <td>SNP</td>\n",
       "      <td>4,187,550</td>\n",
       "      <td>NaN</td>\n",
       "      <td>C→T</td>\n",
       "      <td>1</td>\n",
       "      <td>42C</td>\n",
       "      <td>124</td>\n",
       "      <td>1</td>\n",
       "      <td>1.0</td>\n",
       "      <td>1</td>\n",
       "    </tr>\n",
       "    <tr>\n",
       "      <td>8</td>\n",
       "      <td>D9A (GAT→GCT)</td>\n",
       "      <td>hfq</td>\n",
       "      <td>NaN</td>\n",
       "      <td>SNP</td>\n",
       "      <td>4,400,313</td>\n",
       "      <td>NaN</td>\n",
       "      <td>A→C</td>\n",
       "      <td>1</td>\n",
       "      <td>42C</td>\n",
       "      <td>124</td>\n",
       "      <td>1</td>\n",
       "      <td>1.0</td>\n",
       "      <td>1</td>\n",
       "    </tr>\n",
       "    <tr>\n",
       "      <td>0</td>\n",
       "      <td>coding (380‑400/1149 nt)</td>\n",
       "      <td>nagA</td>\n",
       "      <td>NaN</td>\n",
       "      <td>DEL</td>\n",
       "      <td>702,352</td>\n",
       "      <td>NaN</td>\n",
       "      <td>Δ21 bp</td>\n",
       "      <td>1</td>\n",
       "      <td>42C</td>\n",
       "      <td>124</td>\n",
       "      <td>1</td>\n",
       "      <td>1.0</td>\n",
       "      <td>1</td>\n",
       "    </tr>\n",
       "  </tbody>\n",
       "</table>\n",
       "</div>"
      ],
      "text/plain": [
       "                    Details          Gene  Mut ID Mutation Type   Position  \\\n",
       "2           R110G (CGT→GGT)          clsA     NaN           SNP  1,308,318   \n",
       "6                            [rph], [rph]     NaN           DEL  3,815,859   \n",
       "7           A734V (GCG→GTG)          rpoC     NaN           SNP  4,187,550   \n",
       "8             D9A (GAT→GCT)           hfq     NaN           SNP  4,400,313   \n",
       "0  coding (380‑400/1149 nt)          nagA     NaN           DEL    702,352   \n",
       "\n",
       "  Reference Seq Sequence Change  ale  exp  flask  isolate  presence  tech_rep  \n",
       "2           NaN             G→C    1  42C    124        1       1.0         1  \n",
       "6           NaN          Δ82 bp    1  42C    124        1       1.0         1  \n",
       "7           NaN             C→T    1  42C    124        1       1.0         1  \n",
       "8           NaN             A→C    1  42C    124        1       1.0         1  \n",
       "0           NaN          Δ21 bp    1  42C    124        1       1.0         1  "
      ]
     },
     "execution_count": 6,
     "metadata": {},
     "output_type": "execute_result"
    }
   ],
   "source": [
    "# Since the majority of our comparisons have to do with endpoints, just look at endpoints.\n",
    "# If not limiting to endpoint, the mutations used in associated mutations to conditions will need filtering.\n",
    "# This occurs in a later NB of the pipeline.\n",
    "muts_df = get_multi_exp_max_freq_mut_df(muts_df, endpoint_flask_only=True)\n",
    "muts_df.head()"
   ]
  },
  {
   "cell_type": "code",
   "execution_count": 7,
   "metadata": {},
   "outputs": [],
   "source": [
    "muts_df.Position = muts_df.Position.apply(lambda x: int(str(x).replace(\",\",\"\")))"
   ]
  },
  {
   "cell_type": "code",
   "execution_count": 8,
   "metadata": {},
   "outputs": [],
   "source": [
    "# ensure all mutations are using NC_000913 positions.\n",
    "genome_pos_transform_exp_l = [\"ERS\",\n",
    "                              'Central_carbon_knockout_PTS',\n",
    "                              'Central_carbon_knockout_glucose_evolution',\n",
    "                              'Central_carbon_knockout_gnd',\n",
    "                              'Central_carbon_knockout_pgi',\n",
    "                              'Central_carbon_knockout_sdh',\n",
    "                              'Central_carbon_knockout_tpiA',]\n",
    "muts_df.Position = muts_df.apply(lambda row: get_K12_pos_from_BOP27(row.Position) if row.exp in genome_pos_transform_exp_l else row.Position, axis=1)"
   ]
  },
  {
   "cell_type": "code",
   "execution_count": 9,
   "metadata": {},
   "outputs": [
    {
     "data": {
      "text/html": [
       "<div>\n",
       "<style scoped>\n",
       "    .dataframe tbody tr th:only-of-type {\n",
       "        vertical-align: middle;\n",
       "    }\n",
       "\n",
       "    .dataframe tbody tr th {\n",
       "        vertical-align: top;\n",
       "    }\n",
       "\n",
       "    .dataframe thead th {\n",
       "        text-align: right;\n",
       "    }\n",
       "</style>\n",
       "<table border=\"1\" class=\"dataframe\">\n",
       "  <thead>\n",
       "    <tr style=\"text-align: right;\">\n",
       "      <th></th>\n",
       "      <th>Details</th>\n",
       "      <th>Gene</th>\n",
       "      <th>Mut ID</th>\n",
       "      <th>Mutation Type</th>\n",
       "      <th>Position</th>\n",
       "      <th>Reference Seq</th>\n",
       "      <th>Sequence Change</th>\n",
       "      <th>ale</th>\n",
       "      <th>exp</th>\n",
       "      <th>flask</th>\n",
       "      <th>isolate</th>\n",
       "      <th>presence</th>\n",
       "      <th>tech_rep</th>\n",
       "      <th>coding</th>\n",
       "    </tr>\n",
       "  </thead>\n",
       "  <tbody>\n",
       "    <tr>\n",
       "      <td>2</td>\n",
       "      <td>R110G (CGT→GGT)</td>\n",
       "      <td>clsA</td>\n",
       "      <td>NaN</td>\n",
       "      <td>SNP</td>\n",
       "      <td>1308318</td>\n",
       "      <td>NaN</td>\n",
       "      <td>G→C</td>\n",
       "      <td>1</td>\n",
       "      <td>42C</td>\n",
       "      <td>124</td>\n",
       "      <td>1</td>\n",
       "      <td>1.0</td>\n",
       "      <td>1</td>\n",
       "      <td>True</td>\n",
       "    </tr>\n",
       "    <tr>\n",
       "      <td>6</td>\n",
       "      <td></td>\n",
       "      <td>[rph], [rph]</td>\n",
       "      <td>NaN</td>\n",
       "      <td>DEL</td>\n",
       "      <td>3815859</td>\n",
       "      <td>NaN</td>\n",
       "      <td>Δ82 bp</td>\n",
       "      <td>1</td>\n",
       "      <td>42C</td>\n",
       "      <td>124</td>\n",
       "      <td>1</td>\n",
       "      <td>1.0</td>\n",
       "      <td>1</td>\n",
       "      <td>True</td>\n",
       "    </tr>\n",
       "    <tr>\n",
       "      <td>7</td>\n",
       "      <td>A734V (GCG→GTG)</td>\n",
       "      <td>rpoC</td>\n",
       "      <td>NaN</td>\n",
       "      <td>SNP</td>\n",
       "      <td>4187550</td>\n",
       "      <td>NaN</td>\n",
       "      <td>C→T</td>\n",
       "      <td>1</td>\n",
       "      <td>42C</td>\n",
       "      <td>124</td>\n",
       "      <td>1</td>\n",
       "      <td>1.0</td>\n",
       "      <td>1</td>\n",
       "      <td>True</td>\n",
       "    </tr>\n",
       "    <tr>\n",
       "      <td>8</td>\n",
       "      <td>D9A (GAT→GCT)</td>\n",
       "      <td>hfq</td>\n",
       "      <td>NaN</td>\n",
       "      <td>SNP</td>\n",
       "      <td>4400313</td>\n",
       "      <td>NaN</td>\n",
       "      <td>A→C</td>\n",
       "      <td>1</td>\n",
       "      <td>42C</td>\n",
       "      <td>124</td>\n",
       "      <td>1</td>\n",
       "      <td>1.0</td>\n",
       "      <td>1</td>\n",
       "      <td>True</td>\n",
       "    </tr>\n",
       "    <tr>\n",
       "      <td>0</td>\n",
       "      <td>coding (380‑400/1149 nt)</td>\n",
       "      <td>nagA</td>\n",
       "      <td>NaN</td>\n",
       "      <td>DEL</td>\n",
       "      <td>702352</td>\n",
       "      <td>NaN</td>\n",
       "      <td>Δ21 bp</td>\n",
       "      <td>1</td>\n",
       "      <td>42C</td>\n",
       "      <td>124</td>\n",
       "      <td>1</td>\n",
       "      <td>1.0</td>\n",
       "      <td>1</td>\n",
       "      <td>True</td>\n",
       "    </tr>\n",
       "  </tbody>\n",
       "</table>\n",
       "</div>"
      ],
      "text/plain": [
       "                    Details          Gene  Mut ID Mutation Type  Position  \\\n",
       "2           R110G (CGT→GGT)          clsA     NaN           SNP   1308318   \n",
       "6                            [rph], [rph]     NaN           DEL   3815859   \n",
       "7           A734V (GCG→GTG)          rpoC     NaN           SNP   4187550   \n",
       "8             D9A (GAT→GCT)           hfq     NaN           SNP   4400313   \n",
       "0  coding (380‑400/1149 nt)          nagA     NaN           DEL    702352   \n",
       "\n",
       "  Reference Seq Sequence Change  ale  exp  flask  isolate  presence  tech_rep  \\\n",
       "2           NaN             G→C    1  42C    124        1       1.0         1   \n",
       "6           NaN          Δ82 bp    1  42C    124        1       1.0         1   \n",
       "7           NaN             C→T    1  42C    124        1       1.0         1   \n",
       "8           NaN             A→C    1  42C    124        1       1.0         1   \n",
       "0           NaN          Δ21 bp    1  42C    124        1       1.0         1   \n",
       "\n",
       "   coding  \n",
       "2    True  \n",
       "6    True  \n",
       "7    True  \n",
       "8    True  \n",
       "0    True  "
      ]
     },
     "execution_count": 9,
     "metadata": {},
     "output_type": "execute_result"
    }
   ],
   "source": [
    "muts_df[\"coding\"] = muts_df.Details.apply(is_coding_mut)\n",
    "muts_df[\"Gene\"] = muts_df.apply(lambda row: row[\"Gene\"].replace(\", \",\"/\") if not row[\"coding\"] else row[\"Gene\"], axis=1)\n",
    "\n",
    "muts_df.head()"
   ]
  },
  {
   "cell_type": "code",
   "execution_count": 10,
   "metadata": {},
   "outputs": [
    {
     "name": "stdout",
     "output_type": "stream",
     "text": [
      "6149\n",
      "6037\n"
     ]
    }
   ],
   "source": [
    "print(len(muts_df))\n",
    "muts_df = muts_df[muts_df.presence >= 0.5]\n",
    "print(len(muts_df))"
   ]
  },
  {
   "cell_type": "code",
   "execution_count": 11,
   "metadata": {},
   "outputs": [
    {
     "data": {
      "text/html": [
       "<div>\n",
       "<style scoped>\n",
       "    .dataframe tbody tr th:only-of-type {\n",
       "        vertical-align: middle;\n",
       "    }\n",
       "\n",
       "    .dataframe tbody tr th {\n",
       "        vertical-align: top;\n",
       "    }\n",
       "\n",
       "    .dataframe thead th {\n",
       "        text-align: right;\n",
       "    }\n",
       "</style>\n",
       "<table border=\"1\" class=\"dataframe\">\n",
       "  <thead>\n",
       "    <tr style=\"text-align: right;\">\n",
       "      <th></th>\n",
       "      <th>Details</th>\n",
       "      <th>Gene</th>\n",
       "      <th>Mut ID</th>\n",
       "      <th>Mutation Type</th>\n",
       "      <th>Position</th>\n",
       "      <th>Reference Seq</th>\n",
       "      <th>Sequence Change</th>\n",
       "      <th>ale</th>\n",
       "      <th>exp</th>\n",
       "      <th>flask</th>\n",
       "      <th>isolate</th>\n",
       "      <th>presence</th>\n",
       "      <th>tech_rep</th>\n",
       "      <th>coding</th>\n",
       "    </tr>\n",
       "  </thead>\n",
       "  <tbody>\n",
       "    <tr>\n",
       "      <td>2</td>\n",
       "      <td>R110G (CGT→GGT)</td>\n",
       "      <td>clsA</td>\n",
       "      <td>NaN</td>\n",
       "      <td>SNP</td>\n",
       "      <td>1308318</td>\n",
       "      <td>NaN</td>\n",
       "      <td>G→C</td>\n",
       "      <td>1</td>\n",
       "      <td>42C</td>\n",
       "      <td>124</td>\n",
       "      <td>1</td>\n",
       "      <td>1.0</td>\n",
       "      <td>1</td>\n",
       "      <td>True</td>\n",
       "    </tr>\n",
       "    <tr>\n",
       "      <td>6</td>\n",
       "      <td></td>\n",
       "      <td>rph</td>\n",
       "      <td>NaN</td>\n",
       "      <td>DEL</td>\n",
       "      <td>3815859</td>\n",
       "      <td>NaN</td>\n",
       "      <td>Δ82 bp</td>\n",
       "      <td>1</td>\n",
       "      <td>42C</td>\n",
       "      <td>124</td>\n",
       "      <td>1</td>\n",
       "      <td>1.0</td>\n",
       "      <td>1</td>\n",
       "      <td>True</td>\n",
       "    </tr>\n",
       "    <tr>\n",
       "      <td>7</td>\n",
       "      <td>A734V (GCG→GTG)</td>\n",
       "      <td>rpoC</td>\n",
       "      <td>NaN</td>\n",
       "      <td>SNP</td>\n",
       "      <td>4187550</td>\n",
       "      <td>NaN</td>\n",
       "      <td>C→T</td>\n",
       "      <td>1</td>\n",
       "      <td>42C</td>\n",
       "      <td>124</td>\n",
       "      <td>1</td>\n",
       "      <td>1.0</td>\n",
       "      <td>1</td>\n",
       "      <td>True</td>\n",
       "    </tr>\n",
       "    <tr>\n",
       "      <td>8</td>\n",
       "      <td>D9A (GAT→GCT)</td>\n",
       "      <td>hfq</td>\n",
       "      <td>NaN</td>\n",
       "      <td>SNP</td>\n",
       "      <td>4400313</td>\n",
       "      <td>NaN</td>\n",
       "      <td>A→C</td>\n",
       "      <td>1</td>\n",
       "      <td>42C</td>\n",
       "      <td>124</td>\n",
       "      <td>1</td>\n",
       "      <td>1.0</td>\n",
       "      <td>1</td>\n",
       "      <td>True</td>\n",
       "    </tr>\n",
       "    <tr>\n",
       "      <td>0</td>\n",
       "      <td>coding (380‑400/1149 nt)</td>\n",
       "      <td>nagA</td>\n",
       "      <td>NaN</td>\n",
       "      <td>DEL</td>\n",
       "      <td>702352</td>\n",
       "      <td>NaN</td>\n",
       "      <td>Δ21 bp</td>\n",
       "      <td>1</td>\n",
       "      <td>42C</td>\n",
       "      <td>124</td>\n",
       "      <td>1</td>\n",
       "      <td>1.0</td>\n",
       "      <td>1</td>\n",
       "      <td>True</td>\n",
       "    </tr>\n",
       "  </tbody>\n",
       "</table>\n",
       "</div>"
      ],
      "text/plain": [
       "                    Details  Gene  Mut ID Mutation Type  Position  \\\n",
       "2           R110G (CGT→GGT)  clsA     NaN           SNP   1308318   \n",
       "6                             rph     NaN           DEL   3815859   \n",
       "7           A734V (GCG→GTG)  rpoC     NaN           SNP   4187550   \n",
       "8             D9A (GAT→GCT)   hfq     NaN           SNP   4400313   \n",
       "0  coding (380‑400/1149 nt)  nagA     NaN           DEL    702352   \n",
       "\n",
       "  Reference Seq Sequence Change  ale  exp  flask  isolate  presence  tech_rep  \\\n",
       "2           NaN             G→C    1  42C    124        1       1.0         1   \n",
       "6           NaN          Δ82 bp    1  42C    124        1       1.0         1   \n",
       "7           NaN             C→T    1  42C    124        1       1.0         1   \n",
       "8           NaN             A→C    1  42C    124        1       1.0         1   \n",
       "0           NaN          Δ21 bp    1  42C    124        1       1.0         1   \n",
       "\n",
       "   coding  \n",
       "2    True  \n",
       "6    True  \n",
       "7    True  \n",
       "8    True  \n",
       "0    True  "
      ]
     },
     "execution_count": 11,
     "metadata": {},
     "output_type": "execute_result"
    }
   ],
   "source": [
    "# This work is also currently duplicated NB4 \n",
    "muts_df[\"Gene\"] = muts_df[\"Gene\"].apply(lambda a: \"rph\" if a == \"[rph], [rph]\" else a)\n",
    "muts_df[\"Gene\"] = muts_df[\"Gene\"].apply(lambda a: \"rph\" if a == \"[rph],[rph]\" else a)\n",
    "muts_df.head()"
   ]
  },
  {
   "cell_type": "code",
   "execution_count": 12,
   "metadata": {},
   "outputs": [],
   "source": [
    "# removing unnecessary column\n",
    "muts_df = muts_df.drop(columns=[\"Mut ID\"])"
   ]
  },
  {
   "cell_type": "code",
   "execution_count": 13,
   "metadata": {},
   "outputs": [
    {
     "name": "stdout",
     "output_type": "stream",
     "text": [
      "223\n",
      "210\n"
     ]
    }
   ],
   "source": [
    "# Amount of ALEs before removal\n",
    "print(len(muts_df.apply(lambda r: r.exp + \" \" + str(r.ale), axis=1).unique()))\n",
    "\n",
    "# removing hypermutators since they will affect associations\n",
    "\n",
    "muts_df = muts_df[\n",
    "    ~(\n",
    "        (muts_df.exp == \"GLU\")\n",
    "        & ((muts_df.ale == 5) | (muts_df.ale == 7))\n",
    "    )\n",
    "]\n",
    "\n",
    "muts_df = muts_df[\n",
    "    ~(\n",
    "        (muts_df.exp == \"TOL_2,3-butanediol\")\n",
    "        & (muts_df.ale == 3)\n",
    "    )\n",
    "]\n",
    "\n",
    "muts_df = muts_df[\n",
    "    ~(\n",
    "        (muts_df.exp == \"TOL_adipic_acid\")\n",
    "        & (muts_df.ale == 5)\n",
    "    )\n",
    "]\n",
    "\n",
    "muts_df = muts_df[\n",
    "    ~(\n",
    "        (muts_df.exp == \"TOL_hexamethylenediamine\")\n",
    "        & (muts_df.ale == 6)\n",
    "    )\n",
    "]\n",
    "\n",
    "muts_df = muts_df[\n",
    "    ~(\n",
    "        (muts_df.exp == \"TOL_octanoic_acid\")\n",
    "        & (muts_df.ale == 5)\n",
    "    )\n",
    "]\n",
    "\n",
    "muts_df = muts_df[\n",
    "    ~(\n",
    "        (muts_df.exp == \"TOL_propanediol\")\n",
    "        & ((muts_df.ale == 1) | (muts_df.ale == 2) | (muts_df.ale == 3) | (muts_df.ale == 4) | (muts_df.ale == 5) | (muts_df.ale == 7) | (muts_df.ale == 8))\n",
    "    )\n",
    "]\n",
    "\n",
    "print(len(muts_df.apply(lambda r: r.exp + \" \" + str(r.ale), axis=1).unique()))"
   ]
  },
  {
   "cell_type": "code",
   "execution_count": 14,
   "metadata": {},
   "outputs": [
    {
     "name": "stdout",
     "output_type": "stream",
     "text": [
      "208\n"
     ]
    }
   ],
   "source": [
    "# removing samples not incuded in GYD MS for AVA MS\n",
    "\n",
    "muts_df = muts_df[\n",
    "    ~(\n",
    "        (muts_df.exp == \"GYD\")\n",
    "        & ((muts_df.ale == 35) | (muts_df.ale == 34))\n",
    "    )\n",
    "]\n",
    "print(len(muts_df.apply(lambda r: r.exp + \" \" + str(r.ale), axis=1).unique()))"
   ]
  },
  {
   "cell_type": "code",
   "execution_count": 15,
   "metadata": {},
   "outputs": [],
   "source": [
    "muts_df.to_pickle(\"./data/1_df.pkl\")"
   ]
  },
  {
   "cell_type": "code",
   "execution_count": 16,
   "metadata": {},
   "outputs": [
    {
     "data": {
      "text/plain": [
       "35"
      ]
     },
     "metadata": {},
     "output_type": "display_data"
    }
   ],
   "source": [
    "display(len(muts_df.exp.unique()))"
   ]
  },
  {
   "cell_type": "code",
   "execution_count": 17,
   "metadata": {},
   "outputs": [
    {
     "name": "stdout",
     "output_type": "stream",
     "text": [
      "42C\n",
      "C13\n",
      "Central_carbon_knockout_PTS\n",
      "Central_carbon_knockout_glucose_evolution\n",
      "Central_carbon_knockout_gnd\n",
      "Central_carbon_knockout_pgi\n",
      "Central_carbon_knockout_sdh\n",
      "Central_carbon_knockout_tpiA\n",
      "GLU\n",
      "GYD\n",
      "Iron-ALE\n",
      "MG1655-M9-NC_000913_3gb-stationary-37-D-2-deoxyribose2\n",
      "MG1655-M9-NC_000913_3gb-stationary-37-D-arabinose2\n",
      "MG1655-M9-NC_000913_3gb-stationary-37-D-lyxose2\n",
      "MG1655-M9-NC_000913_3gb-stationary-37-m-tartrate2\n",
      "MG1655-M9-NC_000913_3gb-stationary-37-monomethyl_succinate2\n",
      "PGI\n",
      "SER\n",
      "SSW_AC\n",
      "SSW_GLU_AC\n",
      "SSW_GLU_GLY\n",
      "SSW_GLU_XYL\n",
      "SSW_GLY\n",
      "SSW_XYL\n",
      "TOL_2,3-butanediol\n",
      "TOL_adipic_acid\n",
      "TOL_coumaric_acid\n",
      "TOL_glutaric_acid\n",
      "TOL_hexamethylenediamine\n",
      "TOL_hexanoic_acid\n",
      "TOL_isobutyric_acid\n",
      "TOL_n-butanol\n",
      "TOL_octanoic_acid\n",
      "TOL_propanediol\n",
      "TOL_putrescine\n"
     ]
    }
   ],
   "source": [
    "for e in muts_df.exp.unique():\n",
    "    print(e)"
   ]
  },
  {
   "cell_type": "code",
   "execution_count": 18,
   "metadata": {},
   "outputs": [
    {
     "data": {
      "text/plain": [
       "208"
      ]
     },
     "metadata": {},
     "output_type": "display_data"
    },
    {
     "data": {
      "text/plain": [
       "array(['42C 1', '42C 2', '42C 3', '42C 4', '42C 5', '42C 6', '42C 7',\n",
       "       '42C 8', '42C 9', '42C 10', 'C13 1', 'C13 2', 'C13 3', 'C13 4',\n",
       "       'C13 5', 'C13 6', 'Central_carbon_knockout_PTS 0',\n",
       "       'Central_carbon_knockout_PTS 9', 'Central_carbon_knockout_PTS 10',\n",
       "       'Central_carbon_knockout_PTS 11', 'Central_carbon_knockout_PTS 12',\n",
       "       'Central_carbon_knockout_glucose_evolution 23',\n",
       "       'Central_carbon_knockout_glucose_evolution 24',\n",
       "       'Central_carbon_knockout_gnd 0', 'Central_carbon_knockout_gnd 17',\n",
       "       'Central_carbon_knockout_gnd 18', 'Central_carbon_knockout_gnd 19',\n",
       "       'Central_carbon_knockout_pgi 0', 'Central_carbon_knockout_pgi 1',\n",
       "       'Central_carbon_knockout_pgi 2', 'Central_carbon_knockout_pgi 3',\n",
       "       'Central_carbon_knockout_pgi 4', 'Central_carbon_knockout_pgi 5',\n",
       "       'Central_carbon_knockout_pgi 6', 'Central_carbon_knockout_pgi 7',\n",
       "       'Central_carbon_knockout_pgi 8', 'Central_carbon_knockout_pgi 9',\n",
       "       'Central_carbon_knockout_pgi 10', 'Central_carbon_knockout_pgi 11',\n",
       "       'Central_carbon_knockout_pgi 12', 'Central_carbon_knockout_pgi 13',\n",
       "       'Central_carbon_knockout_pgi 14', 'Central_carbon_knockout_pgi 15',\n",
       "       'Central_carbon_knockout_pgi 16', 'Central_carbon_knockout_sdh 0',\n",
       "       'Central_carbon_knockout_sdh 20', 'Central_carbon_knockout_sdh 22',\n",
       "       'Central_carbon_knockout_sdh 23', 'Central_carbon_knockout_tpiA 0',\n",
       "       'Central_carbon_knockout_tpiA 13',\n",
       "       'Central_carbon_knockout_tpiA 14',\n",
       "       'Central_carbon_knockout_tpiA 15',\n",
       "       'Central_carbon_knockout_tpiA 16', 'GLU 3', 'GLU 4', 'GLU 6',\n",
       "       'GLU 8', 'GLU 9', 'GLU 10', 'GYD 1', 'GYD 2', 'GYD 3', 'GYD 4',\n",
       "       'GYD 5', 'GYD 6', 'GYD 7', 'GYD 8', 'GYD 9', 'GYD 10', 'GYD 11',\n",
       "       'GYD 12', 'GYD 13', 'GYD 14', 'GYD 15', 'GYD 16', 'GYD 17',\n",
       "       'GYD 18', 'GYD 19', 'GYD 20', 'GYD 21', 'GYD 22', 'GYD 23',\n",
       "       'GYD 24', 'GYD 25', 'GYD 26', 'GYD 27', 'GYD 28', 'GYD 29',\n",
       "       'GYD 30', 'Iron-ALE 17', 'Iron-ALE 18', 'Iron-ALE 19',\n",
       "       'Iron-ALE 20',\n",
       "       'MG1655-M9-NC_000913_3gb-stationary-37-D-2-deoxyribose2 1',\n",
       "       'MG1655-M9-NC_000913_3gb-stationary-37-D-arabinose2 1',\n",
       "       'MG1655-M9-NC_000913_3gb-stationary-37-D-arabinose2 2',\n",
       "       'MG1655-M9-NC_000913_3gb-stationary-37-D-lyxose2 1',\n",
       "       'MG1655-M9-NC_000913_3gb-stationary-37-D-lyxose2 2',\n",
       "       'MG1655-M9-NC_000913_3gb-stationary-37-m-tartrate2 1',\n",
       "       'MG1655-M9-NC_000913_3gb-stationary-37-m-tartrate2 2',\n",
       "       'MG1655-M9-NC_000913_3gb-stationary-37-monomethyl_succinate2 1',\n",
       "       'MG1655-M9-NC_000913_3gb-stationary-37-monomethyl_succinate2 2',\n",
       "       'PGI 1', 'PGI 2', 'PGI 3', 'PGI 4', 'PGI 5', 'PGI 6', 'PGI 7',\n",
       "       'PGI 8', 'PGI 9', 'PGI 10', 'SER 3', 'SER 4', 'SER 5', 'SSW_AC 1',\n",
       "       'SSW_AC 2', 'SSW_AC 3', 'SSW_AC 4', 'SSW_GLU_AC 7', 'SSW_GLU_AC 8',\n",
       "       'SSW_GLU_AC 9', 'SSW_GLU_GLY 4', 'SSW_GLU_GLY 5', 'SSW_GLU_GLY 6',\n",
       "       'SSW_GLU_XYL 1', 'SSW_GLU_XYL 2', 'SSW_GLU_XYL 3', 'SSW_GLY 1',\n",
       "       'SSW_GLY 2', 'SSW_XYL 1', 'SSW_XYL 2', 'SSW_XYL 3', 'SSW_XYL 4',\n",
       "       'TOL_2,3-butanediol 1', 'TOL_2,3-butanediol 2',\n",
       "       'TOL_2,3-butanediol 4', 'TOL_2,3-butanediol 5',\n",
       "       'TOL_2,3-butanediol 6', 'TOL_2,3-butanediol 7',\n",
       "       'TOL_2,3-butanediol 8', 'TOL_adipic_acid 1', 'TOL_adipic_acid 2',\n",
       "       'TOL_adipic_acid 3', 'TOL_adipic_acid 4', 'TOL_adipic_acid 6',\n",
       "       'TOL_adipic_acid 7', 'TOL_adipic_acid 8', 'TOL_coumaric_acid 1',\n",
       "       'TOL_coumaric_acid 2', 'TOL_coumaric_acid 3',\n",
       "       'TOL_coumaric_acid 4', 'TOL_coumaric_acid 5',\n",
       "       'TOL_coumaric_acid 6', 'TOL_coumaric_acid 7',\n",
       "       'TOL_coumaric_acid 8', 'TOL_glutaric_acid 1',\n",
       "       'TOL_glutaric_acid 2', 'TOL_glutaric_acid 3',\n",
       "       'TOL_glutaric_acid 4', 'TOL_glutaric_acid 5',\n",
       "       'TOL_glutaric_acid 6', 'TOL_glutaric_acid 7',\n",
       "       'TOL_glutaric_acid 8', 'TOL_hexamethylenediamine 1',\n",
       "       'TOL_hexamethylenediamine 2', 'TOL_hexamethylenediamine 3',\n",
       "       'TOL_hexamethylenediamine 4', 'TOL_hexamethylenediamine 5',\n",
       "       'TOL_hexamethylenediamine 7', 'TOL_hexamethylenediamine 8',\n",
       "       'TOL_hexanoic_acid 1', 'TOL_hexanoic_acid 2',\n",
       "       'TOL_hexanoic_acid 3', 'TOL_hexanoic_acid 4',\n",
       "       'TOL_hexanoic_acid 5', 'TOL_hexanoic_acid 6',\n",
       "       'TOL_hexanoic_acid 7', 'TOL_isobutyric_acid 1',\n",
       "       'TOL_isobutyric_acid 2', 'TOL_isobutyric_acid 3',\n",
       "       'TOL_isobutyric_acid 4', 'TOL_isobutyric_acid 5',\n",
       "       'TOL_isobutyric_acid 6', 'TOL_isobutyric_acid 7',\n",
       "       'TOL_isobutyric_acid 8', 'TOL_n-butanol 1', 'TOL_n-butanol 2',\n",
       "       'TOL_n-butanol 3', 'TOL_n-butanol 4', 'TOL_n-butanol 5',\n",
       "       'TOL_n-butanol 6', 'TOL_n-butanol 7', 'TOL_n-butanol 8',\n",
       "       'TOL_octanoic_acid 1', 'TOL_octanoic_acid 2',\n",
       "       'TOL_octanoic_acid 3', 'TOL_octanoic_acid 4',\n",
       "       'TOL_octanoic_acid 6', 'TOL_octanoic_acid 7', 'TOL_propanediol 6',\n",
       "       'TOL_putrescine 1', 'TOL_putrescine 2', 'TOL_putrescine 3',\n",
       "       'TOL_putrescine 4', 'TOL_putrescine 5', 'TOL_putrescine 6',\n",
       "       'TOL_putrescine 7'], dtype=object)"
      ]
     },
     "metadata": {},
     "output_type": "display_data"
    }
   ],
   "source": [
    "muts_df[\"exp ALE\"] = muts_df.apply(lambda r: r.exp + ' ' + str(r.ale), axis=1)\n",
    "display(len(muts_df[\"exp ALE\"].unique()), muts_df[\"exp ALE\"].unique())"
   ]
  },
  {
   "cell_type": "code",
   "execution_count": 19,
   "metadata": {},
   "outputs": [
    {
     "data": {
      "text/plain": [
       "2641"
      ]
     },
     "execution_count": 19,
     "metadata": {},
     "output_type": "execute_result"
    }
   ],
   "source": [
    "len(muts_df)"
   ]
  }
 ],
 "metadata": {
  "kernelspec": {
   "display_name": "Python 3",
   "language": "python",
   "name": "python3"
  },
  "language_info": {
   "codemirror_mode": {
    "name": "ipython",
    "version": 3
   },
   "file_extension": ".py",
   "mimetype": "text/x-python",
   "name": "python",
   "nbconvert_exporter": "python",
   "pygments_lexer": "ipython3",
   "version": "3.7.4"
  }
 },
 "nbformat": 4,
 "nbformat_minor": 4
}
