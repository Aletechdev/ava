{
 "cells": [
  {
   "cell_type": "code",
   "execution_count": 3,
   "metadata": {},
   "outputs": [],
   "source": [
    "import pandas as pd\n",
    "pd.options.display.max_columns = 100"
   ]
  },
  {
   "cell_type": "code",
   "execution_count": 4,
   "metadata": {},
   "outputs": [
    {
     "data": {
      "text/plain": [
       "148"
      ]
     },
     "metadata": {},
     "output_type": "display_data"
    }
   ],
   "source": [
    "muts_df = pd.read_pickle(\"./data/GYD_df.pkl\")\n",
    "display(len(muts_df),\n",
    "#         muts_df.head()\n",
    "       )"
   ]
  },
  {
   "cell_type": "code",
   "execution_count": 5,
   "metadata": {},
   "outputs": [
    {
     "data": {
      "text/plain": [
       "30"
      ]
     },
     "execution_count": 5,
     "metadata": {},
     "output_type": "execute_result"
    }
   ],
   "source": [
    "len(muts_df.ale.unique())"
   ]
  },
  {
   "cell_type": "code",
   "execution_count": 6,
   "metadata": {},
   "outputs": [
    {
     "data": {
      "text/plain": [
       "{'1 280 0 1',\n",
       " '10 106 0 1',\n",
       " '10 106 1 1',\n",
       " '11 109 0 1',\n",
       " '11 109 1 1',\n",
       " '12 114 0 1',\n",
       " '13 69 0 1',\n",
       " '13 69 1 1',\n",
       " '14 68 0 1',\n",
       " '14 68 1 1',\n",
       " '15 71 0 1',\n",
       " '15 71 1 1',\n",
       " '16 70 0 1',\n",
       " '16 70 1 1',\n",
       " '17 70 0 1',\n",
       " '18 70 0 1',\n",
       " '18 70 1 1',\n",
       " '19 34 0 1',\n",
       " '19 34 1 1',\n",
       " '2 182 0 1',\n",
       " '2 182 1 1',\n",
       " '20 33 0 1',\n",
       " '20 33 1 1',\n",
       " '21 39 0 1',\n",
       " '21 39 1 1',\n",
       " '22 44 0 1',\n",
       " '22 44 1 1',\n",
       " '23 41 1 1',\n",
       " '24 42 0 1',\n",
       " '24 42 1 1',\n",
       " '25 36 0 1',\n",
       " '25 36 0 2',\n",
       " '26 25 0 1',\n",
       " '26 25 1 1',\n",
       " '27 34 1 1',\n",
       " '28 34 0 1',\n",
       " '28 34 0 2',\n",
       " '29 31 0 2',\n",
       " '29 31 1 1',\n",
       " '3 176 0 1',\n",
       " '30 33 1 1',\n",
       " '4 195 0 1',\n",
       " '4 195 0 2',\n",
       " '4 195 1 1',\n",
       " '5 216 0 1',\n",
       " '5 216 1 1',\n",
       " '6 187 1 1',\n",
       " '7 106 0 1',\n",
       " '7 106 1 1',\n",
       " '8 104 1 1',\n",
       " '9 105 1 1'}"
      ]
     },
     "execution_count": 6,
     "metadata": {},
     "output_type": "execute_result"
    }
   ],
   "source": [
    "samp_s = set()\n",
    "# afir_df = muts_df[[\"ale\", \"flask\", \"isolate\", \"tech_rep\"]].copy\n",
    "afir_cols = [\"ale\", \"flask\", \"isolate\", \"tech_rep\"]\n",
    "for i, r in muts_df.iterrows():\n",
    "    afir = \"\"\n",
    "    for col_name in afir_cols:\n",
    "        if afir != \"\": afir += \" \"\n",
    "        afir += str(r[col_name])\n",
    "    samp_s.add(afir)\n",
    "samp_s"
   ]
  },
  {
   "cell_type": "code",
   "execution_count": 7,
   "metadata": {},
   "outputs": [
    {
     "data": {
      "text/plain": [
       "51"
      ]
     },
     "execution_count": 7,
     "metadata": {},
     "output_type": "execute_result"
    }
   ],
   "source": [
    "len(samp_s)"
   ]
  },
  {
   "cell_type": "code",
   "execution_count": 8,
   "metadata": {},
   "outputs": [
    {
     "data": {
      "text/plain": [
       "[['2', '182', '1', '1'],\n",
       " ['15', '71', '0', '1'],\n",
       " ['14', '68', '1', '1'],\n",
       " ['2', '182', '0', '1'],\n",
       " ['13', '69', '0', '1'],\n",
       " ['13', '69', '1', '1'],\n",
       " ['12', '114', '0', '1'],\n",
       " ['16', '70', '0', '1'],\n",
       " ['9', '105', '1', '1'],\n",
       " ['26', '25', '1', '1']]"
      ]
     },
     "execution_count": 8,
     "metadata": {},
     "output_type": "execute_result"
    }
   ],
   "source": [
    "samp_l = []\n",
    "for s in samp_s:\n",
    "    samp_l.append(s.split(' '))\n",
    "samp_l[0:10]"
   ]
  },
  {
   "cell_type": "code",
   "execution_count": 9,
   "metadata": {},
   "outputs": [
    {
     "data": {
      "text/plain": [
       "{'clone': 24, 'pop': 27}"
      ]
     },
     "execution_count": 9,
     "metadata": {},
     "output_type": "execute_result"
    }
   ],
   "source": [
    "cnt_d = {\"clone\":0, \"pop\":0}\n",
    "for samp in samp_l:\n",
    "    if samp[2] == '0':\n",
    "        cnt_d[\"pop\"] += 1\n",
    "    else:\n",
    "        cnt_d[\"clone\"] += 1\n",
    "cnt_d"
   ]
  },
  {
   "cell_type": "code",
   "execution_count": 10,
   "metadata": {},
   "outputs": [
    {
     "data": {
      "text/plain": [
       "{'2': {'pop': 1, 'clone': 1},\n",
       " '15': {'pop': 1, 'clone': 1},\n",
       " '14': {'pop': 1, 'clone': 1},\n",
       " '13': {'pop': 1, 'clone': 1},\n",
       " '12': {'pop': 1, 'clone': 0},\n",
       " '16': {'pop': 1, 'clone': 1},\n",
       " '9': {'pop': 0, 'clone': 1},\n",
       " '26': {'pop': 1, 'clone': 1},\n",
       " '24': {'pop': 1, 'clone': 1},\n",
       " '25': {'pop': 2, 'clone': 0},\n",
       " '29': {'pop': 1, 'clone': 1},\n",
       " '28': {'pop': 2, 'clone': 0},\n",
       " '21': {'pop': 1, 'clone': 1},\n",
       " '4': {'pop': 2, 'clone': 1},\n",
       " '6': {'pop': 0, 'clone': 1},\n",
       " '5': {'pop': 1, 'clone': 1},\n",
       " '20': {'pop': 1, 'clone': 1},\n",
       " '11': {'pop': 1, 'clone': 1},\n",
       " '22': {'pop': 1, 'clone': 1},\n",
       " '17': {'pop': 1, 'clone': 0},\n",
       " '27': {'pop': 0, 'clone': 1},\n",
       " '23': {'pop': 0, 'clone': 1},\n",
       " '1': {'pop': 1, 'clone': 0},\n",
       " '7': {'pop': 1, 'clone': 1},\n",
       " '10': {'pop': 1, 'clone': 1},\n",
       " '30': {'pop': 0, 'clone': 1},\n",
       " '19': {'pop': 1, 'clone': 1},\n",
       " '18': {'pop': 1, 'clone': 1},\n",
       " '3': {'pop': 1, 'clone': 0},\n",
       " '8': {'pop': 0, 'clone': 1}}"
      ]
     },
     "metadata": {},
     "output_type": "display_data"
    }
   ],
   "source": [
    "ale_samp_type_cnt_d = dict()\n",
    "for samp in samp_l:\n",
    "    if samp[0] not in ale_samp_type_cnt_d.keys():\n",
    "        ale_samp_type_cnt_d[samp[0]] = {\"pop\": 0, \"clone\": 0}\n",
    "    if samp[2] == '0':\n",
    "        ale_samp_type_cnt_d[samp[0]][\"pop\"] += 1\n",
    "    else:\n",
    "        ale_samp_type_cnt_d[samp[0]][\"clone\"] += 1\n",
    "display(ale_samp_type_cnt_d)"
   ]
  },
  {
   "cell_type": "code",
   "execution_count": 11,
   "metadata": {},
   "outputs": [
    {
     "data": {
      "text/plain": [
       "18"
      ]
     },
     "metadata": {},
     "output_type": "display_data"
    },
    {
     "data": {
      "text/plain": [
       "6"
      ]
     },
     "metadata": {},
     "output_type": "display_data"
    },
    {
     "data": {
      "text/plain": [
       "6"
      ]
     },
     "metadata": {},
     "output_type": "display_data"
    }
   ],
   "source": [
    "both_cnt = 0\n",
    "clone_only_cnt = 0\n",
    "pop_only_cnt = 0\n",
    "for k, a in ale_samp_type_cnt_d.items():\n",
    "    if (a[\"pop\"] > 0) & (a[\"clone\"] > 0):\n",
    "        both_cnt += 1\n",
    "    elif a[\"pop\"] > 0:\n",
    "        pop_only_cnt += 1\n",
    "    else:\n",
    "        clone_only_cnt += 1\n",
    "display(both_cnt, clone_only_cnt, pop_only_cnt)"
   ]
  }
 ],
 "metadata": {
  "kernelspec": {
   "display_name": "Python 3",
   "language": "python",
   "name": "python3"
  },
  "language_info": {
   "codemirror_mode": {
    "name": "ipython",
    "version": 3
   },
   "file_extension": ".py",
   "mimetype": "text/x-python",
   "name": "python",
   "nbconvert_exporter": "python",
   "pygments_lexer": "ipython3",
   "version": "3.7.4"
  }
 },
 "nbformat": 4,
 "nbformat_minor": 2
}
