{
 "cells": [
  {
   "cell_type": "code",
   "execution_count": 1,
   "metadata": {},
   "outputs": [],
   "source": [
    "import pandas as pd"
   ]
  },
  {
   "cell_type": "code",
   "execution_count": 12,
   "metadata": {},
   "outputs": [
    {
     "data": {
      "text/html": [
       "<div>\n",
       "<style scoped>\n",
       "    .dataframe tbody tr th:only-of-type {\n",
       "        vertical-align: middle;\n",
       "    }\n",
       "\n",
       "    .dataframe tbody tr th {\n",
       "        vertical-align: top;\n",
       "    }\n",
       "\n",
       "    .dataframe thead th {\n",
       "        text-align: right;\n",
       "    }\n",
       "</style>\n",
       "<table border=\"1\" class=\"dataframe\">\n",
       "  <thead>\n",
       "    <tr style=\"text-align: right;\">\n",
       "      <th></th>\n",
       "      <th>TRANSCRIPTION_UNIT_ID</th>\n",
       "      <th>TU range</th>\n",
       "      <th>imodulon</th>\n",
       "    </tr>\n",
       "  </thead>\n",
       "  <tbody>\n",
       "    <tr>\n",
       "      <th>0</th>\n",
       "      <td>ECK120009369</td>\n",
       "      <td>(148, 5020)</td>\n",
       "      <td>flu-yeeRS</td>\n",
       "    </tr>\n",
       "    <tr>\n",
       "      <th>1</th>\n",
       "      <td>ECK120009369</td>\n",
       "      <td>(148, 5020)</td>\n",
       "      <td>fimbriae</td>\n",
       "    </tr>\n",
       "    <tr>\n",
       "      <th>2</th>\n",
       "      <td>ECK120009369</td>\n",
       "      <td>(148, 5020)</td>\n",
       "      <td>thrA-KO</td>\n",
       "    </tr>\n",
       "    <tr>\n",
       "      <th>3</th>\n",
       "      <td>ECK120009369</td>\n",
       "      <td>(148, 5020)</td>\n",
       "      <td>Leu/Ile</td>\n",
       "    </tr>\n",
       "    <tr>\n",
       "      <th>5</th>\n",
       "      <td>ECK120026504</td>\n",
       "      <td>(5234, 5530)</td>\n",
       "      <td>Leu/Ile</td>\n",
       "    </tr>\n",
       "  </tbody>\n",
       "</table>\n",
       "</div>"
      ],
      "text/plain": [
       "  TRANSCRIPTION_UNIT_ID      TU range   imodulon\n",
       "0          ECK120009369   (148, 5020)  flu-yeeRS\n",
       "1          ECK120009369   (148, 5020)   fimbriae\n",
       "2          ECK120009369   (148, 5020)    thrA-KO\n",
       "3          ECK120009369   (148, 5020)    Leu/Ile\n",
       "5          ECK120026504  (5234, 5530)    Leu/Ile"
      ]
     },
     "execution_count": 12,
     "metadata": {},
     "output_type": "execute_result"
    }
   ],
   "source": [
    "imod_TU_range_df = pd.read_pickle(\"./data/imod_TU_df.pkl\")\n",
    "imod_TU_range_df.head()"
   ]
  },
  {
   "cell_type": "code",
   "execution_count": 13,
   "metadata": {},
   "outputs": [
    {
     "data": {
      "text/html": [
       "<div>\n",
       "<style scoped>\n",
       "    .dataframe tbody tr th:only-of-type {\n",
       "        vertical-align: middle;\n",
       "    }\n",
       "\n",
       "    .dataframe tbody tr th {\n",
       "        vertical-align: top;\n",
       "    }\n",
       "\n",
       "    .dataframe thead th {\n",
       "        text-align: right;\n",
       "    }\n",
       "</style>\n",
       "<table border=\"1\" class=\"dataframe\">\n",
       "  <thead>\n",
       "    <tr style=\"text-align: right;\">\n",
       "      <th></th>\n",
       "      <th>TRANSCRIPTION_UNIT_ID</th>\n",
       "      <th>TU range</th>\n",
       "      <th>imodulon</th>\n",
       "      <th>TU length</th>\n",
       "    </tr>\n",
       "  </thead>\n",
       "  <tbody>\n",
       "    <tr>\n",
       "      <th>0</th>\n",
       "      <td>ECK120009369</td>\n",
       "      <td>(148, 5020)</td>\n",
       "      <td>flu-yeeRS</td>\n",
       "      <td>4873</td>\n",
       "    </tr>\n",
       "    <tr>\n",
       "      <th>1</th>\n",
       "      <td>ECK120009369</td>\n",
       "      <td>(148, 5020)</td>\n",
       "      <td>fimbriae</td>\n",
       "      <td>4873</td>\n",
       "    </tr>\n",
       "    <tr>\n",
       "      <th>2</th>\n",
       "      <td>ECK120009369</td>\n",
       "      <td>(148, 5020)</td>\n",
       "      <td>thrA-KO</td>\n",
       "      <td>4873</td>\n",
       "    </tr>\n",
       "    <tr>\n",
       "      <th>3</th>\n",
       "      <td>ECK120009369</td>\n",
       "      <td>(148, 5020)</td>\n",
       "      <td>Leu/Ile</td>\n",
       "      <td>4873</td>\n",
       "    </tr>\n",
       "    <tr>\n",
       "      <th>5</th>\n",
       "      <td>ECK120026504</td>\n",
       "      <td>(5234, 5530)</td>\n",
       "      <td>Leu/Ile</td>\n",
       "      <td>297</td>\n",
       "    </tr>\n",
       "  </tbody>\n",
       "</table>\n",
       "</div>"
      ],
      "text/plain": [
       "  TRANSCRIPTION_UNIT_ID      TU range   imodulon  TU length\n",
       "0          ECK120009369   (148, 5020)  flu-yeeRS       4873\n",
       "1          ECK120009369   (148, 5020)   fimbriae       4873\n",
       "2          ECK120009369   (148, 5020)    thrA-KO       4873\n",
       "3          ECK120009369   (148, 5020)    Leu/Ile       4873\n",
       "5          ECK120026504  (5234, 5530)    Leu/Ile        297"
      ]
     },
     "execution_count": 13,
     "metadata": {},
     "output_type": "execute_result"
    }
   ],
   "source": [
    "imod_TU_range_df[\"TU length\"] = imod_TU_range_df[\"TU range\"].apply(lambda r: r[1] - r[0] + 1)\n",
    "imod_TU_range_df.head()"
   ]
  },
  {
   "cell_type": "code",
   "execution_count": 43,
   "metadata": {},
   "outputs": [
    {
     "data": {
      "text/html": [
       "<div>\n",
       "<style scoped>\n",
       "    .dataframe tbody tr th:only-of-type {\n",
       "        vertical-align: middle;\n",
       "    }\n",
       "\n",
       "    .dataframe tbody tr th {\n",
       "        vertical-align: top;\n",
       "    }\n",
       "\n",
       "    .dataframe thead th {\n",
       "        text-align: right;\n",
       "    }\n",
       "</style>\n",
       "<table border=\"1\" class=\"dataframe\">\n",
       "  <thead>\n",
       "    <tr style=\"text-align: right;\">\n",
       "      <th></th>\n",
       "      <th>imodulon length</th>\n",
       "    </tr>\n",
       "  </thead>\n",
       "  <tbody>\n",
       "    <tr>\n",
       "      <th>flu-yeeRS</th>\n",
       "      <td>37116</td>\n",
       "    </tr>\n",
       "    <tr>\n",
       "      <th>fimbriae</th>\n",
       "      <td>11948</td>\n",
       "    </tr>\n",
       "    <tr>\n",
       "      <th>thrA-KO</th>\n",
       "      <td>6190</td>\n",
       "    </tr>\n",
       "    <tr>\n",
       "      <th>Leu/Ile</th>\n",
       "      <td>38330</td>\n",
       "    </tr>\n",
       "    <tr>\n",
       "      <th>RpoH</th>\n",
       "      <td>42061</td>\n",
       "    </tr>\n",
       "  </tbody>\n",
       "</table>\n",
       "</div>"
      ],
      "text/plain": [
       "           imodulon length\n",
       "flu-yeeRS            37116\n",
       "fimbriae             11948\n",
       "thrA-KO               6190\n",
       "Leu/Ile              38330\n",
       "RpoH                 42061"
      ]
     },
     "execution_count": 43,
     "metadata": {},
     "output_type": "execute_result"
    }
   ],
   "source": [
    "def get_imod_len(imod):\n",
    "    return imod_TU_range_df[imod_TU_range_df[\"imodulon\"]==imod]['TU length'].sum()\n",
    "\n",
    "\n",
    "imod_TU_len_d = dict()\n",
    "for imod in imod_TU_range_df[\"imodulon\"].unique():\n",
    "    imod_TU_len_d[imod] = get_imod_len(imod)\n",
    "imod_TU_len_df = pd.DataFrame.from_dict(imod_TU_len_d, orient=\"index\")\n",
    "imod_TU_len_df = imod_TU_len_df.rename(columns={0: \"imodulon length\"})\n",
    "imod_TU_len_df.head()"
   ]
  },
  {
   "cell_type": "code",
   "execution_count": 27,
   "metadata": {},
   "outputs": [
    {
     "data": {
      "text/plain": [
       "1832418"
      ]
     },
     "metadata": {},
     "output_type": "display_data"
    }
   ],
   "source": [
    "# Could be faster\n",
    "all_imod_TU_pos_set = set()\n",
    "for idx, tu_row in imod_TU_range_df.iterrows():\n",
    "    tu_range = set(range(tu_row[\"TU range\"][0], tu_row[\"TU range\"][1] + 1))\n",
    "    all_imod_TU_pos_set= all_imod_TU_pos_set.union(tu_range)\n",
    "display(len(all_imod_TU_pos_set))"
   ]
  },
  {
   "cell_type": "code",
   "execution_count": 47,
   "metadata": {},
   "outputs": [
    {
     "name": "stdout",
     "output_type": "stream",
     "text": [
      "2809235\n"
     ]
    },
    {
     "data": {
      "text/html": [
       "<div>\n",
       "<style scoped>\n",
       "    .dataframe tbody tr th:only-of-type {\n",
       "        vertical-align: middle;\n",
       "    }\n",
       "\n",
       "    .dataframe tbody tr th {\n",
       "        vertical-align: top;\n",
       "    }\n",
       "\n",
       "    .dataframe thead th {\n",
       "        text-align: right;\n",
       "    }\n",
       "</style>\n",
       "<table border=\"1\" class=\"dataframe\">\n",
       "  <thead>\n",
       "    <tr style=\"text-align: right;\">\n",
       "      <th></th>\n",
       "      <th>imodulon length</th>\n",
       "    </tr>\n",
       "  </thead>\n",
       "  <tbody>\n",
       "    <tr>\n",
       "      <th>flu-yeeRS</th>\n",
       "      <td>37116</td>\n",
       "    </tr>\n",
       "    <tr>\n",
       "      <th>fimbriae</th>\n",
       "      <td>11948</td>\n",
       "    </tr>\n",
       "    <tr>\n",
       "      <th>thrA-KO</th>\n",
       "      <td>6190</td>\n",
       "    </tr>\n",
       "    <tr>\n",
       "      <th>Leu/Ile</th>\n",
       "      <td>38330</td>\n",
       "    </tr>\n",
       "    <tr>\n",
       "      <th>RpoH</th>\n",
       "      <td>42061</td>\n",
       "    </tr>\n",
       "  </tbody>\n",
       "</table>\n",
       "</div>"
      ],
      "text/plain": [
       "           imodulon length\n",
       "flu-yeeRS            37116\n",
       "fimbriae             11948\n",
       "thrA-KO               6190\n",
       "Leu/Ile              38330\n",
       "RpoH                 42061"
      ]
     },
     "execution_count": 47,
     "metadata": {},
     "output_type": "execute_result"
    }
   ],
   "source": [
    "unknown_imod_pos_set = set(range(1 ,4641653 + 1)).difference(all_imod_TU_pos_set)\n",
    "unknown_imod_nuc_len = len(unknown_imod_pos_set)\n",
    "print(unknown_imod_nuc_len)\n",
    "imod_TU_len_df.loc[\"unknown\"]=unknown_imod_nuc_len\n",
    "imod_TU_len_df.head()"
   ]
  },
  {
   "cell_type": "code",
   "execution_count": 48,
   "metadata": {},
   "outputs": [],
   "source": [
    "imod_TU_len_df.to_pickle(\"./data/imodulon_len_df.pkl\")"
   ]
  },
  {
   "cell_type": "code",
   "execution_count": 34,
   "metadata": {},
   "outputs": [],
   "source": [
    "E_COLI_GENOME_LEN = 4641653\n",
    "unknown_pos_set = set(range(1 ,E_COLI_GENOME_LEN+1)).difference(all_imod_TU_pos_set)\n",
    "unknown_nuc_len = len(unknown_pos_set)\n",
    "imod_genome_cov = 1-(unknown_nuc_len/E_COLI_GENOME_LEN)\n",
    "\n",
    "# import pickle\n",
    "# with open(\"./data/regulon_genome_coverage.pkl\", 'wb') as f:\n",
    "#     pickle.dump(imod_genome_cov, f)"
   ]
  },
  {
   "cell_type": "code",
   "execution_count": 35,
   "metadata": {},
   "outputs": [
    {
     "data": {
      "text/plain": [
       "(0, 1)"
      ]
     },
     "execution_count": 35,
     "metadata": {},
     "output_type": "execute_result"
    },
    {
     "data": {
      "image/png": "[encoded data removed]",
      "text/plain": [
       "<Figure size 300x900 with 1 Axes>"
      ]
     },
     "metadata": {},
     "output_type": "display_data"
    }
   ],
   "source": [
    "import seaborn as sns\n",
    "import matplotlib.pyplot as plt\n",
    "%matplotlib inline\n",
    "plt.rcParams[\"figure.dpi\"] = 300\n",
    "sns.set_context(\"paper\")\n",
    "sns.set_style(\"whitegrid\")\n",
    "sns.set_palette(\"Set2\")\n",
    "\n",
    "\n",
    "plt.figure(figsize=(1,3))\n",
    "plt.bar('imodulon genome coverage',\n",
    "        imod_genome_cov,\n",
    "        width=[0.1]\n",
    "       )\n",
    "plt.ylim(0, 1)"
   ]
  }
 ],
 "metadata": {
  "kernelspec": {
   "display_name": "Python 3",
   "language": "python",
   "name": "python3"
  },
  "language_info": {
   "codemirror_mode": {
    "name": "ipython",
    "version": 3
   },
   "file_extension": ".py",
   "mimetype": "text/x-python",
   "name": "python",
   "nbconvert_exporter": "python",
   "pygments_lexer": "ipython3",
   "version": "3.7.3"
  }
 },
 "nbformat": 4,
 "nbformat_minor": 2
}
