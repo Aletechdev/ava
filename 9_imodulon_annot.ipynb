{
 "cells": [
  {
   "cell_type": "markdown",
   "metadata": {},
   "source": [
    "## significance"
   ]
  },
  {
   "cell_type": "code",
   "execution_count": null,
   "metadata": {},
   "outputs": [],
   "source": [
    "comp_mut_df = pd.DataFrame(columns=[\"observed mutation count\"])\n",
    "for mut_comps_l in muts_df[\"imodulons\"]:\n",
    "\n",
    "    if len(mut_comps_l) > 0:\n",
    "        for mut_comp_d in mut_comps_l:\n",
    "            if mut_comp_d[\"name\"] in comp_mut_df.index:\n",
    "                comp_mut_df.loc[mut_comp_d[\"name\"],\n",
    "                                \"observed mutation count\"] += 1\n",
    "            else:\n",
    "                comp_mut_df.loc[mut_comp_d[\"name\"],\n",
    "                                \"observed mutation count\"] = 1\n",
    "    else:\n",
    "        if \"unknown\" in comp_mut_df.index:\n",
    "            comp_mut_df.loc[\"unknown\", \"observed mutation count\"] += 1\n",
    "        else:\n",
    "            comp_mut_df.loc[\"unknown\", \"observed mutation count\"] = 1\n",
    "\n",
    "display(comp_mut_df.head())"
   ]
  },
  {
   "cell_type": "code",
   "execution_count": null,
   "metadata": {},
   "outputs": [],
   "source": [
    "for _, r in muts_df.iterrows():\n",
    "    for feat_d in r[\"imodulons\"]:\n",
    "        feat_d[\"mutation set count\"] = comp_mut_df.loc[feat_d[\"name\"]\n",
    "                                                       ][\"observed mutation count\"]"
   ]
  },
  {
   "cell_type": "code",
   "execution_count": null,
   "metadata": {},
   "outputs": [],
   "source": [
    "imod_len_df = pd.read_pickle(\"./data/imodulon_len_df.pkl\")\n",
    "imod_len_df.head()"
   ]
  },
  {
   "cell_type": "code",
   "execution_count": null,
   "metadata": {},
   "outputs": [],
   "source": [
    "import numpy as np\n",
    "\n",
    "\n",
    "comp_mut_df[\"length\"] = comp_mut_df.apply(\n",
    "    lambda r: imod_len_df.loc[r.index, \"imodulon length\"])\n",
    "total_seq_len = np.sum(comp_mut_df[\"length\"])\n",
    "comp_mut_df[\"proportion\"] = comp_mut_df[\"length\"].apply(\n",
    "    lambda comp_len: comp_len/total_seq_len)\n",
    "comp_mut_df.head()"
   ]
  },
  {
   "cell_type": "code",
   "execution_count": null,
   "metadata": {},
   "outputs": [],
   "source": [
    "from collections import Counter\n",
    "\n",
    "comp_mut_df['equal or larger count'] = 0\n",
    "component_l = comp_mut_df.index.tolist()\n",
    "proportion_l = comp_mut_df[\"proportion\"].tolist()\n",
    "num_muts = np.sum(comp_mut_df[\"observed mutation count\"])\n",
    "\n",
    "# slides from UW speak about the relationship of permutations and precision.\n",
    "# should read through them to get a sense of what is the least iterations that should execute.\n",
    "\n",
    "num_itr = 10000\n",
    "for i in range(0, num_itr):\n",
    "    random_mut_comp_a = np.random.choice(\n",
    "        a=component_l,\n",
    "        size=int(num_muts),\n",
    "        p=proportion_l,\n",
    "        replace=True,\n",
    "    )\n",
    "    random_mut_comp_count_d = Counter(random_mut_comp_a)\n",
    "    for component in random_mut_comp_count_d.keys():\n",
    "        if random_mut_comp_count_d[component] >= comp_mut_df.loc[component, 'observed mutation count']:\n",
    "            comp_mut_df.loc[component, 'equal or larger count'] += 1\n",
    "\n",
    "comp_mut_df[\"p value\"] = comp_mut_df[\"equal or larger count\"].apply(\n",
    "    lambda count: count/num_itr)\n",
    "\n",
    "comp_mut_df[\"significant\"] = comp_mut_df[\"p value\"].apply(\n",
    "    lambda p_val: True if p_val < 0.05 else False)\n",
    "\n",
    "display(comp_mut_df.head())"
   ]
  },
  {
   "cell_type": "code",
   "execution_count": null,
   "metadata": {},
   "outputs": [],
   "source": [
    "from statsmodels.stats import multitest\n",
    "pvals = comp_mut_df[\"p value\"]\n",
    "rejects, pvals_corrected, alphacSidak, alphacBonf = multitest.multipletests(\n",
    "    pvals=pvals,\n",
    "    alpha=0.05,\n",
    "    method=\"bonferroni\")\n",
    "\n",
    "pd.options.display.max_rows = 500\n",
    "comp_mut_df[\"corrected p value\"] = pvals_corrected\n",
    "comp_mut_df[\"corrected significance\"] = rejects\n",
    "comp_mut_df.head()"
   ]
  },
  {
   "cell_type": "code",
   "execution_count": null,
   "metadata": {},
   "outputs": [],
   "source": [
    "# not wanting to consider mutation events with only 1 features as being significant\n",
    "comp_mut_df[\"final significance\"] = comp_mut_df.apply(\n",
    "    lambda r: r[\"corrected significance\"] if r[\"observed mutation count\"] > 1 else False, axis=1)\n",
    "comp_mut_df.head()"
   ]
  },
  {
   "cell_type": "code",
   "execution_count": null,
   "metadata": {},
   "outputs": [],
   "source": [
    "for i, r in muts_df.iterrows():\n",
    "    for d in r[\"imodulons\"]:\n",
    "        if d[\"name\"] in comp_mut_df.index:\n",
    "            d[\"significant\"] = comp_mut_df.loc[d[\"name\"]][\"final significance\"]"
   ]
  },
  {
   "cell_type": "code",
   "execution_count": null,
   "metadata": {},
   "outputs": [],
   "source": [
    "muts_df.to_pickle(\"./data/9_df.pkl\")"
   ]
  }
 ],
 "metadata": {
  "kernelspec": {
   "display_name": "Python 3",
   "language": "python",
   "name": "python3"
  },
  "language_info": {
   "codemirror_mode": {
    "name": "ipython",
    "version": 3
   },
   "file_extension": ".py",
   "mimetype": "text/x-python",
   "name": "python",
   "nbconvert_exporter": "python",
   "pygments_lexer": "ipython3",
   "version": "3.7.4"
  }
 },
 "nbformat": 4,
 "nbformat_minor": 2
}
