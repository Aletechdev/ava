{
 "cells": [
  {
   "cell_type": "code",
   "execution_count": 1,
   "metadata": {},
   "outputs": [
    {
     "data": {
      "text/plain": [
       "(163, 45)"
      ]
     },
     "execution_count": 1,
     "metadata": {},
     "output_type": "execute_result"
    }
   ],
   "source": [
    "import pandas as pd\n",
    "pd.options.display.max_columns = 100\n",
    "GYD_muts_df = pd.read_pickle(\"./data/GYD_df.pkl\")\n",
    "GYD_muts_df.shape"
   ]
  },
  {
   "cell_type": "code",
   "execution_count": 2,
   "metadata": {},
   "outputs": [
    {
     "name": "stdout",
     "output_type": "stream",
     "text": [
      "[1 2 3 4 5]\n",
      "[ 6  7  8  9 10]\n",
      "[11 12 13 14 15]\n",
      "[16 17 18 19 20]\n",
      "[21 22 23 24 25]\n",
      "[26 27 28 29 30]\n",
      "[34 35]\n"
     ]
    }
   ],
   "source": [
    "i = 0\n",
    "mut_df_l = list()\n",
    "while i < 35:\n",
    "    mut_df_l.append(GYD_muts_df[(GYD_muts_df.ale >= i+1) & (GYD_muts_df.ale <= i+5)])\n",
    "    i += 5\n",
    "    \n",
    "for df in mut_df_l:\n",
    "    print(df.ale.unique())"
   ]
  },
  {
   "cell_type": "code",
   "execution_count": 21,
   "metadata": {},
   "outputs": [
    {
     "data": {
      "text/plain": [
       "{4}"
      ]
     },
     "execution_count": 21,
     "metadata": {},
     "output_type": "execute_result"
    }
   ],
   "source": [
    "s1 = {1,2,3}\n",
    "s2 = {2,3,4}\n",
    "s2-s1\n",
    "# s1.union(s2)"
   ]
  },
  {
   "cell_type": "code",
   "execution_count": 30,
   "metadata": {},
   "outputs": [
    {
     "data": {
      "text/plain": [
       "{0: {'aidB',\n",
       "  'atpH',\n",
       "  'cdd',\n",
       "  'clcB',\n",
       "  'crr',\n",
       "  'cyaA',\n",
       "  'dmsD',\n",
       "  'flhCp3',\n",
       "  'flhD',\n",
       "  'glpK',\n",
       "  'hns TFBS',\n",
       "  'hnsp',\n",
       "  'intE',\n",
       "  'mdaB/ygiN',\n",
       "  'menF',\n",
       "  'metL',\n",
       "  'moaA',\n",
       "  'mstA/C0614',\n",
       "  'mutY',\n",
       "  'napA',\n",
       "  'radD',\n",
       "  'rhsB',\n",
       "  'rph',\n",
       "  'rph-pyrE attenuator terminator',\n",
       "  'rplYp3',\n",
       "  'rpoB',\n",
       "  'tmcA',\n",
       "  'uidA/uidR',\n",
       "  'yafD',\n",
       "  'yahI',\n",
       "  'ybhD',\n",
       "  'yedP',\n",
       "  'yiiD',\n",
       "  'yjhW'},\n",
       " 1: {'crp',\n",
       "  'crr',\n",
       "  'cyaA',\n",
       "  'glpFKX TFBS',\n",
       "  'glpK',\n",
       "  'leuLABCD attenuator terminator',\n",
       "  'pdxK',\n",
       "  'ptsHI-crr terminator',\n",
       "  'tomB/acrB',\n",
       "  'yadK'},\n",
       " 2: {'carAB terminator',\n",
       "  'casD/casC',\n",
       "  'crr',\n",
       "  'cyaA',\n",
       "  'glpFKX TFBS',\n",
       "  'glpK',\n",
       "  'hisLGDCBHAFI attenuator terminator',\n",
       "  'hns TFBS',\n",
       "  'hnsp',\n",
       "  'leuLABCD attenuator terminator',\n",
       "  'metY-rimP-nusA-infB-rbfA-truB-rpsO-pnp attenuator terminator',\n",
       "  'mutL',\n",
       "  'rpoB',\n",
       "  'rpsA',\n",
       "  'rpsM',\n",
       "  'sapF',\n",
       "  'uraA/upp',\n",
       "  'ydaG/racR',\n",
       "  'yjhU/yjhF'},\n",
       " 3: {'crr',\n",
       "  'cyaA',\n",
       "  'fbaA',\n",
       "  'fimZ',\n",
       "  'glgS/yqiJ',\n",
       "  'glpK',\n",
       "  'matP/ompA',\n",
       "  'rpoC',\n",
       "  'yaiT'},\n",
       " 4: {'crr',\n",
       "  'cyaA',\n",
       "  'ettA',\n",
       "  'gldA',\n",
       "  'glpK',\n",
       "  'glxK/allE',\n",
       "  'hisLGDCBHAFI attenuator terminator',\n",
       "  'mrcB/fhuA',\n",
       "  'opgGH terminator',\n",
       "  'rpoB',\n",
       "  'rpsMKD-rpoA-rplQ terminator',\n",
       "  'rrlC',\n",
       "  'tyrB/yjbS',\n",
       "  'yceK attenuator terminator',\n",
       "  'yeaD/yeaE',\n",
       "  'yfdXp',\n",
       "  'yhdNp'},\n",
       " 5: {'cyaA',\n",
       "  'glpK',\n",
       "  'gntK',\n",
       "  'gspE',\n",
       "  'insH-4 attenuator terminator',\n",
       "  'insHp7',\n",
       "  'insHp7 TSS',\n",
       "  'kgtP',\n",
       "  'mppA',\n",
       "  'mppAp13',\n",
       "  'mppAp13 TSS',\n",
       "  'mppAp4',\n",
       "  'mppAp4 TSS',\n",
       "  'mppAp5',\n",
       "  'mppAp5 TSS',\n",
       "  'mppAp9',\n",
       "  'mppAp9 TSS',\n",
       "  'pgrR',\n",
       "  'rrlB',\n",
       "  'ynaI',\n",
       "  'ynaI attenuator terminator',\n",
       "  'ynaIp',\n",
       "  'ynaIp TSS'},\n",
       " 6: {'matP/ompA',\n",
       "  'rplU-rpmA-yhbE-obgE attenuator terminator',\n",
       "  'rpsMKD-rpoA-rplQ terminator',\n",
       "  'tsaB',\n",
       "  'xapR terminator',\n",
       "  'ycgV/ychF',\n",
       "  'yegT',\n",
       "  'yhdNp',\n",
       "  'yidB attenuator terminator'}}"
      ]
     },
     "execution_count": 30,
     "metadata": {},
     "output_type": "execute_result"
    }
   ],
   "source": [
    "geno_feat_d = dict()\n",
    "i = 0\n",
    "for mut_df in mut_df_l:\n",
    "    s = set()\n",
    "    for json in mut_df[\"genomic features\"]:\n",
    "        for d in json:\n",
    "            s.add(d[\"name\"])\n",
    "            \n",
    "    geno_feat_d[i] = s\n",
    "    i += 1\n",
    "#     geno_feat_d[str(mut_df.ale.unique())] = s\n",
    "geno_feat_d"
   ]
  },
  {
   "cell_type": "code",
   "execution_count": 24,
   "metadata": {
    "scrolled": false
   },
   "outputs": [
    {
     "data": {
      "text/plain": [
       "1"
      ]
     },
     "metadata": {},
     "output_type": "display_data"
    },
    {
     "data": {
      "text/plain": [
       "{'crr', 'cyaA', 'glpK'}"
      ]
     },
     "metadata": {},
     "output_type": "display_data"
    },
    {
     "data": {
      "text/plain": [
       "{'crp',\n",
       " 'glpFKX TFBS',\n",
       " 'leuLABCD attenuator terminator',\n",
       " 'pdxK',\n",
       " 'ptsHI-crr terminator',\n",
       " 'tomB/acrB',\n",
       " 'yadK'}"
      ]
     },
     "metadata": {},
     "output_type": "display_data"
    },
    {
     "name": "stdout",
     "output_type": "stream",
     "text": [
      "\n"
     ]
    },
    {
     "data": {
      "text/plain": [
       "2"
      ]
     },
     "metadata": {},
     "output_type": "display_data"
    },
    {
     "data": {
      "text/plain": [
       "{'crr', 'cyaA', 'glpK'}"
      ]
     },
     "metadata": {},
     "output_type": "display_data"
    },
    {
     "data": {
      "text/plain": [
       "{'carAB terminator',\n",
       " 'casD/casC',\n",
       " 'glpFKX TFBS',\n",
       " 'hisLGDCBHAFI attenuator terminator',\n",
       " 'hns TFBS',\n",
       " 'hnsp',\n",
       " 'leuLABCD attenuator terminator',\n",
       " 'metY-rimP-nusA-infB-rbfA-truB-rpsO-pnp attenuator terminator',\n",
       " 'mutL',\n",
       " 'rpoB',\n",
       " 'rpsA',\n",
       " 'rpsM',\n",
       " 'sapF',\n",
       " 'uraA/upp',\n",
       " 'ydaG/racR',\n",
       " 'yjhU/yjhF'}"
      ]
     },
     "metadata": {},
     "output_type": "display_data"
    },
    {
     "name": "stdout",
     "output_type": "stream",
     "text": [
      "\n"
     ]
    },
    {
     "data": {
      "text/plain": [
       "3"
      ]
     },
     "metadata": {},
     "output_type": "display_data"
    },
    {
     "data": {
      "text/plain": [
       "{'crr', 'cyaA', 'glpK'}"
      ]
     },
     "metadata": {},
     "output_type": "display_data"
    },
    {
     "data": {
      "text/plain": [
       "{'fbaA', 'fimZ', 'glgS/yqiJ', 'matP/ompA', 'rpoC', 'yaiT'}"
      ]
     },
     "metadata": {},
     "output_type": "display_data"
    },
    {
     "name": "stdout",
     "output_type": "stream",
     "text": [
      "\n"
     ]
    },
    {
     "data": {
      "text/plain": [
       "4"
      ]
     },
     "metadata": {},
     "output_type": "display_data"
    },
    {
     "data": {
      "text/plain": [
       "{'crr', 'cyaA', 'glpK'}"
      ]
     },
     "metadata": {},
     "output_type": "display_data"
    },
    {
     "data": {
      "text/plain": [
       "{'ettA',\n",
       " 'gldA',\n",
       " 'glxK/allE',\n",
       " 'hisLGDCBHAFI attenuator terminator',\n",
       " 'mrcB/fhuA',\n",
       " 'opgGH terminator',\n",
       " 'rpoB',\n",
       " 'rpsMKD-rpoA-rplQ terminator',\n",
       " 'rrlC',\n",
       " 'tyrB/yjbS',\n",
       " 'yceK attenuator terminator',\n",
       " 'yeaD/yeaE',\n",
       " 'yfdXp',\n",
       " 'yhdNp'}"
      ]
     },
     "metadata": {},
     "output_type": "display_data"
    },
    {
     "name": "stdout",
     "output_type": "stream",
     "text": [
      "\n"
     ]
    },
    {
     "data": {
      "text/plain": [
       "5"
      ]
     },
     "metadata": {},
     "output_type": "display_data"
    },
    {
     "data": {
      "text/plain": [
       "{'cyaA', 'glpK'}"
      ]
     },
     "metadata": {},
     "output_type": "display_data"
    },
    {
     "data": {
      "text/plain": [
       "{'gntK',\n",
       " 'gspE',\n",
       " 'insH-4 attenuator terminator',\n",
       " 'insHp7',\n",
       " 'insHp7 TSS',\n",
       " 'kgtP',\n",
       " 'mppA',\n",
       " 'mppAp13',\n",
       " 'mppAp13 TSS',\n",
       " 'mppAp4',\n",
       " 'mppAp4 TSS',\n",
       " 'mppAp5',\n",
       " 'mppAp5 TSS',\n",
       " 'mppAp9',\n",
       " 'mppAp9 TSS',\n",
       " 'pgrR',\n",
       " 'rrlB',\n",
       " 'ynaI',\n",
       " 'ynaI attenuator terminator',\n",
       " 'ynaIp',\n",
       " 'ynaIp TSS'}"
      ]
     },
     "metadata": {},
     "output_type": "display_data"
    },
    {
     "name": "stdout",
     "output_type": "stream",
     "text": [
      "\n"
     ]
    },
    {
     "data": {
      "text/plain": [
       "6"
      ]
     },
     "metadata": {},
     "output_type": "display_data"
    },
    {
     "data": {
      "text/plain": [
       "set()"
      ]
     },
     "metadata": {},
     "output_type": "display_data"
    },
    {
     "data": {
      "text/plain": [
       "{'matP/ompA',\n",
       " 'rplU-rpmA-yhbE-obgE attenuator terminator',\n",
       " 'rpsMKD-rpoA-rplQ terminator',\n",
       " 'tsaB',\n",
       " 'xapR terminator',\n",
       " 'ycgV/ychF',\n",
       " 'yegT',\n",
       " 'yhdNp',\n",
       " 'yidB attenuator terminator'}"
      ]
     },
     "metadata": {},
     "output_type": "display_data"
    },
    {
     "name": "stdout",
     "output_type": "stream",
     "text": [
      "\n"
     ]
    }
   ],
   "source": [
    "keep_s = geno_feat_d[0]  # Starting with those of ALE 1-5 since they're supposed to have the most key mutations due to largest passage volume.\n",
    "del geno_feat_d[0]\n",
    "\n",
    "lost_s = set()\n",
    "\n",
    "for k, f_s in geno_feat_d.items():\n",
    "    \n",
    "    display(k)\n",
    "    keep_s = keep_s.intersection(f_s)\n",
    "    display(keep_s)    \n",
    "#     lost_s = lost_s.union(f_s - keep_s)\n",
    "    display(f_s - keep_s)\n",
    "#     display(lost_s)\n",
    "    print()  # insert blank line"
   ]
  }
 ],
 "metadata": {
  "kernelspec": {
   "display_name": "Python 3",
   "language": "python",
   "name": "python3"
  },
  "language_info": {
   "codemirror_mode": {
    "name": "ipython",
    "version": 3
   },
   "file_extension": ".py",
   "mimetype": "text/x-python",
   "name": "python",
   "nbconvert_exporter": "python",
   "pygments_lexer": "ipython3",
   "version": "3.7.4"
  }
 },
 "nbformat": 4,
 "nbformat_minor": 2
}
