{
 "cells": [
  {
   "cell_type": "code",
   "execution_count": 1,
   "metadata": {},
   "outputs": [],
   "source": [
    "import pandas as pd\n",
    "pd.options.display.max_columns = 100"
   ]
  },
  {
   "cell_type": "code",
   "execution_count": 3,
   "metadata": {},
   "outputs": [
    {
     "data": {
      "text/plain": [
       "148"
      ]
     },
     "metadata": {},
     "output_type": "display_data"
    },
    {
     "data": {
      "text/html": [
       "<div>\n",
       "<style scoped>\n",
       "    .dataframe tbody tr th:only-of-type {\n",
       "        vertical-align: middle;\n",
       "    }\n",
       "\n",
       "    .dataframe tbody tr th {\n",
       "        vertical-align: top;\n",
       "    }\n",
       "\n",
       "    .dataframe thead th {\n",
       "        text-align: right;\n",
       "    }\n",
       "</style>\n",
       "<table border=\"1\" class=\"dataframe\">\n",
       "  <thead>\n",
       "    <tr style=\"text-align: right;\">\n",
       "      <th></th>\n",
       "      <th>index</th>\n",
       "      <th>Details</th>\n",
       "      <th>mutation target annotation</th>\n",
       "      <th>Mutation Type</th>\n",
       "      <th>Position</th>\n",
       "      <th>Reference Seq</th>\n",
       "      <th>Sequence Change</th>\n",
       "      <th>ale</th>\n",
       "      <th>exp</th>\n",
       "      <th>flask</th>\n",
       "      <th>isolate</th>\n",
       "      <th>presence</th>\n",
       "      <th>tech_rep</th>\n",
       "      <th>coding</th>\n",
       "      <th>range</th>\n",
       "      <th>gene RegulonDB ID</th>\n",
       "      <th>genetic features</th>\n",
       "      <th>oriC</th>\n",
       "      <th>pseudogene</th>\n",
       "      <th>TFBS</th>\n",
       "      <th>promoter</th>\n",
       "      <th>RBS</th>\n",
       "      <th>attenuator terminator</th>\n",
       "      <th>terminator</th>\n",
       "      <th>genetic</th>\n",
       "      <th>genomic features</th>\n",
       "      <th>genetic feature links</th>\n",
       "      <th>operons</th>\n",
       "      <th>operon links</th>\n",
       "      <th>regulators</th>\n",
       "      <th>regulator links</th>\n",
       "      <th>taxonomy-id</th>\n",
       "      <th>strain-description</th>\n",
       "      <th>base-media</th>\n",
       "      <th>temperature</th>\n",
       "      <th>carbon-source</th>\n",
       "      <th>nitrogen-source</th>\n",
       "      <th>phosphorous-source</th>\n",
       "      <th>sulfur-source</th>\n",
       "      <th>supplement</th>\n",
       "      <th>COGs</th>\n",
       "      <th>COG links</th>\n",
       "      <th>pathways</th>\n",
       "      <th>pathway links</th>\n",
       "    </tr>\n",
       "  </thead>\n",
       "  <tbody>\n",
       "    <tr>\n",
       "      <td>630</td>\n",
       "      <td>66</td>\n",
       "      <td>T247M (ACG→ATG)</td>\n",
       "      <td>yafD</td>\n",
       "      <td>SNP</td>\n",
       "      <td>231861</td>\n",
       "      <td>NC_000913</td>\n",
       "      <td>C→T</td>\n",
       "      <td>1</td>\n",
       "      <td>GYD</td>\n",
       "      <td>280</td>\n",
       "      <td>0</td>\n",
       "      <td>0.72</td>\n",
       "      <td>1</td>\n",
       "      <td>True</td>\n",
       "      <td>(231861, 231861)</td>\n",
       "      <td>{ECK120001594}</td>\n",
       "      <td>[{'name': 'yafD', 'RegulonDB ID': 'ECK12000159...</td>\n",
       "      <td>False</td>\n",
       "      <td>False</td>\n",
       "      <td>{}</td>\n",
       "      <td>{}</td>\n",
       "      <td>{}</td>\n",
       "      <td>{}</td>\n",
       "      <td>{}</td>\n",
       "      <td>True</td>\n",
       "      <td>[{'name': 'yafD', 'RegulonDB ID': 'ECK12000159...</td>\n",
       "      <td>{'ECK120001594': ['ECK120001594']}</td>\n",
       "      <td>[{'name': 'yafDE', 'RegulonDB ID': 'ECK1200291...</td>\n",
       "      <td>{'ECK120029169': ['ECK120001594']}</td>\n",
       "      <td>[]</td>\n",
       "      <td>{}</td>\n",
       "      <td>511145</td>\n",
       "      <td>BOP27</td>\n",
       "      <td>M9</td>\n",
       "      <td>37 celsius</td>\n",
       "      <td>glycerol(2.5)</td>\n",
       "      <td>NH4Cl(1)</td>\n",
       "      <td>KH2PO4(2)</td>\n",
       "      <td>MgSO4(0.24)</td>\n",
       "      <td>trace elements</td>\n",
       "      <td>[{'name': 'General function prediction only', ...</td>\n",
       "      <td>{'General function prediction only': ['ECK1200...</td>\n",
       "      <td>[]</td>\n",
       "      <td>{}</td>\n",
       "    </tr>\n",
       "    <tr>\n",
       "      <td>631</td>\n",
       "      <td>126</td>\n",
       "      <td>R665S (CGT→AGT)</td>\n",
       "      <td>cyaA</td>\n",
       "      <td>SNP</td>\n",
       "      <td>3993145</td>\n",
       "      <td>NC_000913</td>\n",
       "      <td>C→A</td>\n",
       "      <td>1</td>\n",
       "      <td>GYD</td>\n",
       "      <td>280</td>\n",
       "      <td>0</td>\n",
       "      <td>1.00</td>\n",
       "      <td>1</td>\n",
       "      <td>True</td>\n",
       "      <td>(3993145, 3993145)</td>\n",
       "      <td>{ECK120000166}</td>\n",
       "      <td>[{'name': 'cyaA', 'RegulonDB ID': 'ECK12000016...</td>\n",
       "      <td>False</td>\n",
       "      <td>False</td>\n",
       "      <td>{}</td>\n",
       "      <td>{}</td>\n",
       "      <td>{}</td>\n",
       "      <td>{}</td>\n",
       "      <td>{}</td>\n",
       "      <td>True</td>\n",
       "      <td>[{'name': 'cyaA', 'RegulonDB ID': 'ECK12000016...</td>\n",
       "      <td>{'ECK120000166': ['ECK120000166']}</td>\n",
       "      <td>[{'name': 'cyaA', 'RegulonDB ID': 'ECK12001483...</td>\n",
       "      <td>{'ECK120014835': ['ECK120000166']}</td>\n",
       "      <td>[{'name': 'CRP', 'significantly associated con...</td>\n",
       "      <td>{'CRP': ['cyaA']}</td>\n",
       "      <td>511145</td>\n",
       "      <td>BOP27</td>\n",
       "      <td>M9</td>\n",
       "      <td>37 celsius</td>\n",
       "      <td>glycerol(2.5)</td>\n",
       "      <td>NH4Cl(1)</td>\n",
       "      <td>KH2PO4(2)</td>\n",
       "      <td>MgSO4(0.24)</td>\n",
       "      <td>trace elements</td>\n",
       "      <td>[{'name': 'Nucleotide transport and metabolism...</td>\n",
       "      <td>{'Nucleotide transport and metabolism': ['ECK1...</td>\n",
       "      <td>[{'name': 'Purine metabolism', 'mutation set c...</td>\n",
       "      <td>{'Purine metabolism': ['ECK120014835']}</td>\n",
       "    </tr>\n",
       "    <tr>\n",
       "      <td>632</td>\n",
       "      <td>94</td>\n",
       "      <td>S59Y (TCC→TAC)</td>\n",
       "      <td>glpK</td>\n",
       "      <td>SNP</td>\n",
       "      <td>4117047</td>\n",
       "      <td>NC_000913</td>\n",
       "      <td>G→T</td>\n",
       "      <td>1</td>\n",
       "      <td>GYD</td>\n",
       "      <td>280</td>\n",
       "      <td>0</td>\n",
       "      <td>1.00</td>\n",
       "      <td>1</td>\n",
       "      <td>True</td>\n",
       "      <td>(4117047, 4117047)</td>\n",
       "      <td>{ECK120000391}</td>\n",
       "      <td>[{'name': 'glpK', 'RegulonDB ID': 'ECK12000039...</td>\n",
       "      <td>False</td>\n",
       "      <td>False</td>\n",
       "      <td>{}</td>\n",
       "      <td>{}</td>\n",
       "      <td>{}</td>\n",
       "      <td>{}</td>\n",
       "      <td>{}</td>\n",
       "      <td>True</td>\n",
       "      <td>[{'name': 'glpK', 'RegulonDB ID': 'ECK12000039...</td>\n",
       "      <td>{'ECK120000391': ['ECK120000391']}</td>\n",
       "      <td>[{'name': 'glpFKX', 'RegulonDB ID': 'ECK120014...</td>\n",
       "      <td>{'ECK120014723': ['ECK120000391']}</td>\n",
       "      <td>[{'name': 'CRP', 'significantly associated con...</td>\n",
       "      <td>{'CRP': ['glpFKX'], 'GlpR': ['glpFKX']}</td>\n",
       "      <td>511145</td>\n",
       "      <td>BOP27</td>\n",
       "      <td>M9</td>\n",
       "      <td>37 celsius</td>\n",
       "      <td>glycerol(2.5)</td>\n",
       "      <td>NH4Cl(1)</td>\n",
       "      <td>KH2PO4(2)</td>\n",
       "      <td>MgSO4(0.24)</td>\n",
       "      <td>trace elements</td>\n",
       "      <td>[{'name': 'Energy production and conversion', ...</td>\n",
       "      <td>{'Energy production and conversion': ['ECK1200...</td>\n",
       "      <td>[{'name': 'Glycerolipid metabolism', 'mutation...</td>\n",
       "      <td>{'Glycerolipid metabolism': ['ECK120014723']}</td>\n",
       "    </tr>\n",
       "    <tr>\n",
       "      <td>633</td>\n",
       "      <td>72</td>\n",
       "      <td>T593P (ACC→CCC)</td>\n",
       "      <td>metL</td>\n",
       "      <td>SNP</td>\n",
       "      <td>4131611</td>\n",
       "      <td>NC_000913</td>\n",
       "      <td>A→C</td>\n",
       "      <td>1</td>\n",
       "      <td>GYD</td>\n",
       "      <td>280</td>\n",
       "      <td>0</td>\n",
       "      <td>0.67</td>\n",
       "      <td>1</td>\n",
       "      <td>True</td>\n",
       "      <td>(4131611, 4131611)</td>\n",
       "      <td>{ECK120000583}</td>\n",
       "      <td>[{'name': 'metL', 'RegulonDB ID': 'ECK12000058...</td>\n",
       "      <td>False</td>\n",
       "      <td>False</td>\n",
       "      <td>{}</td>\n",
       "      <td>{}</td>\n",
       "      <td>{}</td>\n",
       "      <td>{}</td>\n",
       "      <td>{}</td>\n",
       "      <td>True</td>\n",
       "      <td>[{'name': 'metL', 'RegulonDB ID': 'ECK12000058...</td>\n",
       "      <td>{'ECK120000583': ['ECK120000583']}</td>\n",
       "      <td>[{'name': 'metBL', 'RegulonDB ID': 'ECK1200150...</td>\n",
       "      <td>{'ECK120015057': ['ECK120000583']}</td>\n",
       "      <td>[{'name': 'PhoP', 'significantly associated co...</td>\n",
       "      <td>{'PhoP': ['metBL'], 'HypT': ['metBL'], 'MetJ':...</td>\n",
       "      <td>511145</td>\n",
       "      <td>BOP27</td>\n",
       "      <td>M9</td>\n",
       "      <td>37 celsius</td>\n",
       "      <td>glycerol(2.5)</td>\n",
       "      <td>NH4Cl(1)</td>\n",
       "      <td>KH2PO4(2)</td>\n",
       "      <td>MgSO4(0.24)</td>\n",
       "      <td>trace elements</td>\n",
       "      <td>[{'name': 'Amino acid transport and metabolism...</td>\n",
       "      <td>{'Amino acid transport and metabolism': ['ECK1...</td>\n",
       "      <td>[{'name': 'Glycine, serine and threonine metab...</td>\n",
       "      <td>{'Glycine, serine and threonine metabolism': [...</td>\n",
       "    </tr>\n",
       "    <tr>\n",
       "      <td>634</td>\n",
       "      <td>107</td>\n",
       "      <td>E641K (GAA→AAA)</td>\n",
       "      <td>rpoB</td>\n",
       "      <td>SNP</td>\n",
       "      <td>4183165</td>\n",
       "      <td>NC_000913</td>\n",
       "      <td>G→A</td>\n",
       "      <td>1</td>\n",
       "      <td>GYD</td>\n",
       "      <td>280</td>\n",
       "      <td>0</td>\n",
       "      <td>1.00</td>\n",
       "      <td>1</td>\n",
       "      <td>True</td>\n",
       "      <td>(4183165, 4183165)</td>\n",
       "      <td>{ECK120000885}</td>\n",
       "      <td>[{'name': 'rpoB', 'RegulonDB ID': 'ECK12000088...</td>\n",
       "      <td>False</td>\n",
       "      <td>False</td>\n",
       "      <td>{}</td>\n",
       "      <td>{}</td>\n",
       "      <td>{}</td>\n",
       "      <td>{}</td>\n",
       "      <td>{}</td>\n",
       "      <td>True</td>\n",
       "      <td>[{'name': 'rpoB', 'RegulonDB ID': 'ECK12000088...</td>\n",
       "      <td>{'ECK120000885': ['ECK120000885']}</td>\n",
       "      <td>[{'name': 'rplKAJL-rpoBC', 'RegulonDB ID': 'EC...</td>\n",
       "      <td>{'ECK120016992': ['ECK120000885']}</td>\n",
       "      <td>[]</td>\n",
       "      <td>{}</td>\n",
       "      <td>511145</td>\n",
       "      <td>BOP27</td>\n",
       "      <td>M9</td>\n",
       "      <td>37 celsius</td>\n",
       "      <td>glycerol(2.5)</td>\n",
       "      <td>NH4Cl(1)</td>\n",
       "      <td>KH2PO4(2)</td>\n",
       "      <td>MgSO4(0.24)</td>\n",
       "      <td>trace elements</td>\n",
       "      <td>[{'name': 'Transcription', 'mutation set count...</td>\n",
       "      <td>{'Transcription': ['ECK120016992']}</td>\n",
       "      <td>[{'name': 'Purine metabolism', 'mutation set c...</td>\n",
       "      <td>{'Purine metabolism': ['ECK120016992'], 'Pyrim...</td>\n",
       "    </tr>\n",
       "  </tbody>\n",
       "</table>\n",
       "</div>"
      ],
      "text/plain": [
       "    index          Details mutation target annotation Mutation Type  Position  \\\n",
       "630    66  T247M (ACG→ATG)                       yafD           SNP    231861   \n",
       "631   126  R665S (CGT→AGT)                       cyaA           SNP   3993145   \n",
       "632    94   S59Y (TCC→TAC)                       glpK           SNP   4117047   \n",
       "633    72  T593P (ACC→CCC)                       metL           SNP   4131611   \n",
       "634   107  E641K (GAA→AAA)                       rpoB           SNP   4183165   \n",
       "\n",
       "    Reference Seq Sequence Change  ale  exp  flask  isolate  presence  \\\n",
       "630     NC_000913             C→T    1  GYD    280        0      0.72   \n",
       "631     NC_000913             C→A    1  GYD    280        0      1.00   \n",
       "632     NC_000913             G→T    1  GYD    280        0      1.00   \n",
       "633     NC_000913             A→C    1  GYD    280        0      0.67   \n",
       "634     NC_000913             G→A    1  GYD    280        0      1.00   \n",
       "\n",
       "     tech_rep  coding               range gene RegulonDB ID  \\\n",
       "630         1    True    (231861, 231861)    {ECK120001594}   \n",
       "631         1    True  (3993145, 3993145)    {ECK120000166}   \n",
       "632         1    True  (4117047, 4117047)    {ECK120000391}   \n",
       "633         1    True  (4131611, 4131611)    {ECK120000583}   \n",
       "634         1    True  (4183165, 4183165)    {ECK120000885}   \n",
       "\n",
       "                                      genetic features   oriC  pseudogene  \\\n",
       "630  [{'name': 'yafD', 'RegulonDB ID': 'ECK12000159...  False       False   \n",
       "631  [{'name': 'cyaA', 'RegulonDB ID': 'ECK12000016...  False       False   \n",
       "632  [{'name': 'glpK', 'RegulonDB ID': 'ECK12000039...  False       False   \n",
       "633  [{'name': 'metL', 'RegulonDB ID': 'ECK12000058...  False       False   \n",
       "634  [{'name': 'rpoB', 'RegulonDB ID': 'ECK12000088...  False       False   \n",
       "\n",
       "    TFBS promoter RBS attenuator terminator terminator  genetic  \\\n",
       "630   {}       {}  {}                    {}         {}     True   \n",
       "631   {}       {}  {}                    {}         {}     True   \n",
       "632   {}       {}  {}                    {}         {}     True   \n",
       "633   {}       {}  {}                    {}         {}     True   \n",
       "634   {}       {}  {}                    {}         {}     True   \n",
       "\n",
       "                                      genomic features  \\\n",
       "630  [{'name': 'yafD', 'RegulonDB ID': 'ECK12000159...   \n",
       "631  [{'name': 'cyaA', 'RegulonDB ID': 'ECK12000016...   \n",
       "632  [{'name': 'glpK', 'RegulonDB ID': 'ECK12000039...   \n",
       "633  [{'name': 'metL', 'RegulonDB ID': 'ECK12000058...   \n",
       "634  [{'name': 'rpoB', 'RegulonDB ID': 'ECK12000088...   \n",
       "\n",
       "                  genetic feature links  \\\n",
       "630  {'ECK120001594': ['ECK120001594']}   \n",
       "631  {'ECK120000166': ['ECK120000166']}   \n",
       "632  {'ECK120000391': ['ECK120000391']}   \n",
       "633  {'ECK120000583': ['ECK120000583']}   \n",
       "634  {'ECK120000885': ['ECK120000885']}   \n",
       "\n",
       "                                               operons  \\\n",
       "630  [{'name': 'yafDE', 'RegulonDB ID': 'ECK1200291...   \n",
       "631  [{'name': 'cyaA', 'RegulonDB ID': 'ECK12001483...   \n",
       "632  [{'name': 'glpFKX', 'RegulonDB ID': 'ECK120014...   \n",
       "633  [{'name': 'metBL', 'RegulonDB ID': 'ECK1200150...   \n",
       "634  [{'name': 'rplKAJL-rpoBC', 'RegulonDB ID': 'EC...   \n",
       "\n",
       "                           operon links  \\\n",
       "630  {'ECK120029169': ['ECK120001594']}   \n",
       "631  {'ECK120014835': ['ECK120000166']}   \n",
       "632  {'ECK120014723': ['ECK120000391']}   \n",
       "633  {'ECK120015057': ['ECK120000583']}   \n",
       "634  {'ECK120016992': ['ECK120000885']}   \n",
       "\n",
       "                                            regulators  \\\n",
       "630                                                 []   \n",
       "631  [{'name': 'CRP', 'significantly associated con...   \n",
       "632  [{'name': 'CRP', 'significantly associated con...   \n",
       "633  [{'name': 'PhoP', 'significantly associated co...   \n",
       "634                                                 []   \n",
       "\n",
       "                                       regulator links taxonomy-id  \\\n",
       "630                                                 {}      511145   \n",
       "631                                  {'CRP': ['cyaA']}      511145   \n",
       "632            {'CRP': ['glpFKX'], 'GlpR': ['glpFKX']}      511145   \n",
       "633  {'PhoP': ['metBL'], 'HypT': ['metBL'], 'MetJ':...      511145   \n",
       "634                                                 {}      511145   \n",
       "\n",
       "    strain-description base-media temperature  carbon-source nitrogen-source  \\\n",
       "630              BOP27         M9  37 celsius  glycerol(2.5)        NH4Cl(1)   \n",
       "631              BOP27         M9  37 celsius  glycerol(2.5)        NH4Cl(1)   \n",
       "632              BOP27         M9  37 celsius  glycerol(2.5)        NH4Cl(1)   \n",
       "633              BOP27         M9  37 celsius  glycerol(2.5)        NH4Cl(1)   \n",
       "634              BOP27         M9  37 celsius  glycerol(2.5)        NH4Cl(1)   \n",
       "\n",
       "    phosphorous-source sulfur-source      supplement  \\\n",
       "630          KH2PO4(2)   MgSO4(0.24)  trace elements   \n",
       "631          KH2PO4(2)   MgSO4(0.24)  trace elements   \n",
       "632          KH2PO4(2)   MgSO4(0.24)  trace elements   \n",
       "633          KH2PO4(2)   MgSO4(0.24)  trace elements   \n",
       "634          KH2PO4(2)   MgSO4(0.24)  trace elements   \n",
       "\n",
       "                                                  COGs  \\\n",
       "630  [{'name': 'General function prediction only', ...   \n",
       "631  [{'name': 'Nucleotide transport and metabolism...   \n",
       "632  [{'name': 'Energy production and conversion', ...   \n",
       "633  [{'name': 'Amino acid transport and metabolism...   \n",
       "634  [{'name': 'Transcription', 'mutation set count...   \n",
       "\n",
       "                                             COG links  \\\n",
       "630  {'General function prediction only': ['ECK1200...   \n",
       "631  {'Nucleotide transport and metabolism': ['ECK1...   \n",
       "632  {'Energy production and conversion': ['ECK1200...   \n",
       "633  {'Amino acid transport and metabolism': ['ECK1...   \n",
       "634                {'Transcription': ['ECK120016992']}   \n",
       "\n",
       "                                              pathways  \\\n",
       "630                                                 []   \n",
       "631  [{'name': 'Purine metabolism', 'mutation set c...   \n",
       "632  [{'name': 'Glycerolipid metabolism', 'mutation...   \n",
       "633  [{'name': 'Glycine, serine and threonine metab...   \n",
       "634  [{'name': 'Purine metabolism', 'mutation set c...   \n",
       "\n",
       "                                         pathway links  \n",
       "630                                                 {}  \n",
       "631            {'Purine metabolism': ['ECK120014835']}  \n",
       "632      {'Glycerolipid metabolism': ['ECK120014723']}  \n",
       "633  {'Glycine, serine and threonine metabolism': [...  \n",
       "634  {'Purine metabolism': ['ECK120016992'], 'Pyrim...  "
      ]
     },
     "metadata": {},
     "output_type": "display_data"
    }
   ],
   "source": [
    "muts_df = pd.read_pickle(\"./data/GYD_df.pkl\")\n",
    "display(len(muts_df), muts_df.head())"
   ]
  },
  {
   "cell_type": "code",
   "execution_count": 9,
   "metadata": {
    "scrolled": false
   },
   "outputs": [
    {
     "data": {
      "text/plain": [
       "'DEL Δ82 bp None'"
      ]
     },
     "metadata": {},
     "output_type": "display_data"
    },
    {
     "data": {
      "text/plain": [
       "2"
      ]
     },
     "metadata": {},
     "output_type": "display_data"
    },
    {
     "data": {
      "text/plain": [
       "[{'name': 'rph-pyrE attenuator terminator',\n",
       "  'RegulonDB ID': 'ECK125144791',\n",
       "  'range': (3815799, 3815911),\n",
       "  'genetic': False,\n",
       "  'feature type': 'attenuator terminator',\n",
       "  'operon': 'rph-pyrE',\n",
       "  'overlap': {'rph'},\n",
       "  'significantly associated conditions': set(),\n",
       "  'mutation set count': 1,\n",
       "  'significant': False},\n",
       " {'name': 'rph',\n",
       "  'RegulonDB ID': 'ECK120000854',\n",
       "  'range': (3815863, 3816549),\n",
       "  'genetic': True,\n",
       "  'feature type': 'gene',\n",
       "  'operon': 'rph-pyrE',\n",
       "  'overlap': {'rph-pyrE attenuator terminator'},\n",
       "  'significantly associated conditions': set(),\n",
       "  'mutation set count': 1,\n",
       "  'significant': False}]"
      ]
     },
     "metadata": {},
     "output_type": "display_data"
    },
    {
     "data": {
      "text/plain": [
       "'##############################'"
      ]
     },
     "metadata": {},
     "output_type": "display_data"
    },
    {
     "data": {
      "text/plain": [
       "'SNP A→C intergenic (‑58/+35)'"
      ]
     },
     "metadata": {},
     "output_type": "display_data"
    },
    {
     "data": {
      "text/plain": [
       "1"
      ]
     },
     "metadata": {},
     "output_type": "display_data"
    },
    {
     "data": {
      "text/plain": [
       "[{'name': 'leuLABCD attenuator terminator',\n",
       "  'RegulonDB ID': 'ECK125143560',\n",
       "  'range': (83571, 83686),\n",
       "  'genetic': False,\n",
       "  'feature type': 'attenuator terminator',\n",
       "  'operon': 'leuLABCD',\n",
       "  'overlap': {'leuLABCD terminator'},\n",
       "  'significantly associated conditions': {'glycerol(2.5)'},\n",
       "  'mutation set count': 3,\n",
       "  'significant': True}]"
      ]
     },
     "metadata": {},
     "output_type": "display_data"
    },
    {
     "data": {
      "text/plain": [
       "'##############################'"
      ]
     },
     "metadata": {},
     "output_type": "display_data"
    },
    {
     "data": {
      "text/plain": [
       "'SNP G→T intergenic (‑61/+32)'"
      ]
     },
     "metadata": {},
     "output_type": "display_data"
    },
    {
     "data": {
      "text/plain": [
       "1"
      ]
     },
     "metadata": {},
     "output_type": "display_data"
    },
    {
     "data": {
      "text/plain": [
       "[{'name': 'leuLABCD attenuator terminator',\n",
       "  'RegulonDB ID': 'ECK125143560',\n",
       "  'range': (83571, 83686),\n",
       "  'genetic': False,\n",
       "  'feature type': 'attenuator terminator',\n",
       "  'operon': 'leuLABCD',\n",
       "  'overlap': {'leuLABCD terminator'},\n",
       "  'significantly associated conditions': {'glycerol(2.5)'},\n",
       "  'mutation set count': 3,\n",
       "  'significant': True}]"
      ]
     },
     "metadata": {},
     "output_type": "display_data"
    },
    {
     "data": {
      "text/plain": [
       "'##############################'"
      ]
     },
     "metadata": {},
     "output_type": "display_data"
    },
    {
     "data": {
      "text/plain": [
       "'SNP A→G intergenic (+76/‑70)'"
      ]
     },
     "metadata": {},
     "output_type": "display_data"
    },
    {
     "data": {
      "text/plain": [
       "1"
      ]
     },
     "metadata": {},
     "output_type": "display_data"
    },
    {
     "data": {
      "text/plain": [
       "[{'name': 'hisLGDCBHAFI attenuator terminator',\n",
       "  'RegulonDB ID': 'ECK125144241',\n",
       "  'range': (2090050, 2090146),\n",
       "  'genetic': False,\n",
       "  'feature type': 'attenuator terminator',\n",
       "  'operon': 'hisLGDCBHAFI',\n",
       "  'overlap': {'hisLGDCBHAFI terminator'},\n",
       "  'significantly associated conditions': {'glycerol(2.5)'},\n",
       "  'mutation set count': 6,\n",
       "  'significant': True}]"
      ]
     },
     "metadata": {},
     "output_type": "display_data"
    },
    {
     "data": {
      "text/plain": [
       "'##############################'"
      ]
     },
     "metadata": {},
     "output_type": "display_data"
    },
    {
     "data": {
      "text/plain": [
       "'SNP C→T intergenic (+80/‑66)'"
      ]
     },
     "metadata": {},
     "output_type": "display_data"
    },
    {
     "data": {
      "text/plain": [
       "1"
      ]
     },
     "metadata": {},
     "output_type": "display_data"
    },
    {
     "data": {
      "text/plain": [
       "[{'name': 'hisLGDCBHAFI attenuator terminator',\n",
       "  'RegulonDB ID': 'ECK125144241',\n",
       "  'range': (2090050, 2090146),\n",
       "  'genetic': False,\n",
       "  'feature type': 'attenuator terminator',\n",
       "  'operon': 'hisLGDCBHAFI',\n",
       "  'overlap': {'hisLGDCBHAFI terminator'},\n",
       "  'significantly associated conditions': {'glycerol(2.5)'},\n",
       "  'mutation set count': 6,\n",
       "  'significant': True}]"
      ]
     },
     "metadata": {},
     "output_type": "display_data"
    },
    {
     "data": {
      "text/plain": [
       "'##############################'"
      ]
     },
     "metadata": {},
     "output_type": "display_data"
    },
    {
     "data": {
      "text/plain": [
       "'SNP T→A intergenic (‑30/+134)'"
      ]
     },
     "metadata": {},
     "output_type": "display_data"
    },
    {
     "data": {
      "text/plain": [
       "1"
      ]
     },
     "metadata": {},
     "output_type": "display_data"
    },
    {
     "data": {
      "text/plain": [
       "[{'name': 'metY-rimP-nusA-infB-rbfA-truB-rpsO-pnp attenuator terminator',\n",
       "  'RegulonDB ID': 'ECK125144631',\n",
       "  'range': (3313193, 3313303),\n",
       "  'genetic': False,\n",
       "  'feature type': 'attenuator terminator',\n",
       "  'operon': 'metY-rimP-nusA-infB-rbfA-truB-rpsO-pnp',\n",
       "  'significantly associated conditions': set(),\n",
       "  'mutation set count': 2,\n",
       "  'significant': True}]"
      ]
     },
     "metadata": {},
     "output_type": "display_data"
    },
    {
     "data": {
      "text/plain": [
       "'##############################'"
      ]
     },
     "metadata": {},
     "output_type": "display_data"
    },
    {
     "data": {
      "text/plain": [
       "'SNP T→C intergenic (‑31/+133)'"
      ]
     },
     "metadata": {},
     "output_type": "display_data"
    },
    {
     "data": {
      "text/plain": [
       "1"
      ]
     },
     "metadata": {},
     "output_type": "display_data"
    },
    {
     "data": {
      "text/plain": [
       "[{'name': 'metY-rimP-nusA-infB-rbfA-truB-rpsO-pnp attenuator terminator',\n",
       "  'RegulonDB ID': 'ECK125144631',\n",
       "  'range': (3313193, 3313303),\n",
       "  'genetic': False,\n",
       "  'feature type': 'attenuator terminator',\n",
       "  'operon': 'metY-rimP-nusA-infB-rbfA-truB-rpsO-pnp',\n",
       "  'significantly associated conditions': set(),\n",
       "  'mutation set count': 2,\n",
       "  'significant': True}]"
      ]
     },
     "metadata": {},
     "output_type": "display_data"
    },
    {
     "data": {
      "text/plain": [
       "'##############################'"
      ]
     },
     "metadata": {},
     "output_type": "display_data"
    },
    {
     "data": {
      "text/plain": [
       "'SNP C→T intergenic (+80/‑66)'"
      ]
     },
     "metadata": {},
     "output_type": "display_data"
    },
    {
     "data": {
      "text/plain": [
       "1"
      ]
     },
     "metadata": {},
     "output_type": "display_data"
    },
    {
     "data": {
      "text/plain": [
       "[{'name': 'hisLGDCBHAFI attenuator terminator',\n",
       "  'RegulonDB ID': 'ECK125144241',\n",
       "  'range': (2090050, 2090146),\n",
       "  'genetic': False,\n",
       "  'feature type': 'attenuator terminator',\n",
       "  'operon': 'hisLGDCBHAFI',\n",
       "  'overlap': {'hisLGDCBHAFI terminator'},\n",
       "  'significantly associated conditions': {'glycerol(2.5)'},\n",
       "  'mutation set count': 6,\n",
       "  'significant': True}]"
      ]
     },
     "metadata": {},
     "output_type": "display_data"
    },
    {
     "data": {
      "text/plain": [
       "'##############################'"
      ]
     },
     "metadata": {},
     "output_type": "display_data"
    },
    {
     "data": {
      "text/plain": [
       "'SNP A→C intergenic (‑58/+35)'"
      ]
     },
     "metadata": {},
     "output_type": "display_data"
    },
    {
     "data": {
      "text/plain": [
       "1"
      ]
     },
     "metadata": {},
     "output_type": "display_data"
    },
    {
     "data": {
      "text/plain": [
       "[{'name': 'leuLABCD attenuator terminator',\n",
       "  'RegulonDB ID': 'ECK125143560',\n",
       "  'range': (83571, 83686),\n",
       "  'genetic': False,\n",
       "  'feature type': 'attenuator terminator',\n",
       "  'operon': 'leuLABCD',\n",
       "  'overlap': {'leuLABCD terminator'},\n",
       "  'significantly associated conditions': {'glycerol(2.5)'},\n",
       "  'mutation set count': 3,\n",
       "  'significant': True}]"
      ]
     },
     "metadata": {},
     "output_type": "display_data"
    },
    {
     "data": {
      "text/plain": [
       "'##############################'"
      ]
     },
     "metadata": {},
     "output_type": "display_data"
    },
    {
     "data": {
      "text/plain": [
       "'SNP G→A intergenic (+138/‑35)'"
      ]
     },
     "metadata": {},
     "output_type": "display_data"
    },
    {
     "data": {
      "text/plain": [
       "2"
      ]
     },
     "metadata": {},
     "output_type": "display_data"
    },
    {
     "data": {
      "text/plain": [
       "[{'name': 'opgGH terminator',\n",
       "  'RegulonDB ID': 'ECK120010783',\n",
       "  'range': (1113532, 1113560),\n",
       "  'genetic': False,\n",
       "  'feature type': 'terminator',\n",
       "  'operon': 'opgGH',\n",
       "  'overlap': {'yceK attenuator terminator'},\n",
       "  'significantly associated conditions': set(),\n",
       "  'mutation set count': 2,\n",
       "  'significant': True},\n",
       " {'name': 'yceK attenuator terminator',\n",
       "  'RegulonDB ID': 'ECK125143900',\n",
       "  'range': (1113485, 1113563),\n",
       "  'genetic': False,\n",
       "  'feature type': 'attenuator terminator',\n",
       "  'operon': 'yceK',\n",
       "  'overlap': {'opgGH terminator'},\n",
       "  'significantly associated conditions': set(),\n",
       "  'mutation set count': 2,\n",
       "  'significant': True}]"
      ]
     },
     "metadata": {},
     "output_type": "display_data"
    },
    {
     "data": {
      "text/plain": [
       "'##############################'"
      ]
     },
     "metadata": {},
     "output_type": "display_data"
    },
    {
     "data": {
      "text/plain": [
       "'SNP T→C intergenic (+142/‑31)'"
      ]
     },
     "metadata": {},
     "output_type": "display_data"
    },
    {
     "data": {
      "text/plain": [
       "2"
      ]
     },
     "metadata": {},
     "output_type": "display_data"
    },
    {
     "data": {
      "text/plain": [
       "[{'name': 'opgGH terminator',\n",
       "  'RegulonDB ID': 'ECK120010783',\n",
       "  'range': (1113532, 1113560),\n",
       "  'genetic': False,\n",
       "  'feature type': 'terminator',\n",
       "  'operon': 'opgGH',\n",
       "  'overlap': {'yceK attenuator terminator'},\n",
       "  'significantly associated conditions': set(),\n",
       "  'mutation set count': 2,\n",
       "  'significant': True},\n",
       " {'name': 'yceK attenuator terminator',\n",
       "  'RegulonDB ID': 'ECK125143900',\n",
       "  'range': (1113485, 1113563),\n",
       "  'genetic': False,\n",
       "  'feature type': 'attenuator terminator',\n",
       "  'operon': 'yceK',\n",
       "  'overlap': {'opgGH terminator'},\n",
       "  'significantly associated conditions': set(),\n",
       "  'mutation set count': 2,\n",
       "  'significant': True}]"
      ]
     },
     "metadata": {},
     "output_type": "display_data"
    },
    {
     "data": {
      "text/plain": [
       "'##############################'"
      ]
     },
     "metadata": {},
     "output_type": "display_data"
    },
    {
     "data": {
      "text/plain": [
       "'SNP A→G intergenic (+76/‑70)'"
      ]
     },
     "metadata": {},
     "output_type": "display_data"
    },
    {
     "data": {
      "text/plain": [
       "1"
      ]
     },
     "metadata": {},
     "output_type": "display_data"
    },
    {
     "data": {
      "text/plain": [
       "[{'name': 'hisLGDCBHAFI attenuator terminator',\n",
       "  'RegulonDB ID': 'ECK125144241',\n",
       "  'range': (2090050, 2090146),\n",
       "  'genetic': False,\n",
       "  'feature type': 'attenuator terminator',\n",
       "  'operon': 'hisLGDCBHAFI',\n",
       "  'overlap': {'hisLGDCBHAFI terminator'},\n",
       "  'significantly associated conditions': {'glycerol(2.5)'},\n",
       "  'mutation set count': 6,\n",
       "  'significant': True}]"
      ]
     },
     "metadata": {},
     "output_type": "display_data"
    },
    {
     "data": {
      "text/plain": [
       "'##############################'"
      ]
     },
     "metadata": {},
     "output_type": "display_data"
    },
    {
     "data": {
      "text/plain": [
       "'SNP C→G intergenic (+78/‑68)'"
      ]
     },
     "metadata": {},
     "output_type": "display_data"
    },
    {
     "data": {
      "text/plain": [
       "1"
      ]
     },
     "metadata": {},
     "output_type": "display_data"
    },
    {
     "data": {
      "text/plain": [
       "[{'name': 'hisLGDCBHAFI attenuator terminator',\n",
       "  'RegulonDB ID': 'ECK125144241',\n",
       "  'range': (2090050, 2090146),\n",
       "  'genetic': False,\n",
       "  'feature type': 'attenuator terminator',\n",
       "  'operon': 'hisLGDCBHAFI',\n",
       "  'overlap': {'hisLGDCBHAFI terminator'},\n",
       "  'significantly associated conditions': {'glycerol(2.5)'},\n",
       "  'mutation set count': 6,\n",
       "  'significant': True}]"
      ]
     },
     "metadata": {},
     "output_type": "display_data"
    },
    {
     "data": {
      "text/plain": [
       "'##############################'"
      ]
     },
     "metadata": {},
     "output_type": "display_data"
    },
    {
     "data": {
      "text/plain": [
       "'SNP C→T intergenic (+80/‑66)'"
      ]
     },
     "metadata": {},
     "output_type": "display_data"
    },
    {
     "data": {
      "text/plain": [
       "1"
      ]
     },
     "metadata": {},
     "output_type": "display_data"
    },
    {
     "data": {
      "text/plain": [
       "[{'name': 'hisLGDCBHAFI attenuator terminator',\n",
       "  'RegulonDB ID': 'ECK125144241',\n",
       "  'range': (2090050, 2090146),\n",
       "  'genetic': False,\n",
       "  'feature type': 'attenuator terminator',\n",
       "  'operon': 'hisLGDCBHAFI',\n",
       "  'overlap': {'hisLGDCBHAFI terminator'},\n",
       "  'significantly associated conditions': {'glycerol(2.5)'},\n",
       "  'mutation set count': 6,\n",
       "  'significant': True}]"
      ]
     },
     "metadata": {},
     "output_type": "display_data"
    },
    {
     "data": {
      "text/plain": [
       "'##############################'"
      ]
     },
     "metadata": {},
     "output_type": "display_data"
    },
    {
     "data": {
      "text/plain": [
       "'DEL Δ3,491 bp IS5‑mediated'"
      ]
     },
     "metadata": {},
     "output_type": "display_data"
    },
    {
     "data": {
      "text/plain": [
       "11"
      ]
     },
     "metadata": {},
     "output_type": "display_data"
    },
    {
     "data": {
      "text/plain": [
       "[{'name': 'mppAp9',\n",
       "  'RegulonDB ID': 'ECK125136880',\n",
       "  'range': (1393079, 1393159),\n",
       "  'genetic': False,\n",
       "  'feature type': 'promoter',\n",
       "  'operon': 'unknown',\n",
       "  'overlap': {'mppAp13', 'mppAp4'},\n",
       "  'significantly associated conditions': set(),\n",
       "  'mutation set count': 1,\n",
       "  'significant': False},\n",
       " {'name': 'insHp7',\n",
       "  'RegulonDB ID': 'ECK125136882',\n",
       "  'range': (1395911, 1395991),\n",
       "  'genetic': False,\n",
       "  'feature type': 'promoter',\n",
       "  'operon': 'unknown',\n",
       "  'overlap': {'insH-4 attenuator terminator',\n",
       "   'ynaI',\n",
       "   'ynaI attenuator terminator',\n",
       "   'ynaIp'},\n",
       "  'significantly associated conditions': set(),\n",
       "  'mutation set count': 1,\n",
       "  'significant': False},\n",
       " {'name': 'mppAp5',\n",
       "  'RegulonDB ID': 'ECK125136879',\n",
       "  'range': (1392994, 1393074),\n",
       "  'genetic': False,\n",
       "  'feature type': 'promoter',\n",
       "  'operon': 'unknown',\n",
       "  'overlap': {'mppAp13'},\n",
       "  'significantly associated conditions': set(),\n",
       "  'mutation set count': 1,\n",
       "  'significant': False},\n",
       " {'name': 'ynaIp',\n",
       "  'RegulonDB ID': 'ECK120034219',\n",
       "  'range': (1395953, 1396033),\n",
       "  'genetic': False,\n",
       "  'feature type': 'promoter',\n",
       "  'operon': 'ynaI',\n",
       "  'overlap': {'insH-4 attenuator terminator',\n",
       "   'insHp7',\n",
       "   'ynaI attenuator terminator'},\n",
       "  'significantly associated conditions': set(),\n",
       "  'mutation set count': 1,\n",
       "  'significant': False},\n",
       " {'name': 'mppAp4',\n",
       "  'RegulonDB ID': 'ECK125136878',\n",
       "  'range': (1393144, 1393224),\n",
       "  'genetic': False,\n",
       "  'feature type': 'promoter',\n",
       "  'operon': 'unknown',\n",
       "  'overlap': {'mppAp9'},\n",
       "  'significantly associated conditions': set(),\n",
       "  'mutation set count': 1,\n",
       "  'significant': False},\n",
       " {'name': 'mppAp13',\n",
       "  'RegulonDB ID': 'ECK125136881',\n",
       "  'range': (1393061, 1393141),\n",
       "  'genetic': False,\n",
       "  'feature type': 'promoter',\n",
       "  'operon': 'unknown',\n",
       "  'overlap': {'mppAp5', 'mppAp9'},\n",
       "  'significantly associated conditions': set(),\n",
       "  'mutation set count': 1,\n",
       "  'significant': False},\n",
       " {'name': 'insH-4 attenuator terminator',\n",
       "  'RegulonDB ID': 'ECK125143996',\n",
       "  'range': (1395870, 1395984),\n",
       "  'genetic': False,\n",
       "  'feature type': 'attenuator terminator',\n",
       "  'operon': 'insH-4',\n",
       "  'overlap': {'insHp7', 'ynaI', 'ynaI attenuator terminator', 'ynaIp'},\n",
       "  'significantly associated conditions': set(),\n",
       "  'mutation set count': 1,\n",
       "  'significant': False},\n",
       " {'name': 'ynaI attenuator terminator',\n",
       "  'RegulonDB ID': 'ECK125143994',\n",
       "  'range': (1395932, 1395969),\n",
       "  'genetic': False,\n",
       "  'feature type': 'attenuator terminator',\n",
       "  'operon': 'ynaI',\n",
       "  'overlap': {'insH-4 attenuator terminator', 'insHp7', 'ynaIp'},\n",
       "  'significantly associated conditions': set(),\n",
       "  'mutation set count': 1,\n",
       "  'significant': False},\n",
       " {'name': 'pgrR',\n",
       "  'RegulonDB ID': 'ECK120003259',\n",
       "  'range': (1391991, 1392890),\n",
       "  'genetic': True,\n",
       "  'feature type': 'gene',\n",
       "  'operon': 'pgrR',\n",
       "  'significantly associated conditions': set(),\n",
       "  'mutation set count': 1,\n",
       "  'significant': False},\n",
       " {'name': 'mppA',\n",
       "  'RegulonDB ID': 'ECK120003260',\n",
       "  'range': (1393227, 1394840),\n",
       "  'genetic': True,\n",
       "  'feature type': 'gene',\n",
       "  'operon': 'mppA',\n",
       "  'significantly associated conditions': set(),\n",
       "  'mutation set count': 1,\n",
       "  'significant': False},\n",
       " {'name': 'ynaI',\n",
       "  'RegulonDB ID': 'ECK120003261',\n",
       "  'range': (1394891, 1395922),\n",
       "  'genetic': True,\n",
       "  'feature type': 'gene',\n",
       "  'operon': 'ynaI',\n",
       "  'overlap': {'insH-4 attenuator terminator', 'insHp7'},\n",
       "  'significantly associated conditions': set(),\n",
       "  'mutation set count': 1,\n",
       "  'significant': False}]"
      ]
     },
     "metadata": {},
     "output_type": "display_data"
    },
    {
     "data": {
      "text/plain": [
       "'##############################'"
      ]
     },
     "metadata": {},
     "output_type": "display_data"
    }
   ],
   "source": [
    "for _, r in muts_df.iterrows():\n",
    "    for f in r[\"genomic features\"]:\n",
    "        if \"atten\" in f[\"name\"]:\n",
    "            display(\n",
    "                r[\"Mutation Type\"] + \" \" + r[\"Sequence Change\"] + \" \" + r[\"Details\"],\n",
    "                len(r[\"genomic features\"]),\n",
    "                r[\"genomic features\"],\n",
    "                \"##############################\",\n",
    "            )\n",
    "            break"
   ]
  }
 ],
 "metadata": {
  "kernelspec": {
   "display_name": "Python 3",
   "language": "python",
   "name": "python3"
  },
  "language_info": {
   "codemirror_mode": {
    "name": "ipython",
    "version": 3
   },
   "file_extension": ".py",
   "mimetype": "text/x-python",
   "name": "python",
   "nbconvert_exporter": "python",
   "pygments_lexer": "ipython3",
   "version": "3.7.4"
  }
 },
 "nbformat": 4,
 "nbformat_minor": 2
}
